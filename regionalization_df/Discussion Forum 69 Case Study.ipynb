{
 "cells": [
  {
   "cell_type": "code",
   "execution_count": null,
   "metadata": {},
   "outputs": [],
   "source": [
    "import brightway2 as bw\n",
    "import bw2regional as bwr\n",
    "from bw2regional.pandarus_remote import remote, AlreadyExists\n",
    "import bw2_aware\n",
    "import rower\n",
    "import os\n",
    "from bw2analyzer import ContributionAnalysis"
   ]
  },
  {
   "cell_type": "code",
   "execution_count": null,
   "metadata": {},
   "outputs": [],
   "source": [
    "bw.projects.set_current(\"DF69 Case Study\")"
   ]
  },
  {
   "cell_type": "markdown",
   "metadata": {},
   "source": [
    "# Import ecoinvent 3.5"
   ]
  },
  {
   "cell_type": "code",
   "execution_count": null,
   "metadata": {
    "scrolled": false
   },
   "outputs": [],
   "source": [
    "bw.create_default_biosphere3()"
   ]
  },
  {
   "cell_type": "code",
   "execution_count": null,
   "metadata": {},
   "outputs": [],
   "source": [
    "bw.create_core_migrations()"
   ]
  },
  {
   "cell_type": "code",
   "execution_count": null,
   "metadata": {},
   "outputs": [],
   "source": [
    "ei = bw.SingleOutputEcospold2Importer(\n",
    "    \"/Users/cmutel/Documents/LCA/Ecoinvent/3.5/cutoff/datasets\",\n",
    "    \"ecoinvent 3.5 cutoff\"\n",
    ")\n",
    "ei.apply_strategies()\n",
    "ei.statistics()"
   ]
  },
  {
   "cell_type": "code",
   "execution_count": null,
   "metadata": {},
   "outputs": [],
   "source": [
    "ei.write_database()"
   ]
  },
  {
   "cell_type": "markdown",
   "metadata": {},
   "source": [
    "## Fix bug in brightway\n",
    "\n",
    "We are incorrectly accounting for water balances. Need to set water production values to negative, water consumption to positive (because CFs, representing damage, are positive)."
   ]
  },
  {
   "cell_type": "code",
   "execution_count": null,
   "metadata": {},
   "outputs": [],
   "source": [
    "water_production = [\n",
    "    x for x in bw.Database(\"biosphere3\")\n",
    "    if 'water' in x['name'].lower() and x['categories'][0] == 'water'\n",
    "]"
   ]
  },
  {
   "cell_type": "code",
   "execution_count": null,
   "metadata": {},
   "outputs": [],
   "source": [
    "water_production_codes = [x['code'] for x in water_production]"
   ]
  },
  {
   "cell_type": "code",
   "execution_count": null,
   "metadata": {},
   "outputs": [],
   "source": [
    "from bw2data.backends.peewee.proxies import *"
   ]
  },
  {
   "cell_type": "code",
   "execution_count": null,
   "metadata": {},
   "outputs": [],
   "source": [
    "exc_qs = ExchangeDataset.select().where(\n",
    "    ExchangeDataset.input_code << tuple(water_production_codes)\n",
    ")\n",
    "\n",
    "len(exc_qs)"
   ]
  },
  {
   "cell_type": "code",
   "execution_count": null,
   "metadata": {},
   "outputs": [],
   "source": [
    "for exc in exc_qs:\n",
    "    exc.data['amount'] *= -1\n",
    "    exc.save()"
   ]
  },
  {
   "cell_type": "code",
   "execution_count": null,
   "metadata": {},
   "outputs": [],
   "source": [
    "bw.Database(\"ecoinvent 3.5 cutoff\").process()"
   ]
  },
  {
   "cell_type": "markdown",
   "metadata": {},
   "source": [
    "# Import case study inventory"
   ]
  },
  {
   "cell_type": "code",
   "execution_count": null,
   "metadata": {},
   "outputs": [],
   "source": [
    "imp = bw.ExcelImporter(\"rice_inventory.xlsx\")\n",
    "imp.apply_strategies()\n",
    "imp.match_database(\"ecoinvent 3.5 cutoff\", fields=('name', 'unit', 'location', 'reference product'))\n",
    "imp.match_database(\"ecoinvent 3.5 cutoff\", fields=('name', 'unit', 'location'))\n",
    "imp.match_database(fields=['name', 'location'])\n",
    "imp.statistics()"
   ]
  },
  {
   "cell_type": "code",
   "execution_count": null,
   "metadata": {},
   "outputs": [],
   "source": [
    "imp.write_database()"
   ]
  },
  {
   "cell_type": "markdown",
   "metadata": {},
   "source": [
    "# Fix geographic data in LCI databases\n",
    "\n",
    "## Install basic world definitions"
   ]
  },
  {
   "cell_type": "code",
   "execution_count": null,
   "metadata": {},
   "outputs": [],
   "source": [
    "bwr.bw2regionalsetup()"
   ]
  },
  {
   "cell_type": "markdown",
   "metadata": {},
   "source": [
    "## Define rest of world locations in ecoinvent"
   ]
  },
  {
   "cell_type": "code",
   "execution_count": null,
   "metadata": {},
   "outputs": [],
   "source": [
    "rower_obj = rower.Rower('ecoinvent 3.5 cutoff')\n",
    "rower_obj.load_existing(rower_obj.EI_3_5_CUTOFF)\n",
    "rower_obj.label_RoWs()"
   ]
  },
  {
   "cell_type": "markdown",
   "metadata": {},
   "source": [
    "## Label locations with their \"geocollection\"\n",
    "\n",
    "Need to turn e.g. `\"Europe without CH\"` into `(\"ecoinvent\", \"Europe without CH\")`."
   ]
  },
  {
   "cell_type": "code",
   "execution_count": null,
   "metadata": {},
   "outputs": [],
   "source": [
    "bwr.label_activity_geocollections(\"ecoinvent 3.5 cutoff\")\n",
    "bwr.label_activity_geocollections(\"AWARE Case Study\")"
   ]
  },
  {
   "cell_type": "code",
   "execution_count": null,
   "metadata": {},
   "outputs": [],
   "source": [
    "bw.databases['ecoinvent 3.5 cutoff']['geocollections'] = ['world', 'ecoinvent', 'RoW']\n",
    "bw.databases['AWARE Case Study']['geocollections'] = ['world', 'ecoinvent', 'RoW']\n",
    "bw.databases['biosphere3']['geocollections'] = []\n",
    "bw.databases.flush()"
   ]
  },
  {
   "cell_type": "markdown",
   "metadata": {},
   "source": [
    "# Import AWARE"
   ]
  },
  {
   "cell_type": "code",
   "execution_count": null,
   "metadata": {},
   "outputs": [],
   "source": [
    "bw2_aware.import_aware()"
   ]
  },
  {
   "cell_type": "markdown",
   "metadata": {},
   "source": [
    "# Add extension tables\n",
    "\n",
    "## Define where rice is grown\n",
    "\n",
    "Our rice inventory is country-specific, but this is too general for China and the US. We use data from Ramankutty on global rice production. Here is the map for part of Asia:\n",
    "\n",
    "<img src=\"images/rice-asia.png\">"
   ]
  },
  {
   "cell_type": "code",
   "execution_count": null,
   "metadata": {},
   "outputs": [],
   "source": [
    "fp = os.path.abspath(\"rice.tiff\")\n",
    "assert os.path.isfile(fp)\n",
    "\n",
    "bwr.geocollections['rice'] = {\n",
    "    'filepath': fp,\n",
    "    'band': 1\n",
    "}"
   ]
  },
  {
   "cell_type": "markdown",
   "metadata": {},
   "source": [
    "## Add population density\n",
    "\n",
    "We assume that the spatial pattern of other water-consuming activities follows population density."
   ]
  },
  {
   "cell_type": "code",
   "execution_count": null,
   "metadata": {},
   "outputs": [],
   "source": [
    "fp = os.path.abspath(\"gdpweighted.tif\")\n",
    "assert os.path.isfile(fp)\n",
    "\n",
    "bwr.geocollections['weighted-pop-density'] = {\n",
    "    'filepath': fp,\n",
    "    'band': 1\n",
    "}"
   ]
  },
  {
   "cell_type": "markdown",
   "metadata": {},
   "source": [
    "## Calculate raster statistics for our extension tables"
   ]
  },
  {
   "cell_type": "code",
   "execution_count": null,
   "metadata": {},
   "outputs": [],
   "source": [
    "crop_rasters = [\n",
    "    'rice',\n",
    "    'weighted-pop-density',\n",
    "]\n",
    "\n",
    "for raster in crop_rasters:\n",
    "    try:\n",
    "        remote.calculate_rasterstats('world-topo-watersheds-aware', raster)\n",
    "    except AlreadyExists:\n",
    "        pass"
   ]
  },
  {
   "cell_type": "code",
   "execution_count": null,
   "metadata": {},
   "outputs": [],
   "source": [
    "for raster in crop_rasters:\n",
    "    remote.rasterstats_as_xt('world-topo-watersheds-aware', raster, \"xt-\" + raster)"
   ]
  },
  {
   "cell_type": "markdown",
   "metadata": {},
   "source": [
    "# LCA calculations\n",
    "\n",
    "We will split our calculations into the direct impact from irrigation, which will use the agricultural CFs, and everything else, which won't. We start by looking at the site-generic score and major contributors."
   ]
  },
  {
   "cell_type": "code",
   "execution_count": null,
   "metadata": {},
   "outputs": [],
   "source": [
    "swiss_rice = ('AWARE Case Study', 'Cooked rice CH')\n",
    "chinese_rice = ('AWARE Case Study', 'Cooked rice CN')"
   ]
  },
  {
   "cell_type": "code",
   "execution_count": null,
   "metadata": {},
   "outputs": [],
   "source": [
    "irrigation = [x for x in bw.Database(\"ecoinvent 3.5 cutoff\") \n",
    "              if x['name'] == 'irrigation']\n",
    "\n",
    "rice_production = [x for x in bw.Database(\"ecoinvent 3.5 cutoff\") \n",
    "              if x['name'] == 'rice production']"
   ]
  },
  {
   "cell_type": "markdown",
   "metadata": {},
   "source": [
    "## Rice in China"
   ]
  },
  {
   "cell_type": "code",
   "execution_count": null,
   "metadata": {},
   "outputs": [],
   "source": [
    "background_lca_cn = bwr.ExtensionTablesLCA(\n",
    "    {chinese_rice: 1},\n",
    "    ('AWARE', '1.2 (April 2017)', 'Annual', 'Non-agricultural'),\n",
    "    xtable='xt-weighted-pop-density',\n",
    "    limitations={\n",
    "        'activities': irrigation + rice_production,\n",
    "        'activities mode': 'exclude'\n",
    "    }\n",
    ")\n",
    "background_lca_cn.lci()\n",
    "background_lca_cn.lcia()\n",
    "background_lca_cn.score"
   ]
  },
  {
   "cell_type": "code",
   "execution_count": null,
   "metadata": {},
   "outputs": [],
   "source": [
    "for score, amount, act in ContributionAnalysis().annotated_top_processes(background_lca_cn)[:10]:\n",
    "        print([act['name'], act['unit'], act['reference product'], \n",
    "               act['location'], score, score / background_lca_cn.score, amount])"
   ]
  },
  {
   "cell_type": "code",
   "execution_count": null,
   "metadata": {},
   "outputs": [],
   "source": [
    "foreground_lca_cn = bwr.ExtensionTablesLCA(\n",
    "    {chinese_rice: 1},\n",
    "    ('AWARE', '1.2 (April 2017)', 'Annual', 'Agricultural'),\n",
    "    xtable='xt-rice',\n",
    "    limitations={\n",
    "        'activities': irrigation + rice_production,\n",
    "        'activities mode': 'include'\n",
    "    }\n",
    ")\n",
    "foreground_lca_cn.lci()\n",
    "foreground_lca_cn.lcia()\n",
    "foreground_lca_cn.score"
   ]
  },
  {
   "cell_type": "code",
   "execution_count": null,
   "metadata": {},
   "outputs": [],
   "source": [
    "for score, amount, act in ContributionAnalysis().annotated_top_processes(foreground_lca_cn)[:10]:\n",
    "        print([act['name'], act['unit'], act['reference product'], \n",
    "               act['location'], score, score / foreground_lca_cn.score, amount])"
   ]
  },
  {
   "cell_type": "markdown",
   "metadata": {},
   "source": [
    "## Rice in Switzerland"
   ]
  },
  {
   "cell_type": "code",
   "execution_count": null,
   "metadata": {},
   "outputs": [],
   "source": [
    "background_lca_ch = bwr.ExtensionTablesLCA(\n",
    "    {swiss_rice: 1},\n",
    "    ('AWARE', '1.2 (April 2017)', 'Annual', 'Non-agricultural'),\n",
    "    xtable='xt-weighted-pop-density',\n",
    "    limitations={\n",
    "        'activities': irrigation + rice_production,\n",
    "        'activities mode': 'exclude'\n",
    "    }\n",
    ")\n",
    "background_lca_ch.lci()\n",
    "background_lca_ch.lcia()\n",
    "background_lca_ch.score"
   ]
  },
  {
   "cell_type": "code",
   "execution_count": null,
   "metadata": {},
   "outputs": [],
   "source": [
    "for score, amount, act in ContributionAnalysis().annotated_top_processes(background_lca_ch)[:10]:\n",
    "        print([act['name'], act['unit'], act['reference product'], \n",
    "               act['location'], score, score / background_lca_ch.score, amount])"
   ]
  },
  {
   "cell_type": "code",
   "execution_count": null,
   "metadata": {},
   "outputs": [],
   "source": [
    "foreground_lca_ch = bwr.ExtensionTablesLCA(\n",
    "    {swiss_rice: 1},\n",
    "    ('AWARE', '1.2 (April 2017)', 'Annual', 'Agricultural'),\n",
    "    xtable='xt-rice',\n",
    "    limitations={\n",
    "        'activities': irrigation + rice_production,\n",
    "        'activities mode': 'include'\n",
    "    }\n",
    ")\n",
    "foreground_lca_ch.lci()\n",
    "foreground_lca_ch.lcia()\n",
    "foreground_lca_ch.score"
   ]
  },
  {
   "cell_type": "code",
   "execution_count": null,
   "metadata": {},
   "outputs": [],
   "source": [
    "for score, amount, act in ContributionAnalysis().annotated_top_processes(foreground_lca_ch)[:10]:\n",
    "        print([act['name'], act['unit'], act['reference product'], \n",
    "               act['location'], score, score / foreground_lca_ch.score, amount])"
   ]
  },
  {
   "cell_type": "code",
   "execution_count": null,
   "metadata": {},
   "outputs": [],
   "source": []
  }
 ],
 "metadata": {
  "kernelspec": {
   "display_name": "Python 3",
   "language": "python",
   "name": "python3"
  },
  "language_info": {
   "codemirror_mode": {
    "name": "ipython",
    "version": 3
   },
   "file_extension": ".py",
   "mimetype": "text/x-python",
   "name": "python",
   "nbconvert_exporter": "python",
   "pygments_lexer": "ipython3",
   "version": "3.6.5"
  }
 },
 "nbformat": 4,
 "nbformat_minor": 2
}

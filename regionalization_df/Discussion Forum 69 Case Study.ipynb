{
 "cells": [
  {
   "cell_type": "markdown",
   "metadata": {},
   "source": [
    "# Discussion Forum 69 case study on rice cultivation and preparation\n",
    "\n",
    "Create a [conda](https://conda.io/miniconda.html) environment with the following:\n",
    "\n",
    "    conda create -n df69 -c conda-forge -c cmutel -c haasad -c konstantinstadler python=3.6 bw2regional rower bw2_aware jupyter\n",
    "    \n",
    "Then activate it and run `jupyter notebook`.\n",
    "\n",
    "You can see the [presentation given at the discussion forum here](https://github.com/cmutel/regionalized-lca-examples/raw/master/regionalization_df/DF%2069%20Mutel%20presentation.pdf)."
   ]
  },
  {
   "cell_type": "code",
   "execution_count": null,
   "metadata": {},
   "outputs": [],
   "source": [
    "from bw2analyzer import ContributionAnalysis\n",
    "from bw2regional.pandarus_remote import remote, AlreadyExists\n",
    "import brightway2 as bw\n",
    "import bw2_aware\n",
    "import bw2regional as bwr\n",
    "import os\n",
    "import rower"
   ]
  },
  {
   "cell_type": "code",
   "execution_count": null,
   "metadata": {},
   "outputs": [],
   "source": [
    "bw.projects.set_current(\"DF69 Case Study\")"
   ]
  },
  {
   "cell_type": "markdown",
   "metadata": {},
   "source": [
    "# Import ecoinvent 3.5"
   ]
  },
  {
   "cell_type": "code",
   "execution_count": null,
   "metadata": {
    "scrolled": false
   },
   "outputs": [],
   "source": [
    "bw.create_default_biosphere3()"
   ]
  },
  {
   "cell_type": "code",
   "execution_count": null,
   "metadata": {},
   "outputs": [],
   "source": [
    "bw.create_core_migrations()"
   ]
  },
  {
   "cell_type": "code",
   "execution_count": null,
   "metadata": {},
   "outputs": [],
   "source": [
    "ei = bw.SingleOutputEcospold2Importer(\n",
    "    \"/Users/cmutel/Downloads/ecoinvent 3.5_cutoff_ecoSpold02/datasets\", # Change to path on your machine\n",
    "    \"ecoinvent 3.5 cutoff\"\n",
    ")\n",
    "ei.apply_strategies()\n",
    "ei.statistics()"
   ]
  },
  {
   "cell_type": "code",
   "execution_count": null,
   "metadata": {},
   "outputs": [],
   "source": [
    "ei.write_database()"
   ]
  },
  {
   "cell_type": "markdown",
   "metadata": {},
   "source": [
    "## Fix bug in brightway\n",
    "\n",
    "We are incorrectly accounting for water balances. Need to set water production values to negative, water consumption to positive (because CFs, representing damage, are positive)."
   ]
  },
  {
   "cell_type": "code",
   "execution_count": null,
   "metadata": {},
   "outputs": [],
   "source": [
    "water_production = [\n",
    "    x for x in bw.Database(\"biosphere3\")\n",
    "    if 'water' in x['name'].lower() and x['categories'][0] == 'water'\n",
    "]"
   ]
  },
  {
   "cell_type": "code",
   "execution_count": null,
   "metadata": {},
   "outputs": [],
   "source": [
    "water_production_codes = [x['code'] for x in water_production]"
   ]
  },
  {
   "cell_type": "code",
   "execution_count": null,
   "metadata": {},
   "outputs": [],
   "source": [
    "from bw2data.backends.peewee.proxies import *"
   ]
  },
  {
   "cell_type": "code",
   "execution_count": null,
   "metadata": {},
   "outputs": [],
   "source": [
    "exc_qs = ExchangeDataset.select().where(\n",
    "    ExchangeDataset.input_code << tuple(water_production_codes)\n",
    ")\n",
    "\n",
    "len(exc_qs)"
   ]
  },
  {
   "cell_type": "code",
   "execution_count": null,
   "metadata": {},
   "outputs": [],
   "source": [
    "for exc in exc_qs:\n",
    "    exc.data['amount'] *= -1\n",
    "    exc.save()"
   ]
  },
  {
   "cell_type": "code",
   "execution_count": null,
   "metadata": {},
   "outputs": [],
   "source": [
    "bw.Database(\"ecoinvent 3.5 cutoff\").process()"
   ]
  },
  {
   "cell_type": "markdown",
   "metadata": {},
   "source": [
    "# Import case study inventory"
   ]
  },
  {
   "cell_type": "code",
   "execution_count": null,
   "metadata": {},
   "outputs": [],
   "source": [
    "imp = bw.ExcelImporter(\"rice_inventory.xlsx\")\n",
    "imp.apply_strategies()\n",
    "imp.match_database(\"ecoinvent 3.5 cutoff\", fields=('name', 'unit', 'location', 'reference product'))\n",
    "imp.match_database(\"ecoinvent 3.5 cutoff\", fields=('name', 'unit', 'location'))\n",
    "imp.match_database(fields=['name', 'location'])\n",
    "imp.statistics()"
   ]
  },
  {
   "cell_type": "code",
   "execution_count": null,
   "metadata": {},
   "outputs": [],
   "source": [
    "imp.write_database()"
   ]
  },
  {
   "cell_type": "markdown",
   "metadata": {},
   "source": [
    "# Fix geographic data in LCI databases\n",
    "\n",
    "## Install basic world definitions"
   ]
  },
  {
   "cell_type": "code",
   "execution_count": null,
   "metadata": {},
   "outputs": [],
   "source": [
    "bwr.bw2regionalsetup()"
   ]
  },
  {
   "cell_type": "markdown",
   "metadata": {},
   "source": [
    "## Define rest of world locations in ecoinvent"
   ]
  },
  {
   "cell_type": "code",
   "execution_count": null,
   "metadata": {},
   "outputs": [],
   "source": [
    "rower_obj = rower.Rower('ecoinvent 3.5 cutoff')\n",
    "rower_obj.load_existing(rower_obj.EI_3_5_CUTOFF)\n",
    "rower_obj.label_RoWs()"
   ]
  },
  {
   "cell_type": "markdown",
   "metadata": {},
   "source": [
    "## Label locations with their \"geocollection\"\n",
    "\n",
    "Need to turn e.g. `\"Europe without CH\"` into `(\"ecoinvent\", \"Europe without CH\")`."
   ]
  },
  {
   "cell_type": "code",
   "execution_count": null,
   "metadata": {},
   "outputs": [],
   "source": [
    "bwr.label_activity_geocollections(\"ecoinvent 3.5 cutoff\")\n",
    "bwr.label_activity_geocollections(\"AWARE Case Study\")"
   ]
  },
  {
   "cell_type": "code",
   "execution_count": null,
   "metadata": {},
   "outputs": [],
   "source": [
    "bw.databases['ecoinvent 3.5 cutoff']['geocollections'] = ['world', 'ecoinvent', 'RoW']\n",
    "bw.databases['AWARE Case Study']['geocollections'] = ['world', 'ecoinvent', 'RoW']\n",
    "bw.databases['biosphere3']['geocollections'] = []\n",
    "bw.databases.flush()"
   ]
  },
  {
   "cell_type": "markdown",
   "metadata": {},
   "source": [
    "# Import AWARE"
   ]
  },
  {
   "cell_type": "code",
   "execution_count": null,
   "metadata": {},
   "outputs": [],
   "source": [
    "bw2_aware.import_aware()"
   ]
  },
  {
   "cell_type": "markdown",
   "metadata": {},
   "source": [
    "# Add extension tables\n",
    "\n",
    "## Define where rice is grown\n",
    "\n",
    "Our rice inventory is country-specific, but this is too general for China and the US. We use data from Ramankutty on global rice production. Here is the map for part of Asia:\n",
    "\n",
    "<img src=\"images/rice-asia.png\">"
   ]
  },
  {
   "cell_type": "code",
   "execution_count": null,
   "metadata": {},
   "outputs": [],
   "source": [
    "fp = os.path.abspath(\"rice.tiff\")\n",
    "assert os.path.isfile(fp)\n",
    "\n",
    "bwr.geocollections['rice'] = {\n",
    "    'filepath': fp,\n",
    "    'band': 1\n",
    "}"
   ]
  },
  {
   "cell_type": "markdown",
   "metadata": {},
   "source": [
    "## Add population density\n",
    "\n",
    "We assume that the spatial pattern of other water-consuming activities follows population density."
   ]
  },
  {
   "cell_type": "code",
   "execution_count": null,
   "metadata": {},
   "outputs": [],
   "source": [
    "fp = os.path.abspath(\"gdpweighted.tif\")\n",
    "assert os.path.isfile(fp)\n",
    "\n",
    "bwr.geocollections['weighted-pop-density'] = {\n",
    "    'filepath': fp,\n",
    "    'band': 1\n",
    "}"
   ]
  },
  {
   "cell_type": "markdown",
   "metadata": {},
   "source": [
    "## Calculate raster statistics for our extension tables"
   ]
  },
  {
   "cell_type": "code",
   "execution_count": null,
   "metadata": {},
   "outputs": [],
   "source": [
    "crop_rasters = [\n",
    "    'rice',\n",
    "    'weighted-pop-density',\n",
    "]\n",
    "\n",
    "for raster in crop_rasters:\n",
    "    try:\n",
    "        remote.calculate_rasterstats('world-topo-watersheds-aware', raster)\n",
    "    except AlreadyExists:\n",
    "        pass"
   ]
  },
  {
   "cell_type": "code",
   "execution_count": null,
   "metadata": {},
   "outputs": [],
   "source": [
    "for raster in crop_rasters:\n",
    "    remote.rasterstats_as_xt('world-topo-watersheds-aware', raster, \"xt-\" + raster)"
   ]
  },
  {
   "cell_type": "markdown",
   "metadata": {},
   "source": [
    "# LCA calculations\n",
    "\n",
    "We will split our calculations into the direct impact from irrigation, which will use the agricultural CFs, and everything else, which won't. We start by looking at the site-generic score and major contributors."
   ]
  },
  {
   "cell_type": "code",
   "execution_count": null,
   "metadata": {},
   "outputs": [],
   "source": [
    "swiss_rice = ('AWARE Case Study', 'Cooked rice CH')\n",
    "chinese_rice = ('AWARE Case Study', 'Cooked rice CN')"
   ]
  },
  {
   "cell_type": "code",
   "execution_count": null,
   "metadata": {},
   "outputs": [],
   "source": [
    "irrigation = [x for x in bw.Database(\"ecoinvent 3.5 cutoff\") \n",
    "              if x['name'] == 'irrigation']\n",
    "\n",
    "rice_production = [x for x in bw.Database(\"ecoinvent 3.5 cutoff\") \n",
    "              if x['name'] == 'rice production']"
   ]
  },
  {
   "cell_type": "markdown",
   "metadata": {},
   "source": [
    "## Rice in China"
   ]
  },
  {
   "cell_type": "code",
   "execution_count": 11,
   "metadata": {},
   "outputs": [
    {
     "data": {
      "text/plain": [
       "0.05157516184902011"
      ]
     },
     "execution_count": 11,
     "metadata": {},
     "output_type": "execute_result"
    }
   ],
   "source": [
    "background_lca_cn = bwr.ExtensionTablesLCA(\n",
    "    {chinese_rice: 1},\n",
    "    ('AWARE', '1.2 (April 2017)', 'Annual', 'Non-agricultural'),\n",
    "    xtable='xt-weighted-pop-density',\n",
    "    limitations={\n",
    "        'activities': irrigation + rice_production,\n",
    "        'activities mode': 'exclude'\n",
    "    }\n",
    ")\n",
    "background_lca_cn.lci()\n",
    "background_lca_cn.lcia()\n",
    "background_lca_cn.score"
   ]
  },
  {
   "cell_type": "code",
   "execution_count": 12,
   "metadata": {},
   "outputs": [
    {
     "name": "stdout",
     "output_type": "stream",
     "text": [
      "['hard coal mine operation and hard coal preparation', 'kilogram', 'hard coal', 'CN', 0.011698903862484365, 0.22683213087593315, 0.245269991680576]\n",
      "['water production and supply, decarbonised', 'kilogram', 'water, decarbonised, at user', ('RoW', 'RoW_213'), 0.009477375757022571, 0.18375852672583778, 1.0222104894900035]\n",
      "['urea production, as N', 'kilogram', 'urea, as N', ('RoW', 'RoW_213'), 0.00891185756103606, 0.1727935936900095, 0.008734760321430033]\n",
      "['tap water production, conventional treatment', 'kilogram', 'tap water', ('RoW', 'RoW_111'), 0.006497584943011585, 0.1259828318529074, 0.6573226615136141]\n",
      "['treatment of wastewater from maize starch production, capacity 1.1E10l/year', 'cubic meter', 'wastewater from maize starch production', ('RoW', 'RoW_134'), -0.005556531270088297, -0.10773657456188607, 0.000682854535109166]\n",
      "['ammonia production, steam reforming, liquid', 'kilogram', 'ammonia, liquid', ('RoW', 'RoW_213'), 0.004751021902367266, 0.0921184099484805, 0.00945616377796495]\n",
      "['water production and supply, decarbonised', 'kilogram', 'water, decarbonised, at user', ('ecoinvent', 'RER'), 0.0034524971931603875, 0.06694108305984856, 0.4063332090166154]\n",
      "['tap water production, underground water with chemical treatment', 'kilogram', 'tap water', ('RoW', 'RoW_111'), 0.0020662561652422034, 0.04006300884311157, 0.21585073485764666]\n",
      "['tap water production, conventional with biological treatment', 'kilogram', 'tap water', ('RoW', 'RoW_111'), 0.0020645938741846452, 0.04003077838569829, 0.20568666910035904]\n",
      "['electricity production, hard coal', 'kilowatt hour', 'electricity, high voltage', ('ecoinvent', 'CN-NM'), -0.002039064498395665, -0.039535784771064286, 0.04164890139687433]\n"
     ]
    }
   ],
   "source": [
    "for score, amount, act in ContributionAnalysis().annotated_top_processes(background_lca_cn)[:10]:\n",
    "        print([act['name'], act['unit'], act['reference product'], \n",
    "               act['location'], score, score / background_lca_cn.score, amount])"
   ]
  },
  {
   "cell_type": "code",
   "execution_count": 13,
   "metadata": {},
   "outputs": [
    {
     "data": {
      "text/plain": [
       "2.2740135085015747"
      ]
     },
     "execution_count": 13,
     "metadata": {},
     "output_type": "execute_result"
    }
   ],
   "source": [
    "foreground_lca_cn = bwr.ExtensionTablesLCA(\n",
    "    {chinese_rice: 1},\n",
    "    ('AWARE', '1.2 (April 2017)', 'Annual', 'Agricultural'),\n",
    "    xtable='xt-rice',\n",
    "    limitations={\n",
    "        'activities': irrigation + rice_production,\n",
    "        'activities mode': 'include'\n",
    "    }\n",
    ")\n",
    "foreground_lca_cn.lci()\n",
    "foreground_lca_cn.lcia()\n",
    "foreground_lca_cn.score"
   ]
  },
  {
   "cell_type": "code",
   "execution_count": 14,
   "metadata": {},
   "outputs": [
    {
     "name": "stdout",
     "output_type": "stream",
     "text": [
      "['irrigation', 'cubic meter', 'irrigation', 'CN', 4.591251620185653, 2.019008067903249, 0.5886022828852308]\n",
      "['rice production', 'kilogram', 'rice', 'CN', -2.418448601858576, -1.063515494880316, 0.9455359515231255]\n",
      "['irrigation', 'cubic meter', 'irrigation', 'IN', 0.07924824468673732, 0.03484950480305488, 0.0032081108591706067]\n",
      "['irrigation', 'cubic meter', 'irrigation', ('RoW', 'RoW_86'), 0.07681296313004095, 0.03377858699733743, 0.005649556260752386]\n",
      "['rice production', 'kilogram', 'rice', 'IN', -0.04164134976012453, -0.018311830428643074, 0.0034612600957552976]\n",
      "['rice production', 'kilogram', 'rice', ('RoW', 'RoW_155'), -0.024158196003775986, -0.010623593885198443, 0.006580082967391516]\n",
      "['irrigation', 'cubic meter', 'irrigation', 'ES', 0.006878582510822316, 0.0030248644016872394, 8.49353257082777e-05]\n",
      "['irrigation', 'cubic meter', 'irrigation', 'US', 0.0031189538504967553, 0.0013715634664597663, 0.00019420926940891196]\n",
      "['irrigation', 'cubic meter', 'irrigation', 'PH', 0.0013551313664024501, 0.000595920543715412, 0.0001897384311685311]\n",
      "['rice production', 'kilogram', 'rice', 'US', -0.0009495782902861426, -0.00041757812200150573, 0.00020526142464856627]\n"
     ]
    }
   ],
   "source": [
    "for score, amount, act in ContributionAnalysis().annotated_top_processes(foreground_lca_cn)[:10]:\n",
    "        print([act['name'], act['unit'], act['reference product'], \n",
    "               act['location'], score, score / foreground_lca_cn.score, amount])"
   ]
  },
  {
   "cell_type": "markdown",
   "metadata": {},
   "source": [
    "## Rice in Switzerland"
   ]
  },
  {
   "cell_type": "code",
   "execution_count": 20,
   "metadata": {},
   "outputs": [
    {
     "data": {
      "text/plain": [
       "{'filepath': '/Users/cmutel/Library/Application Support/Brightway3/DF69-Case-Study.539531a9e1bbedcacdb6c969a8a2456f/regional/31371c7ad4d131f5b2685d8e20ad6d69bd17861030c9fb3b1feceab5990ed186.8bf6965994fc09a603386cd5ba02afd6e732d76ff02e4bb2a267c033239cfed3.geojson',\n",
       " 'field': 'id',\n",
       " 'url': 'https://pandarus.brightwaylca.org/intersection-file',\n",
       " 'is intersection': True,\n",
       " 'first': 'world',\n",
       " 'second': 'watersheds-aware',\n",
       " 'sha256': 'd565838cd79c2eb9b8d58ab3b22e1a14c405886894979616f22c33eb3198c91f',\n",
       " 'kind': 'vector'}"
      ]
     },
     "execution_count": 20,
     "metadata": {},
     "output_type": "execute_result"
    }
   ],
   "source": [
    "bwr.geocollections['world-topo-watersheds-aware']"
   ]
  },
  {
   "cell_type": "code",
   "execution_count": 15,
   "metadata": {},
   "outputs": [
    {
     "data": {
      "text/plain": [
       "0.05777860482058694"
      ]
     },
     "execution_count": 15,
     "metadata": {},
     "output_type": "execute_result"
    }
   ],
   "source": [
    "background_lca_ch = bwr.ExtensionTablesLCA(\n",
    "    {swiss_rice: 1},\n",
    "    ('AWARE', '1.2 (April 2017)', 'Annual', 'Non-agricultural'),\n",
    "    xtable='xt-weighted-pop-density',\n",
    "    limitations={\n",
    "        'activities': irrigation + rice_production,\n",
    "        'activities mode': 'exclude'\n",
    "    }\n",
    ")\n",
    "background_lca_ch.lci()\n",
    "background_lca_ch.lcia()\n",
    "background_lca_ch.score"
   ]
  },
  {
   "cell_type": "code",
   "execution_count": 16,
   "metadata": {},
   "outputs": [
    {
     "name": "stdout",
     "output_type": "stream",
     "text": [
      "['water production and supply, decarbonised', 'kilogram', 'water, decarbonised, at user', ('RoW', 'RoW_213'), 0.00912998178126694, 0.1580166535626326, 0.9847412812294876]\n",
      "['ammonia production, steam reforming, liquid', 'kilogram', 'ammonia, liquid', ('RoW', 'RoW_213'), 0.008054277304575266, 0.13939895796351018, 0.01603077545638354]\n",
      "['treatment of wastewater from maize starch production, capacity 1.1E10l/year', 'cubic meter', 'wastewater from maize starch production', ('RoW', 'RoW_134'), -0.0055565396356836915, -0.09616950172019134, 0.0006828555631758638]\n",
      "['urea production, as N', 'kilogram', 'urea, as N', ('RoW', 'RoW_213'), 0.0034811836810765273, 0.06025039358229979, 0.0034120052840635783]\n",
      "['water production and supply, decarbonised', 'kilogram', 'water, decarbonised, at user', ('ecoinvent', 'RER'), 0.0033259456289968137, 0.05756361960148534, 0.39143903233936056]\n",
      "['hard coal mine operation and hard coal preparation', 'kilogram', 'hard coal', 'CN', 0.002873593317975369, 0.049734557054439056, 0.06024549115693867]\n",
      "['extrusion, plastic film', 'kilogram', 'extrusion, plastic film', ('RoW', 'RoW_126'), 0.0024880771214225656, 0.0430622568535273, 0.01534900127732163]\n",
      "['ammonia production, steam reforming, liquid', 'kilogram', 'ammonia, liquid', ('ecoinvent', 'RER'), 0.002103250683384159, 0.036401894609866994, 0.0045678911044687385]\n",
      "['petroleum refinery operation', 'kilogram', 'diesel', ('ecoinvent', 'Europe without Switzerland'), 0.002048716958495062, 0.03545805518940272, 0.04686699395285187]\n",
      "['electricity production, hydro, reservoir, alpine region', 'kilowatt hour', 'electricity, high voltage', ('ecoinvent', 'US-WECC'), 0.0020324416765818004, 0.035176371649902255, 0.0034850031908336635]\n"
     ]
    }
   ],
   "source": [
    "for score, amount, act in ContributionAnalysis().annotated_top_processes(background_lca_ch)[:10]:\n",
    "        print([act['name'], act['unit'], act['reference product'], \n",
    "               act['location'], score, score / background_lca_ch.score, amount])"
   ]
  },
  {
   "cell_type": "code",
   "execution_count": 17,
   "metadata": {},
   "outputs": [
    {
     "data": {
      "text/plain": [
       "10.061722152468494"
      ]
     },
     "execution_count": 17,
     "metadata": {},
     "output_type": "execute_result"
    }
   ],
   "source": [
    "foreground_lca_ch = bwr.ExtensionTablesLCA(\n",
    "    {swiss_rice: 1},\n",
    "    ('AWARE', '1.2 (April 2017)', 'Annual', 'Agricultural'),\n",
    "    xtable='xt-rice',\n",
    "    limitations={\n",
    "        'activities': irrigation + rice_production,\n",
    "        'activities mode': 'include'\n",
    "    }\n",
    ")\n",
    "foreground_lca_ch.lci()\n",
    "foreground_lca_ch.lcia()\n",
    "foreground_lca_ch.score"
   ]
  },
  {
   "cell_type": "code",
   "execution_count": 18,
   "metadata": {},
   "outputs": [
    {
     "name": "stdout",
     "output_type": "stream",
     "text": [
      "['irrigation', 'cubic meter', 'irrigation', 'US', 14.270410519593785, 1.4182870788270328, 0.8885819200993157]\n",
      "['rice production', 'kilogram', 'rice', 'US', -4.353899917700955, -0.43271915599784183, 0.9411416720734768]\n",
      "['irrigation', 'cubic meter', 'irrigation', 'IN', 0.10489357054681568, 0.010425011638895395, 0.004246279574501851]\n",
      "['irrigation', 'cubic meter', 'irrigation', ('RoW', 'RoW_86'), 0.10167136039358228, 0.010104767240927908, 0.007477879348025468]\n",
      "['rice production', 'kilogram', 'rice', 'IN', -0.05511753387113788, -0.00547794234783313, 0.004581410584997331]\n",
      "['rice production', 'kilogram', 'rice', ('RoW', 'RoW_155'), -0.03197639351687837, -0.003178023904092148, 0.008709562680348015]\n",
      "['irrigation', 'cubic meter', 'irrigation', 'CN', 0.029997201887246618, 0.002981318847080989, 0.0038456662739578956]\n",
      "['rice production', 'kilogram', 'rice', 'CN', -0.01579667227350952, -0.0015699769914272617, 0.006175992964065163]\n",
      "['irrigation', 'cubic meter', 'irrigation', 'ES', 0.009104438481244034, 0.0009048588644450289, 0.0001124197385985844]\n",
      "['irrigation', 'cubic meter', 'irrigation', 'PH', 0.0017921574508198681, 0.00017811637249197832, 0.00025092854578983263]\n"
     ]
    }
   ],
   "source": [
    "for score, amount, act in ContributionAnalysis().annotated_top_processes(foreground_lca_ch)[:10]:\n",
    "        print([act['name'], act['unit'], act['reference product'], \n",
    "               act['location'], score, score / foreground_lca_ch.score, amount])"
   ]
  }
 ],
 "metadata": {
  "kernelspec": {
   "display_name": "Python 3",
   "language": "python",
   "name": "python3"
  },
  "language_info": {
   "codemirror_mode": {
    "name": "ipython",
    "version": 3
   },
   "file_extension": ".py",
   "mimetype": "text/x-python",
   "name": "python",
   "nbconvert_exporter": "python",
   "pygments_lexer": "ipython3",
   "version": "3.6.5"
  },
  "toc": {
   "colors": {
    "hover_highlight": "#DAA520",
    "running_highlight": "#FF0000",
    "selected_highlight": "#FFD700"
   },
   "moveMenuLeft": true,
   "nav_menu": {
    "height": "315px",
    "width": "252px"
   },
   "navigate_menu": true,
   "number_sections": true,
   "sideBar": true,
   "threshold": 4,
   "toc_cell": false,
   "toc_section_display": "block",
   "toc_window_display": false
  }
 },
 "nbformat": 4,
 "nbformat_minor": 2
}

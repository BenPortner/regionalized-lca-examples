{
 "cells": [
  {
   "cell_type": "code",
   "execution_count": null,
   "metadata": {},
   "outputs": [],
   "source": [
    "import brightway2 as bw\n",
    "import bw2regional as bwr\n",
    "from bw2regional.pandarus_remote import remote, AlreadyExists\n",
    "import bw2_aware\n",
    "import rower\n",
    "import os"
   ]
  },
  {
   "cell_type": "code",
   "execution_count": null,
   "metadata": {},
   "outputs": [],
   "source": [
    "bw.projects.set_current(\"DF69 Case Study\")"
   ]
  },
  {
   "cell_type": "markdown",
   "metadata": {},
   "source": [
    "# Import ecoinvent 3.5"
   ]
  },
  {
   "cell_type": "code",
   "execution_count": null,
   "metadata": {
    "scrolled": false
   },
   "outputs": [],
   "source": [
    "bw.create_default_biosphere3()"
   ]
  },
  {
   "cell_type": "code",
   "execution_count": null,
   "metadata": {},
   "outputs": [],
   "source": [
    "bw.create_core_migrations()"
   ]
  },
  {
   "cell_type": "code",
   "execution_count": null,
   "metadata": {},
   "outputs": [],
   "source": [
    "ei = bw.SingleOutputEcospold2Importer(\n",
    "    \"/Users/cmutel/Documents/LCA/Ecoinvent/3.5/cutoff/datasets\",\n",
    "    \"ecoinvent 3.5 cutoff\"\n",
    ")\n",
    "ei.apply_strategies()\n",
    "ei.statistics()"
   ]
  },
  {
   "cell_type": "code",
   "execution_count": null,
   "metadata": {},
   "outputs": [],
   "source": [
    "ei.write_database()"
   ]
  },
  {
   "cell_type": "markdown",
   "metadata": {},
   "source": [
    "# Import case study inventory"
   ]
  },
  {
   "cell_type": "code",
   "execution_count": null,
   "metadata": {},
   "outputs": [],
   "source": [
    "imp = bw.ExcelImporter(\"rice_inventory.xlsx\")\n",
    "imp.apply_strategies()\n",
    "imp.match_database(\"ecoinvent 3.5 cutoff\", fields=('name', 'unit', 'location', 'reference product'))\n",
    "imp.match_database(\"ecoinvent 3.5 cutoff\", fields=('name', 'unit', 'location'))\n",
    "imp.match_database(fields=['name', 'location'])\n",
    "imp.statistics()"
   ]
  },
  {
   "cell_type": "code",
   "execution_count": null,
   "metadata": {},
   "outputs": [],
   "source": [
    "imp.write_database()"
   ]
  },
  {
   "cell_type": "markdown",
   "metadata": {},
   "source": [
    "# Fix geographic data in LCI databases\n",
    "\n",
    "## Install basic world definitions"
   ]
  },
  {
   "cell_type": "code",
   "execution_count": null,
   "metadata": {},
   "outputs": [],
   "source": [
    "bwr.bw2regionalsetup()"
   ]
  },
  {
   "cell_type": "markdown",
   "metadata": {},
   "source": [
    "## Define rest of world locations in ecoinvent"
   ]
  },
  {
   "cell_type": "code",
   "execution_count": null,
   "metadata": {},
   "outputs": [],
   "source": [
    "rower_obj = rower.Rower('ecoinvent 3.5 cutoff')\n",
    "rower_obj.load_existing(rower_obj.EI_3_5_CUTOFF)\n",
    "rower_obj.label_RoWs()"
   ]
  },
  {
   "cell_type": "markdown",
   "metadata": {},
   "source": [
    "## Label locations with their \"geocollection\"\n",
    "\n",
    "Need to turn e.g. `\"Europe without CH\"` into `(\"ecoinvent\", \"Europe without CH\")`."
   ]
  },
  {
   "cell_type": "code",
   "execution_count": null,
   "metadata": {},
   "outputs": [],
   "source": [
    "bwr.label_activity_geocollections(\"ecoinvent 3.5 cutoff\")\n",
    "bwr.label_activity_geocollections(\"AWARE Case Study\")"
   ]
  },
  {
   "cell_type": "code",
   "execution_count": null,
   "metadata": {},
   "outputs": [],
   "source": [
    "bw.databases['ecoinvent 3.5 cutoff']['geocollections'] = ['world', 'ecoinvent', 'RoW']\n",
    "bw.databases['AWARE Case Study']['geocollections'] = ['world', 'ecoinvent', 'RoW']\n",
    "bw.databases['biosphere3']['geocollections'] = []\n",
    "bw.databases.flush()"
   ]
  },
  {
   "cell_type": "markdown",
   "metadata": {},
   "source": [
    "# Import AWARE"
   ]
  },
  {
   "cell_type": "code",
   "execution_count": null,
   "metadata": {},
   "outputs": [],
   "source": [
    "bw2_aware.import_aware()"
   ]
  },
  {
   "cell_type": "markdown",
   "metadata": {},
   "source": [
    "# Add extension tables\n",
    "\n",
    "## Define where rice is grown\n",
    "\n",
    "Our rice inventory is country-specific, but this is too general for China and the US. We use data from Ramankutty on global rice production. Here is the map for part of Asia:\n",
    "\n",
    "<img src=\"images/rice-asia.png\">"
   ]
  },
  {
   "cell_type": "code",
   "execution_count": null,
   "metadata": {},
   "outputs": [],
   "source": [
    "fp = os.path.abspath(\"rice.tiff\")\n",
    "assert os.path.isfile(fp)\n",
    "\n",
    "bwr.geocollections['rice'] = {\n",
    "    'filepath': fp,\n",
    "    'band': 1\n",
    "}"
   ]
  },
  {
   "cell_type": "markdown",
   "metadata": {},
   "source": [
    "## Add population density\n",
    "\n",
    "We assume that the spatial pattern of other water-consuming activities follows population density."
   ]
  },
  {
   "cell_type": "code",
   "execution_count": null,
   "metadata": {},
   "outputs": [],
   "source": [
    "fp = os.path.abspath(\"gdpweighted.tif\")\n",
    "assert os.path.isfile(fp)\n",
    "\n",
    "bwr.geocollections['weighted-pop-density'] = {\n",
    "    'filepath': fp,\n",
    "    'band': 1\n",
    "}"
   ]
  },
  {
   "cell_type": "markdown",
   "metadata": {},
   "source": [
    "## Calculate raster statistics for our extension tables"
   ]
  },
  {
   "cell_type": "code",
   "execution_count": null,
   "metadata": {},
   "outputs": [],
   "source": [
    "crop_rasters = [\n",
    "    'rice',\n",
    "    'weighted-pop-density',\n",
    "]\n",
    "\n",
    "for raster in crop_rasters:\n",
    "    try:\n",
    "        remote.calculate_rasterstats('world-topo-watersheds-aware', raster)\n",
    "    except AlreadyExists:\n",
    "        pass"
   ]
  },
  {
   "cell_type": "code",
   "execution_count": null,
   "metadata": {},
   "outputs": [],
   "source": [
    "for raster in crop_rasters:\n",
    "    remote.rasterstats_as_xt('world-topo-watersheds-aware', raster, \"xt-\" + raster)"
   ]
  },
  {
   "cell_type": "code",
   "execution_count": null,
   "metadata": {},
   "outputs": [],
   "source": []
  }
 ],
 "metadata": {
  "kernelspec": {
   "display_name": "Python 3",
   "language": "python",
   "name": "python3"
  },
  "language_info": {
   "codemirror_mode": {
    "name": "ipython",
    "version": 3
   },
   "file_extension": ".py",
   "mimetype": "text/x-python",
   "name": "python",
   "nbconvert_exporter": "python",
   "pygments_lexer": "ipython3",
   "version": "3.6.5"
  }
 },
 "nbformat": 4,
 "nbformat_minor": 2
}

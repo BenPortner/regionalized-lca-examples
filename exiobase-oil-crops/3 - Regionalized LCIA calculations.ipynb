{
 "cells": [
  {
   "cell_type": "code",
   "execution_count": 13,
   "metadata": {},
   "outputs": [],
   "source": [
    "import brightway2 as bw\n",
    "import bw2regional as bwr\n",
    "from bw2regional.geojson_export import *\n",
    "from bw2analyzer import ContributionAnalysis"
   ]
  },
  {
   "cell_type": "code",
   "execution_count": 2,
   "metadata": {},
   "outputs": [],
   "source": [
    "bw.projects.set_current(\"EXIOBASE regionalized case study\")"
   ]
  },
  {
   "cell_type": "code",
   "execution_count": 3,
   "metadata": {},
   "outputs": [
    {
     "data": {
      "text/plain": [
       "Databases dictionary with 3 object(s):\n",
       "\tEXIOBASE 3.3.17 hybrid\n",
       "\tOil seeds\n",
       "\tbiosphere3"
      ]
     },
     "execution_count": 3,
     "metadata": {},
     "output_type": "execute_result"
    }
   ],
   "source": [
    "bw.databases"
   ]
  },
  {
   "cell_type": "code",
   "execution_count": 4,
   "metadata": {},
   "outputs": [
    {
     "data": {
      "text/plain": [
       "[('LC-IMPACT', 'Land Use', 'Occupation', 'Marginal', 'Certain'),\n",
       " ('LC-IMPACT', 'Land Use', 'Occupation', 'Average', 'Certain'),\n",
       " ('LC-IMPACT', 'Land Use', 'Transformation', 'Marginal', 'Certain'),\n",
       " ('LC-IMPACT', 'Land Use', 'Transformation', 'Marginal', 'All'),\n",
       " ('LC-IMPACT', 'Land Use', 'Transformation', 'Average', 'Certain'),\n",
       " ('LC-IMPACT', 'Land Use', 'Transformation', 'Average', 'All'),\n",
       " ('LC-IMPACT', 'Particulate Matter Formation', 'Marginal', 'All'),\n",
       " ('LC-IMPACT', 'Particulate Matter Formation', 'Marginal', 'Certain'),\n",
       " ('LC-IMPACT', 'Water Use', 'Human Health', 'Average'),\n",
       " ('LC-IMPACT', 'Water Use', 'Human Health', 'Marginal'),\n",
       " ('LC-IMPACT',\n",
       "  'Water Use',\n",
       "  'Ecosystem Quality',\n",
       "  'Surface Water',\n",
       "  'Marginal',\n",
       "  'Certain'),\n",
       " ('LC-IMPACT',\n",
       "  'Water Use',\n",
       "  'Ecosystem Quality',\n",
       "  'Surface Water',\n",
       "  'Marginal',\n",
       "  'All')]"
      ]
     },
     "execution_count": 4,
     "metadata": {},
     "output_type": "execute_result"
    }
   ],
   "source": [
    "[x for x in bw.methods if x[0] == \"LC-IMPACT\"]"
   ]
  },
  {
   "cell_type": "code",
   "execution_count": 5,
   "metadata": {},
   "outputs": [
    {
     "data": {
      "text/plain": [
       "Geocollections dictionary with 23 objects, including:\n",
       "\tcocnut\n",
       "\tecoregions\n",
       "\texiobase-rows\n",
       "\texiobase-rows-ecoregions\n",
       "\texiobase-rows-particulate-matter\n",
       "\texiobase-rows-watersheds-eq-sw-all\n",
       "\texiobase-rows-watersheds-eq-sw-certain\n",
       "\texiobase-rows-watersheds-hh\n",
       "\toilpalm\n",
       "\tparticulate-matter\n",
       "Use `list(this object)` to get the complete list."
      ]
     },
     "execution_count": 5,
     "metadata": {},
     "output_type": "execute_result"
    }
   ],
   "source": [
    "bwr.geocollections"
   ]
  },
  {
   "cell_type": "code",
   "execution_count": 4,
   "metadata": {},
   "outputs": [
    {
     "data": {
      "text/plain": [
       "['xt-oilpalm-exiobase-rows-ecoregions',\n",
       " 'xt-oilpalm-exiobase-rows-particulate-matter',\n",
       " 'xt-oilpalm-exiobase-rows-watersheds-eq-sw-all',\n",
       " 'xt-oilpalm-exiobase-rows-watersheds-eq-sw-certain',\n",
       " 'xt-oilpalm-exiobase-rows-watersheds-hh',\n",
       " 'xt-oilpalm-world-topo-ecoregions',\n",
       " 'xt-oilpalm-world-topo-particulate-matter',\n",
       " 'xt-oilpalm-world-topo-watersheds-eq-sw-all',\n",
       " 'xt-oilpalm-world-topo-watersheds-eq-sw-certain',\n",
       " 'xt-oilpalm-world-topo-watersheds-hh',\n",
       " 'xt-peanut-exiobase-rows-ecoregions',\n",
       " 'xt-peanut-exiobase-rows-particulate-matter',\n",
       " 'xt-peanut-exiobase-rows-watersheds-eq-sw-all',\n",
       " 'xt-peanut-exiobase-rows-watersheds-eq-sw-certain',\n",
       " 'xt-peanut-exiobase-rows-watersheds-hh',\n",
       " 'xt-peanut-world-topo-ecoregions',\n",
       " 'xt-peanut-world-topo-particulate-matter',\n",
       " 'xt-peanut-world-topo-watersheds-eq-sw-all',\n",
       " 'xt-peanut-world-topo-watersheds-eq-sw-certain',\n",
       " 'xt-peanut-world-topo-watersheds-hh',\n",
       " 'xt-rapeseed-exiobase-rows-ecoregions',\n",
       " 'xt-rapeseed-exiobase-rows-particulate-matter',\n",
       " 'xt-rapeseed-exiobase-rows-watersheds-eq-sw-all',\n",
       " 'xt-rapeseed-exiobase-rows-watersheds-eq-sw-certain',\n",
       " 'xt-rapeseed-exiobase-rows-watersheds-hh',\n",
       " 'xt-rapeseed-world-topo-ecoregions',\n",
       " 'xt-rapeseed-world-topo-particulate-matter',\n",
       " 'xt-rapeseed-world-topo-watersheds-eq-sw-all',\n",
       " 'xt-rapeseed-world-topo-watersheds-eq-sw-certain',\n",
       " 'xt-rapeseed-world-topo-watersheds-hh',\n",
       " 'xt-soybean-exiobase-rows-ecoregions',\n",
       " 'xt-soybean-exiobase-rows-particulate-matter',\n",
       " 'xt-soybean-exiobase-rows-watersheds-eq-sw-all',\n",
       " 'xt-soybean-exiobase-rows-watersheds-eq-sw-certain',\n",
       " 'xt-soybean-exiobase-rows-watersheds-hh',\n",
       " 'xt-soybean-world-topo-ecoregions',\n",
       " 'xt-soybean-world-topo-particulate-matter',\n",
       " 'xt-soybean-world-topo-watersheds-eq-sw-all',\n",
       " 'xt-soybean-world-topo-watersheds-eq-sw-certain',\n",
       " 'xt-soybean-world-topo-watersheds-hh',\n",
       " 'xt-weighted-pop-density-exiobase-rows-ecoregions',\n",
       " 'xt-weighted-pop-density-exiobase-rows-particulate-matter',\n",
       " 'xt-weighted-pop-density-exiobase-rows-watersheds-eq-sw-all',\n",
       " 'xt-weighted-pop-density-exiobase-rows-watersheds-eq-sw-certain',\n",
       " 'xt-weighted-pop-density-exiobase-rows-watersheds-hh',\n",
       " 'xt-weighted-pop-density-world-topo-ecoregions',\n",
       " 'xt-weighted-pop-density-world-topo-particulate-matter',\n",
       " 'xt-weighted-pop-density-world-topo-watersheds-eq-sw-all',\n",
       " 'xt-weighted-pop-density-world-topo-watersheds-eq-sw-certain',\n",
       " 'xt-weighted-pop-density-world-topo-watersheds-hh']"
      ]
     },
     "execution_count": 4,
     "metadata": {},
     "output_type": "execute_result"
    }
   ],
   "source": [
    "sorted(bwr.extension_tables)"
   ]
  },
  {
   "cell_type": "code",
   "execution_count": 3,
   "metadata": {},
   "outputs": [],
   "source": [
    "palm = next(ds for ds in bw.Database(\"Oil seeds\") if ds['name'] == 'Palm oil refinery [NBD palm oil]')\n",
    "sunflower = next(ds for ds in bw.Database(\"Oil seeds\") if ds['name'] == 'Sunflower oil refinery [Refined sunflower oil]')\n",
    "rapeseed = next(ds for ds in bw.Database(\"Oil seeds\") if ds['name'] == 'Rapeseed oil refinery [Refined rapeseed oil]')\n",
    "peanut = next(ds for ds in bw.Database(\"Oil seeds\") if ds['name'] == 'Peanut oil refinery [Refined peanut oil]')\n",
    "soybean = next(ds for ds in bw.Database(\"Oil seeds\") if ds['name'] == 'Soybean oil refinery [CSBO processing]')"
   ]
  },
  {
   "cell_type": "code",
   "execution_count": 6,
   "metadata": {},
   "outputs": [
    {
     "name": "stdout",
     "output_type": "stream",
     "text": [
      "('Oil seeds', 'Rapeseed oil refinery [Refined rapeseed oil]-EU27')\n",
      "('Oil seeds', 'Sunflower oil refinery [Refined sunflower oil]-UA')\n",
      "('Oil seeds', 'Peanut oil refinery [Refined peanut oil]-IN')\n",
      "('Oil seeds', 'Palm oil refinery [NBD palm oil]-MY')\n",
      "('Oil seeds', 'Soybean oil refinery [CSBO processing]-BR')\n"
     ]
    }
   ],
   "source": [
    "for obj in (rapeseed, sunflower, peanut, palm, soybean):\n",
    "    print(obj.key)"
   ]
  },
  {
   "cell_type": "code",
   "execution_count": 6,
   "metadata": {},
   "outputs": [
    {
     "data": {
      "text/plain": [
       "1.7649844252156698e-13"
      ]
     },
     "execution_count": 6,
     "metadata": {},
     "output_type": "execute_result"
    }
   ],
   "source": [
    "lca = bw.LCA(\n",
    "    {palm: 1},\n",
    "    ('LC-IMPACT', 'Land Use', 'Occupation', 'Average', 'Certain'),\n",
    ")\n",
    "lca.lci()\n",
    "lca.lcia()\n",
    "lca.score"
   ]
  },
  {
   "cell_type": "code",
   "execution_count": 4,
   "metadata": {},
   "outputs": [
    {
     "data": {
      "text/plain": [
       "1.3433522086801278e-12"
      ]
     },
     "execution_count": 4,
     "metadata": {},
     "output_type": "execute_result"
    }
   ],
   "source": [
    "lca = bwr.TwoSpatialScalesLCA(\n",
    "    {palm: 1},\n",
    "    ('LC-IMPACT', 'Land Use', 'Occupation', 'Average', 'Certain'),\n",
    ")\n",
    "lca.lci()\n",
    "lca.lcia()\n",
    "lca.score"
   ]
  },
  {
   "cell_type": "code",
   "execution_count": 4,
   "metadata": {},
   "outputs": [
    {
     "data": {
      "text/plain": [
       "1.4804974820069666e-12"
      ]
     },
     "execution_count": 4,
     "metadata": {},
     "output_type": "execute_result"
    }
   ],
   "source": [
    "lca = bwr.ExtensionTablesLCA(\n",
    "    {palm: 1},\n",
    "    ('LC-IMPACT', 'Land Use', 'Occupation', 'Average', 'Certain'),\n",
    "    xtable='xt-oilpalm-world-topo-ecoregions',\n",
    ")\n",
    "lca.lci()\n",
    "lca.lcia()\n",
    "lca.score"
   ]
  },
  {
   "cell_type": "code",
   "execution_count": 11,
   "metadata": {},
   "outputs": [],
   "source": [
    "as_ia_spatial_scale(lca, geocollection=\"ecoregions\", filepath=\"land_use_palm_oil\")"
   ]
  },
  {
   "cell_type": "code",
   "execution_count": 16,
   "metadata": {},
   "outputs": [
    {
     "name": "stdout",
     "output_type": "stream",
     "text": [
      "['Oil palm cultivation [FFB]', 'kilogram', 'MY', 0.9962398900508641]\n",
      "['Soybean cultivation [soybean]', 'kilogram', 'BR', 0.002013211375567101]\n",
      "['Forestry, logging and related service activities', 'ton', 'BR', 0.0005873861935007537]\n",
      "['Forestry, logging and related service activities', 'ton', 'ID', 0.00032831793349268913]\n",
      "['Cattle farming', 'ton', 'BR', 0.0001541748645263217]\n",
      "['Forestry, logging and related service activities', 'ton', 'RU', 0.00012447406470098528]\n",
      "['Cattle farming', 'ton', 'CN', 9.958745783993063e-05]\n",
      "['Cultivation of oil seeds', 'ton', 'ID', 6.791705689847274e-05]\n",
      "['Cultivation of crops nec', 'ton', 'ID', 5.674222416599837e-05]\n",
      "['Cattle farming', 'ton', 'MX', 4.716075676088069e-05]\n"
     ]
    }
   ],
   "source": [
    "for score, amount, act in ContributionAnalysis().annotated_top_processes(lca)[:10]:\n",
    "        print([act['name'], act['unit'], act['location'], score / lca.score])"
   ]
  },
  {
   "cell_type": "code",
   "execution_count": null,
   "metadata": {},
   "outputs": [],
   "source": []
  }
 ],
 "metadata": {
  "kernelspec": {
   "display_name": "Python 3",
   "language": "python",
   "name": "python3"
  },
  "language_info": {
   "codemirror_mode": {
    "name": "ipython",
    "version": 3
   },
   "file_extension": ".py",
   "mimetype": "text/x-python",
   "name": "python",
   "nbconvert_exporter": "python",
   "pygments_lexer": "ipython3",
   "version": "3.6.7"
  }
 },
 "nbformat": 4,
 "nbformat_minor": 2
}

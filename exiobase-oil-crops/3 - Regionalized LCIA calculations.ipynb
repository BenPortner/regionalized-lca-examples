{
 "cells": [
  {
   "cell_type": "code",
   "execution_count": null,
   "metadata": {},
   "outputs": [],
   "source": [
    "import brightway2 as bw\n",
    "import bw2regional as bwr\n",
    "from bw2regional.geojson_export import *\n",
    "from bw2analyzer import ContributionAnalysis"
   ]
  },
  {
   "cell_type": "code",
   "execution_count": null,
   "metadata": {},
   "outputs": [],
   "source": [
    "bw.projects.set_current(\"EXIOBASE regionalized case study\")"
   ]
  },
  {
   "cell_type": "code",
   "execution_count": null,
   "metadata": {},
   "outputs": [],
   "source": [
    "bw.databases"
   ]
  },
  {
   "cell_type": "code",
   "execution_count": null,
   "metadata": {},
   "outputs": [],
   "source": [
    "[x for x in bw.methods if x[0] == \"LC-IMPACT\"]"
   ]
  },
  {
   "cell_type": "code",
   "execution_count": null,
   "metadata": {},
   "outputs": [],
   "source": [
    "bwr.geocollections"
   ]
  },
  {
   "cell_type": "code",
   "execution_count": null,
   "metadata": {},
   "outputs": [],
   "source": [
    "sorted(bwr.extension_tables)"
   ]
  },
  {
   "cell_type": "code",
   "execution_count": null,
   "metadata": {},
   "outputs": [],
   "source": [
    "palm = next(ds for ds in bw.Database(\"Oil seeds\") if ds['name'] == 'Palm oil refinery [NBD palm oil]')\n",
    "sunflower = next(ds for ds in bw.Database(\"Oil seeds\") if ds['name'] == 'Sunflower oil refinery [Refined sunflower oil]')\n",
    "rapeseed = next(ds for ds in bw.Database(\"Oil seeds\") if ds['name'] == 'Rapeseed oil refinery [Refined rapeseed oil]')\n",
    "peanut = next(ds for ds in bw.Database(\"Oil seeds\") if ds['name'] == 'Peanut oil refinery [Refined peanut oil]')\n",
    "soybean = next(ds for ds in bw.Database(\"Oil seeds\") if ds['name'] == 'Soybean oil refinery [CSBO processing]')"
   ]
  },
  {
   "cell_type": "code",
   "execution_count": null,
   "metadata": {},
   "outputs": [],
   "source": [
    "for obj in (rapeseed, sunflower, peanut, palm, soybean):\n",
    "    print(obj.key)"
   ]
  },
  {
   "cell_type": "code",
   "execution_count": null,
   "metadata": {},
   "outputs": [],
   "source": [
    "lca = bw.LCA(\n",
    "    {palm: 1},\n",
    "    ('LC-IMPACT', 'Land Use', 'Occupation', 'Average', 'Certain'),\n",
    ")\n",
    "lca.lci()\n",
    "lca.lcia()\n",
    "lca.score"
   ]
  },
  {
   "cell_type": "code",
   "execution_count": null,
   "metadata": {},
   "outputs": [],
   "source": [
    "lca = bwr.TwoSpatialScalesLCA(\n",
    "    {palm: 1},\n",
    "    ('LC-IMPACT', 'Land Use', 'Occupation', 'Average', 'Certain'),\n",
    ")\n",
    "lca.lci()\n",
    "lca.lcia()\n",
    "lca.score"
   ]
  },
  {
   "cell_type": "code",
   "execution_count": null,
   "metadata": {},
   "outputs": [],
   "source": [
    "lca = bwr.ExtensionTablesLCA(\n",
    "    {palm: 1},\n",
    "    ('LC-IMPACT', 'Land Use', 'Occupation', 'Average', 'Certain'),\n",
    "    xtable='xt-oilpalm-world-topo-ecoregions',\n",
    ")\n",
    "lca.lci()\n",
    "lca.lcia()\n",
    "lca.score"
   ]
  },
  {
   "cell_type": "code",
   "execution_count": null,
   "metadata": {},
   "outputs": [],
   "source": [
    "as_ia_spatial_scale(lca, geocollection=\"ecoregions\", filepath=\"land_use_palm_oil\")"
   ]
  },
  {
   "cell_type": "code",
   "execution_count": null,
   "metadata": {},
   "outputs": [],
   "source": [
    "for score, amount, act in ContributionAnalysis().annotated_top_processes(lca)[:10]:\n",
    "        print([act['name'], act['unit'], act['location'], score / lca.score])"
   ]
  },
  {
   "cell_type": "code",
   "execution_count": null,
   "metadata": {},
   "outputs": [],
   "source": []
  }
 ],
 "metadata": {
  "kernelspec": {
   "display_name": "Python 3",
   "language": "python",
   "name": "python3"
  },
  "language_info": {
   "codemirror_mode": {
    "name": "ipython",
    "version": 3
   },
   "file_extension": ".py",
   "mimetype": "text/x-python",
   "name": "python",
   "nbconvert_exporter": "python",
   "pygments_lexer": "ipython3",
   "version": "3.6.7"
  }
 },
 "nbformat": 4,
 "nbformat_minor": 2
}

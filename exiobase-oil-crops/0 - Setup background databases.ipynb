{
 "cells": [
  {
   "cell_type": "code",
   "execution_count": 1,
   "metadata": {},
   "outputs": [],
   "source": [
    "import brightway2 as bw\n",
    "import bw2io\n",
    "import bw2regional as bwr\n",
    "import mrio_common_metadata\n",
    "import bw_migrations\n",
    "from copy import deepcopy\n",
    "from bw2io.importers.base_lci import LCIImporter\n",
    "import pyprind"
   ]
  },
  {
   "cell_type": "code",
   "execution_count": 2,
   "metadata": {},
   "outputs": [],
   "source": [
    "assert bw2io.__version__ >= (0, 7, 11, 2)"
   ]
  },
  {
   "cell_type": "code",
   "execution_count": 3,
   "metadata": {},
   "outputs": [],
   "source": [
    "from bw2io.importers.exiobase3_hiot import Exiobase33Importer"
   ]
  },
  {
   "cell_type": "code",
   "execution_count": 4,
   "metadata": {},
   "outputs": [],
   "source": [
    "bw.projects.set_current(\"EXIOBASE regionalized case study\")"
   ]
  },
  {
   "cell_type": "code",
   "execution_count": 5,
   "metadata": {},
   "outputs": [
    {
     "name": "stderr",
     "output_type": "stream",
     "text": [
      "Writing activities to SQLite3 database:\n"
     ]
    },
    {
     "name": "stdout",
     "output_type": "stream",
     "text": [
      "Applying strategy: normalize_units\n",
      "Applying strategy: drop_unspecified_subcategories\n",
      "Applied 2 strategies in 0.01 seconds\n"
     ]
    },
    {
     "name": "stderr",
     "output_type": "stream",
     "text": [
      "0% [##############################] 100% | ETA: 00:00:00\n",
      "Total time elapsed: 00:00:00\n"
     ]
    },
    {
     "name": "stdout",
     "output_type": "stream",
     "text": [
      "Title: Writing activities to SQLite3 database:\n",
      "  Started: 10/30/2019 17:46:40\n",
      "  Finished: 10/30/2019 17:46:41\n",
      "  Total time elapsed: 00:00:00\n",
      "  CPU %: 84.20\n",
      "  Memory %: 1.11\n",
      "Created database: biosphere3\n"
     ]
    }
   ],
   "source": [
    "bw.create_default_biosphere3()"
   ]
  },
  {
   "cell_type": "code",
   "execution_count": 6,
   "metadata": {},
   "outputs": [],
   "source": [
    "bw.create_core_migrations()"
   ]
  },
  {
   "cell_type": "markdown",
   "metadata": {},
   "source": [
    "Download EXIOBASE from https://files.brightwaylca.org/exiobase-3.3.17-hybrid.tar, and extract to somewhere easy to type.\n",
    "\n",
    "You can see details of how this reformatted version of EXIOBASE was created [here](https://github.com/brightway-lca/mrio_common_metadata/blob/master/mrio_common_metadata/conversion/exiobase_3_hybrid/__init__.py). "
   ]
  },
  {
   "cell_type": "code",
   "execution_count": 7,
   "metadata": {},
   "outputs": [],
   "source": [
    "EXIOBASE = \"/Users/cmutel/Downloads/exiobase-3.3.17-hybrid/\""
   ]
  },
  {
   "cell_type": "code",
   "execution_count": 8,
   "metadata": {},
   "outputs": [
    {
     "name": "stderr",
     "output_type": "stream",
     "text": [
      "Writing activities to SQLite3 database:\n",
      "0% [##############################] 100% | ETA: 00:00:00\n",
      "Total time elapsed: 00:00:01\n"
     ]
    },
    {
     "name": "stdout",
     "output_type": "stream",
     "text": [
      "Title: Writing activities to SQLite3 database:\n",
      "  Started: 10/30/2019 17:46:55\n",
      "  Finished: 10/30/2019 17:46:57\n",
      "  Total time elapsed: 00:00:01\n",
      "  CPU %: 74.60\n",
      "  Memory %: 1.26\n",
      "Starting IO table write\n",
      "Writing geomapping\n",
      "Creating array - this will take a while...\n",
      "On exchange number 1000000\n",
      "On exchange number 2000000\n",
      "On exchange number 3000000\n",
      "On exchange number 4000000\n",
      "On exchange number 5000000\n",
      "On exchange number 6000000\n",
      "On exchange number 7000000\n",
      "On exchange number 8000000\n",
      "On exchange number 9000000\n",
      "On exchange number 10000000\n",
      "On exchange number 11000000\n",
      "On exchange number 12000000\n",
      "On exchange number 13000000\n",
      "On exchange number 14000000\n",
      "Trimming array\n",
      "Writing array\n"
     ]
    }
   ],
   "source": [
    "ei = Exiobase33Importer(EXIOBASE)\n",
    "ei.write_database()"
   ]
  }
 ],
 "metadata": {
  "kernelspec": {
   "display_name": "Python 3",
   "language": "python",
   "name": "python3"
  },
  "language_info": {
   "codemirror_mode": {
    "name": "ipython",
    "version": 3
   },
   "file_extension": ".py",
   "mimetype": "text/x-python",
   "name": "python",
   "nbconvert_exporter": "python",
   "pygments_lexer": "ipython3",
   "version": "3.6.7"
  }
 },
 "nbformat": 4,
 "nbformat_minor": 2
}

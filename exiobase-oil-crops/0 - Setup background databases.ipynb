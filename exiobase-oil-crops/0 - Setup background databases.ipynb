{
 "cells": [
  {
   "cell_type": "code",
   "execution_count": 1,
   "metadata": {},
   "outputs": [],
   "source": [
    "from bw2data import projects\n",
    "from bw2io import create_default_biosphere3, create_core_migrations\n",
    "from bw2io.importers.exiobase3_hybrid import Exiobase3HybridImporter"
   ]
  },
  {
   "cell_type": "code",
   "execution_count": 2,
   "metadata": {},
   "outputs": [],
   "source": [
    "if \"EXIOBASE regionalized case study\" in projects:\n",
    "    projects.delete_project(\"EXIOBASE regionalized case study\", True)\n",
    "projects.set_current(\"EXIOBASE regionalized case study\")"
   ]
  },
  {
   "cell_type": "code",
   "execution_count": 3,
   "metadata": {},
   "outputs": [
    {
     "name": "stdout",
     "output_type": "stream",
     "text": [
      "Applying strategy: normalize_units\n",
      "Applying strategy: drop_unspecified_subcategories\n",
      "Applying strategy: ensure_categories_are_tuples\n",
      "Applied 3 strategies in 0.00 seconds\n",
      "Warning: No valid output stream.\n",
      "Title: Writing activities to SQLite3 database:\n",
      "  Started: 04/24/2022 17:03:27\n",
      "  Finished: 04/24/2022 17:03:28\n",
      "  Total time elapsed: 00:00:00\n",
      "  CPU %: 100.10\n",
      "  Memory %: 0.17\n",
      "Created database: biosphere3\n"
     ]
    }
   ],
   "source": [
    "create_default_biosphere3()"
   ]
  },
  {
   "cell_type": "code",
   "execution_count": 4,
   "metadata": {},
   "outputs": [],
   "source": [
    "create_core_migrations()"
   ]
  },
  {
   "cell_type": "code",
   "execution_count": 5,
   "metadata": {},
   "outputs": [],
   "source": [
    "tar_path = \"/srv/data/exiobase/exiobase-3.3.18-hybrid.tar\""
   ]
  },
  {
   "cell_type": "code",
   "execution_count": 6,
   "metadata": {},
   "outputs": [
    {
     "name": "stdout",
     "output_type": "stream",
     "text": [
      "Warning: No valid output stream.\n"
     ]
    },
    {
     "name": "stderr",
     "output_type": "stream",
     "text": [
      "/home/jupyter-benjamin/.local/lib/python3.9/site-packages/bw2io/importers/exiobase3_hybrid.py:234: FutureWarning: The default dtype for empty Series will be 'object' instead of 'float64' in a future version. Specify a dtype explicitly to silence this warning.\n",
      "  mapper = pd.Series(index=df.index.map(lambda i: str(i)))\n"
     ]
    },
    {
     "name": "stdout",
     "output_type": "stream",
     "text": [
      "Title: Writing activities to SQLite3 database:\n",
      "  Started: 04/24/2022 17:03:36\n",
      "  Finished: 04/24/2022 17:03:36\n",
      "  Total time elapsed: 00:00:00\n",
      "  CPU %: 95.90\n",
      "  Memory %: 0.36\n"
     ]
    },
    {
     "name": "stderr",
     "output_type": "stream",
     "text": [
      "/opt/tljh/user/envs/exiobase/lib/python3.9/site-packages/mrio_common_metadata/conversion/exiobase_3_hybrid_io/loader.py:139: DtypeWarning: Columns (2) have mixed types. Specify dtype option on import or set low_memory=False.\n",
      "  df = pd.read_csv(\n"
     ]
    },
    {
     "name": "stdout",
     "output_type": "stream",
     "text": [
      "Not able to determine geocollections for all datasets. This database is not ready for regionalization.\n",
      "Warning: No valid output stream.\n",
      "Title: Writing activities to SQLite3 database:\n",
      "  Started: 04/24/2022 17:03:45\n",
      "  Finished: 04/24/2022 17:03:45\n",
      "  Total time elapsed: 00:00:00\n",
      "  CPU %: 0.00\n",
      "  Memory %: 0.44\n",
      "Starting IO table write\n"
     ]
    },
    {
     "name": "stderr",
     "output_type": "stream",
     "text": [
      "/home/jupyter-benjamin/.local/lib/python3.9/site-packages/bw2io/importers/exiobase3_hybrid.py:196: FutureWarning: The frame.append method is deprecated and will be removed from pandas in a future version. Use pandas.concat instead.\n",
      "  biosphere_mapper = biosphere_mapper.append(df_unmapped).loc[data.index]\n",
      "/opt/tljh/user/envs/exiobase/lib/python3.9/site-packages/pandas/core/indexes/base.py:6982: FutureWarning: In a future version, the Index constructor will not infer numeric dtypes when passed object-dtype sequences (matching Series behavior)\n",
      "  return Index(sequences[0], name=names)\n",
      "/opt/tljh/user/envs/exiobase/lib/python3.9/site-packages/pandas/core/indexes/base.py:6982: FutureWarning: In a future version, the Index constructor will not infer numeric dtypes when passed object-dtype sequences (matching Series behavior)\n",
      "  return Index(sequences[0], name=names)\n"
     ]
    },
    {
     "name": "stdout",
     "output_type": "stream",
     "text": [
      "Adding technosphere matrix\n",
      "Adding biosphere matrix\n",
      "Finalizing serialization\n"
     ]
    },
    {
     "data": {
      "text/plain": [
       "<bw2io.importers.exiobase3_hybrid.Exiobase3HybridImporter at 0x7fefa48b6820>"
      ]
     },
     "execution_count": 6,
     "metadata": {},
     "output_type": "execute_result"
    }
   ],
   "source": [
    "db_name = \"EXIOBASE 3.3.18 hybrid\"\n",
    "Exiobase3HybridImporter(tar_path, db_name=db_name)"
   ]
  },
  {
   "cell_type": "code",
   "execution_count": null,
   "metadata": {},
   "outputs": [],
   "source": []
  }
 ],
 "metadata": {
  "kernelspec": {
   "display_name": "Python [conda env:exiobase]",
   "language": "python",
   "name": "conda-env-exiobase-py"
  },
  "language_info": {
   "codemirror_mode": {
    "name": "ipython",
    "version": 3
   },
   "file_extension": ".py",
   "mimetype": "text/x-python",
   "name": "python",
   "nbconvert_exporter": "python",
   "pygments_lexer": "ipython3",
   "version": "3.9.7"
  }
 },
 "nbformat": 4,
 "nbformat_minor": 4
}

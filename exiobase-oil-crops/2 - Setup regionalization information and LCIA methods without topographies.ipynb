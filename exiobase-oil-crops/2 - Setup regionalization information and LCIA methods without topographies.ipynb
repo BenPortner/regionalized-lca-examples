{
 "cells": [
  {
   "cell_type": "code",
   "execution_count": 1,
   "metadata": {},
   "outputs": [],
   "source": [
    "import brightway2 as bw\n",
    "import bw2regional as bwr\n",
    "import bw2_lcimpact\n",
    "from copy import copy\n",
    "import constructive_geometries\n",
    "import os\n",
    "from bw2regional.pandarus_remote import AlreadyExists"
   ]
  },
  {
   "cell_type": "code",
   "execution_count": 2,
   "metadata": {},
   "outputs": [],
   "source": [
    "bw.projects.set_current(\"EXIOBASE regionalized case study\")"
   ]
  },
  {
   "cell_type": "code",
   "execution_count": 3,
   "metadata": {},
   "outputs": [
    {
     "data": {
      "text/plain": [
       "Databases dictionary with 3 object(s):\n",
       "\tEXIOBASE 3.3.17 hybrid\n",
       "\tOil seeds\n",
       "\tbiosphere3"
      ]
     },
     "execution_count": 3,
     "metadata": {},
     "output_type": "execute_result"
    }
   ],
   "source": [
    "bw.databases"
   ]
  },
  {
   "cell_type": "code",
   "execution_count": 4,
   "metadata": {},
   "outputs": [
    {
     "data": {
      "text/plain": [
       "Methods dictionary with 0 objects"
      ]
     },
     "execution_count": 4,
     "metadata": {},
     "output_type": "execute_result"
    }
   ],
   "source": [
    "bw.methods"
   ]
  },
  {
   "cell_type": "code",
   "execution_count": 5,
   "metadata": {},
   "outputs": [
    {
     "name": "stdout",
     "output_type": "stream",
     "text": [
      "Downloading and creating 'world' geocollection with countries\n"
     ]
    }
   ],
   "source": [
    "bwr.bw2regionalsetup('world')"
   ]
  },
  {
   "cell_type": "code",
   "execution_count": 6,
   "metadata": {},
   "outputs": [
    {
     "data": {
      "text/plain": [
       "{'filepath': '/Users/cmutel/Library/Application Support/Brightway3/EXIOBASE-regionalized-case-study.9666a926e52c1cc772cb07068bf407f2/regional/countries.gpkg',\n",
       " 'field': 'isotwolettercode',\n",
       " 'sha256': '654f8ee414416b3e2c2a2829cac2ea4a35c77cacb48d4ed1f58155f8dff17799',\n",
       " 'kind': 'vector'}"
      ]
     },
     "execution_count": 6,
     "metadata": {},
     "output_type": "execute_result"
    }
   ],
   "source": [
    "bwr.geocollections['world']"
   ]
  },
  {
   "cell_type": "markdown",
   "metadata": {},
   "source": [
    "We need to define the Rest-of-Worlds used in EXIOBASE. Happily, they are fixed, and few:\n",
    "\n",
    "* **WA**:\tRoW Asia and Pacific\n",
    "* **WL**:\tRoW America\n",
    "* **WE**:\tRoW Europe\n",
    "* **WF**:\tRoW Africa - really unfortunate acronym, as this is the code for an actual location...\n",
    "* **WM**:\tRoW Middle East\n",
    "\n",
    "We start by gathering all the countries actually used:"
   ]
  },
  {
   "cell_type": "markdown",
   "metadata": {},
   "source": [
    "We will label the EXIOBASE Rest-of-Worlds with a) a new \"geocollection\", and b) more suitable names."
   ]
  },
  {
   "cell_type": "code",
   "execution_count": 7,
   "metadata": {},
   "outputs": [],
   "source": [
    "exiobase_row_mapping = {\n",
    "    \"WA\": \"RoW Asia and Pacific\",\n",
    "    \"WL\": \"RoW America\",\n",
    "    \"WE\": \"RoW Europe\",\n",
    "    \"WF\": \"RoW Africa\",\n",
    "    \"WM\": \"RoW Middle East\",\n",
    "}"
   ]
  },
  {
   "cell_type": "code",
   "execution_count": 8,
   "metadata": {},
   "outputs": [],
   "source": [
    "for activity in bw.Database(\"EXIOBASE 3.3.17 hybrid\"):\n",
    "    if activity['location'] in exiobase_row_mapping:\n",
    "        activity['location'] = ('exiobase-rows', exiobase_row_mapping[activity['location']])\n",
    "        activity.save()"
   ]
  },
  {
   "cell_type": "code",
   "execution_count": 9,
   "metadata": {},
   "outputs": [],
   "source": [
    "for activity in bw.Database(\"Oil seeds\"):\n",
    "    if activity['location'] in exiobase_row_mapping:\n",
    "        activity['location'] = ('exiobase-rows', exiobase_row_mapping[activity['location']])\n",
    "        activity.save()"
   ]
  },
  {
   "cell_type": "markdown",
   "metadata": {},
   "source": [
    "In a separate noteboom, created GIS data for these \"rest-of-world\" locations.\n",
    "\n",
    "<img src=\"images/exiobase-row.png\">"
   ]
  },
  {
   "cell_type": "code",
   "execution_count": 10,
   "metadata": {},
   "outputs": [],
   "source": [
    "bwr.geocollections['exiobase-rows'] = {\n",
    "    'filepath': os.path.join(os.getcwd(), \"exiobase-rows.gpkg\"),\n",
    "    'field': 'name'\n",
    "}"
   ]
  },
  {
   "cell_type": "code",
   "execution_count": 11,
   "metadata": {},
   "outputs": [],
   "source": [
    "bwr.geocollections.flush()"
   ]
  },
  {
   "cell_type": "code",
   "execution_count": 12,
   "metadata": {},
   "outputs": [],
   "source": [
    "bw2_lcimpact.import_global_lcimpact()"
   ]
  },
  {
   "cell_type": "code",
   "execution_count": 18,
   "metadata": {},
   "outputs": [
    {
     "name": "stderr",
     "output_type": "stream",
     "text": [
      "/Users/cmutel/miniconda3/envs/regional/lib/python3.6/site-packages/bw2_lcimpact/land_use.py:98: FionaDeprecationWarning: Use fiona.Env() instead.\n",
      "  with fiona.drivers():\n",
      "/Users/cmutel/miniconda3/envs/regional/lib/python3.6/site-packages/bw2_lcimpact/pm.py:103: FionaDeprecationWarning: Use fiona.Env() instead.\n",
      "  with fiona.drivers():\n",
      "/Users/cmutel/miniconda3/envs/regional/lib/python3.6/site-packages/bw2_lcimpact/pm.py:59: FionaDeprecationWarning: Use fiona.Env() instead.\n",
      "  with fiona.drivers():\n",
      "/Users/cmutel/miniconda3/envs/regional/lib/python3.6/site-packages/bw2_lcimpact/water.py:75: FionaDeprecationWarning: Use fiona.Env() instead.\n",
      "  with fiona.drivers():\n",
      "/Users/cmutel/miniconda3/envs/regional/lib/python3.6/site-packages/bw2_lcimpact/water.py:124: FionaDeprecationWarning: Use fiona.Env() instead.\n",
      "  with fiona.drivers():\n"
     ]
    },
    {
     "name": "stdout",
     "output_type": "stream",
     "text": [
      "Merging topographical faces for geocollection world\n"
     ]
    },
    {
     "name": "stderr",
     "output_type": "stream",
     "text": [
      "0% [##############################] 100% | ETA: 00:00:00\n",
      "Total time elapsed: 00:00:01\n"
     ]
    },
    {
     "name": "stdout",
     "output_type": "stream",
     "text": [
      "Creating intersection (world, watersheds-hh)\n",
      "Merging topographical faces for geocollection world\n"
     ]
    },
    {
     "name": "stderr",
     "output_type": "stream",
     "text": [
      "0% [##############################] 100% | ETA: 00:00:00\n",
      "Total time elapsed: 00:00:02\n"
     ]
    },
    {
     "name": "stdout",
     "output_type": "stream",
     "text": [
      "Creating intersection (world, watersheds-eq-sw-certain)\n",
      "Merging topographical faces for geocollection world\n"
     ]
    },
    {
     "name": "stderr",
     "output_type": "stream",
     "text": [
      "0% [##############################] 100% | ETA: 00:00:00\n",
      "Total time elapsed: 00:00:02\n"
     ]
    },
    {
     "name": "stdout",
     "output_type": "stream",
     "text": [
      "Creating intersection (world, watersheds-eq-sw-all)\n",
      "Merging topographical faces for geocollection world\n"
     ]
    },
    {
     "name": "stderr",
     "output_type": "stream",
     "text": [
      "0% [##############################] 100% | ETA: 00:00:00\n",
      "Total time elapsed: 00:00:02\n"
     ]
    },
    {
     "name": "stdout",
     "output_type": "stream",
     "text": [
      "Creating intersection (world, particulate-matter)\n",
      "Merging topographical faces for geocollection world\n"
     ]
    },
    {
     "name": "stderr",
     "output_type": "stream",
     "text": [
      "0% [##############################] 100% | ETA: 00:00:00\n",
      "Total time elapsed: 00:00:02\n"
     ]
    },
    {
     "name": "stdout",
     "output_type": "stream",
     "text": [
      "Creating intersection (world, ecoregions)\n",
      "Merging topographical faces for geocollection world\n"
     ]
    },
    {
     "name": "stderr",
     "output_type": "stream",
     "text": [
      "0% [##############################] 100% | ETA: 00:00:00\n",
      "Total time elapsed: 00:00:01\n"
     ]
    },
    {
     "name": "stdout",
     "output_type": "stream",
     "text": [
      "Creating intersection (world, world-topo-watersheds-hh)\n"
     ]
    },
    {
     "name": "stderr",
     "output_type": "stream",
     "text": [
      "/Users/cmutel/Code/bw2/regional/bw2regional/utils.py:184: FionaDeprecationWarning: Use fiona.Env() instead.\n",
      "  with fiona.drivers():\n"
     ]
    },
    {
     "name": "stdout",
     "output_type": "stream",
     "text": [
      "Merging topographical faces for geocollection world\n"
     ]
    },
    {
     "name": "stderr",
     "output_type": "stream",
     "text": [
      "0% [##############################] 100% | ETA: 00:00:00\n",
      "Total time elapsed: 00:00:02\n"
     ]
    },
    {
     "name": "stdout",
     "output_type": "stream",
     "text": [
      "Creating intersection (world, world-topo-watersheds-eq-sw-certain)\n"
     ]
    },
    {
     "name": "stderr",
     "output_type": "stream",
     "text": [
      "/Users/cmutel/Code/bw2/regional/bw2regional/utils.py:184: FionaDeprecationWarning: Use fiona.Env() instead.\n",
      "  with fiona.drivers():\n"
     ]
    },
    {
     "name": "stdout",
     "output_type": "stream",
     "text": [
      "Merging topographical faces for geocollection world\n"
     ]
    },
    {
     "name": "stderr",
     "output_type": "stream",
     "text": [
      "0% [##############################] 100% | ETA: 00:00:00\n",
      "Total time elapsed: 00:00:02\n"
     ]
    },
    {
     "name": "stdout",
     "output_type": "stream",
     "text": [
      "Creating intersection (world, world-topo-watersheds-eq-sw-all)\n"
     ]
    },
    {
     "name": "stderr",
     "output_type": "stream",
     "text": [
      "/Users/cmutel/Code/bw2/regional/bw2regional/utils.py:184: FionaDeprecationWarning: Use fiona.Env() instead.\n",
      "  with fiona.drivers():\n"
     ]
    },
    {
     "name": "stdout",
     "output_type": "stream",
     "text": [
      "Merging topographical faces for geocollection world\n"
     ]
    },
    {
     "name": "stderr",
     "output_type": "stream",
     "text": [
      "0% [##############################] 100% | ETA: 00:00:00\n",
      "Total time elapsed: 00:00:02\n"
     ]
    },
    {
     "name": "stdout",
     "output_type": "stream",
     "text": [
      "Creating intersection (world, world-topo-particulate-matter)\n"
     ]
    },
    {
     "name": "stderr",
     "output_type": "stream",
     "text": [
      "/Users/cmutel/Code/bw2/regional/bw2regional/utils.py:184: FionaDeprecationWarning: Use fiona.Env() instead.\n",
      "  with fiona.drivers():\n"
     ]
    },
    {
     "name": "stdout",
     "output_type": "stream",
     "text": [
      "Merging topographical faces for geocollection world\n"
     ]
    },
    {
     "name": "stderr",
     "output_type": "stream",
     "text": [
      "0% [##############################] 100% | ETA: 00:00:00\n",
      "Total time elapsed: 00:00:03\n"
     ]
    },
    {
     "name": "stdout",
     "output_type": "stream",
     "text": [
      "Creating intersection (world, world-topo-ecoregions)\n"
     ]
    }
   ],
   "source": [
    "bw2_lcimpact.import_regionalized_lcimpact()"
   ]
  },
  {
   "cell_type": "code",
   "execution_count": 3,
   "metadata": {},
   "outputs": [
    {
     "name": "stderr",
     "output_type": "stream",
     "text": [
      "/Users/cmutel/Code/bw2/regional/bw2regional/utils.py:184: FionaDeprecationWarning: Use fiona.Env() instead.\n",
      "  with fiona.drivers():\n"
     ]
    },
    {
     "name": "stdout",
     "output_type": "stream",
     "text": [
      "Calculation job submitted.\n",
      "Remote is calculating intersection, run the following when done:\n",
      "                  remote.intersection(exiobase-rows-watersheds-eq-sw-all, exiobase-rows)\n"
     ]
    },
    {
     "name": "stderr",
     "output_type": "stream",
     "text": [
      "/Users/cmutel/Code/bw2/regional/bw2regional/utils.py:184: FionaDeprecationWarning: Use fiona.Env() instead.\n",
      "  with fiona.drivers():\n"
     ]
    },
    {
     "name": "stdout",
     "output_type": "stream",
     "text": [
      "Calculation job submitted.\n",
      "Remote is calculating intersection, run the following when done:\n",
      "                  remote.intersection(exiobase-rows-particulate-matter, exiobase-rows)\n"
     ]
    },
    {
     "name": "stderr",
     "output_type": "stream",
     "text": [
      "/Users/cmutel/Code/bw2/regional/bw2regional/utils.py:184: FionaDeprecationWarning: Use fiona.Env() instead.\n",
      "  with fiona.drivers():\n"
     ]
    },
    {
     "name": "stdout",
     "output_type": "stream",
     "text": [
      "Calculation job submitted.\n",
      "Remote is calculating intersection, run the following when done:\n",
      "                  remote.intersection(exiobase-rows-ecoregions, exiobase-rows)\n"
     ]
    },
    {
     "name": "stderr",
     "output_type": "stream",
     "text": [
      "/Users/cmutel/Code/bw2/regional/bw2regional/utils.py:184: FionaDeprecationWarning: Use fiona.Env() instead.\n",
      "  with fiona.drivers():\n"
     ]
    },
    {
     "name": "stdout",
     "output_type": "stream",
     "text": [
      "Calculation job submitted.\n",
      "Remote is calculating intersection, run the following when done:\n",
      "                  remote.intersection(exiobase-rows-watersheds-hh, exiobase-rows)\n"
     ]
    }
   ],
   "source": [
    "bwr.remote.intersection_as_new_geocollection(\n",
    "    \"exiobase-rows\", \n",
    "    \"watersheds-eq-sw-certain\", \n",
    "    'exiobase-rows-watersheds-eq-sw-certain'\n",
    ")\n",
    "bwr.remote.intersection_as_new_geocollection(\n",
    "    \"exiobase-rows\", \n",
    "    \"watersheds-eq-sw-all\", \n",
    "    'exiobase-rows-watersheds-eq-sw-all'\n",
    ")\n",
    "bwr.remote.intersection_as_new_geocollection(\n",
    "    \"exiobase-rows\", \n",
    "    \"particulate-matter\", \n",
    "    'exiobase-rows-particulate-matter'\n",
    ")\n",
    "bwr.remote.intersection_as_new_geocollection(\n",
    "    \"exiobase-rows\", \n",
    "    \"ecoregions\", \n",
    "    'exiobase-rows-ecoregions'\n",
    ")\n",
    "bwr.remote.intersection_as_new_geocollection(\n",
    "    \"exiobase-rows\", \n",
    "    \"watersheds-hh\", \n",
    "    'exiobase-rows-watersheds-hh'\n",
    ")"
   ]
  },
  {
   "cell_type": "markdown",
   "metadata": {},
   "source": [
    "# Where are crops actually grown?\n",
    "\n",
    "Although this data source is not perfect, [Ramankutty et al](http://www.earthstat.org/harvested-area-yield-175-crops/) provide data on all our crops (note that peanuts can also be called groundnuts, as they are here).\n",
    "\n",
    "I downloaded this data, and created compressed GeoTIFFS with `gdal_translate`:\n",
    "\n",
    "    gdal_translate input_filename output_filename -co TILED=YES -co COPY_SRC_OVERVIEWS=YES -co COMPRESS=DEFLATE\n",
    "\n",
    "We also needed to transform the production rasters from total production per raster cell, to intensity (i.e. production per area, but note that this is total area, not harvested area). There is a function in `bw2regional` to do this already:\n",
    "\n",
    "    bwr.divide_by_area(source, destination)\n"
   ]
  },
  {
   "cell_type": "code",
   "execution_count": 10,
   "metadata": {},
   "outputs": [],
   "source": [
    "rasters = (\n",
    "    (\"gdpweighted.tiff\", \"weighted-pop-density\"),\n",
    "    (\"oilpalm_intensity.tiff\", \"oilpalm\"),\n",
    "    (\"rapeseed_intensity.tiff\", \"rapeseed\"),\n",
    "    (\"soybean_intensity.tiff\", \"soybean\"),\n",
    "    (\"groundnut_intensity.tiff\", \"peanut\"),\n",
    "    (\"coconut_intensity.tiff\", \"cocnut\"),\n",
    ")"
   ]
  },
  {
   "cell_type": "code",
   "execution_count": 11,
   "metadata": {},
   "outputs": [],
   "source": [
    "third_scales = [\n",
    "    'exiobase-rows-ecoregions',\n",
    "    'exiobase-rows-particulate-matter',\n",
    "    'exiobase-rows-watersheds-eq-sw-all',\n",
    "    'exiobase-rows-watersheds-eq-sw-certain',\n",
    "    'exiobase-rows-watersheds-hh',\n",
    "    'world-topo-ecoregions',\n",
    "    'world-topo-particulate-matter',\n",
    "    'world-topo-watersheds-eq-sw-all',\n",
    "    'world-topo-watersheds-eq-sw-certain',\n",
    "    'world-topo-watersheds-hh'\n",
    "]"
   ]
  },
  {
   "cell_type": "code",
   "execution_count": 12,
   "metadata": {},
   "outputs": [
    {
     "name": "stderr",
     "output_type": "stream",
     "text": [
      "/Users/cmutel/Code/bw2/regional/bw2regional/utils.py:184: FionaDeprecationWarning: Use fiona.Env() instead.\n",
      "  with fiona.drivers():\n"
     ]
    }
   ],
   "source": [
    "for x, y in rasters:\n",
    "    bwr.geocollections[y] = {\n",
    "        'filepath': os.path.abspath(\"data/\" + x),\n",
    "        'band': 1\n",
    "    }"
   ]
  },
  {
   "cell_type": "code",
   "execution_count": 15,
   "metadata": {},
   "outputs": [],
   "source": [
    "for fp, raster in rasters:\n",
    "    for gc in third_scales:\n",
    "        bwr.remote.rasterstats_as_xt(gc, raster, \"xt-\" + raster)"
   ]
  }
 ],
 "metadata": {
  "kernelspec": {
   "display_name": "Python 3",
   "language": "python",
   "name": "python3"
  },
  "language_info": {
   "codemirror_mode": {
    "name": "ipython",
    "version": 3
   },
   "file_extension": ".py",
   "mimetype": "text/x-python",
   "name": "python",
   "nbconvert_exporter": "python",
   "pygments_lexer": "ipython3",
   "version": "3.6.7"
  }
 },
 "nbformat": 4,
 "nbformat_minor": 2
}

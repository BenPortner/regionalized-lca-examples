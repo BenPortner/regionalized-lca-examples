{
 "cells": [
  {
   "cell_type": "code",
   "execution_count": 1,
   "metadata": {},
   "outputs": [],
   "source": [
    "import brightway2 as bw\n",
    "import bw2regional as bwr\n",
    "import bw2_lcimpact\n",
    "from copy import copy\n",
    "import constructive_geometries\n",
    "import os"
   ]
  },
  {
   "cell_type": "code",
   "execution_count": 2,
   "metadata": {},
   "outputs": [],
   "source": [
    "bw.projects.set_current(\"EXIOBASE regionalized case study\")"
   ]
  },
  {
   "cell_type": "code",
   "execution_count": 3,
   "metadata": {},
   "outputs": [
    {
     "data": {
      "text/plain": [
       "Databases dictionary with 2 object(s):\n",
       "\tEXIOBASE 3.3.17 hybrid\n",
       "\tbiosphere3"
      ]
     },
     "execution_count": 3,
     "metadata": {},
     "output_type": "execute_result"
    }
   ],
   "source": [
    "bw.databases"
   ]
  },
  {
   "cell_type": "code",
   "execution_count": 4,
   "metadata": {},
   "outputs": [
    {
     "data": {
      "text/plain": [
       "Methods dictionary with 12 object(s):\n",
       "\t('LC-IMPACT', 'Land Use', 'Occupation', 'Average', 'Certain')\n",
       "\t('LC-IMPACT', 'Land Use', 'Occupation', 'Marginal', 'Certain')\n",
       "\t('LC-IMPACT', 'Land Use', 'Transformation', 'Average', 'All')\n",
       "\t('LC-IMPACT', 'Land Use', 'Transformation', 'Average', 'Certain')\n",
       "\t('LC-IMPACT', 'Land Use', 'Transformation', 'Marginal', 'All')\n",
       "\t('LC-IMPACT', 'Land Use', 'Transformation', 'Marginal', 'Certain')\n",
       "\t('LC-IMPACT', 'Particulate Matter Formation', 'Marginal', 'All')\n",
       "\t('LC-IMPACT', 'Particulate Matter Formation', 'Marginal', 'Certain')\n",
       "\t('LC-IMPACT', 'Water Use', 'Ecosystem Quality', 'Surface Water', 'Marginal', 'All')\n",
       "\t('LC-IMPACT', 'Water Use', 'Ecosystem Quality', 'Surface Water', 'Marginal', 'Certain')\n",
       "\t('LC-IMPACT', 'Water Use', 'Human Health', 'Average')\n",
       "\t('LC-IMPACT', 'Water Use', 'Human Health', 'Marginal')"
      ]
     },
     "execution_count": 4,
     "metadata": {},
     "output_type": "execute_result"
    }
   ],
   "source": [
    "bw.methods"
   ]
  },
  {
   "cell_type": "code",
   "execution_count": 5,
   "metadata": {},
   "outputs": [
    {
     "name": "stdout",
     "output_type": "stream",
     "text": [
      "Downloading and creating 'world' geocollection with countries\n"
     ]
    },
    {
     "name": "stderr",
     "output_type": "stream",
     "text": [
      "/Users/cmutel/miniconda3/envs/regional/lib/python3.6/site-packages/bw2regional/utils.py:184: FionaDeprecationWarning: Use fiona.Env() instead.\n",
      "  with fiona.drivers():\n"
     ]
    }
   ],
   "source": [
    "bwr.bw2regionalsetup('world')"
   ]
  },
  {
   "cell_type": "code",
   "execution_count": 17,
   "metadata": {},
   "outputs": [
    {
     "data": {
      "text/plain": [
       "{'filepath': '/Users/cmutel/Library/Application Support/Brightway3/EXIOBASE-regionalized-case-study.9666a926e52c1cc772cb07068bf407f2/regional/countries.gpkg',\n",
       " 'field': 'isotwolettercode',\n",
       " 'sha256': '654f8ee414416b3e2c2a2829cac2ea4a35c77cacb48d4ed1f58155f8dff17799',\n",
       " 'kind': 'vector'}"
      ]
     },
     "execution_count": 17,
     "metadata": {},
     "output_type": "execute_result"
    }
   ],
   "source": [
    "bwr.geocollections['world']"
   ]
  },
  {
   "cell_type": "markdown",
   "metadata": {},
   "source": [
    "We need to define the Rest-of-Worlds used in EXIOBASE. Happily, they are fixed, and few:\n",
    "\n",
    "* **WA**:\tRoW Asia and Pacific\n",
    "* **WL**:\tRoW America\n",
    "* **WE**:\tRoW Europe\n",
    "* **WF**:\tRoW Africa - really unfortunate acronym, as this is the code for an actual location...\n",
    "* **WM**:\tRoW Middle East\n",
    "\n",
    "We start by gathering all the countries actually used:"
   ]
  },
  {
   "cell_type": "code",
   "execution_count": 6,
   "metadata": {},
   "outputs": [],
   "source": [
    "cg = constructive_geometries.ConstructiveGeometries()"
   ]
  },
  {
   "cell_type": "code",
   "execution_count": 7,
   "metadata": {},
   "outputs": [],
   "source": [
    "exiobase_rows = {\"WA\", \"WL\", \"WE\", \"WF\", \"WM\"}\n",
    "exiobase_countries = {ds['location'] \n",
    "                      for ds in bw.Database(\"EXIOBASE 3.3.17 hybrid\") \n",
    "                      if ds['location'] not in exiobase_rows}"
   ]
  },
  {
   "cell_type": "code",
   "execution_count": 8,
   "metadata": {},
   "outputs": [],
   "source": [
    "exiobase_row_mapping = {\n",
    "    \"WA\": \"RoW Asia and Pacific\",\n",
    "    \"WL\": \"RoW America\",\n",
    "    \"WE\": \"RoW Europe\",\n",
    "    \"WF\": \"RoW Africa\",\n",
    "    \"WM\": \"RoW Middle East\",\n",
    "}"
   ]
  },
  {
   "cell_type": "markdown",
   "metadata": {},
   "source": [
    "We will label the EXIOBASE Rest-of-Worlds with a) a new \"geocollection\", and b) more suitable names."
   ]
  },
  {
   "cell_type": "code",
   "execution_count": 9,
   "metadata": {},
   "outputs": [],
   "source": [
    "for activity in bw.Database(\"EXIOBASE 3.3.17 hybrid\"):\n",
    "    if activity['location'] in exiobase_row_mapping:\n",
    "        activity['location'] = ('exiobase-rows', exiobase_row_mapping[activity['location']])\n",
    "        activity.save()"
   ]
  },
  {
   "cell_type": "markdown",
   "metadata": {},
   "source": [
    "To handle \"Asia and Pacific\", we will need to modify the base data in the `constructive_geometries` library. Luckily, this is not difficult."
   ]
  },
  {
   "cell_type": "code",
   "execution_count": 10,
   "metadata": {},
   "outputs": [],
   "source": [
    "asia_and_pacific = set(cg.data['UN-ASIA']).union(set(cg.data['UN-OCEANIA'])).difference(set(cg.data['UN-WASIA']))\n",
    "cg.data['RoW Asia and Pacific'] = sorted(asia_and_pacific)\n",
    "cg.locations.add('RoW Asia and Pacific')"
   ]
  },
  {
   "cell_type": "code",
   "execution_count": 23,
   "metadata": {},
   "outputs": [],
   "source": [
    "exiobase_row_geometries = [\n",
    "    (\"RoW Africa\", cg.construct_difference(\"RAF\", exiobase_countries)),\n",
    "    (\"RoW America\", cg.construct_difference('UN-AMERICAS', exiobase_countries)),\n",
    "    (\"RoW Europe\", cg.construct_difference('UN-EUROPE', exiobase_countries)),\n",
    "    (\"RoW Middle East\", cg.construct_difference('UN-WASIA', exiobase_countries)),\n",
    "    (\"RoW Asia and Pacific\", cg.construct_difference('RoW Asia and Pacific', exiobase_countries)),\n",
    "]"
   ]
  },
  {
   "cell_type": "code",
   "execution_count": 24,
   "metadata": {},
   "outputs": [
    {
     "data": {
      "text/plain": [
       "'exiobase-rows.gpkg'"
      ]
     },
     "execution_count": 24,
     "metadata": {},
     "output_type": "execute_result"
    }
   ],
   "source": [
    "cg.write_geoms_to_file(\n",
    "    \"exiobase-rows\",\n",
    "    [x[1] for x in exiobase_row_geometries],\n",
    "    [x[0] for x in exiobase_row_geometries],    \n",
    ")"
   ]
  },
  {
   "cell_type": "markdown",
   "metadata": {},
   "source": [
    "We should inspect this output file, to make sure it is producing something reasonable.\n",
    "\n",
    "<img src=\"images/exiobase-row.png\">"
   ]
  },
  {
   "cell_type": "code",
   "execution_count": 11,
   "metadata": {},
   "outputs": [],
   "source": [
    "bwr.geocollections['exiobase-rows'] = {\n",
    "    'filepath': os.path.join(os.getcwd(), \"exiobase-rows.gpkg\"),\n",
    "    'field': 'name'\n",
    "}"
   ]
  },
  {
   "cell_type": "code",
   "execution_count": 12,
   "metadata": {},
   "outputs": [],
   "source": [
    "bwr.geocollections.flush()"
   ]
  },
  {
   "cell_type": "code",
   "execution_count": 18,
   "metadata": {},
   "outputs": [],
   "source": [
    "bw2_lcimpact.import_global_lcimpact()"
   ]
  },
  {
   "cell_type": "code",
   "execution_count": 19,
   "metadata": {},
   "outputs": [
    {
     "name": "stderr",
     "output_type": "stream",
     "text": [
      "/Users/cmutel/miniconda3/envs/regional/lib/python3.6/site-packages/bw2_lcimpact/land_use.py:98: FionaDeprecationWarning: Use fiona.Env() instead.\n",
      "  with fiona.drivers():\n",
      "/Users/cmutel/miniconda3/envs/regional/lib/python3.6/site-packages/bw2_lcimpact/pm.py:103: FionaDeprecationWarning: Use fiona.Env() instead.\n",
      "  with fiona.drivers():\n",
      "/Users/cmutel/miniconda3/envs/regional/lib/python3.6/site-packages/bw2_lcimpact/pm.py:59: FionaDeprecationWarning: Use fiona.Env() instead.\n",
      "  with fiona.drivers():\n",
      "/Users/cmutel/miniconda3/envs/regional/lib/python3.6/site-packages/bw2_lcimpact/water.py:75: FionaDeprecationWarning: Use fiona.Env() instead.\n",
      "  with fiona.drivers():\n",
      "/Users/cmutel/miniconda3/envs/regional/lib/python3.6/site-packages/bw2_lcimpact/water.py:124: FionaDeprecationWarning: Use fiona.Env() instead.\n",
      "  with fiona.drivers():\n"
     ]
    },
    {
     "name": "stdout",
     "output_type": "stream",
     "text": [
      "Merging topographical faces for geocollection world\n"
     ]
    },
    {
     "name": "stderr",
     "output_type": "stream",
     "text": [
      "0% [##############################] 100% | ETA: 00:00:00"
     ]
    },
    {
     "name": "stdout",
     "output_type": "stream",
     "text": [
      "Creating intersection (world, watersheds-hh)\n",
      "Merging topographical faces for geocollection exiobase-rows\n"
     ]
    },
    {
     "name": "stderr",
     "output_type": "stream",
     "text": [
      "\n",
      "Total time elapsed: 00:00:02\n",
      "0% [#####] 100% | ETA: 00:00:00\n",
      "Total time elapsed: 00:00:00\n"
     ]
    },
    {
     "name": "stdout",
     "output_type": "stream",
     "text": [
      "Creating intersection (exiobase-rows, watersheds-hh)\n",
      "Merging topographical faces for geocollection world\n"
     ]
    },
    {
     "name": "stderr",
     "output_type": "stream",
     "text": [
      "0% [##############################] 100% | ETA: 00:00:00"
     ]
    },
    {
     "name": "stdout",
     "output_type": "stream",
     "text": [
      "Creating intersection (world, watersheds-eq-sw-certain)\n",
      "Merging topographical faces for geocollection exiobase-rows\n"
     ]
    },
    {
     "name": "stderr",
     "output_type": "stream",
     "text": [
      "\n",
      "Total time elapsed: 00:00:03\n",
      "0% [#####] 100% | ETA: 00:00:00\n",
      "Total time elapsed: 00:00:00\n"
     ]
    },
    {
     "name": "stdout",
     "output_type": "stream",
     "text": [
      "Creating intersection (exiobase-rows, watersheds-eq-sw-certain)\n",
      "Merging topographical faces for geocollection world\n"
     ]
    },
    {
     "name": "stderr",
     "output_type": "stream",
     "text": [
      "0% [##############################] 100% | ETA: 00:00:00"
     ]
    },
    {
     "name": "stdout",
     "output_type": "stream",
     "text": [
      "Creating intersection (world, watersheds-eq-sw-all)\n",
      "Merging topographical faces for geocollection exiobase-rows\n"
     ]
    },
    {
     "name": "stderr",
     "output_type": "stream",
     "text": [
      "\n",
      "Total time elapsed: 00:00:03\n",
      "0% [#####] 100% | ETA: 00:00:00\n",
      "Total time elapsed: 00:00:00\n"
     ]
    },
    {
     "name": "stdout",
     "output_type": "stream",
     "text": [
      "Creating intersection (exiobase-rows, watersheds-eq-sw-all)\n",
      "Merging topographical faces for geocollection world\n"
     ]
    },
    {
     "name": "stderr",
     "output_type": "stream",
     "text": [
      "0% [##############################] 100% | ETA: 00:00:00"
     ]
    },
    {
     "name": "stdout",
     "output_type": "stream",
     "text": [
      "Creating intersection (world, particulate-matter)\n",
      "Merging topographical faces for geocollection exiobase-rows\n"
     ]
    },
    {
     "name": "stderr",
     "output_type": "stream",
     "text": [
      "\n",
      "Total time elapsed: 00:00:02\n",
      "0% [#####] 100% | ETA: 00:00:00\n",
      "Total time elapsed: 00:00:00\n"
     ]
    },
    {
     "name": "stdout",
     "output_type": "stream",
     "text": [
      "Creating intersection (exiobase-rows, particulate-matter)\n",
      "Merging topographical faces for geocollection world\n"
     ]
    },
    {
     "name": "stderr",
     "output_type": "stream",
     "text": [
      "0% [##############################] 100% | ETA: 00:00:00"
     ]
    },
    {
     "name": "stdout",
     "output_type": "stream",
     "text": [
      "Creating intersection (world, ecoregions)\n",
      "Merging topographical faces for geocollection exiobase-rows\n"
     ]
    },
    {
     "name": "stderr",
     "output_type": "stream",
     "text": [
      "\n",
      "Total time elapsed: 00:00:03\n",
      "0% [#####] 100% | ETA: 00:00:00\n",
      "Total time elapsed: 00:00:01\n"
     ]
    },
    {
     "name": "stdout",
     "output_type": "stream",
     "text": [
      "Creating intersection (exiobase-rows, ecoregions)\n",
      "Merging topographical faces for geocollection world\n"
     ]
    },
    {
     "name": "stderr",
     "output_type": "stream",
     "text": [
      "0% [##############################] 100% | ETA: 00:00:00"
     ]
    },
    {
     "name": "stdout",
     "output_type": "stream",
     "text": [
      "Creating intersection (world, world-topo-watersheds-hh)\n",
      "Merging topographical faces for geocollection exiobase-rows\n"
     ]
    },
    {
     "name": "stderr",
     "output_type": "stream",
     "text": [
      "\n",
      "Total time elapsed: 00:00:02\n",
      "0% [#####] 100% | ETA: 00:00:00\n",
      "Total time elapsed: 00:00:00\n"
     ]
    },
    {
     "name": "stdout",
     "output_type": "stream",
     "text": [
      "Creating intersection (exiobase-rows, world-topo-watersheds-hh)\n"
     ]
    },
    {
     "name": "stderr",
     "output_type": "stream",
     "text": [
      "/Users/cmutel/miniconda3/envs/regional/lib/python3.6/site-packages/bw2regional/utils.py:184: FionaDeprecationWarning: Use fiona.Env() instead.\n",
      "  with fiona.drivers():\n"
     ]
    },
    {
     "name": "stdout",
     "output_type": "stream",
     "text": [
      "Merging topographical faces for geocollection world\n"
     ]
    },
    {
     "name": "stderr",
     "output_type": "stream",
     "text": [
      "0% [##############################] 100% | ETA: 00:00:00"
     ]
    },
    {
     "name": "stdout",
     "output_type": "stream",
     "text": [
      "Creating intersection (world, world-topo-watersheds-eq-sw-certain)\n",
      "Merging topographical faces for geocollection exiobase-rows\n"
     ]
    },
    {
     "name": "stderr",
     "output_type": "stream",
     "text": [
      "\n",
      "Total time elapsed: 00:00:03\n",
      "0% [#####] 100% | ETA: 00:00:00\n",
      "Total time elapsed: 00:00:00\n"
     ]
    },
    {
     "name": "stdout",
     "output_type": "stream",
     "text": [
      "Creating intersection (exiobase-rows, world-topo-watersheds-eq-sw-certain)\n"
     ]
    },
    {
     "name": "stderr",
     "output_type": "stream",
     "text": [
      "/Users/cmutel/miniconda3/envs/regional/lib/python3.6/site-packages/bw2regional/utils.py:184: FionaDeprecationWarning: Use fiona.Env() instead.\n",
      "  with fiona.drivers():\n"
     ]
    },
    {
     "name": "stdout",
     "output_type": "stream",
     "text": [
      "Merging topographical faces for geocollection world\n"
     ]
    },
    {
     "name": "stderr",
     "output_type": "stream",
     "text": [
      "0% [##############################] 100% | ETA: 00:00:00"
     ]
    },
    {
     "name": "stdout",
     "output_type": "stream",
     "text": [
      "Creating intersection (world, world-topo-watersheds-eq-sw-all)\n",
      "Merging topographical faces for geocollection exiobase-rows\n"
     ]
    },
    {
     "name": "stderr",
     "output_type": "stream",
     "text": [
      "\n",
      "Total time elapsed: 00:00:02\n",
      "0% [#####] 100% | ETA: 00:00:00\n",
      "Total time elapsed: 00:00:00\n"
     ]
    },
    {
     "name": "stdout",
     "output_type": "stream",
     "text": [
      "Creating intersection (exiobase-rows, world-topo-watersheds-eq-sw-all)\n"
     ]
    },
    {
     "name": "stderr",
     "output_type": "stream",
     "text": [
      "/Users/cmutel/miniconda3/envs/regional/lib/python3.6/site-packages/bw2regional/utils.py:184: FionaDeprecationWarning: Use fiona.Env() instead.\n",
      "  with fiona.drivers():\n"
     ]
    },
    {
     "name": "stdout",
     "output_type": "stream",
     "text": [
      "Merging topographical faces for geocollection world\n"
     ]
    },
    {
     "name": "stderr",
     "output_type": "stream",
     "text": [
      "0% [##############################] 100% | ETA: 00:00:00"
     ]
    },
    {
     "name": "stdout",
     "output_type": "stream",
     "text": [
      "Creating intersection (world, world-topo-particulate-matter)\n",
      "Merging topographical faces for geocollection exiobase-rows\n"
     ]
    },
    {
     "name": "stderr",
     "output_type": "stream",
     "text": [
      "\n",
      "Total time elapsed: 00:00:02\n",
      "0% [#####] 100% | ETA: 00:00:00\n",
      "Total time elapsed: 00:00:00\n"
     ]
    },
    {
     "name": "stdout",
     "output_type": "stream",
     "text": [
      "Creating intersection (exiobase-rows, world-topo-particulate-matter)\n"
     ]
    },
    {
     "name": "stderr",
     "output_type": "stream",
     "text": [
      "/Users/cmutel/miniconda3/envs/regional/lib/python3.6/site-packages/bw2regional/utils.py:184: FionaDeprecationWarning: Use fiona.Env() instead.\n",
      "  with fiona.drivers():\n"
     ]
    },
    {
     "name": "stdout",
     "output_type": "stream",
     "text": [
      "Merging topographical faces for geocollection world\n"
     ]
    },
    {
     "name": "stderr",
     "output_type": "stream",
     "text": [
      "0% [##############################] 100% | ETA: 00:00:00"
     ]
    },
    {
     "name": "stdout",
     "output_type": "stream",
     "text": [
      "Creating intersection (world, world-topo-ecoregions)\n",
      "Merging topographical faces for geocollection exiobase-rows\n"
     ]
    },
    {
     "name": "stderr",
     "output_type": "stream",
     "text": [
      "\n",
      "Total time elapsed: 00:00:02\n",
      "0% [#####] 100% | ETA: 00:00:00\n",
      "Total time elapsed: 00:00:00\n"
     ]
    },
    {
     "name": "stdout",
     "output_type": "stream",
     "text": [
      "Creating intersection (exiobase-rows, world-topo-ecoregions)\n"
     ]
    }
   ],
   "source": [
    "bw2_lcimpact.import_regionalized_lcimpact()"
   ]
  },
  {
   "cell_type": "code",
   "execution_count": 8,
   "metadata": {},
   "outputs": [
    {
     "name": "stdout",
     "output_type": "stream",
     "text": [
      "Calculation job submitted.\n",
      "Calculation job submitted.\n",
      "Calculation job submitted.\n",
      "Calculation job submitted.\n",
      "Calculation job submitted.\n"
     ]
    },
    {
     "data": {
      "text/plain": [
       "<bw2regional.pandarus_remote.PendingJob at 0x1a25127fd0>"
      ]
     },
     "execution_count": 8,
     "metadata": {},
     "output_type": "execute_result"
    }
   ],
   "source": [
    "bwr.remote.calculate_intersection(\"exiobase-rows\", \"watersheds-hh\")\n",
    "bwr.remote.calculate_intersection(\"exiobase-rows\", \"watersheds-eq-sw-certain\")\n",
    "bwr.remote.calculate_intersection(\"exiobase-rows\", \"watersheds-eq-sw-all\")\n",
    "bwr.remote.calculate_intersection(\"exiobase-rows\", \"particulate-matter\")\n",
    "bwr.remote.calculate_intersection(\"exiobase-rows\", \"ecoregions\")"
   ]
  },
  {
   "cell_type": "code",
   "execution_count": null,
   "metadata": {},
   "outputs": [],
   "source": [
    "bwr.remote.intersection_as_new_geocollection(\n",
    "    \"exiobase-rows\", \n",
    "    \"watersheds-eq-sw-certain\", \n",
    "    'exiobase-rows-watersheds-eq-sw-certain'\n",
    ")\n",
    "bwr.remote.intersection_as_new_geocollection(\n",
    "    \"exiobase-rows\", \n",
    "    \"watersheds-eq-sw-all\", \n",
    "    'exiobase-rows-watersheds-eq-sw-all'\n",
    ")\n",
    "bwr.remote.intersection_as_new_geocollection(\n",
    "    \"exiobase-rows\", \n",
    "    \"particulate-matter\", \n",
    "    'exiobase-rows-particulate-matter'\n",
    ")\n",
    "bwr.remote.intersection_as_new_geocollection(\n",
    "    \"exiobase-rows\", \n",
    "    \"ecoregions\", \n",
    "    'exiobase-rows-ecoregions'\n",
    ")\n",
    "bwr.remote.intersection_as_new_geocollection(\n",
    "    \"exiobase-rows\", \n",
    "    \"watersheds-hh\", \n",
    "    'exiobase-rows-watersheds-hh'\n",
    ")"
   ]
  },
  {
   "cell_type": "code",
   "execution_count": 9,
   "metadata": {},
   "outputs": [
    {
     "data": {
      "text/plain": [
       "[('ecoregions', 'exiobase-rows'),\n",
       " ('ecoregions', 'world'),\n",
       " ('ecoregions', 'world-topo-ecoregions'),\n",
       " ('exiobase-rows', 'ecoregions'),\n",
       " ('exiobase-rows', 'particulate-matter'),\n",
       " ('exiobase-rows', 'watersheds-eq-sw-all'),\n",
       " ('exiobase-rows', 'watersheds-eq-sw-certain'),\n",
       " ('exiobase-rows', 'watersheds-hh'),\n",
       " ('exiobase-rows', 'world-topo-ecoregions'),\n",
       " ('exiobase-rows', 'world-topo-particulate-matter'),\n",
       " ('exiobase-rows', 'world-topo-watersheds-eq-sw-all'),\n",
       " ('exiobase-rows', 'world-topo-watersheds-eq-sw-certain'),\n",
       " ('exiobase-rows', 'world-topo-watersheds-hh'),\n",
       " ('particulate-matter', 'exiobase-rows'),\n",
       " ('particulate-matter', 'world'),\n",
       " ('particulate-matter', 'world-topo-particulate-matter'),\n",
       " ('watersheds-eq-sw-all', 'exiobase-rows'),\n",
       " ('watersheds-eq-sw-all', 'world'),\n",
       " ('watersheds-eq-sw-all', 'world-topo-watersheds-eq-sw-all'),\n",
       " ('watersheds-eq-sw-certain', 'exiobase-rows'),\n",
       " ('watersheds-eq-sw-certain', 'world'),\n",
       " ('watersheds-eq-sw-certain', 'world-topo-watersheds-eq-sw-certain'),\n",
       " ('watersheds-hh', 'exiobase-rows'),\n",
       " ('watersheds-hh', 'world'),\n",
       " ('watersheds-hh', 'world-topo-watersheds-hh'),\n",
       " ('world', 'ecoregions'),\n",
       " ('world', 'particulate-matter'),\n",
       " ('world', 'watersheds-eq-sw-all'),\n",
       " ('world', 'watersheds-eq-sw-certain'),\n",
       " ('world', 'watersheds-hh'),\n",
       " ('world', 'world-topo-ecoregions'),\n",
       " ('world', 'world-topo-particulate-matter'),\n",
       " ('world', 'world-topo-watersheds-eq-sw-all'),\n",
       " ('world', 'world-topo-watersheds-eq-sw-certain'),\n",
       " ('world', 'world-topo-watersheds-hh'),\n",
       " ('world-topo-ecoregions', 'ecoregions'),\n",
       " ('world-topo-ecoregions', 'exiobase-rows'),\n",
       " ('world-topo-ecoregions', 'world'),\n",
       " ('world-topo-particulate-matter', 'exiobase-rows'),\n",
       " ('world-topo-particulate-matter', 'particulate-matter'),\n",
       " ('world-topo-particulate-matter', 'world'),\n",
       " ('world-topo-watersheds-eq-sw-all', 'exiobase-rows'),\n",
       " ('world-topo-watersheds-eq-sw-all', 'watersheds-eq-sw-all'),\n",
       " ('world-topo-watersheds-eq-sw-all', 'world'),\n",
       " ('world-topo-watersheds-eq-sw-certain', 'exiobase-rows'),\n",
       " ('world-topo-watersheds-eq-sw-certain', 'watersheds-eq-sw-certain'),\n",
       " ('world-topo-watersheds-eq-sw-certain', 'world'),\n",
       " ('world-topo-watersheds-hh', 'exiobase-rows'),\n",
       " ('world-topo-watersheds-hh', 'watersheds-hh'),\n",
       " ('world-topo-watersheds-hh', 'world')]"
      ]
     },
     "execution_count": 9,
     "metadata": {},
     "output_type": "execute_result"
    }
   ],
   "source": [
    "sorted(bwr.intersections)"
   ]
  },
  {
   "cell_type": "code",
   "execution_count": 37,
   "metadata": {},
   "outputs": [
    {
     "name": "stdout",
     "output_type": "stream",
     "text": [
      "Calculation job submitted.\n"
     ]
    },
    {
     "data": {
      "text/plain": [
       "<bw2regional.pandarus_remote.PendingJob at 0x1a2dbcd358>"
      ]
     },
     "execution_count": 37,
     "metadata": {},
     "output_type": "execute_result"
    }
   ],
   "source": [
    "bwr.remote.calculate_intersection(\"watersheds-hh\", 'exiobase-rows-topo-watersheds-hh')"
   ]
  },
  {
   "cell_type": "code",
   "execution_count": 41,
   "metadata": {},
   "outputs": [
    {
     "ename": "AssertionError",
     "evalue": "Must intersect with exactly one geocollection",
     "output_type": "error",
     "traceback": [
      "\u001b[0;31m---------------------------------------------------------------------------\u001b[0m",
      "\u001b[0;31mAssertionError\u001b[0m                            Traceback (most recent call last)",
      "\u001b[0;32m<ipython-input-41-198432c741d2>\u001b[0m in \u001b[0;36m<module>\u001b[0;34m\u001b[0m\n\u001b[0;32m----> 1\u001b[0;31m \u001b[0mbwr\u001b[0m\u001b[0;34m.\u001b[0m\u001b[0mremote\u001b[0m\u001b[0;34m.\u001b[0m\u001b[0mintersection\u001b[0m\u001b[0;34m(\u001b[0m\u001b[0;34m\"exiobase-rows-topo\"\u001b[0m\u001b[0;34m,\u001b[0m \u001b[0;34m'exiobase-rows-topo-watersheds-hh'\u001b[0m\u001b[0;34m)\u001b[0m\u001b[0;34m\u001b[0m\u001b[0;34m\u001b[0m\u001b[0m\n\u001b[0m",
      "\u001b[0;32m~/miniconda3/envs/regional/lib/python3.6/site-packages/bw2regional/pandarus_remote.py\u001b[0m in \u001b[0;36mcheck_alive\u001b[0;34m(wrapped, instance, args, kwargs)\u001b[0m\n",
      "\u001b[0;32m~/miniconda3/envs/regional/lib/python3.6/site-packages/bw2regional/pandarus_remote.py\u001b[0m in \u001b[0;36mintersection\u001b[0;34m(self, collection_one, collection_two)\u001b[0m\n",
      "\u001b[0;32m~/miniconda3/envs/regional/lib/python3.6/site-packages/bw2regional/pandarus.py\u001b[0m in \u001b[0;36mimport_from_pandarus\u001b[0;34m(fp)\u001b[0m\n",
      "\u001b[0;32m~/miniconda3/envs/regional/lib/python3.6/site-packages/bw2regional/pandarus.py\u001b[0m in \u001b[0;36mhandle_topographical_intersection\u001b[0;34m(metadata, data, first_collections, second_collections, filepath)\u001b[0m\n",
      "\u001b[0;31mAssertionError\u001b[0m: Must intersect with exactly one geocollection"
     ]
    }
   ],
   "source": [
    "bwr.remote.intersection(\"exiobase-rows-topo\", 'exiobase-rows-topo-watersheds-hh')"
   ]
  },
  {
   "cell_type": "code",
   "execution_count": 35,
   "metadata": {},
   "outputs": [
    {
     "data": {
      "text/plain": [
       "[('ecoregions', 'exiobase-rows'),\n",
       " ('ecoregions', 'world'),\n",
       " ('ecoregions', 'world-topo-ecoregions'),\n",
       " ('exiobase-rows', 'ecoregions'),\n",
       " ('exiobase-rows', 'particulate-matter'),\n",
       " ('exiobase-rows', 'watersheds-eq-sw-all'),\n",
       " ('exiobase-rows', 'watersheds-eq-sw-certain'),\n",
       " ('exiobase-rows', 'watersheds-hh'),\n",
       " ('exiobase-rows', 'world-topo-ecoregions'),\n",
       " ('exiobase-rows', 'world-topo-particulate-matter'),\n",
       " ('exiobase-rows', 'world-topo-watersheds-eq-sw-all'),\n",
       " ('exiobase-rows', 'world-topo-watersheds-eq-sw-certain'),\n",
       " ('exiobase-rows', 'world-topo-watersheds-hh'),\n",
       " ('particulate-matter', 'exiobase-rows'),\n",
       " ('particulate-matter', 'world'),\n",
       " ('particulate-matter', 'world-topo-particulate-matter'),\n",
       " ('watersheds-eq-sw-all', 'exiobase-rows'),\n",
       " ('watersheds-eq-sw-all', 'world'),\n",
       " ('watersheds-eq-sw-all', 'world-topo-watersheds-eq-sw-all'),\n",
       " ('watersheds-eq-sw-certain', 'exiobase-rows'),\n",
       " ('watersheds-eq-sw-certain', 'world'),\n",
       " ('watersheds-eq-sw-certain', 'world-topo-watersheds-eq-sw-certain'),\n",
       " ('watersheds-hh', 'exiobase-rows'),\n",
       " ('watersheds-hh', 'world'),\n",
       " ('watersheds-hh', 'world-topo-watersheds-hh'),\n",
       " ('world', 'ecoregions'),\n",
       " ('world', 'particulate-matter'),\n",
       " ('world', 'watersheds-eq-sw-all'),\n",
       " ('world', 'watersheds-eq-sw-certain'),\n",
       " ('world', 'watersheds-hh'),\n",
       " ('world', 'world-topo-ecoregions'),\n",
       " ('world', 'world-topo-particulate-matter'),\n",
       " ('world', 'world-topo-watersheds-eq-sw-all'),\n",
       " ('world', 'world-topo-watersheds-eq-sw-certain'),\n",
       " ('world', 'world-topo-watersheds-hh'),\n",
       " ('world-topo-ecoregions', 'ecoregions'),\n",
       " ('world-topo-ecoregions', 'exiobase-rows'),\n",
       " ('world-topo-ecoregions', 'world'),\n",
       " ('world-topo-particulate-matter', 'exiobase-rows'),\n",
       " ('world-topo-particulate-matter', 'particulate-matter'),\n",
       " ('world-topo-particulate-matter', 'world'),\n",
       " ('world-topo-watersheds-eq-sw-all', 'exiobase-rows'),\n",
       " ('world-topo-watersheds-eq-sw-all', 'watersheds-eq-sw-all'),\n",
       " ('world-topo-watersheds-eq-sw-all', 'world'),\n",
       " ('world-topo-watersheds-eq-sw-certain', 'exiobase-rows'),\n",
       " ('world-topo-watersheds-eq-sw-certain', 'watersheds-eq-sw-certain'),\n",
       " ('world-topo-watersheds-eq-sw-certain', 'world'),\n",
       " ('world-topo-watersheds-hh', 'exiobase-rows'),\n",
       " ('world-topo-watersheds-hh', 'watersheds-hh'),\n",
       " ('world-topo-watersheds-hh', 'world')]"
      ]
     },
     "execution_count": 35,
     "metadata": {},
     "output_type": "execute_result"
    }
   ],
   "source": [
    "sorted(bwr.intersections)"
   ]
  },
  {
   "cell_type": "code",
   "execution_count": 33,
   "metadata": {},
   "outputs": [
    {
     "data": {
      "text/plain": [
       "{'filepath': '/Users/cmutel/Library/Application Support/Brightway3/EXIOBASE-regionalized-case-study.9666a926e52c1cc772cb07068bf407f2/regional/31371c7ad4d131f5b2685d8e20ad6d69bd17861030c9fb3b1feceab5990ed186.5efad708a9a51e08df8482c08c26f286b5e8b9ba2b0529d548edec8750cad776.geojson',\n",
       " 'field': 'id',\n",
       " 'url': 'https://pandarus.brightwaylca.org/intersection-file',\n",
       " 'is intersection': True,\n",
       " 'first': 'exiobase-rows-topo',\n",
       " 'second': 'watersheds-hh',\n",
       " 'sha256': '8b1db75357442df94fcc47d9955d16f6e40709bd0bc05ecd6008d1ab4ebb676d',\n",
       " 'kind': 'vector'}"
      ]
     },
     "execution_count": 33,
     "metadata": {},
     "output_type": "execute_result"
    }
   ],
   "source": [
    "bwr.geocollections['exiobase-rows-topo-watersheds-hh']"
   ]
  },
  {
   "cell_type": "code",
   "execution_count": 31,
   "metadata": {},
   "outputs": [
    {
     "name": "stdout",
     "output_type": "stream",
     "text": [
      "> \u001b[0;32m/Users/cmutel/miniconda3/envs/regional/lib/python3.6/site-packages/bw2regional/pandarus.py\u001b[0m(143)\u001b[0;36mhandle_topographical_intersection\u001b[0;34m()\u001b[0m\n",
      "\n",
      "ipdb> first_collections\n",
      "{('world-topo-watersheds-hh', 'geocollection'), ('exiobase-rows-topo-watersheds-hh', 'geocollection')}\n",
      "ipdb> q\n"
     ]
    }
   ],
   "source": [
    "%debug"
   ]
  },
  {
   "cell_type": "code",
   "execution_count": 21,
   "metadata": {},
   "outputs": [],
   "source": [
    "import pandarus"
   ]
  },
  {
   "cell_type": "code",
   "execution_count": 22,
   "metadata": {},
   "outputs": [
    {
     "data": {
      "text/plain": [
       "Geocollections dictionary with 12 object(s):\n",
       "\tecoregions\n",
       "\texiobase-rows\n",
       "\tparticulate-matter\n",
       "\twatersheds-eq-sw-all\n",
       "\twatersheds-eq-sw-certain\n",
       "\twatersheds-hh\n",
       "\tworld\n",
       "\tworld-topo-ecoregions\n",
       "\tworld-topo-particulate-matter\n",
       "\tworld-topo-watersheds-eq-sw-all\n",
       "\tworld-topo-watersheds-eq-sw-certain\n",
       "\tworld-topo-watersheds-hh"
      ]
     },
     "execution_count": 22,
     "metadata": {},
     "output_type": "execute_result"
    }
   ],
   "source": [
    "bwr.geocollections"
   ]
  },
  {
   "cell_type": "code",
   "execution_count": 29,
   "metadata": {},
   "outputs": [
    {
     "data": {
      "text/plain": [
       "Topocollections dictionary with 2 object(s):\n",
       "\texiobase-rows-topo\n",
       "\tworld"
      ]
     },
     "execution_count": 29,
     "metadata": {},
     "output_type": "execute_result"
    }
   ],
   "source": [
    "bwr.topocollections"
   ]
  },
  {
   "cell_type": "code",
   "execution_count": 28,
   "metadata": {},
   "outputs": [
    {
     "data": {
      "text/plain": [
       "{'filepath': '/Users/cmutel/Library/Application Support/Brightway3/EXIOBASE-regionalized-case-study.9666a926e52c1cc772cb07068bf407f2/regional/31371c7ad4d131f5b2685d8e20ad6d69bd17861030c9fb3b1feceab5990ed186.135cfcc1b3d9b8e2ccf3b04b797b8afeddd76185d870b5e9748a7c7e53da35f7.geojson',\n",
       " 'field': 'id',\n",
       " 'url': 'https://pandarus.brightwaylca.org/intersection-file',\n",
       " 'is intersection': True,\n",
       " 'first': 'world',\n",
       " 'second': 'ecoregions',\n",
       " 'sha256': '2de2582a6d59a912ffcb9d988beb921dc92312821170a79be9d372e2c958e30d',\n",
       " 'kind': 'vector'}"
      ]
     },
     "execution_count": 28,
     "metadata": {},
     "output_type": "execute_result"
    }
   ],
   "source": [
    "bwr.geocollections['world-topo-ecoregions']"
   ]
  },
  {
   "cell_type": "code",
   "execution_count": 25,
   "metadata": {},
   "outputs": [
    {
     "data": {
      "text/plain": [
       "{'filepath': '/Users/cmutel/miniconda3/envs/regional/lib/python3.6/site-packages/bw2_lcimpact/data/land_use.gpkg',\n",
       " 'field': 'eco_code',\n",
       " 'sha256': '135cfcc1b3d9b8e2ccf3b04b797b8afeddd76185d870b5e9748a7c7e53da35f7',\n",
       " 'kind': 'vector'}"
      ]
     },
     "execution_count": 25,
     "metadata": {},
     "output_type": "execute_result"
    }
   ],
   "source": [
    "ecoregions = bwr.geocollections['ecoregions']\n",
    "ecoregions"
   ]
  },
  {
   "cell_type": "code",
   "execution_count": 26,
   "metadata": {},
   "outputs": [
    {
     "data": {
      "text/plain": [
       "{'geocollection': 'world',\n",
       " 'filepath': '/Users/cmutel/Code/cg/constructive_geometries/data/faces.gpkg',\n",
       " 'field': 'id',\n",
       " 'empty': False,\n",
       " 'sha256': '31371c7ad4d131f5b2685d8e20ad6d69bd17861030c9fb3b1feceab5990ed186',\n",
       " 'kind': 'vector'}"
      ]
     },
     "execution_count": 26,
     "metadata": {},
     "output_type": "execute_result"
    }
   ],
   "source": [
    "world = bwr.topocollections['world']\n",
    "world"
   ]
  },
  {
   "cell_type": "code",
   "execution_count": 27,
   "metadata": {},
   "outputs": [
    {
     "name": "stderr",
     "output_type": "stream",
     "text": [
      "/Users/cmutel/miniconda3/envs/regional/lib/python3.6/site-packages/pandarus/maps.py:39: FionaDeprecationWarning: Use fiona.Env() instead.\n",
      "  with fiona.drivers():\n"
     ]
    },
    {
     "ename": "KeyboardInterrupt",
     "evalue": "",
     "output_type": "error",
     "traceback": [
      "\u001b[0;31m---------------------------------------------------------------------------\u001b[0m",
      "\u001b[0;31mKeyboardInterrupt\u001b[0m                         Traceback (most recent call last)",
      "\u001b[0;32m<ipython-input-27-e0b65eb1029f>\u001b[0m in \u001b[0;36m<module>\u001b[0;34m\u001b[0m\n\u001b[1;32m      3\u001b[0m     \u001b[0mworld\u001b[0m\u001b[0;34m[\u001b[0m\u001b[0;34m'field'\u001b[0m\u001b[0;34m]\u001b[0m\u001b[0;34m,\u001b[0m\u001b[0;34m\u001b[0m\u001b[0;34m\u001b[0m\u001b[0m\n\u001b[1;32m      4\u001b[0m     \u001b[0mecoregions\u001b[0m\u001b[0;34m[\u001b[0m\u001b[0;34m'filepath'\u001b[0m\u001b[0;34m]\u001b[0m\u001b[0;34m,\u001b[0m\u001b[0;34m\u001b[0m\u001b[0;34m\u001b[0m\u001b[0m\n\u001b[0;32m----> 5\u001b[0;31m     \u001b[0mecoregions\u001b[0m\u001b[0;34m[\u001b[0m\u001b[0;34m'field'\u001b[0m\u001b[0;34m]\u001b[0m\u001b[0;34m,\u001b[0m\u001b[0;34m\u001b[0m\u001b[0;34m\u001b[0m\u001b[0m\n\u001b[0m\u001b[1;32m      6\u001b[0m )\n",
      "\u001b[0;32m~/miniconda3/envs/regional/lib/python3.6/site-packages/pandarus/calculate.py\u001b[0m in \u001b[0;36mintersect\u001b[0;34m(first_fp, first_field, second_fp, second_field, first_kwargs, second_kwargs, dirpath, cpus, driver, compress, log_dir)\u001b[0m\n\u001b[1;32m    229\u001b[0m         \u001b[0mos\u001b[0m\u001b[0;34m.\u001b[0m\u001b[0mremove\u001b[0m\u001b[0;34m(\u001b[0m\u001b[0mdata_fp\u001b[0m\u001b[0;34m)\u001b[0m\u001b[0;34m\u001b[0m\u001b[0;34m\u001b[0m\u001b[0m\n\u001b[1;32m    230\u001b[0m \u001b[0;34m\u001b[0m\u001b[0m\n\u001b[0;32m--> 231\u001b[0;31m     \u001b[0mdata\u001b[0m \u001b[0;34m=\u001b[0m \u001b[0mintersection_dispatcher\u001b[0m\u001b[0;34m(\u001b[0m\u001b[0mfirst_fp\u001b[0m\u001b[0;34m,\u001b[0m \u001b[0msecond_fp\u001b[0m\u001b[0;34m,\u001b[0m \u001b[0mcpus\u001b[0m\u001b[0;34m=\u001b[0m\u001b[0mcpus\u001b[0m\u001b[0;34m,\u001b[0m \u001b[0mlog_dir\u001b[0m\u001b[0;34m=\u001b[0m\u001b[0mlog_dir\u001b[0m\u001b[0;34m)\u001b[0m\u001b[0;34m\u001b[0m\u001b[0;34m\u001b[0m\u001b[0m\n\u001b[0m\u001b[1;32m    232\u001b[0m \u001b[0;34m\u001b[0m\u001b[0m\n\u001b[1;32m    233\u001b[0m     \u001b[0mfirst_mapping\u001b[0m \u001b[0;34m=\u001b[0m \u001b[0mfirst\u001b[0m\u001b[0;34m.\u001b[0m\u001b[0mget_fieldnames_dictionary\u001b[0m\u001b[0;34m(\u001b[0m\u001b[0;34m)\u001b[0m\u001b[0;34m\u001b[0m\u001b[0;34m\u001b[0m\u001b[0m\n",
      "\u001b[0;32m~/miniconda3/envs/regional/lib/python3.6/site-packages/pandarus/intersections.py\u001b[0m in \u001b[0;36mintersection_dispatcher\u001b[0;34m(from_map, to_map, from_objs, cpus, log_dir)\u001b[0m\n\u001b[1;32m    170\u001b[0m             ))\n\u001b[1;32m    171\u001b[0m         \u001b[0;32mfor\u001b[0m \u001b[0mfr\u001b[0m \u001b[0;32min\u001b[0m \u001b[0mfunction_results\u001b[0m\u001b[0;34m:\u001b[0m\u001b[0;34m\u001b[0m\u001b[0;34m\u001b[0m\u001b[0m\n\u001b[0;32m--> 172\u001b[0;31m             \u001b[0mfr\u001b[0m\u001b[0;34m.\u001b[0m\u001b[0mwait\u001b[0m\u001b[0;34m(\u001b[0m\u001b[0;34m)\u001b[0m\u001b[0;34m\u001b[0m\u001b[0;34m\u001b[0m\u001b[0m\n\u001b[0m\u001b[1;32m    173\u001b[0m \u001b[0;34m\u001b[0m\u001b[0m\n\u001b[1;32m    174\u001b[0m         \u001b[0;32mif\u001b[0m \u001b[0many\u001b[0m\u001b[0;34m(\u001b[0m\u001b[0;32mnot\u001b[0m \u001b[0mfr\u001b[0m\u001b[0;34m.\u001b[0m\u001b[0msuccessful\u001b[0m\u001b[0;34m(\u001b[0m\u001b[0;34m)\u001b[0m \u001b[0;32mfor\u001b[0m \u001b[0mfr\u001b[0m \u001b[0;32min\u001b[0m \u001b[0mfunction_results\u001b[0m\u001b[0;34m)\u001b[0m\u001b[0;34m:\u001b[0m\u001b[0;34m\u001b[0m\u001b[0;34m\u001b[0m\u001b[0m\n",
      "\u001b[0;32m~/miniconda3/envs/regional/lib/python3.6/multiprocessing/pool.py\u001b[0m in \u001b[0;36mwait\u001b[0;34m(self, timeout)\u001b[0m\n\u001b[1;32m    659\u001b[0m \u001b[0;34m\u001b[0m\u001b[0m\n\u001b[1;32m    660\u001b[0m     \u001b[0;32mdef\u001b[0m \u001b[0mwait\u001b[0m\u001b[0;34m(\u001b[0m\u001b[0mself\u001b[0m\u001b[0;34m,\u001b[0m \u001b[0mtimeout\u001b[0m\u001b[0;34m=\u001b[0m\u001b[0;32mNone\u001b[0m\u001b[0;34m)\u001b[0m\u001b[0;34m:\u001b[0m\u001b[0;34m\u001b[0m\u001b[0;34m\u001b[0m\u001b[0m\n\u001b[0;32m--> 661\u001b[0;31m         \u001b[0mself\u001b[0m\u001b[0;34m.\u001b[0m\u001b[0m_event\u001b[0m\u001b[0;34m.\u001b[0m\u001b[0mwait\u001b[0m\u001b[0;34m(\u001b[0m\u001b[0mtimeout\u001b[0m\u001b[0;34m)\u001b[0m\u001b[0;34m\u001b[0m\u001b[0;34m\u001b[0m\u001b[0m\n\u001b[0m\u001b[1;32m    662\u001b[0m \u001b[0;34m\u001b[0m\u001b[0m\n\u001b[1;32m    663\u001b[0m     \u001b[0;32mdef\u001b[0m \u001b[0mget\u001b[0m\u001b[0;34m(\u001b[0m\u001b[0mself\u001b[0m\u001b[0;34m,\u001b[0m \u001b[0mtimeout\u001b[0m\u001b[0;34m=\u001b[0m\u001b[0;32mNone\u001b[0m\u001b[0;34m)\u001b[0m\u001b[0;34m:\u001b[0m\u001b[0;34m\u001b[0m\u001b[0;34m\u001b[0m\u001b[0m\n",
      "\u001b[0;32m~/miniconda3/envs/regional/lib/python3.6/threading.py\u001b[0m in \u001b[0;36mwait\u001b[0;34m(self, timeout)\u001b[0m\n\u001b[1;32m    549\u001b[0m             \u001b[0msignaled\u001b[0m \u001b[0;34m=\u001b[0m \u001b[0mself\u001b[0m\u001b[0;34m.\u001b[0m\u001b[0m_flag\u001b[0m\u001b[0;34m\u001b[0m\u001b[0;34m\u001b[0m\u001b[0m\n\u001b[1;32m    550\u001b[0m             \u001b[0;32mif\u001b[0m \u001b[0;32mnot\u001b[0m \u001b[0msignaled\u001b[0m\u001b[0;34m:\u001b[0m\u001b[0;34m\u001b[0m\u001b[0;34m\u001b[0m\u001b[0m\n\u001b[0;32m--> 551\u001b[0;31m                 \u001b[0msignaled\u001b[0m \u001b[0;34m=\u001b[0m \u001b[0mself\u001b[0m\u001b[0;34m.\u001b[0m\u001b[0m_cond\u001b[0m\u001b[0;34m.\u001b[0m\u001b[0mwait\u001b[0m\u001b[0;34m(\u001b[0m\u001b[0mtimeout\u001b[0m\u001b[0;34m)\u001b[0m\u001b[0;34m\u001b[0m\u001b[0;34m\u001b[0m\u001b[0m\n\u001b[0m\u001b[1;32m    552\u001b[0m             \u001b[0;32mreturn\u001b[0m \u001b[0msignaled\u001b[0m\u001b[0;34m\u001b[0m\u001b[0;34m\u001b[0m\u001b[0m\n\u001b[1;32m    553\u001b[0m \u001b[0;34m\u001b[0m\u001b[0m\n",
      "\u001b[0;32m~/miniconda3/envs/regional/lib/python3.6/threading.py\u001b[0m in \u001b[0;36mwait\u001b[0;34m(self, timeout)\u001b[0m\n\u001b[1;32m    293\u001b[0m         \u001b[0;32mtry\u001b[0m\u001b[0;34m:\u001b[0m    \u001b[0;31m# restore state no matter what (e.g., KeyboardInterrupt)\u001b[0m\u001b[0;34m\u001b[0m\u001b[0;34m\u001b[0m\u001b[0m\n\u001b[1;32m    294\u001b[0m             \u001b[0;32mif\u001b[0m \u001b[0mtimeout\u001b[0m \u001b[0;32mis\u001b[0m \u001b[0;32mNone\u001b[0m\u001b[0;34m:\u001b[0m\u001b[0;34m\u001b[0m\u001b[0;34m\u001b[0m\u001b[0m\n\u001b[0;32m--> 295\u001b[0;31m                 \u001b[0mwaiter\u001b[0m\u001b[0;34m.\u001b[0m\u001b[0macquire\u001b[0m\u001b[0;34m(\u001b[0m\u001b[0;34m)\u001b[0m\u001b[0;34m\u001b[0m\u001b[0;34m\u001b[0m\u001b[0m\n\u001b[0m\u001b[1;32m    296\u001b[0m                 \u001b[0mgotit\u001b[0m \u001b[0;34m=\u001b[0m \u001b[0;32mTrue\u001b[0m\u001b[0;34m\u001b[0m\u001b[0;34m\u001b[0m\u001b[0m\n\u001b[1;32m    297\u001b[0m             \u001b[0;32melse\u001b[0m\u001b[0;34m:\u001b[0m\u001b[0;34m\u001b[0m\u001b[0;34m\u001b[0m\u001b[0m\n",
      "\u001b[0;31mKeyboardInterrupt\u001b[0m: "
     ]
    }
   ],
   "source": [
    "new_map, _ = pandarus.intersect(\n",
    "    world['filepath'],\n",
    "    world['field'],\n",
    "    ecoregions['filepath'],\n",
    "    ecoregions['field'],\n",
    ")"
   ]
  },
  {
   "cell_type": "code",
   "execution_count": null,
   "metadata": {},
   "outputs": [],
   "source": []
  }
 ],
 "metadata": {
  "kernelspec": {
   "display_name": "Python 3",
   "language": "python",
   "name": "python3"
  },
  "language_info": {
   "codemirror_mode": {
    "name": "ipython",
    "version": 3
   },
   "file_extension": ".py",
   "mimetype": "text/x-python",
   "name": "python",
   "nbconvert_exporter": "python",
   "pygments_lexer": "ipython3",
   "version": "3.6.7"
  }
 },
 "nbformat": 4,
 "nbformat_minor": 2
}

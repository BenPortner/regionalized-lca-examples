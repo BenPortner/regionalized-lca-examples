{
 "cells": [
  {
   "cell_type": "code",
   "execution_count": 1,
   "metadata": {},
   "outputs": [],
   "source": [
    "import brightway2 as bw\n",
    "import bw2regional as bwr\n",
    "import bw2_lcimpact\n",
    "from copy import copy\n",
    "import constructive_geometries\n",
    "import os\n",
    "from bw2regional.pandarus_remote import AlreadyExists"
   ]
  },
  {
   "cell_type": "code",
   "execution_count": 2,
   "metadata": {},
   "outputs": [],
   "source": [
    "bw.projects.set_current(\"EXIOBASE regionalized case study\")"
   ]
  },
  {
   "cell_type": "code",
   "execution_count": 3,
   "metadata": {},
   "outputs": [
    {
     "data": {
      "text/plain": [
       "Databases dictionary with 3 object(s):\n",
       "\tEXIOBASE 3.3.17 hybrid\n",
       "\tOil seeds\n",
       "\tbiosphere3"
      ]
     },
     "execution_count": 3,
     "metadata": {},
     "output_type": "execute_result"
    }
   ],
   "source": [
    "bw.databases"
   ]
  },
  {
   "cell_type": "code",
   "execution_count": 4,
   "metadata": {},
   "outputs": [
    {
     "data": {
      "text/plain": [
       "Methods dictionary with 0 objects"
      ]
     },
     "execution_count": 4,
     "metadata": {},
     "output_type": "execute_result"
    }
   ],
   "source": [
    "bw.methods"
   ]
  },
  {
   "cell_type": "code",
   "execution_count": 5,
   "metadata": {},
   "outputs": [
    {
     "name": "stdout",
     "output_type": "stream",
     "text": [
      "Downloading and creating 'world' geocollection with countries\n"
     ]
    }
   ],
   "source": [
    "bwr.bw2regionalsetup('world')"
   ]
  },
  {
   "cell_type": "code",
   "execution_count": 6,
   "metadata": {},
   "outputs": [
    {
     "data": {
      "text/plain": [
       "{'filepath': '/Users/cmutel/Library/Application Support/Brightway3/EXIOBASE-regionalized-case-study.9666a926e52c1cc772cb07068bf407f2/regional/countries.gpkg',\n",
       " 'field': 'isotwolettercode',\n",
       " 'sha256': '654f8ee414416b3e2c2a2829cac2ea4a35c77cacb48d4ed1f58155f8dff17799',\n",
       " 'kind': 'vector'}"
      ]
     },
     "execution_count": 6,
     "metadata": {},
     "output_type": "execute_result"
    }
   ],
   "source": [
    "bwr.geocollections['world']"
   ]
  },
  {
   "cell_type": "markdown",
   "metadata": {},
   "source": [
    "We need to define the Rest-of-Worlds used in EXIOBASE. Happily, they are only a few of them:\n",
    "\n",
    "* **WA**:\tRoW Asia and Pacific\n",
    "* **WL**:\tRoW America\n",
    "* **WE**:\tRoW Europe\n",
    "* **WF**:\tRoW Africa - really unfortunate acronym, as this is the code for an actual location...\n",
    "* **WM**:\tRoW Middle East"
   ]
  },
  {
   "cell_type": "markdown",
   "metadata": {},
   "source": [
    "We will label the EXIOBASE Rest-of-Worlds with a) a new `Geocollection`, and b) more suitable names."
   ]
  },
  {
   "cell_type": "code",
   "execution_count": 7,
   "metadata": {},
   "outputs": [],
   "source": [
    "exiobase_row_mapping = {\n",
    "    \"WA\": \"RoW Asia and Pacific\",\n",
    "    \"WL\": \"RoW America\",\n",
    "    \"WE\": \"RoW Europe\",\n",
    "    \"WF\": \"RoW Africa\",\n",
    "    \"WM\": \"RoW Middle East\",\n",
    "}"
   ]
  },
  {
   "cell_type": "code",
   "execution_count": 8,
   "metadata": {},
   "outputs": [],
   "source": [
    "bwr.geocollections['exiobase-rows'] = {\n",
    "    'filepath': os.path.join(os.getcwd(), \"exiobase-rows.gpkg\"),\n",
    "    'field': 'name'\n",
    "}"
   ]
  },
  {
   "cell_type": "code",
   "execution_count": 9,
   "metadata": {},
   "outputs": [],
   "source": [
    "for activity in bw.Database(\"EXIOBASE 3.3.17 hybrid\"):\n",
    "    if activity['location'] in exiobase_row_mapping:\n",
    "        activity['location'] = ('exiobase-rows', exiobase_row_mapping[activity['location']])\n",
    "        activity.save()"
   ]
  },
  {
   "cell_type": "code",
   "execution_count": 10,
   "metadata": {},
   "outputs": [],
   "source": [
    "for activity in bw.Database(\"Oil seeds\"):\n",
    "    if activity['location'] in exiobase_row_mapping:\n",
    "        activity['location'] = ('exiobase-rows', exiobase_row_mapping[activity['location']])\n",
    "        activity.save()"
   ]
  },
  {
   "cell_type": "code",
   "execution_count": null,
   "metadata": {},
   "outputs": [],
   "source": [
    "bw.databases['biosphere3']['geocollections'] = []\n",
    "bw.databases['EXIOBASE 3.3.17 hybrid']['geocollections'] = ['world', 'exiobase-rows']\n",
    "bw.databases['Oil seeds']['geocollections'] = ['world', 'exiobase-rows']\n",
    "bw.databases.flush()"
   ]
  },
  {
   "cell_type": "markdown",
   "metadata": {},
   "source": [
    "In a separate noteboom, created GIS data for these \"rest-of-world\" locations.\n",
    "\n",
    "<img src=\"images/exiobase-row.png\">"
   ]
  },
  {
   "cell_type": "code",
   "execution_count": 11,
   "metadata": {},
   "outputs": [],
   "source": [
    "bw2_lcimpact.import_global_lcimpact()"
   ]
  },
  {
   "cell_type": "code",
   "execution_count": 12,
   "metadata": {},
   "outputs": [
    {
     "name": "stdout",
     "output_type": "stream",
     "text": [
      "Merging topographical faces for geocollection world\n"
     ]
    },
    {
     "name": "stderr",
     "output_type": "stream",
     "text": [
      "0% [##############################] 100% | ETA: 00:00:00\n",
      "Total time elapsed: 00:00:01\n"
     ]
    },
    {
     "name": "stdout",
     "output_type": "stream",
     "text": [
      "Creating intersection (world, watersheds-hh)\n",
      "Merging topographical faces for geocollection world\n"
     ]
    },
    {
     "name": "stderr",
     "output_type": "stream",
     "text": [
      "0% [##############################] 100% | ETA: 00:00:00\n",
      "Total time elapsed: 00:00:02\n"
     ]
    },
    {
     "name": "stdout",
     "output_type": "stream",
     "text": [
      "Creating intersection (world, watersheds-eq-sw-certain)\n",
      "Merging topographical faces for geocollection world\n"
     ]
    },
    {
     "name": "stderr",
     "output_type": "stream",
     "text": [
      "0% [##############################] 100% | ETA: 00:00:00\n",
      "Total time elapsed: 00:00:02\n"
     ]
    },
    {
     "name": "stdout",
     "output_type": "stream",
     "text": [
      "Creating intersection (world, watersheds-eq-sw-all)\n",
      "Merging topographical faces for geocollection world\n"
     ]
    },
    {
     "name": "stderr",
     "output_type": "stream",
     "text": [
      "0% [##############################] 100% | ETA: 00:00:00\n",
      "Total time elapsed: 00:00:02\n"
     ]
    },
    {
     "name": "stdout",
     "output_type": "stream",
     "text": [
      "Creating intersection (world, particulate-matter)\n",
      "Merging topographical faces for geocollection world\n"
     ]
    },
    {
     "name": "stderr",
     "output_type": "stream",
     "text": [
      "0% [##############################] 100% | ETA: 00:00:00\n",
      "Total time elapsed: 00:00:02\n"
     ]
    },
    {
     "name": "stdout",
     "output_type": "stream",
     "text": [
      "Creating intersection (world, ecoregions)\n",
      "Merging topographical faces for geocollection world\n"
     ]
    },
    {
     "name": "stderr",
     "output_type": "stream",
     "text": [
      "0% [##############################] 100% | ETA: 00:00:00\n",
      "Total time elapsed: 00:00:01\n"
     ]
    },
    {
     "name": "stdout",
     "output_type": "stream",
     "text": [
      "Creating intersection (world, world-topo-watersheds-hh)\n",
      "Merging topographical faces for geocollection world\n"
     ]
    },
    {
     "name": "stderr",
     "output_type": "stream",
     "text": [
      "0% [##############################] 100% | ETA: 00:00:00\n",
      "Total time elapsed: 00:00:02\n"
     ]
    },
    {
     "name": "stdout",
     "output_type": "stream",
     "text": [
      "Creating intersection (world, world-topo-watersheds-eq-sw-certain)\n",
      "Merging topographical faces for geocollection world\n"
     ]
    },
    {
     "name": "stderr",
     "output_type": "stream",
     "text": [
      "0% [##############################] 100% | ETA: 00:00:00\n",
      "Total time elapsed: 00:00:02\n"
     ]
    },
    {
     "name": "stdout",
     "output_type": "stream",
     "text": [
      "Creating intersection (world, world-topo-watersheds-eq-sw-all)\n",
      "Merging topographical faces for geocollection world\n"
     ]
    },
    {
     "name": "stderr",
     "output_type": "stream",
     "text": [
      "0% [##############################] 100% | ETA: 00:00:00\n",
      "Total time elapsed: 00:00:02\n"
     ]
    },
    {
     "name": "stdout",
     "output_type": "stream",
     "text": [
      "Creating intersection (world, world-topo-particulate-matter)\n",
      "Merging topographical faces for geocollection world\n"
     ]
    },
    {
     "name": "stderr",
     "output_type": "stream",
     "text": [
      "0% [##############################] 100% | ETA: 00:00:00\n",
      "Total time elapsed: 00:00:02\n"
     ]
    },
    {
     "name": "stdout",
     "output_type": "stream",
     "text": [
      "Creating intersection (world, world-topo-ecoregions)\n"
     ]
    }
   ],
   "source": [
    "bw2_lcimpact.import_regionalized_lcimpact()"
   ]
  },
  {
   "cell_type": "code",
   "execution_count": 14,
   "metadata": {},
   "outputs": [
    {
     "data": {
      "text/plain": [
       "('exiobase-rows', 'watersheds-hh')"
      ]
     },
     "execution_count": 14,
     "metadata": {},
     "output_type": "execute_result"
    }
   ],
   "source": [
    "bwr.remote.intersection(\n",
    "    \"exiobase-rows\", \n",
    "    \"watersheds-eq-sw-certain\", \n",
    ")\n",
    "bwr.remote.intersection(\n",
    "    \"exiobase-rows\", \n",
    "    \"watersheds-eq-sw-all\", \n",
    ")\n",
    "bwr.remote.intersection(\n",
    "    \"exiobase-rows\", \n",
    "    \"particulate-matter\", \n",
    ")\n",
    "bwr.remote.intersection(\n",
    "    \"exiobase-rows\", \n",
    "    \"ecoregions\", \n",
    ")\n",
    "bwr.remote.intersection(\n",
    "    \"exiobase-rows\", \n",
    "    \"watersheds-hh\", \n",
    ")"
   ]
  },
  {
   "cell_type": "code",
   "execution_count": 13,
   "metadata": {},
   "outputs": [],
   "source": [
    "bwr.remote.intersection_as_new_geocollection(\n",
    "    \"exiobase-rows\", \n",
    "    \"watersheds-eq-sw-certain\", \n",
    "    'exiobase-rows-watersheds-eq-sw-certain'\n",
    ")\n",
    "bwr.remote.intersection_as_new_geocollection(\n",
    "    \"exiobase-rows\", \n",
    "    \"watersheds-eq-sw-all\", \n",
    "    'exiobase-rows-watersheds-eq-sw-all'\n",
    ")\n",
    "bwr.remote.intersection_as_new_geocollection(\n",
    "    \"exiobase-rows\", \n",
    "    \"particulate-matter\", \n",
    "    'exiobase-rows-particulate-matter'\n",
    ")\n",
    "bwr.remote.intersection_as_new_geocollection(\n",
    "    \"exiobase-rows\", \n",
    "    \"ecoregions\", \n",
    "    'exiobase-rows-ecoregions'\n",
    ")\n",
    "bwr.remote.intersection_as_new_geocollection(\n",
    "    \"exiobase-rows\", \n",
    "    \"watersheds-hh\", \n",
    "    'exiobase-rows-watersheds-hh'\n",
    ")"
   ]
  },
  {
   "cell_type": "code",
   "execution_count": 8,
   "metadata": {},
   "outputs": [
    {
     "data": {
      "text/plain": [
       "Brightway2 Intersection: exiobase-rows: ecoregions"
      ]
     },
     "execution_count": 8,
     "metadata": {},
     "output_type": "execute_result"
    }
   ],
   "source": [
    "from bw2regional import create_empty_intersection\n",
    "# create_empty_intersection(('world', 'exiobase-rows-ecoregions'))\n",
    "# create_empty_intersection(('exiobase-rows', 'ecoregions'))\n",
    "# bwr.remote.calculate_intersection('exiobase-rows', 'world-topo-ecoregions')"
   ]
  },
  {
   "cell_type": "code",
   "execution_count": 19,
   "metadata": {},
   "outputs": [
    {
     "data": {
      "text/plain": [
       "[('ecoregions', 'exiobase-rows'),\n",
       " ('ecoregions', 'exiobase-rows-ecoregions'),\n",
       " ('ecoregions', 'world'),\n",
       " ('ecoregions', 'world-topo-ecoregions'),\n",
       " ('exiobase-rows', 'ecoregions'),\n",
       " ('exiobase-rows', 'exiobase-rows-ecoregions'),\n",
       " ('exiobase-rows', 'exiobase-rows-particulate-matter'),\n",
       " ('exiobase-rows', 'exiobase-rows-watersheds-eq-sw-all'),\n",
       " ('exiobase-rows', 'exiobase-rows-watersheds-eq-sw-certain'),\n",
       " ('exiobase-rows', 'exiobase-rows-watersheds-hh'),\n",
       " ('exiobase-rows', 'particulate-matter'),\n",
       " ('exiobase-rows', 'watersheds-eq-sw-all'),\n",
       " ('exiobase-rows', 'watersheds-eq-sw-certain'),\n",
       " ('exiobase-rows', 'watersheds-hh'),\n",
       " ('exiobase-rows-ecoregions', 'ecoregions'),\n",
       " ('exiobase-rows-ecoregions', 'exiobase-rows'),\n",
       " ('exiobase-rows-particulate-matter', 'exiobase-rows'),\n",
       " ('exiobase-rows-particulate-matter', 'particulate-matter'),\n",
       " ('exiobase-rows-watersheds-eq-sw-all', 'exiobase-rows'),\n",
       " ('exiobase-rows-watersheds-eq-sw-all', 'watersheds-eq-sw-all'),\n",
       " ('exiobase-rows-watersheds-eq-sw-certain', 'exiobase-rows'),\n",
       " ('exiobase-rows-watersheds-eq-sw-certain', 'watersheds-eq-sw-certain'),\n",
       " ('exiobase-rows-watersheds-hh', 'exiobase-rows'),\n",
       " ('exiobase-rows-watersheds-hh', 'watersheds-hh'),\n",
       " ('particulate-matter', 'exiobase-rows'),\n",
       " ('particulate-matter', 'exiobase-rows-particulate-matter'),\n",
       " ('particulate-matter', 'world'),\n",
       " ('particulate-matter', 'world-topo-particulate-matter'),\n",
       " ('watersheds-eq-sw-all', 'exiobase-rows'),\n",
       " ('watersheds-eq-sw-all', 'exiobase-rows-watersheds-eq-sw-all'),\n",
       " ('watersheds-eq-sw-all', 'world'),\n",
       " ('watersheds-eq-sw-all', 'world-topo-watersheds-eq-sw-all'),\n",
       " ('watersheds-eq-sw-certain', 'exiobase-rows'),\n",
       " ('watersheds-eq-sw-certain', 'exiobase-rows-watersheds-eq-sw-certain'),\n",
       " ('watersheds-eq-sw-certain', 'world'),\n",
       " ('watersheds-eq-sw-certain', 'world-topo-watersheds-eq-sw-certain'),\n",
       " ('watersheds-hh', 'exiobase-rows'),\n",
       " ('watersheds-hh', 'exiobase-rows-watersheds-hh'),\n",
       " ('watersheds-hh', 'world'),\n",
       " ('watersheds-hh', 'world-topo-watersheds-hh'),\n",
       " ('world', 'ecoregions'),\n",
       " ('world', 'particulate-matter'),\n",
       " ('world', 'watersheds-eq-sw-all'),\n",
       " ('world', 'watersheds-eq-sw-certain'),\n",
       " ('world', 'watersheds-hh'),\n",
       " ('world', 'world-topo-ecoregions'),\n",
       " ('world', 'world-topo-particulate-matter'),\n",
       " ('world', 'world-topo-watersheds-eq-sw-all'),\n",
       " ('world', 'world-topo-watersheds-eq-sw-certain'),\n",
       " ('world', 'world-topo-watersheds-hh'),\n",
       " ('world-topo-ecoregions', 'ecoregions'),\n",
       " ('world-topo-ecoregions', 'world'),\n",
       " ('world-topo-particulate-matter', 'particulate-matter'),\n",
       " ('world-topo-particulate-matter', 'world'),\n",
       " ('world-topo-watersheds-eq-sw-all', 'watersheds-eq-sw-all'),\n",
       " ('world-topo-watersheds-eq-sw-all', 'world'),\n",
       " ('world-topo-watersheds-eq-sw-certain', 'watersheds-eq-sw-certain'),\n",
       " ('world-topo-watersheds-eq-sw-certain', 'world'),\n",
       " ('world-topo-watersheds-hh', 'watersheds-hh'),\n",
       " ('world-topo-watersheds-hh', 'world')]"
      ]
     },
     "execution_count": 19,
     "metadata": {},
     "output_type": "execute_result"
    }
   ],
   "source": [
    "sorted(bwr.intersections)"
   ]
  },
  {
   "cell_type": "code",
   "execution_count": null,
   "metadata": {},
   "outputs": [],
   "source": [
    "other_scales = [\n",
    "    'world-topo-watersheds-eq-sw-all',\n",
    "    'world-topo-watersheds-eq-sw-certain',\n",
    "    'world-topo-watersheds-hh',\n",
    "    'world-topo-particulate-matter',\n",
    "    'world-topo-ecoregions',    \n",
    "]\n",
    "\n",
    "for gc in other_scales:\n",
    "    bwr.remote.intersection('exiobase-rows', gc)"
   ]
  },
  {
   "cell_type": "markdown",
   "metadata": {},
   "source": [
    "# Where are crops actually grown?\n",
    "\n",
    "Although this data source is not perfect, [Ramankutty et al](http://www.earthstat.org/harvested-area-yield-175-crops/) provide data on all our crops (note that peanuts can also be called groundnuts, as they are here).\n",
    "\n",
    "I downloaded this data, and created compressed GeoTIFFS with `gdal_translate`:\n",
    "\n",
    "    gdal_translate input_filename output_filename -co TILED=YES -co COPY_SRC_OVERVIEWS=YES -co COMPRESS=DEFLATE\n",
    "\n",
    "We also needed to transform the production rasters from total production per raster cell, to intensity (i.e. production per area, but note that this is total area, not harvested area). There is a function in `bw2regional` to do this already:\n",
    "\n",
    "    bwr.divide_by_area(source, destination)\n"
   ]
  },
  {
   "cell_type": "code",
   "execution_count": 15,
   "metadata": {},
   "outputs": [],
   "source": [
    "rasters = (\n",
    "    (\"gdpweighted.tiff\", \"weighted-pop-density\"),\n",
    "    (\"oilpalm_intensity.tiff\", \"oilpalm\"),\n",
    "    (\"rapeseed_intensity.tiff\", \"rapeseed\"),\n",
    "    (\"soybean_intensity.tiff\", \"soybean\"),\n",
    "    (\"groundnut_intensity.tiff\", \"peanut\"),\n",
    "    (\"sunflower_intensity.tiff\", \"sunflower\"),\n",
    ")"
   ]
  },
  {
   "cell_type": "code",
   "execution_count": 16,
   "metadata": {},
   "outputs": [],
   "source": [
    "third_scales = [\n",
    "    'exiobase-rows-ecoregions',\n",
    "    'exiobase-rows-particulate-matter',\n",
    "    'exiobase-rows-watersheds-eq-sw-all',\n",
    "    'exiobase-rows-watersheds-eq-sw-certain',\n",
    "    'exiobase-rows-watersheds-hh',\n",
    "    'world-topo-ecoregions',\n",
    "    'world-topo-particulate-matter',\n",
    "    'world-topo-watersheds-eq-sw-all',\n",
    "    'world-topo-watersheds-eq-sw-certain',\n",
    "    'world-topo-watersheds-hh'\n",
    "]"
   ]
  },
  {
   "cell_type": "code",
   "execution_count": 17,
   "metadata": {},
   "outputs": [],
   "source": [
    "for x, y in rasters:\n",
    "    bwr.geocollections[y] = {\n",
    "        'filepath': os.path.abspath(\"data/\" + x),\n",
    "        'band': 1\n",
    "    }"
   ]
  },
  {
   "cell_type": "code",
   "execution_count": 18,
   "metadata": {},
   "outputs": [],
   "source": [
    "for fp, raster in rasters:\n",
    "    for gc in third_scales:\n",
    "        bwr.remote.rasterstats_as_xt(gc, raster, f\"xt-{raster}-{gc}\")"
   ]
  }
 ],
 "metadata": {
  "kernelspec": {
   "display_name": "Python 3",
   "language": "python",
   "name": "python3"
  },
  "language_info": {
   "codemirror_mode": {
    "name": "ipython",
    "version": 3
   },
   "file_extension": ".py",
   "mimetype": "text/x-python",
   "name": "python",
   "nbconvert_exporter": "python",
   "pygments_lexer": "ipython3",
   "version": "3.6.7"
  }
 },
 "nbformat": 4,
 "nbformat_minor": 2
}

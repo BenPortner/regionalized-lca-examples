{
 "cells": [
  {
   "cell_type": "code",
   "execution_count": 1,
   "metadata": {},
   "outputs": [],
   "source": [
    "import brightway2 as bw\n",
    "import bw2io\n",
    "import bw2regional as bwr\n",
    "import mrio_common_metadata\n",
    "import bw_migrations"
   ]
  },
  {
   "cell_type": "code",
   "execution_count": 2,
   "metadata": {},
   "outputs": [],
   "source": [
    "bw.projects.set_current(\"EXIOBASE regionalized case study\")"
   ]
  },
  {
   "cell_type": "markdown",
   "metadata": {},
   "source": [
    "# Extracting data"
   ]
  },
  {
   "cell_type": "code",
   "execution_count": 3,
   "metadata": {},
   "outputs": [],
   "source": [
    "from bw2io.extractors import ExcelExtractor\n",
    "from copy import deepcopy\n",
    "from bw2io.importers.base_lci import LCIImporter"
   ]
  },
  {
   "cell_type": "code",
   "execution_count": 4,
   "metadata": {},
   "outputs": [],
   "source": [
    "foreground_direct = ExcelExtractor.extract(\"data/Foreground direct.xlsx\")\n",
    "\n",
    "assert len(foreground_direct) == 1\n",
    "assert foreground_direct[0][0] == 'Sheet1'\n",
    "\n",
    "foreground_direct = foreground_direct[0][1]"
   ]
  },
  {
   "cell_type": "code",
   "execution_count": 5,
   "metadata": {},
   "outputs": [
    {
     "data": {
      "text/plain": [
       "(115, 30)"
      ]
     },
     "execution_count": 5,
     "metadata": {},
     "output_type": "execute_result"
    }
   ],
   "source": [
    "# Remove empty columns\n",
    "len(foreground_direct), len([x for x in foreground_direct[0] if x])"
   ]
  },
  {
   "cell_type": "code",
   "execution_count": 6,
   "metadata": {},
   "outputs": [],
   "source": [
    "def chop_empty_columns(data):\n",
    "    last_column = max([i for i, value in enumerate(data[0]) if value.strip()])\n",
    "    return [row[:last_column + 1] for row in data]"
   ]
  },
  {
   "cell_type": "code",
   "execution_count": 7,
   "metadata": {},
   "outputs": [
    {
     "data": {
      "text/plain": [
       "(115, 32)"
      ]
     },
     "execution_count": 7,
     "metadata": {},
     "output_type": "execute_result"
    }
   ],
   "source": [
    "foreground_direct = chop_empty_columns(foreground_direct)\n",
    "len(foreground_direct), len(foreground_direct[0])"
   ]
  },
  {
   "cell_type": "code",
   "execution_count": 8,
   "metadata": {},
   "outputs": [],
   "source": [
    "foreground_intermediate = ExcelExtractor.extract(\"data/Foreground intermediate.xlsx\")\n",
    "\n",
    "assert len(foreground_intermediate) == 1\n",
    "assert foreground_intermediate[0][0] == 'Sheet1'\n",
    "\n",
    "foreground_intermediate = foreground_intermediate[0][1]"
   ]
  },
  {
   "cell_type": "code",
   "execution_count": 9,
   "metadata": {},
   "outputs": [],
   "source": [
    "foreground_intermediate = chop_empty_columns(foreground_intermediate)"
   ]
  },
  {
   "cell_type": "code",
   "execution_count": 10,
   "metadata": {},
   "outputs": [],
   "source": [
    "def transform_into_datasets(data, col_offset, headers):\n",
    "    activities = [{'exchanges': []} for _ in data[0][col_offset:]]\n",
    "    for row_index in range(headers):\n",
    "        label = data[row_index][col_offset - 1]\n",
    "        if not label:\n",
    "            continue\n",
    "        for col_index, value in enumerate(data[row_index][col_offset:]):\n",
    "            activities[col_index][label] = value\n",
    "            \n",
    "    exc_labels = data[headers - 1][:col_offset]\n",
    "            \n",
    "    for row_index in range(headers, len(data)):\n",
    "        exc_metadata = {label: value for label, value in zip(exc_labels, data[row_index])}\n",
    "        \n",
    "        for col_index, value in enumerate(data[row_index][col_offset:]):\n",
    "            if value:\n",
    "                dct = deepcopy(exc_metadata)\n",
    "                dct['amount'] = float(value)\n",
    "                activities[col_index]['exchanges'].append(dct)\n",
    "\n",
    "    # Production exchange amounts are given in row 2\n",
    "    for col_index, value in enumerate(data[2][col_offset:]):\n",
    "        activities[col_index]['exchanges'].append({'type': 'production', 'amount': float(value)})\n",
    "                \n",
    "    return activities"
   ]
  },
  {
   "cell_type": "code",
   "execution_count": 11,
   "metadata": {
    "scrolled": false
   },
   "outputs": [
    {
     "data": {
      "text/plain": [
       "{'exchanges': [{'Compartment': '',\n",
       "   'Product/Substance': 'Link to: Market for arable land {GLO}',\n",
       "   'Sub-compartment': '',\n",
       "   'Type': 'ha a',\n",
       "   'amount': 0.89},\n",
       "  {'Compartment': '',\n",
       "   'Product/Substance': 'Link to: Road transport {UA} 16-32 t truck',\n",
       "   'Sub-compartment': '',\n",
       "   'Type': 'tkm',\n",
       "   'amount': 119.17193191325892},\n",
       "  {'Compartment': '',\n",
       "   'Product/Substance': 'Link to: N-fertiliser, urea, as N {UA}',\n",
       "   'Sub-compartment': '',\n",
       "   'Type': 'kg',\n",
       "   'amount': 8.763862591290234},\n",
       "  {'Compartment': '',\n",
       "   'Product/Substance': 'Link to: N-fertiliser, ammonium nitrate, as N {UA}',\n",
       "   'Sub-compartment': '',\n",
       "   'Type': 'kg',\n",
       "   'amount': 49.49959426562078},\n",
       "  {'Compartment': '',\n",
       "   'Product/Substance': 'Link to: N-fertiliser, ammonium sulphate, as N {UA}',\n",
       "   'Sub-compartment': '',\n",
       "   'Type': 'kg',\n",
       "   'amount': 1.736543143088991},\n",
       "  {'Compartment': '',\n",
       "   'Product/Substance': 'Link to: P-fertiliser, triple superphosphate, as P2O5 {UA}',\n",
       "   'Sub-compartment': '',\n",
       "   'Type': 'kg',\n",
       "   'amount': 60.0},\n",
       "  {'Compartment': '',\n",
       "   'Product/Substance': 'Link to: K-fertiliser, pottasium chloride, as K2O {UA}',\n",
       "   'Sub-compartment': '',\n",
       "   'Type': 'kg',\n",
       "   'amount': 60.0},\n",
       "  {'Compartment': '',\n",
       "   'Product/Substance': 'Link to: Water {UA}',\n",
       "   'Sub-compartment': '',\n",
       "   'Type': 'm3',\n",
       "   'amount': 0.0486479596104128},\n",
       "  {'Compartment': '',\n",
       "   'Product/Substance': 'Link to: Diesel {UA} Fuel',\n",
       "   'Sub-compartment': '',\n",
       "   'Type': 'ton',\n",
       "   'amount': 0.07067791183294662},\n",
       "  {'Compartment': '',\n",
       "   'Product/Substance': 'Link to: Fuel oil {UA} Fuel',\n",
       "   'Sub-compartment': '',\n",
       "   'Type': 'ton',\n",
       "   'amount': 2.5839e-05},\n",
       "  {'Compartment': 'Air',\n",
       "   'Product/Substance': 'Ammonia',\n",
       "   'Sub-compartment': '',\n",
       "   'Type': 'kg',\n",
       "   'amount': 6.192857142857143},\n",
       "  {'Compartment': 'Air',\n",
       "   'Product/Substance': 'Dinitrogen monoxide',\n",
       "   'Sub-compartment': '',\n",
       "   'Type': 'kg',\n",
       "   'amount': 1.7277720549257143},\n",
       "  {'Compartment': 'Air',\n",
       "   'Product/Substance': 'Nitrogen oxides',\n",
       "   'Sub-compartment': '',\n",
       "   'Type': 'kg',\n",
       "   'amount': 1.928571428571429},\n",
       "  {'Compartment': 'Water',\n",
       "   'Product/Substance': 'Nitrate',\n",
       "   'Sub-compartment': '',\n",
       "   'Type': 'kg',\n",
       "   'amount': 112.73783278628574},\n",
       "  {'Compartment': 'Raw',\n",
       "   'Product/Substance': 'Occupation, arable',\n",
       "   'Sub-compartment': '',\n",
       "   'Type': 'ha a',\n",
       "   'amount': 1.0},\n",
       "  {'type': 'production', 'amount': 2252.0}],\n",
       " 'Product': 'Barley cultivation [barley]/UA',\n",
       " 'Unit': 'kg',\n",
       " 'Category': '\\\\_5 Veg Oil case\\\\_crop cultivation',\n",
       " 'Comment': '',\n",
       " 'Type': 'Material'}"
      ]
     },
     "execution_count": 11,
     "metadata": {},
     "output_type": "execute_result"
    }
   ],
   "source": [
    "fd = transform_into_datasets(foreground_direct, 4, 7)\n",
    "fd[0]"
   ]
  },
  {
   "cell_type": "code",
   "execution_count": 12,
   "metadata": {},
   "outputs": [
    {
     "data": {
      "text/plain": [
       "{'exchanges': [{'type': 'production', 'amount': 1.0}],\n",
       " 'Product': 'Treatment of shells',\n",
       " 'Unit': 'kg',\n",
       " 'Category': '\\\\_5 Veg Oil case\\\\_food industry',\n",
       " 'Comment': '',\n",
       " 'Type': 'Material'}"
      ]
     },
     "execution_count": 12,
     "metadata": {},
     "output_type": "execute_result"
    }
   ],
   "source": [
    "fd[-1]"
   ]
  },
  {
   "cell_type": "code",
   "execution_count": 13,
   "metadata": {},
   "outputs": [
    {
     "data": {
      "text/plain": [
       "{'exchanges': [{'Compartment': '',\n",
       "   'Product/Substance': '_61 N-fertiliser {WL} (product market, hybrid units)',\n",
       "   'Sub-compartment': '',\n",
       "   'Type': 'ton',\n",
       "   'amount': 1.0},\n",
       "  {'type': 'production', 'amount': 1.0}],\n",
       " 'Product': 'Link to: N-fertiliser, ammonium nitrate, as N {AR}',\n",
       " 'Unit': 'ton',\n",
       " 'Category': '\\\\_5 Veg Oil case\\\\_Link to background: Exiobase',\n",
       " 'Comment': 'Link to Exiobase v3.3.13b2',\n",
       " 'Type': 'Material'}"
      ]
     },
     "execution_count": 13,
     "metadata": {},
     "output_type": "execute_result"
    }
   ],
   "source": [
    "fi = transform_into_datasets(foreground_intermediate, 4, 7)\n",
    "fi[0]"
   ]
  },
  {
   "cell_type": "code",
   "execution_count": 14,
   "metadata": {},
   "outputs": [
    {
     "data": {
      "text/plain": [
       "{'exchanges': [{'Compartment': '',\n",
       "   'Product/Substance': 'Arable land, as ha*year-eq. (linked)',\n",
       "   'Sub-compartment': '',\n",
       "   'Type': 'ha a',\n",
       "   'amount': 1.0},\n",
       "  {'type': 'production', 'amount': 1.0}],\n",
       " 'Product': 'Link to: Market for arable land {GLO}',\n",
       " 'Unit': 'ha a',\n",
       " 'Category': '\\\\_5 Veg Oil case\\\\_Link to background: Exiobase',\n",
       " 'Comment': 'Link to Exiobase v3.3.13b2. This activity is empty because the refinery capital goods and services are already included with the oil mill capital goods and services (because the oil mill and refinery are aggregated in Exiobase)',\n",
       " 'Type': 'Material'}"
      ]
     },
     "execution_count": 14,
     "metadata": {},
     "output_type": "execute_result"
    }
   ],
   "source": [
    "fi[-1]"
   ]
  },
  {
   "cell_type": "markdown",
   "metadata": {},
   "source": [
    "# Creating an `importer` object"
   ]
  },
  {
   "cell_type": "code",
   "execution_count": 15,
   "metadata": {},
   "outputs": [],
   "source": [
    "ei = LCIImporter(\"Oil seeds\")\n",
    "ei.data = fd + fi\n",
    "del ei.strategies[2]"
   ]
  },
  {
   "cell_type": "markdown",
   "metadata": {},
   "source": [
    "Now the fun part begins. We need to get things into a format the Brightway can understand, and one where it can find links. Right now we have lot of exchanges, but no links. Let's start with standardizing some labels.\n",
    "\n",
    "## Standard labels"
   ]
  },
  {
   "cell_type": "code",
   "execution_count": 16,
   "metadata": {},
   "outputs": [],
   "source": [
    "def change_activity_labels(data):\n",
    "    mapping = {\n",
    "        'Product': 'name',\n",
    "        'Type': 'kind',\n",
    "        'Unit': 'unit'\n",
    "    }\n",
    "    for ds in data:\n",
    "        for key, value in mapping.items():\n",
    "            if key in ds:\n",
    "                ds[value] = ds.pop(key)\n",
    "    return data"
   ]
  },
  {
   "cell_type": "code",
   "execution_count": 17,
   "metadata": {},
   "outputs": [],
   "source": [
    "def change_exchange_labels(data):\n",
    "    mapping = {\n",
    "        'Product/Substance': 'name',\n",
    "        'Type': 'unit',  # !?\n",
    "    }\n",
    "    for ds in data:\n",
    "        for exc in ds['exchanges']:\n",
    "            for key, value in mapping.items():\n",
    "                if key in exc:\n",
    "                    exc[value] = exc.pop(key)\n",
    "    return data"
   ]
  },
  {
   "cell_type": "code",
   "execution_count": 18,
   "metadata": {},
   "outputs": [
    {
     "name": "stdout",
     "output_type": "stream",
     "text": [
      "Applying strategy: change_activity_labels\n",
      "Applying strategy: change_exchange_labels\n"
     ]
    }
   ],
   "source": [
    "ei.apply_strategy(change_activity_labels)\n",
    "ei.apply_strategy(change_exchange_labels)"
   ]
  },
  {
   "cell_type": "markdown",
   "metadata": {},
   "source": [
    "## `unit`"
   ]
  },
  {
   "cell_type": "code",
   "execution_count": 19,
   "metadata": {},
   "outputs": [],
   "source": [
    "from bw2io.strategies import normalize_units"
   ]
  },
  {
   "cell_type": "code",
   "execution_count": 20,
   "metadata": {},
   "outputs": [
    {
     "name": "stdout",
     "output_type": "stream",
     "text": [
      "Applying strategy: normalize_units\n"
     ]
    }
   ],
   "source": [
    "ei.apply_strategy(normalize_units)"
   ]
  },
  {
   "cell_type": "markdown",
   "metadata": {},
   "source": [
    "We have one more unit to fix - `ha a`, or the occupation of one hectare for one year. Normally we could do `ei.migrate(\"default-units\")`, which would convert this unit to what our base flow list expects (occupation of square meter - year), but this would change all our tonnes to kilograms, meaning we would have the wrong unit to link to exiobase. So we treat this as a special case migration.\n",
    "\n",
    "('ha a', 'square meter-year', 1e4)"
   ]
  },
  {
   "cell_type": "code",
   "execution_count": 21,
   "metadata": {},
   "outputs": [
    {
     "name": "stdout",
     "output_type": "stream",
     "text": [
      "Applying strategy: migrate_datasets\n",
      "Applying strategy: migrate_exchanges\n"
     ]
    }
   ],
   "source": [
    "bw.Migration(\"hecatare-units\").write({\n",
    "    'fields': ['unit'],\n",
    "    'data': [\n",
    "        (\n",
    "            ('ha a',),\n",
    "            {'unit': 'square meter-year', 'multiplier': 1e4}\n",
    "        )\n",
    "    ]\n",
    "}, 'Change only `ha a` units')\n",
    "\n",
    "ei.migrate(\"hecatare-units\")"
   ]
  },
  {
   "cell_type": "code",
   "execution_count": 22,
   "metadata": {},
   "outputs": [
    {
     "data": {
      "text/plain": [
       "{'MEUR2011',\n",
       " None,\n",
       " 'cubic meter',\n",
       " 'kilogram',\n",
       " 'kilowatt hour',\n",
       " 'megajoule',\n",
       " 'square meter-year',\n",
       " 'ton',\n",
       " 'ton kilometer'}"
      ]
     },
     "execution_count": 22,
     "metadata": {},
     "output_type": "execute_result"
    }
   ],
   "source": [
    "{ds['unit'] for ds in ei.data}.union({exc.get('unit') for ds in ei.data for exc in ds['exchanges']})"
   ]
  },
  {
   "attachments": {},
   "cell_type": "markdown",
   "metadata": {},
   "source": [
    "EXIOBASE uses `Meuro` instead of `MEUR2011`, let's change this."
   ]
  },
  {
   "cell_type": "code",
   "execution_count": 23,
   "metadata": {},
   "outputs": [
    {
     "name": "stdout",
     "output_type": "stream",
     "text": [
      "Applying strategy: migrate_datasets\n",
      "Applying strategy: migrate_exchanges\n"
     ]
    }
   ],
   "source": [
    "bw.Migration(\"MEUR2011\").write({\n",
    "    'fields': ['unit'],\n",
    "    'data': [\n",
    "        (\n",
    "            # First element is input data in the order of `fields` above\n",
    "            ('MEUR2011',),\n",
    "            # Second element is new values to substitute\n",
    "            {\n",
    "                'unit': 'Meuro',\n",
    "            }\n",
    "        )\n",
    "    ]\n",
    "}, 'Change Euro unit label')\n",
    "\n",
    "ei.migrate(\"MEUR2011\")"
   ]
  },
  {
   "cell_type": "code",
   "execution_count": 24,
   "metadata": {},
   "outputs": [
    {
     "data": {
      "text/plain": [
       "{'Meuro', 'TJ', 'ton'}"
      ]
     },
     "execution_count": 24,
     "metadata": {},
     "output_type": "execute_result"
    }
   ],
   "source": [
    "{ds['unit'] for ds in bw.Database(\"EXIOBASE 3.3.17 hybrid\")}"
   ]
  },
  {
   "cell_type": "markdown",
   "metadata": {},
   "source": [
    "## `database`\n",
    "\n",
    "We can label each dataset with out chosen database name"
   ]
  },
  {
   "cell_type": "code",
   "execution_count": 25,
   "metadata": {},
   "outputs": [],
   "source": [
    "from bw2io.strategies import add_database_name\n",
    "from functools import partial"
   ]
  },
  {
   "cell_type": "code",
   "execution_count": 26,
   "metadata": {},
   "outputs": [
    {
     "name": "stdout",
     "output_type": "stream",
     "text": [
      "Applying strategy: add_database_name\n"
     ]
    }
   ],
   "source": [
    "ei.apply_strategy(partial(add_database_name, name=ei.db_name))"
   ]
  },
  {
   "cell_type": "markdown",
   "metadata": {},
   "source": [
    "## `categories` and exchange types\n",
    "\n",
    "Let's fix up this `Compartment` and `Sub-compartment` stuff to our standard `categories`:"
   ]
  },
  {
   "cell_type": "code",
   "execution_count": 27,
   "metadata": {},
   "outputs": [],
   "source": [
    "def relabel_categories(data):\n",
    "    for ds in data:\n",
    "        for exc in ds['exchanges']:\n",
    "            if 'Compartment' in exc:\n",
    "                exc['categories'] = (exc.pop(\"Compartment\").lower(), exc.pop(\"Sub-compartment\").lower())\n",
    "    return data"
   ]
  },
  {
   "cell_type": "code",
   "execution_count": 28,
   "metadata": {},
   "outputs": [
    {
     "name": "stdout",
     "output_type": "stream",
     "text": [
      "Applying strategy: relabel_categories\n"
     ]
    }
   ],
   "source": [
    "ei.apply_strategy(relabel_categories)"
   ]
  },
  {
   "cell_type": "code",
   "execution_count": 29,
   "metadata": {},
   "outputs": [],
   "source": [
    "from bw2io.strategies import drop_unspecified_subcategories"
   ]
  },
  {
   "cell_type": "code",
   "execution_count": 30,
   "metadata": {},
   "outputs": [
    {
     "name": "stdout",
     "output_type": "stream",
     "text": [
      "Applying strategy: drop_unspecified_subcategories\n"
     ]
    }
   ],
   "source": [
    "ei.apply_strategy(drop_unspecified_subcategories)"
   ]
  },
  {
   "cell_type": "markdown",
   "metadata": {},
   "source": [
    "I think every exchange with `categories` is a biosphere exchange, let's check."
   ]
  },
  {
   "cell_type": "code",
   "execution_count": 31,
   "metadata": {},
   "outputs": [
    {
     "data": {
      "text/plain": [
       "{'Ammonia',\n",
       " 'Carbon dioxide',\n",
       " 'Dinitrogen monoxide',\n",
       " 'Hexane',\n",
       " 'Hydrogen sulfide',\n",
       " 'Methane',\n",
       " 'Nitrate',\n",
       " 'Nitrogen oxides',\n",
       " 'Occupation, arable',\n",
       " 'Phosphorus'}"
      ]
     },
     "execution_count": 31,
     "metadata": {},
     "output_type": "execute_result"
    }
   ],
   "source": [
    "{exc['name'] for ds in ei.data for exc in ds['exchanges'] if exc.get('categories')}"
   ]
  },
  {
   "cell_type": "markdown",
   "metadata": {},
   "source": [
    "Looks good. Let's mark these as `biosphere` exchanges, and the others as `technosphere` exchanges."
   ]
  },
  {
   "cell_type": "code",
   "execution_count": 32,
   "metadata": {},
   "outputs": [],
   "source": [
    "def label_exchange_type(data):\n",
    "    for ds in data:\n",
    "        for exc in ds['exchanges']:\n",
    "            if exc.get('type'):\n",
    "                # production exchanges from initial import\n",
    "                continue\n",
    "            exc['type'] = 'biosphere' if exc.get('categories') else 'technosphere'\n",
    "    return data"
   ]
  },
  {
   "cell_type": "code",
   "execution_count": 33,
   "metadata": {},
   "outputs": [
    {
     "name": "stdout",
     "output_type": "stream",
     "text": [
      "Applying strategy: label_exchange_type\n"
     ]
    }
   ],
   "source": [
    "ei.apply_strategy(label_exchange_type)"
   ]
  },
  {
   "cell_type": "markdown",
   "metadata": {},
   "source": [
    "## `location`\n",
    "\n",
    "We will need to strip locations from names like `Market for arable land {GLO}`. We can do this with a regular expression:"
   ]
  },
  {
   "cell_type": "code",
   "execution_count": 34,
   "metadata": {},
   "outputs": [],
   "source": [
    "import re"
   ]
  },
  {
   "cell_type": "code",
   "execution_count": 35,
   "metadata": {},
   "outputs": [],
   "source": [
    "location_finder = re.compile(r\"\\{(.*?)\\}\")"
   ]
  },
  {
   "cell_type": "code",
   "execution_count": 36,
   "metadata": {},
   "outputs": [
    {
     "data": {
      "text/plain": [
       "['GLO']"
      ]
     },
     "execution_count": 36,
     "metadata": {},
     "output_type": "execute_result"
    }
   ],
   "source": [
    "location_finder.findall(\"Market for arable land {GLO}\")"
   ]
  },
  {
   "cell_type": "code",
   "execution_count": 37,
   "metadata": {},
   "outputs": [],
   "source": [
    "def strip_locations(data):\n",
    "    for ds in data:\n",
    "        location = location_finder.findall(ds['name'])\n",
    "        if location:\n",
    "            ds['name'] = ds['name'].replace(\"{\" + location[0] + \"}\", \"\").strip()\n",
    "            ds['location'] = location[0]\n",
    "        \n",
    "        for exc in ds['exchanges']:\n",
    "            if 'name' not in exc:\n",
    "                continue\n",
    "            location = location_finder.findall(exc['name'])\n",
    "            if location:\n",
    "                exc['name'] = exc['name'].replace(\"{\" + location[0] + \"}\", \"\").strip()\n",
    "                exc['location'] = location[0]\n",
    "    return data"
   ]
  },
  {
   "cell_type": "code",
   "execution_count": 38,
   "metadata": {},
   "outputs": [
    {
     "name": "stdout",
     "output_type": "stream",
     "text": [
      "Applying strategy: strip_locations\n"
     ]
    }
   ],
   "source": [
    "ei.apply_strategy(strip_locations)"
   ]
  },
  {
   "cell_type": "code",
   "execution_count": 39,
   "metadata": {},
   "outputs": [
    {
     "data": {
      "text/plain": [
       "{'Barley cultivation [barley]/UA',\n",
       " 'Barley to generic market for feed [energy feed]/GLO',\n",
       " 'Link to: 2.4  Dimethyl amine 40% as A.I.',\n",
       " 'Link to: Agricultural machinery',\n",
       " 'Link to: Ammonium glufosinat (Inteam 150 SL)',\n",
       " 'Link to: Azoxistrobin dan Difenokonazo (Amnistra top)',\n",
       " 'Link to: Benomil',\n",
       " 'Link to: Bleaching earth',\n",
       " 'Link to: Caustic Soda, as 100% conc  Market',\n",
       " 'Link to: Citric acid  Market',\n",
       " 'Link to: Coal  Fuel',\n",
       " 'Link to: Cypermethrin',\n",
       " 'Link to: Diesel  Fuel',\n",
       " 'Link to: Dimehipo (Marathon 500SL)',\n",
       " 'Link to: Diuron',\n",
       " 'Link to: Electricity  Market',\n",
       " 'Link to: Erkafuron',\n",
       " 'Link to: Floroksifir metil heptil ester',\n",
       " 'Link to: Fuel oil  Fuel',\n",
       " 'Link to: Glufosinate',\n",
       " 'Link to: Glyphosate, 41% as A.I.',\n",
       " 'Link to: Hydrogen  Market',\n",
       " 'Link to: Indaziflam 500 g/l (Becano 500 SC)',\n",
       " 'Link to: Isopropil amina glyphosate',\n",
       " 'Link to: Jetfuel  Fuel',\n",
       " 'Link to: K-fertiliser, pottasium chloride, as K2O',\n",
       " 'Link to: Karbosulfan 5%  (Marshall 5g)',\n",
       " 'Link to: Landfill of bleaching earth',\n",
       " 'Link to: Landfill of oil loss',\n",
       " 'Link to: Lime (calcium hydroxide)',\n",
       " 'Link to: Lubricants and hydraulic oil  Fuel',\n",
       " 'Link to: Market for arable land',\n",
       " 'Link to: Metil Metsulfuron',\n",
       " 'Link to: N-fertiliser, ammonium chloride, as N',\n",
       " 'Link to: N-fertiliser, ammonium nitrate, as N',\n",
       " 'Link to: N-fertiliser, ammonium sulphate, as N',\n",
       " 'Link to: N-fertiliser, urea, as N',\n",
       " 'Link to: Natural gas  Fuel',\n",
       " 'Link to: Nitrogen  Market',\n",
       " 'Link to: P-fertiliser, rock phosphate, as P2O5',\n",
       " 'Link to: P-fertiliser, single superphosphate, as P2O5',\n",
       " 'Link to: P-fertiliser, triple superphosphate, as P2O5',\n",
       " 'Link to: Packaging plastics',\n",
       " 'Link to: Packaging steel',\n",
       " 'Link to: Paraquat (Gramoxone)',\n",
       " 'Link to: Petrol  Fuel',\n",
       " 'Link to: Phosphoric acid, as 100% conc  Market',\n",
       " 'Link to: Plastics waste to landfill',\n",
       " 'Link to: Plastics waste to recycling',\n",
       " 'Link to: Portal 60EC',\n",
       " 'Link to: Road transport  16-32 t truck',\n",
       " 'Link to: Road transport cap&ser  16-32 t truck',\n",
       " 'Link to: Roll up 480 SL',\n",
       " 'Link to: Salt',\n",
       " 'Link to: Sea transport  Transoceanic tanker',\n",
       " 'Link to: Sime Ebor Baits',\n",
       " 'Link to: Sodium hydroxide',\n",
       " 'Link to: Starane',\n",
       " 'Link to: Starthene 75 WG',\n",
       " 'Link to: Steel scrap to recycling',\n",
       " 'Link to: Sulphuric acid, as 100% conc  Market',\n",
       " 'Link to: Triclopyr, 44% as A.I.',\n",
       " 'Link to: Tricolophyr (Garlon)',\n",
       " 'Link to: Warfarin',\n",
       " 'Link to: Water',\n",
       " 'Link to: sodium hydroxide',\n",
       " 'Oil palm cultivation [FFB]/MY',\n",
       " 'Palm kernel oil mill [Kernel processing]/MY',\n",
       " 'Palm kernel oil refinery [CPKO processing]/MY',\n",
       " 'Palm oil mill [CPO]/MY',\n",
       " 'Palm oil refinery [NBD palm oil]/MY',\n",
       " 'Peanut cultivation [in-shell peanuts]/IN',\n",
       " 'Peanut oil mill [Peanut oil]/IN',\n",
       " 'Peanut oil refinery [Refined peanut oil]/IN',\n",
       " 'Rapeseed cultivation [rapeseed]/EU27',\n",
       " 'Rapeseed oil mill [Rapeseed oil]/EU27',\n",
       " 'Rapeseed oil refinery [Refined rapeseed oil]/EU27',\n",
       " 'Soybean cultivation [soybean]/BR',\n",
       " 'Soybean meal to generic market for feed [protein feed]/GLO',\n",
       " 'Soybean oil mill [SBM]/BR',\n",
       " 'Soybean oil refinery [CSBO processing]/BR',\n",
       " 'Sunflower cultivation [sunflower seeds]/UA',\n",
       " 'Sunflower oil mill [Sunflower oil]/UA',\n",
       " 'Sunflower oil refinery [Refined sunflower oil]/UA',\n",
       " 'Treatment of shells',\n",
       " 'Utilisation of EFB as fertiliser [EFB treatment]/MY',\n",
       " 'Utilisation of FFA as feed [FFA treatment]/GLO',\n",
       " 'Utilisation of POME as fertiliser [POME treatment]/MY',\n",
       " 'Utilisation of palm kernel meal as feed [PKM treatment]/GLO',\n",
       " 'Utilisation of peanut meal as feed [PM treatment]/GLO',\n",
       " 'Utilisation of rapeseed meal as feed [RSM treatment]/GLO',\n",
       " 'Utilisation of sunflower meal as feed [RSM treatment]/GLO'}"
      ]
     },
     "execution_count": 39,
     "metadata": {},
     "output_type": "execute_result"
    }
   ],
   "source": [
    "{ds['name'] for ds in ei.data}"
   ]
  },
  {
   "cell_type": "markdown",
   "metadata": {},
   "source": [
    "Looks like we need another strategy for pesky name/location combos"
   ]
  },
  {
   "cell_type": "code",
   "execution_count": 40,
   "metadata": {},
   "outputs": [],
   "source": [
    "location_finder2 = re.compile(r\"(?P<geo>/[A-Z0-9]{2,4})$\")"
   ]
  },
  {
   "cell_type": "code",
   "execution_count": 41,
   "metadata": {},
   "outputs": [
    {
     "data": {
      "text/plain": [
       "['/GLO']"
      ]
     },
     "execution_count": 41,
     "metadata": {},
     "output_type": "execute_result"
    }
   ],
   "source": [
    "location_finder2.findall('Utilisation of sunflower meal as feed [RSM treatment]/GLO')"
   ]
  },
  {
   "cell_type": "code",
   "execution_count": 42,
   "metadata": {},
   "outputs": [
    {
     "data": {
      "text/plain": [
       "['/EU27']"
      ]
     },
     "execution_count": 42,
     "metadata": {},
     "output_type": "execute_result"
    }
   ],
   "source": [
    "location_finder2.findall('Rapeseed oil refinery [Refined rapeseed oil]/EU27')"
   ]
  },
  {
   "cell_type": "code",
   "execution_count": 43,
   "metadata": {},
   "outputs": [],
   "source": [
    "def strip_locations2(data):\n",
    "    for ds in data:\n",
    "        location = location_finder2.findall(ds['name'])\n",
    "        if location:\n",
    "            ds['name'] = ds['name'].replace(location[0], \"\").strip()\n",
    "            ds['location'] = location[0][1:]\n",
    "        \n",
    "        for exc in ds['exchanges']:\n",
    "            if 'name' not in exc:\n",
    "                continue\n",
    "            location = location_finder2.findall(exc['name'])\n",
    "            if location:\n",
    "                exc['name'] = exc['name'].replace(location[0], \"\").strip()\n",
    "                exc['location'] = location[0][1:]\n",
    "    return data"
   ]
  },
  {
   "cell_type": "code",
   "execution_count": 44,
   "metadata": {},
   "outputs": [
    {
     "name": "stdout",
     "output_type": "stream",
     "text": [
      "Applying strategy: strip_locations2\n"
     ]
    }
   ],
   "source": [
    "ei.apply_strategy(strip_locations2)"
   ]
  },
  {
   "cell_type": "markdown",
   "metadata": {},
   "source": [
    "There is still one activity without a location:"
   ]
  },
  {
   "cell_type": "code",
   "execution_count": 45,
   "metadata": {},
   "outputs": [
    {
     "name": "stdout",
     "output_type": "stream",
     "text": [
      "Treatment of shells\n"
     ]
    }
   ],
   "source": [
    "for ds in ei.data:\n",
    "    if not ds.get('location'):\n",
    "        print(ds['name'])"
   ]
  },
  {
   "cell_type": "code",
   "execution_count": 46,
   "metadata": {},
   "outputs": [],
   "source": [
    "def default_global_location(data):\n",
    "    for ds in data:\n",
    "        if not ds.get('location') or ds['location'] == '(unknown)':\n",
    "            ds['location'] = 'GLO'\n",
    "        for exc in ds['exchanges']:\n",
    "            if not exc.get('location') or exc['location'] == '(unknown)':\n",
    "                exc['location'] = 'GLO'\n",
    "\n",
    "    return data"
   ]
  },
  {
   "cell_type": "code",
   "execution_count": 47,
   "metadata": {},
   "outputs": [
    {
     "name": "stdout",
     "output_type": "stream",
     "text": [
      "Applying strategy: default_global_location\n"
     ]
    }
   ],
   "source": [
    "ei.apply_strategy(default_global_location)"
   ]
  },
  {
   "cell_type": "markdown",
   "metadata": {},
   "source": [
    "## `code`\n",
    "\n",
    "Let's see if we can create a meaningful `code` instead of a random string."
   ]
  },
  {
   "cell_type": "code",
   "execution_count": 48,
   "metadata": {},
   "outputs": [
    {
     "data": {
      "text/plain": [
       "(267, 267)"
      ]
     },
     "execution_count": 48,
     "metadata": {},
     "output_type": "execute_result"
    }
   ],
   "source": [
    "len(ei.data), len({(ds['name'], ds['location']) for ds in ei.data})"
   ]
  },
  {
   "cell_type": "code",
   "execution_count": 49,
   "metadata": {},
   "outputs": [],
   "source": [
    "def generate_code(data):\n",
    "    for ds in data:\n",
    "        ds['code'] = \"{}-{}\".format(ds['name'], ds['location'])\n",
    "    return data"
   ]
  },
  {
   "cell_type": "code",
   "execution_count": 50,
   "metadata": {},
   "outputs": [
    {
     "name": "stdout",
     "output_type": "stream",
     "text": [
      "Applying strategy: generate_code\n"
     ]
    }
   ],
   "source": [
    "ei.apply_strategy(generate_code)"
   ]
  },
  {
   "cell_type": "markdown",
   "metadata": {},
   "source": [
    "WIth this code, we can set `input` for the production exchanges"
   ]
  },
  {
   "cell_type": "code",
   "execution_count": 51,
   "metadata": {},
   "outputs": [],
   "source": [
    "def link_production_exchanges(data):\n",
    "    for ds in data:\n",
    "        prod = [exc for exc in ds['exchanges'] if exc['type'] == 'production']\n",
    "        assert len(prod) == 1\n",
    "        prod = prod[0]\n",
    "        prod['input'] = (ds['database'], ds['code'])\n",
    "    return data"
   ]
  },
  {
   "cell_type": "code",
   "execution_count": 52,
   "metadata": {},
   "outputs": [
    {
     "name": "stdout",
     "output_type": "stream",
     "text": [
      "Applying strategy: link_production_exchanges\n"
     ]
    }
   ],
   "source": [
    "ei.apply_strategy(link_production_exchanges)"
   ]
  },
  {
   "cell_type": "markdown",
   "metadata": {},
   "source": [
    "# Internal linking \n",
    "\n",
    "We can now apply the \"generic\" default strategies."
   ]
  },
  {
   "cell_type": "code",
   "execution_count": 53,
   "metadata": {},
   "outputs": [
    {
     "name": "stdout",
     "output_type": "stream",
     "text": [
      "Applying strategy: normalize_units\n",
      "Applying strategy: drop_unspecified_subcategories\n",
      "Applying strategy: strip_biosphere_exc_locations\n",
      "Applied 3 strategies in 0.00 seconds\n"
     ]
    }
   ],
   "source": [
    "ei.apply_strategies()"
   ]
  },
  {
   "cell_type": "markdown",
   "metadata": {},
   "source": [
    "We are ready to start thinking about internal linking. Let's see if the names will match up, first by checking whether names are unique, and then by looking at them manually"
   ]
  },
  {
   "cell_type": "code",
   "execution_count": 54,
   "metadata": {},
   "outputs": [
    {
     "data": {
      "text/plain": [
       "(267, 92)"
      ]
     },
     "execution_count": 54,
     "metadata": {},
     "output_type": "execute_result"
    }
   ],
   "source": [
    "len(ei.data), len({ds['name'] for ds in ei.data})"
   ]
  },
  {
   "cell_type": "code",
   "execution_count": 55,
   "metadata": {},
   "outputs": [
    {
     "data": {
      "text/plain": [
       "(92, 73, 43)"
      ]
     },
     "execution_count": 55,
     "metadata": {},
     "output_type": "execute_result"
    }
   ],
   "source": [
    "dataset_names = {ds['name'] for ds in ei.data}\n",
    "exchange_names = {exc.get('name') for ds in ei.data for exc in ds['exchanges']}\n",
    "len(dataset_names), len(exchange_names), len(dataset_names.intersection(exchange_names))"
   ]
  },
  {
   "cell_type": "code",
   "execution_count": 56,
   "metadata": {},
   "outputs": [
    {
     "name": "stdout",
     "output_type": "stream",
     "text": [
      "Applying strategy: link_iterable_by_fields\n"
     ]
    }
   ],
   "source": [
    "ei.match_database(fields=['name', 'location', 'unit'])"
   ]
  },
  {
   "cell_type": "code",
   "execution_count": 57,
   "metadata": {},
   "outputs": [
    {
     "name": "stdout",
     "output_type": "stream",
     "text": [
      "267 datasets\n",
      "911 exchanges\n",
      "529 unlinked exchanges\n",
      "  Type biosphere: 10 unique unlinked exchanges\n",
      "  Type technosphere: 141 unique unlinked exchanges\n"
     ]
    },
    {
     "data": {
      "text/plain": [
       "(267, 911, 529)"
      ]
     },
     "execution_count": 57,
     "metadata": {},
     "output_type": "execute_result"
    }
   ],
   "source": [
    "ei.statistics()"
   ]
  },
  {
   "cell_type": "markdown",
   "metadata": {},
   "source": [
    "## `biosphere` exchanges\n",
    "\n",
    "How many can we link without changing anything?"
   ]
  },
  {
   "cell_type": "code",
   "execution_count": 58,
   "metadata": {},
   "outputs": [
    {
     "name": "stdout",
     "output_type": "stream",
     "text": [
      "Applying strategy: link_iterable_by_fields\n"
     ]
    }
   ],
   "source": [
    "ei.match_database(\"biosphere3\", fields=['name', 'categories', 'unit'])"
   ]
  },
  {
   "cell_type": "code",
   "execution_count": 59,
   "metadata": {},
   "outputs": [
    {
     "name": "stdout",
     "output_type": "stream",
     "text": [
      "267 datasets\n",
      "911 exchanges\n",
      "499 unlinked exchanges\n",
      "  Type biosphere: 3 unique unlinked exchanges\n",
      "  Type technosphere: 141 unique unlinked exchanges\n"
     ]
    },
    {
     "data": {
      "text/plain": [
       "(267, 911, 499)"
      ]
     },
     "execution_count": 59,
     "metadata": {},
     "output_type": "execute_result"
    }
   ],
   "source": [
    "ei.statistics()"
   ]
  },
  {
   "cell_type": "markdown",
   "metadata": {},
   "source": [
    "Sweet, only 3 to fix manually. Let's look at them."
   ]
  },
  {
   "cell_type": "code",
   "execution_count": 60,
   "metadata": {},
   "outputs": [
    {
     "name": "stdout",
     "output_type": "stream",
     "text": [
      "Wrote matching file to:\n",
      "/Users/cmutel/Library/Application Support/Brightway3/EXIOBASE-regionalized-case-study.9666a926e52c1cc772cb07068bf407f2/output/db-matching-Oil-seeds-unlinked.xlsx\n"
     ]
    }
   ],
   "source": [
    "ei.write_excel(only_unlinked=True)"
   ]
  },
  {
   "attachments": {},
   "cell_type": "markdown",
   "metadata": {},
   "source": [
    "`Carbon dioxide` and `Methane`, both of which need to be labeled fossil (or not) to get a match. `Occupation, arable` is a shortened version of what we have in our master flow list:"
   ]
  },
  {
   "cell_type": "code",
   "execution_count": 61,
   "metadata": {},
   "outputs": [
    {
     "data": {
      "text/plain": [
       "['Occupation, arable, reduced tillage (obsolete)' (square meter, None, ('natural resource', 'land')),\n",
       " 'Occupation, arable, conservation tillage (obsolete)' (square meter, None, ('natural resource', 'land')),\n",
       " 'Occupation, arable land, unspecified use' (square meter-year, None, ('natural resource', 'land')),\n",
       " 'Occupation, arable, conventional tillage (obsolete)' (square meter, None, ('natural resource', 'land'))]"
      ]
     },
     "execution_count": 61,
     "metadata": {},
     "output_type": "execute_result"
    }
   ],
   "source": [
    "[x for x in bw.Database(\"biosphere3\") if x['name'].lower().startswith('occupation, arable')]"
   ]
  },
  {
   "cell_type": "code",
   "execution_count": 62,
   "metadata": {},
   "outputs": [
    {
     "name": "stdout",
     "output_type": "stream",
     "text": [
      "Applying strategy: migrate_datasets\n",
      "Applying strategy: migrate_exchanges\n"
     ]
    }
   ],
   "source": [
    "bw.Migration(\"oil-bio\").write({\n",
    "    'fields': ['name'],\n",
    "    'data': [\n",
    "        (('Carbon dioxide',), {'name': 'Carbon dioxide, fossil',}),\n",
    "        (('Methane',), {'name': 'Methane, fossil',}),\n",
    "        (('occupation, arable',), \n",
    "         {'name': 'Occupation, arable land, unspecified use', 'categories': ('natural resource', 'land')}),\n",
    "    ]\n",
    "}, 'Change some biosphere flows in oil seeds foreground')\n",
    "\n",
    "ei.migrate(\"oil-bio\")"
   ]
  },
  {
   "cell_type": "code",
   "execution_count": 63,
   "metadata": {},
   "outputs": [
    {
     "name": "stdout",
     "output_type": "stream",
     "text": [
      "Applying strategy: link_iterable_by_fields\n"
     ]
    }
   ],
   "source": [
    "ei.match_database(\"biosphere3\", fields=['name', 'categories', 'unit'])"
   ]
  },
  {
   "cell_type": "code",
   "execution_count": 64,
   "metadata": {},
   "outputs": [
    {
     "name": "stdout",
     "output_type": "stream",
     "text": [
      "267 datasets\n",
      "911 exchanges\n",
      "491 unlinked exchanges\n",
      "  Type technosphere: 141 unique unlinked exchanges\n"
     ]
    },
    {
     "data": {
      "text/plain": [
       "(267, 911, 491)"
      ]
     },
     "execution_count": 64,
     "metadata": {},
     "output_type": "execute_result"
    }
   ],
   "source": [
    "ei.statistics()"
   ]
  },
  {
   "cell_type": "markdown",
   "metadata": {},
   "source": [
    "This isn't actually correct - there are still unlinked biosphere exchanges, they are just mislabelled for now :)"
   ]
  },
  {
   "cell_type": "markdown",
   "metadata": {},
   "source": [
    "## `name`\n",
    "\n",
    "Let's clean up some names, starting with this pattern: `_64 Manufacture of rubber and plastic products (25)  (product market, hybrid units)`."
   ]
  },
  {
   "cell_type": "code",
   "execution_count": 65,
   "metadata": {},
   "outputs": [],
   "source": [
    "test_string = '_64 Manufacture of rubber and plastic products (25)  (product market, hybrid units)'"
   ]
  },
  {
   "cell_type": "code",
   "execution_count": 66,
   "metadata": {},
   "outputs": [],
   "source": [
    "numeric_start = re.compile(\"^[0-9_]\\d\\d\")"
   ]
  },
  {
   "cell_type": "code",
   "execution_count": 67,
   "metadata": {},
   "outputs": [
    {
     "data": {
      "text/plain": [
       "['_64']"
      ]
     },
     "execution_count": 67,
     "metadata": {},
     "output_type": "execute_result"
    }
   ],
   "source": [
    "numeric_start.findall(test_string)"
   ]
  },
  {
   "cell_type": "code",
   "execution_count": 68,
   "metadata": {},
   "outputs": [],
   "source": [
    "test_string = '_64 Manufacture of rubber and plastic products (25)'"
   ]
  },
  {
   "cell_type": "code",
   "execution_count": 69,
   "metadata": {},
   "outputs": [],
   "source": [
    "numeric_end = re.compile(\"\\(\\d\\d\\)$\")"
   ]
  },
  {
   "cell_type": "code",
   "execution_count": 70,
   "metadata": {},
   "outputs": [
    {
     "data": {
      "text/plain": [
       "['(25)']"
      ]
     },
     "execution_count": 70,
     "metadata": {},
     "output_type": "execute_result"
    }
   ],
   "source": [
    "numeric_end.findall(test_string)"
   ]
  },
  {
   "cell_type": "code",
   "execution_count": 71,
   "metadata": {},
   "outputs": [],
   "source": [
    "def clean_name(name):\n",
    "    name = name.replace(\"(product market, hybrid units)\", \"\").replace(\"Link to: \", \"\").strip()\n",
    "    prefix = numeric_start.findall(name)\n",
    "    if prefix:\n",
    "        name = name.replace(prefix[0], '').strip()\n",
    "    suffix = numeric_end.findall(name)\n",
    "    if suffix:\n",
    "        name = name.replace(suffix[0], '').strip()\n",
    "    return name\n",
    "\n",
    "def clean_names(data):\n",
    "    for ds in data:\n",
    "        ds['name'] = clean_name(ds['name'])\n",
    "        for exc in ds['exchanges']:\n",
    "            if exc.get('name'):\n",
    "                exc['name'] = clean_name(exc['name'])\n",
    "    return data"
   ]
  },
  {
   "cell_type": "code",
   "execution_count": 72,
   "metadata": {},
   "outputs": [
    {
     "name": "stdout",
     "output_type": "stream",
     "text": [
      "Applying strategy: clean_names\n"
     ]
    }
   ],
   "source": [
    "ei.apply_strategy(clean_names)"
   ]
  },
  {
   "cell_type": "markdown",
   "metadata": {},
   "source": [
    "For whatever reason, they also call one exchange differently depending on whether it is an activity or an exchange reference (`Electricity  Market`, with two spaces, versus `Electricity mix`). Standardize on `Electricity mix`."
   ]
  },
  {
   "cell_type": "code",
   "execution_count": 73,
   "metadata": {},
   "outputs": [
    {
     "name": "stdout",
     "output_type": "stream",
     "text": [
      "Applying strategy: migrate_datasets\n",
      "Applying strategy: migrate_exchanges\n"
     ]
    }
   ],
   "source": [
    "bw.Migration(\"what-is-electricity\").write({\n",
    "    'fields': ['name'],\n",
    "    'data': [\n",
    "        (('Electricity  Market',), {'name': 'Electricity mix',}),\n",
    "    ]\n",
    "}, \"Let's try being consistent, just to see how it feels\")\n",
    "\n",
    "ei.migrate(\"what-is-electricity\")"
   ]
  },
  {
   "cell_type": "code",
   "execution_count": 74,
   "metadata": {},
   "outputs": [
    {
     "name": "stdout",
     "output_type": "stream",
     "text": [
      "Applying strategy: link_iterable_by_fields\n"
     ]
    }
   ],
   "source": [
    "ei.match_database(fields=['name', 'location', 'unit'])"
   ]
  },
  {
   "cell_type": "markdown",
   "metadata": {},
   "source": [
    "## Linking against EXIOBASE\n",
    "\n",
    "First try, don't expect great success."
   ]
  },
  {
   "cell_type": "code",
   "execution_count": 75,
   "metadata": {},
   "outputs": [
    {
     "name": "stdout",
     "output_type": "stream",
     "text": [
      "Applying strategy: link_iterable_by_fields\n"
     ]
    }
   ],
   "source": [
    "ei.match_database(\"EXIOBASE 3.3.17 hybrid\", fields=['name', 'location', 'unit'])"
   ]
  },
  {
   "cell_type": "code",
   "execution_count": 76,
   "metadata": {},
   "outputs": [
    {
     "name": "stdout",
     "output_type": "stream",
     "text": [
      "267 datasets\n",
      "911 exchanges\n",
      "54 unlinked exchanges\n",
      "  Type technosphere: 38 unique unlinked exchanges\n"
     ]
    },
    {
     "data": {
      "text/plain": [
       "(267, 911, 54)"
      ]
     },
     "execution_count": 76,
     "metadata": {},
     "output_type": "execute_result"
    }
   ],
   "source": [
    "ei.statistics()"
   ]
  },
  {
   "cell_type": "code",
   "execution_count": 77,
   "metadata": {},
   "outputs": [
    {
     "name": "stdout",
     "output_type": "stream",
     "text": [
      "Wrote matching file to:\n",
      "/Users/cmutel/Library/Application Support/Brightway3/EXIOBASE-regionalized-case-study.9666a926e52c1cc772cb07068bf407f2/output/db-matching-Oil-seeds-unlinked.xlsx\n"
     ]
    }
   ],
   "source": [
    "ei.write_excel(only_unlinked=True)"
   ]
  },
  {
   "attachments": {},
   "cell_type": "markdown",
   "metadata": {},
   "source": [
    "## Specific issues\n",
    "\n",
    "The flow `Arable land, as ha*year-eq.` and the activity `Link to: Market for arable land {GLO}` are removed, as we don't know where they occur, and are included to use with an indirect land use model."
   ]
  },
  {
   "cell_type": "code",
   "execution_count": 78,
   "metadata": {},
   "outputs": [],
   "source": [
    "def remove_iluc_land(data):\n",
    "    EXCLUDED = ('Arable land, as ha*year-eq. (linked)', 'Market for arable land')\n",
    "    data = [ds for ds in data if ds['name'] not in EXCLUDED]\n",
    "    for ds in data:\n",
    "        ds['exchanges'] = [exc for exc in ds['exchanges'] if exc.get('name') not in EXCLUDED]\n",
    "    return data"
   ]
  },
  {
   "cell_type": "code",
   "execution_count": 79,
   "metadata": {},
   "outputs": [
    {
     "name": "stdout",
     "output_type": "stream",
     "text": [
      "Applying strategy: remove_iluc_land\n"
     ]
    }
   ],
   "source": [
    "ei.apply_strategy(remove_iluc_land)"
   ]
  },
  {
   "attachments": {},
   "cell_type": "markdown",
   "metadata": {},
   "source": [
    "This input data assumes the existence of electricity mixes in EXIOBASE, but they don't actually exist (I guess you could create them). We have three unlinked exchanges to `Electricity mix` in WA, WL, and WE, but luckily they *aren't used anywhere*, and so we can drop these exchanges without worry."
   ]
  },
  {
   "cell_type": "code",
   "execution_count": 80,
   "metadata": {},
   "outputs": [],
   "source": [
    "def remove_missing_electricity_market_exchanges(data):\n",
    "    drop_me = lambda e: e.get('name') == 'Electricity mix' and e['location'] in ('WA', 'WL', 'WE')\n",
    "    \n",
    "    for ds in data:\n",
    "        ds['exchanges'] = [exc for exc in ds['exchanges'] if not drop_me(exc)]\n",
    "    return data"
   ]
  },
  {
   "cell_type": "code",
   "execution_count": 81,
   "metadata": {},
   "outputs": [
    {
     "name": "stdout",
     "output_type": "stream",
     "text": [
      "Applying strategy: remove_missing_electricity_market_exchanges\n"
     ]
    }
   ],
   "source": [
    "ei.apply_strategy(remove_missing_electricity_market_exchanges)"
   ]
  },
  {
   "cell_type": "markdown",
   "metadata": {},
   "source": [
    "Just for laughs (!?), there are some exchanges where activities where some exchanges are linked in kilograms, and others in tons. So let's fix exchanges in kilograms and switch them to tons when that will produce a link."
   ]
  },
  {
   "cell_type": "code",
   "execution_count": 82,
   "metadata": {},
   "outputs": [],
   "source": [
    "def switch_exchange_units_when_helpful(data):\n",
    "    lookup = {(ds['name'], ds['unit']) for ds in data}\n",
    "    \n",
    "    for ds in data:\n",
    "        for exc in ds['exchanges']:\n",
    "            if exc.get('input'):\n",
    "                continue\n",
    "            if exc['unit'] == 'kilogram' and (exc['name'], 'ton') in lookup:\n",
    "                exc['unit'] = 'ton'\n",
    "                exc['amount'] /= 1000\n",
    "    return data"
   ]
  },
  {
   "cell_type": "code",
   "execution_count": 83,
   "metadata": {},
   "outputs": [
    {
     "name": "stdout",
     "output_type": "stream",
     "text": [
      "Applying strategy: switch_exchange_units_when_helpful\n"
     ]
    }
   ],
   "source": [
    "ei.apply_strategy(switch_exchange_units_when_helpful)"
   ]
  },
  {
   "cell_type": "code",
   "execution_count": 84,
   "metadata": {},
   "outputs": [
    {
     "name": "stdout",
     "output_type": "stream",
     "text": [
      "Applying strategy: link_iterable_by_fields\n"
     ]
    }
   ],
   "source": [
    "ei.match_database(fields=['name', 'location', 'unit'])"
   ]
  },
  {
   "cell_type": "code",
   "execution_count": 85,
   "metadata": {},
   "outputs": [
    {
     "name": "stdout",
     "output_type": "stream",
     "text": [
      "266 datasets\n",
      "899 exchanges\n",
      "0 unlinked exchanges\n",
      "  \n"
     ]
    },
    {
     "data": {
      "text/plain": [
       "(266, 899, 0)"
      ]
     },
     "execution_count": 85,
     "metadata": {},
     "output_type": "execute_result"
    }
   ],
   "source": [
    "ei.statistics()"
   ]
  },
  {
   "cell_type": "code",
   "execution_count": 86,
   "metadata": {},
   "outputs": [],
   "source": [
    "ei.write_database()"
   ]
  }
 ],
 "metadata": {
  "kernelspec": {
   "display_name": "Python 3",
   "language": "python",
   "name": "python3"
  },
  "language_info": {
   "codemirror_mode": {
    "name": "ipython",
    "version": 3
   },
   "file_extension": ".py",
   "mimetype": "text/x-python",
   "name": "python",
   "nbconvert_exporter": "python",
   "pygments_lexer": "ipython3",
   "version": "3.6.7"
  }
 },
 "nbformat": 4,
 "nbformat_minor": 2
}

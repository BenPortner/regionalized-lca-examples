{
 "cells": [
  {
   "cell_type": "code",
   "execution_count": 1,
   "metadata": {},
   "outputs": [],
   "source": [
    "import brightway2 as bw"
   ]
  },
  {
   "cell_type": "markdown",
   "metadata": {},
   "source": [
    "## Select project, demand, method"
   ]
  },
  {
   "cell_type": "code",
   "execution_count": 2,
   "metadata": {},
   "outputs": [],
   "source": [
    "bw.projects.set_current(\"EXIOBASE regionalized case study\")"
   ]
  },
  {
   "cell_type": "code",
   "execution_count": 3,
   "metadata": {},
   "outputs": [],
   "source": [
    "# Add methods if there are none\n",
    "if len(bw.methods)==0:\n",
    "    bw.create_default_lcia_methods()"
   ]
  },
  {
   "cell_type": "code",
   "execution_count": 4,
   "metadata": {},
   "outputs": [
    {
     "name": "stderr",
     "output_type": "stream",
     "text": [
      "Writing activities to SQLite3 database:\n",
      "0% [##############################] 100% | ETA: 00:00:00\n",
      "Total time elapsed: 00:00:00\n"
     ]
    },
    {
     "name": "stdout",
     "output_type": "stream",
     "text": [
      "Title: Writing activities to SQLite3 database:\n",
      "  Started: 10/31/2019 22:35:43\n",
      "  Finished: 10/31/2019 22:35:43\n",
      "  Total time elapsed: 00:00:00\n",
      "  CPU %: 104.30\n",
      "  Memory %: 0.90\n"
     ]
    },
    {
     "data": {
      "text/plain": [
       "Brightway2 SQLiteBackend: Independent oil"
      ]
     },
     "execution_count": 4,
     "metadata": {},
     "output_type": "execute_result"
    }
   ],
   "source": [
    "# Copy existing `Oil seeds` database and name it `Independent oil`\n",
    "if \"Independent oil\" in bw.databases: # if already exists, delete first\n",
    "    del bw.databases['Independent oil']\n",
    "bw.Database(\"Oil seeds\").copy(\"Independent oil\")"
   ]
  },
  {
   "cell_type": "code",
   "execution_count": 5,
   "metadata": {},
   "outputs": [
    {
     "data": {
      "text/plain": [
       "Databases dictionary with 4 object(s):\n",
       "\tEXIOBASE 3.3.17 hybrid\n",
       "\tIndependent oil\n",
       "\tOil seeds\n",
       "\tbiosphere3"
      ]
     },
     "execution_count": 5,
     "metadata": {},
     "output_type": "execute_result"
    }
   ],
   "source": [
    "bw.databases"
   ]
  },
  {
   "cell_type": "code",
   "execution_count": 6,
   "metadata": {},
   "outputs": [],
   "source": [
    "# Select LCIA method\n",
    "gwp = ('IPCC 2013', 'climate change', 'GWP 100a')"
   ]
  },
  {
   "cell_type": "code",
   "execution_count": 7,
   "metadata": {},
   "outputs": [],
   "source": [
    "# Get access to the database `Independent oil`\n",
    "db = bw.Database(\"Independent oil\")"
   ]
  },
  {
   "cell_type": "code",
   "execution_count": 8,
   "metadata": {},
   "outputs": [],
   "source": [
    "# Select random activity that has exchanges to see attributes of the exchanges\n",
    "activity_with_exc_found = False\n",
    "while not activity_with_exc_found:\n",
    "    act = db.random()\n",
    "    try: \n",
    "        exc = list(act.technosphere())[0]\n",
    "        activity_with_exc_found = True\n",
    "    except:\n",
    "        pass"
   ]
  },
  {
   "cell_type": "code",
   "execution_count": 9,
   "metadata": {},
   "outputs": [
    {
     "data": {
      "text/plain": [
       "Exchange: 1.0 kilogram 'Oil palm cultivation [FFB]' (kilogram, MY, None) to 'Palm oil mill [CPO]' (kilogram, MY, None)>"
      ]
     },
     "execution_count": 9,
     "metadata": {},
     "output_type": "execute_result"
    }
   ],
   "source": [
    "exc"
   ]
  },
  {
   "cell_type": "code",
   "execution_count": 10,
   "metadata": {},
   "outputs": [
    {
     "data": {
      "text/plain": [
       "{'Category': '\\\\_5 Veg Oil case\\\\_food industry',\n",
       " 'Comment': '',\n",
       " 'name': 'Palm oil mill [CPO]',\n",
       " 'kind': 'Material',\n",
       " 'unit': 'kilogram',\n",
       " 'database': 'Independent oil',\n",
       " 'location': 'MY',\n",
       " 'code': 'Palm oil mill [CPO]-MY'}"
      ]
     },
     "execution_count": 10,
     "metadata": {},
     "output_type": "execute_result"
    }
   ],
   "source": [
    "act.as_dict()"
   ]
  },
  {
   "cell_type": "code",
   "execution_count": 11,
   "metadata": {},
   "outputs": [
    {
     "data": {
      "text/plain": [
       "(bw2data.backends.peewee.proxies.Activity,\n",
       " bw2data.backends.peewee.proxies.Activity,\n",
       " bw2data.backends.peewee.proxies.Exchange)"
      ]
     },
     "execution_count": 11,
     "metadata": {},
     "output_type": "execute_result"
    }
   ],
   "source": [
    "# Note that both input and output of an exchange are Activities (nodes of graph)\n",
    "type(exc.input), type(exc.output), type(exc)"
   ]
  },
  {
   "cell_type": "code",
   "execution_count": 12,
   "metadata": {},
   "outputs": [
    {
     "data": {
      "text/plain": [
       "{'amount': 1.0,\n",
       " 'name': 'Oil palm cultivation [FFB]',\n",
       " 'unit': 'kilogram',\n",
       " 'categories': (),\n",
       " 'type': 'technosphere',\n",
       " 'location': 'MY',\n",
       " 'input': ('Independent oil', 'Oil palm cultivation [FFB]-MY'),\n",
       " 'output': ('Independent oil', 'Palm oil mill [CPO]-MY')}"
      ]
     },
     "execution_count": 12,
     "metadata": {},
     "output_type": "execute_result"
    }
   ],
   "source": [
    "# Check out all information in the exchange\n",
    "exc.as_dict()"
   ]
  },
  {
   "cell_type": "markdown",
   "metadata": {},
   "source": [
    "## Delete all exchanges that are linked to exiobase"
   ]
  },
  {
   "cell_type": "code",
   "execution_count": 13,
   "metadata": {},
   "outputs": [
    {
     "data": {
      "text/plain": [
       "894"
      ]
     },
     "execution_count": 13,
     "metadata": {},
     "output_type": "execute_result"
    }
   ],
   "source": [
    "# Total number of exchanges in db BEFORE separating db from exiobase\n",
    "sum([len(list(ds.exchanges())) for ds in db])"
   ]
  },
  {
   "cell_type": "code",
   "execution_count": 14,
   "metadata": {},
   "outputs": [],
   "source": [
    "for ds in db:\n",
    "    for exc in ds.technosphere():\n",
    "        if exc.input['database'] == 'EXIOBASE 3.3.17 hybrid':\n",
    "            exc.delete()"
   ]
  },
  {
   "cell_type": "code",
   "execution_count": 15,
   "metadata": {},
   "outputs": [
    {
     "data": {
      "text/plain": [
       "462"
      ]
     },
     "execution_count": 15,
     "metadata": {},
     "output_type": "execute_result"
    }
   ],
   "source": [
    "# AFTER\n",
    "sum([len(list(ds.exchanges())) for ds in db])"
   ]
  },
  {
   "cell_type": "markdown",
   "metadata": {},
   "source": [
    "## Find activity with non-zero impact score"
   ]
  },
  {
   "cell_type": "code",
   "execution_count": 16,
   "metadata": {},
   "outputs": [
    {
     "data": {
      "text/plain": [
       "0.0"
      ]
     },
     "execution_count": 16,
     "metadata": {},
     "output_type": "execute_result"
    }
   ],
   "source": [
    "lca = bw.LCA({db.random(): 1}, gwp)\n",
    "lca.lci()\n",
    "lca.lcia()\n",
    "lca.score"
   ]
  },
  {
   "cell_type": "code",
   "execution_count": 17,
   "metadata": {},
   "outputs": [
    {
     "data": {
      "text/plain": [
       "{'Landfill of bleaching earth' (ton, US, None): 1}"
      ]
     },
     "execution_count": 17,
     "metadata": {},
     "output_type": "execute_result"
    }
   ],
   "source": [
    "lca.demand"
   ]
  },
  {
   "cell_type": "code",
   "execution_count": 18,
   "metadata": {},
   "outputs": [
    {
     "data": {
      "text/plain": [
       "<266x266 sparse matrix of type '<class 'numpy.float64'>'\n",
       "\twith 424 stored elements in Compressed Sparse Row format>"
      ]
     },
     "execution_count": 18,
     "metadata": {},
     "output_type": "execute_result"
    }
   ],
   "source": [
    "# Created technosphere matrix has only 266 activities\n",
    "lca.technosphere_matrix"
   ]
  },
  {
   "cell_type": "markdown",
   "metadata": {},
   "source": [
    "Question: why are there fewer stored elements than number of exchanges?"
   ]
  },
  {
   "cell_type": "code",
   "execution_count": 19,
   "metadata": {},
   "outputs": [
    {
     "data": {
      "text/plain": [
       "-1.808666589690446"
      ]
     },
     "execution_count": 19,
     "metadata": {},
     "output_type": "execute_result"
    }
   ],
   "source": [
    "# Find activity in `db` with non-zero impact score to run MC simulations with non-zero outputs\n",
    "for act in db:\n",
    "    if lca.score == 0:\n",
    "        lca.redo_lcia({act: 1})\n",
    "    else:\n",
    "        break\n",
    "lca.score"
   ]
  },
  {
   "cell_type": "code",
   "execution_count": 20,
   "metadata": {},
   "outputs": [
    {
     "data": {
      "text/plain": [
       "{'Palm kernel oil mill [Kernel processing]' (kilogram, MY, None): 1}"
      ]
     },
     "execution_count": 20,
     "metadata": {},
     "output_type": "execute_result"
    }
   ],
   "source": [
    "# Corresponding demand\n",
    "lca.demand"
   ]
  },
  {
   "cell_type": "markdown",
   "metadata": {},
   "source": [
    "## Add uncertainty information to all exchanges. \n",
    "\n",
    "Uncertainty type 5 corresponds to triangular distribution.\n",
    "\n",
    "Check out more in the stats_array library [here](https://stats-arrays.readthedocs.io/en/latest/)."
   ]
  },
  {
   "cell_type": "code",
   "execution_count": 21,
   "metadata": {},
   "outputs": [],
   "source": [
    "for ds in bw.Database(\"Independent oil\"):\n",
    "    for exc in ds.technosphere():\n",
    "        if exc['amount'] < 0:\n",
    "            exc['uncertainty type'] = 5 \n",
    "            exc['maximum'] = 0.75 * exc['amount']\n",
    "            exc['minimum'] = 1.5 * exc['amount']\n",
    "            exc['loc'] = exc['amount']\n",
    "            exc.save()\n",
    "        else:\n",
    "            exc['uncertainty type'] = 5\n",
    "            exc['minimum'] = 0.75 * exc['amount']\n",
    "            exc['maximum'] = 1.5 * exc['amount']\n",
    "            exc['loc'] = exc['amount']\n",
    "            exc.save()            "
   ]
  },
  {
   "cell_type": "markdown",
   "metadata": {},
   "source": [
    "## Create MonteCarloLCA object"
   ]
  },
  {
   "cell_type": "code",
   "execution_count": 22,
   "metadata": {},
   "outputs": [
    {
     "data": {
      "text/plain": [
       "{'Palm kernel oil mill [Kernel processing]' (kilogram, MY, None): 1}"
      ]
     },
     "execution_count": 22,
     "metadata": {},
     "output_type": "execute_result"
    }
   ],
   "source": [
    "lca.demand"
   ]
  },
  {
   "cell_type": "code",
   "execution_count": 23,
   "metadata": {},
   "outputs": [],
   "source": [
    "mc = bw.MonteCarloLCA(lca.demand, gwp)"
   ]
  },
  {
   "cell_type": "code",
   "execution_count": 24,
   "metadata": {},
   "outputs": [
    {
     "name": "stdout",
     "output_type": "stream",
     "text": [
      "-2.54156574240819\n",
      "-2.8193537283119285\n",
      "-2.119216542176898\n",
      "-2.1763423941923135\n",
      "-1.4086301896469835\n"
     ]
    }
   ],
   "source": [
    "for _ in range(5):\n",
    "    print(next(mc))"
   ]
  },
  {
   "cell_type": "code",
   "execution_count": 25,
   "metadata": {},
   "outputs": [
    {
     "name": "stdout",
     "output_type": "stream",
     "text": [
      "CPU times: user 8.52 s, sys: 24.3 ms, total: 8.54 s\n",
      "Wall time: 7.73 s\n"
     ]
    }
   ],
   "source": [
    "%%time\n",
    "n_runs = 2700\n",
    "values = [next(mc) for _ in range(n_runs)]"
   ]
  },
  {
   "cell_type": "markdown",
   "metadata": {},
   "source": [
    "## Let us plot a histogram of these values"
   ]
  },
  {
   "cell_type": "code",
   "execution_count": 26,
   "metadata": {},
   "outputs": [],
   "source": [
    "import matplotlib.pyplot as plt"
   ]
  },
  {
   "cell_type": "code",
   "execution_count": 27,
   "metadata": {},
   "outputs": [],
   "source": [
    "%matplotlib inline"
   ]
  },
  {
   "cell_type": "code",
   "execution_count": 28,
   "metadata": {},
   "outputs": [
    {
     "data": {
      "text/plain": [
       "(array([  1.,   0.,   2.,   5.,   7.,  14.,  20.,  34.,  67., 100., 166.,\n",
       "        222., 315., 405., 414., 407., 310., 154.,  47.,  10.]),\n",
       " array([-5.32421168, -5.10299383, -4.88177598, -4.66055814, -4.43934029,\n",
       "        -4.21812244, -3.99690459, -3.77568675, -3.5544689 , -3.33325105,\n",
       "        -3.1120332 , -2.89081536, -2.66959751, -2.44837966, -2.22716181,\n",
       "        -2.00594397, -1.78472612, -1.56350827, -1.34229043, -1.12107258,\n",
       "        -0.89985473]),\n",
       " <a list of 20 Patch objects>)"
      ]
     },
     "execution_count": 28,
     "metadata": {},
     "output_type": "execute_result"
    },
    {
     "data": {
      "image/png": "[encoded data removed]",
      "text/plain": [
       "<Figure size 432x288 with 1 Axes>"
      ]
     },
     "metadata": {
      "needs_background": "light"
     },
     "output_type": "display_data"
    }
   ],
   "source": [
    "plt.hist(values, bins=20)"
   ]
  },
  {
   "cell_type": "markdown",
   "metadata": {},
   "source": [
    "## Parallel Monte Carlo - run simulations on multiple workers to increase performance"
   ]
  },
  {
   "cell_type": "code",
   "execution_count": 29,
   "metadata": {},
   "outputs": [],
   "source": [
    "# We can also create parallel Monte Carlo that will run simultations on multiple workers simultaneoulsy\n",
    "# bw.ParallelMonteCarlo?"
   ]
  },
  {
   "cell_type": "code",
   "execution_count": 30,
   "metadata": {},
   "outputs": [],
   "source": [
    "pmc = bw.ParallelMonteCarlo(mc.demand, mc.method, iterations=n_runs)"
   ]
  },
  {
   "cell_type": "code",
   "execution_count": 31,
   "metadata": {},
   "outputs": [
    {
     "name": "stdout",
     "output_type": "stream",
     "text": [
      "CPU times: user 21.8 ms, sys: 46.3 ms, total: 68.2 ms\n",
      "Wall time: 1.52 s\n"
     ]
    }
   ],
   "source": [
    "%%time\n",
    "values = pmc.calculate()"
   ]
  },
  {
   "cell_type": "code",
   "execution_count": 32,
   "metadata": {},
   "outputs": [
    {
     "data": {
      "text/plain": [
       "(array([  1.,   0.,   0.,   0.,   0.,   4.,  12.,  25.,  38.,  87., 125.,\n",
       "        191., 296., 382., 435., 422., 348., 234.,  95.,  17.]),\n",
       " array([-5.57198638, -5.34103406, -5.11008175, -4.87912943, -4.64817711,\n",
       "        -4.4172248 , -4.18627248, -3.95532016, -3.72436785, -3.49341553,\n",
       "        -3.26246321, -3.0315109 , -2.80055858, -2.56960626, -2.33865395,\n",
       "        -2.10770163, -1.87674931, -1.645797  , -1.41484468, -1.18389236,\n",
       "        -0.95294004]),\n",
       " <a list of 20 Patch objects>)"
      ]
     },
     "execution_count": 32,
     "metadata": {},
     "output_type": "execute_result"
    },
    {
     "data": {
      "image/png": "[encoded data removed]",
      "text/plain": [
       "<Figure size 432x288 with 1 Axes>"
      ]
     },
     "metadata": {
      "needs_background": "light"
     },
     "output_type": "display_data"
    }
   ],
   "source": [
    "plt.hist(values, bins=20)"
   ]
  },
  {
   "cell_type": "code",
   "execution_count": null,
   "metadata": {},
   "outputs": [],
   "source": []
  },
  {
   "cell_type": "code",
   "execution_count": null,
   "metadata": {},
   "outputs": [],
   "source": []
  },
  {
   "cell_type": "code",
   "execution_count": null,
   "metadata": {},
   "outputs": [],
   "source": []
  },
  {
   "cell_type": "code",
   "execution_count": null,
   "metadata": {},
   "outputs": [],
   "source": []
  },
  {
   "cell_type": "code",
   "execution_count": null,
   "metadata": {},
   "outputs": [],
   "source": []
  },
  {
   "cell_type": "code",
   "execution_count": null,
   "metadata": {},
   "outputs": [],
   "source": []
  },
  {
   "cell_type": "code",
   "execution_count": null,
   "metadata": {},
   "outputs": [],
   "source": []
  }
 ],
 "metadata": {
  "kernelspec": {
   "display_name": "Python 3",
   "language": "python",
   "name": "python3"
  },
  "language_info": {
   "codemirror_mode": {
    "name": "ipython",
    "version": 3
   },
   "file_extension": ".py",
   "mimetype": "text/x-python",
   "name": "python",
   "nbconvert_exporter": "python",
   "pygments_lexer": "ipython3",
   "version": "3.7.5"
  }
 },
 "nbformat": 4,
 "nbformat_minor": 2
}

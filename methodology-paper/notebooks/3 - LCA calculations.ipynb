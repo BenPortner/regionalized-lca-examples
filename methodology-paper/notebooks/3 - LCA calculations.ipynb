{
 "cells": [
  {
   "cell_type": "markdown",
   "metadata": {},
   "source": [
    "# LCA calculations\n",
    "\n",
    "This notebook is part of supporting information for \"Matrix-based Methods for Regionalized Life Cycle Assessment\" by Chris Mutel and Stefanie Hellweg, submitted to ES&T.\n",
    "\n",
    "The most recent version of these notebooks can be found at https://github.com/cmutel/regionalized-lca-examples.\n",
    "\n",
    "It will not run without the following:\n",
    "\n",
    "* bw2data, version >= 3.4.2\n",
    "* bw2calc, version >= 1.7\n",
    "* bw2regional, version >= 0.5.1\n",
    "* rower, version >= 0.1\n",
    "* bw2_lcimpact, version >= 0.2"
   ]
  },
  {
   "cell_type": "code",
   "execution_count": null,
   "metadata": {},
   "outputs": [],
   "source": [
    "def test_installed_software():\n",
    "    import bw2data\n",
    "    import bw2calc\n",
    "    import bw2regional\n",
    "    import rower\n",
    "    import bw2_lcimpact\n",
    "\n",
    "    assert bw2data.__version__ >= (3, 4, 2)\n",
    "    assert bw2calc.__version__ >= (1, 7)\n",
    "    assert bw2regional.__version__ >= (0, 5, 1)\n",
    "    assert rower >= (0, 1)\n",
    "    assert bw2_lcimpact.__version__ >= (0, 2)\n",
    "    \n",
    "test_installed_software()"
   ]
  },
  {
   "cell_type": "markdown",
   "metadata": {},
   "source": [
    "This notebook just does calculations - not much to explain"
   ]
  },
  {
   "cell_type": "code",
   "execution_count": null,
   "metadata": {},
   "outputs": [],
   "source": [
    "import brightway2 as bw\n",
    "import bw2regional as bwr\n",
    "import pandas as pd\n",
    "import os"
   ]
  },
  {
   "cell_type": "code",
   "execution_count": null,
   "metadata": {},
   "outputs": [],
   "source": [
    "bw.projects.set_current(\"computational methods paper\")"
   ]
  },
  {
   "cell_type": "code",
   "execution_count": null,
   "metadata": {},
   "outputs": [],
   "source": [
    "mix_db = bw.Database(\"production mixes\")"
   ]
  },
  {
   "cell_type": "code",
   "execution_count": null,
   "metadata": {},
   "outputs": [],
   "source": [
    "results = []\n",
    "\n",
    "for ds in mix_db:\n",
    "    lca = bw.LCA(\n",
    "        {ds: 1}, \n",
    "        method=('irrigation water', 'surface', 'site-generic'), \n",
    "    )\n",
    "    lca.lci()\n",
    "    lca.lcia()\n",
    "    results.append((ds['name'], lca.score))\n",
    "    \n",
    "pd.DataFrame(sorted(results), columns=[\"Crop\", \"Score\"])    "
   ]
  },
  {
   "cell_type": "code",
   "execution_count": null,
   "metadata": {},
   "outputs": [],
   "source": [
    "results = []\n",
    "\n",
    "for ds in mix_db:\n",
    "    lca = bwr.OneSpatialScaleLCA(\n",
    "        {ds: 1}, \n",
    "        method=('irrigation water', 'surface', 'state scale'), \n",
    "    )\n",
    "    lca.lci()\n",
    "    lca.lcia()\n",
    "    results.append((ds['name'], lca.score))\n",
    "    \n",
    "pd.DataFrame(sorted(results), columns=[\"Crop\", \"Score\"])    "
   ]
  },
  {
   "cell_type": "code",
   "execution_count": null,
   "metadata": {},
   "outputs": [],
   "source": [
    "results = []\n",
    "\n",
    "for ds in mix_db:\n",
    "    lca = bwr.TwoSpatialScalesLCA(\n",
    "        {ds: 1}, \n",
    "        method=('irrigation water', 'surface', 'grid scale'), \n",
    "    )\n",
    "    lca.lci()\n",
    "    lca.lcia()\n",
    "    results.append((ds['name'], lca.score))\n",
    "    \n",
    "pd.DataFrame(sorted(results), columns=[\"Crop\", \"Score\"])    "
   ]
  },
  {
   "cell_type": "code",
   "execution_count": null,
   "metadata": {},
   "outputs": [],
   "source": [
    "results = []\n",
    "\n",
    "for ds in mix_db:\n",
    "    lca = bwr.TwoSpatialScalesWithGenericLoadingLCA(\n",
    "        {ds: 1}, \n",
    "        method=('irrigation water', 'surface', 'grid scale'), \n",
    "        loading='irrigation water surface withdrawals'\n",
    "    )\n",
    "    lca.lci()\n",
    "    lca.lcia()\n",
    "    results.append((ds['name'], lca.score))\n",
    "    \n",
    "pd.DataFrame(sorted(results), columns=[\"Crop\", \"Score\"])    "
   ]
  },
  {
   "cell_type": "markdown",
   "metadata": {},
   "source": [
    "Extension table is specific to cotton, so don't calculate for other crops"
   ]
  },
  {
   "cell_type": "code",
   "execution_count": null,
   "metadata": {},
   "outputs": [],
   "source": [
    "lca = bwr.ExtensionTablesLCA(\n",
    "                        {('production mixes', 'Cotton'): 1}, \n",
    "                        method=('irrigation water', 'surface', 'grid scale'),\n",
    "                        xtable=\"blue water consumption\"\n",
    "                        )\n",
    "lca.lci()\n",
    "lca.lcia()\n",
    "lca.score"
   ]
  },
  {
   "cell_type": "markdown",
   "metadata": {},
   "source": [
    "## Export some results as GeoJSON"
   ]
  },
  {
   "cell_type": "code",
   "execution_count": null,
   "metadata": {},
   "outputs": [],
   "source": [
    "def export_results_as_geojson(filepath, vector, mapping, geocollection, plot_zeros=False):\n",
    "    import fiona\n",
    "    import bw2regional as bwr\n",
    "    import uuid\n",
    "    import numpy as np\n",
    "    \n",
    "    gc = bwr.geocollections[geocollection]\n",
    "    total = vector.sum()\n",
    "    vector = np.squeeze(np.asarray(vector))\n",
    "    \n",
    "    mapping = {k[1]: v for k, v in mapping.items() if k[0] == geocollection}\n",
    "    assert mapping\n",
    "\n",
    "    with fiona.open(gc['filepath'], 'r') as source:\n",
    "        schema = {\n",
    "            'geometry': source.schema['geometry'],\n",
    "            'properties': {\n",
    "                'id': source.schema['properties'][gc['field']],\n",
    "                'absolute': 'float',\n",
    "                'relative': 'float'\n",
    "            }\n",
    "        }\n",
    "               \n",
    "        with fiona.open(filepath, 'w', crs=source.crs, driver='GeoJSON', schema=schema) as sink:\n",
    "            for f in source:\n",
    "                score = vector[mapping[f['properties'][gc['field']]]]\n",
    "                if score or plot_zeros:\n",
    "                    f['properties'] = {\n",
    "                        gc['field']: f['properties'][gc['field']],\n",
    "                        'absolute': score,\n",
    "                        'relative': score / total\n",
    "                    }\n",
    "                    sink.write(f)"
   ]
  },
  {
   "cell_type": "code",
   "execution_count": null,
   "metadata": {},
   "outputs": [],
   "source": [
    "lca = bwr.TwoSpatialScalesWithGenericLoadingLCA(\n",
    "    {('production mixes', 'Cotton'): 1}, \n",
    "    method=('irrigation water', 'surface', 'grid scale'), \n",
    "    loading='irrigation water surface withdrawals'\n",
    ")\n",
    "lca.lci()\n",
    "lca.lcia()\n",
    "lca.fix_spatial_dictionaries()\n",
    "\n",
    "export_results_as_geojson(\n",
    "    os.path.join(\"output\", \"loading_results.geojson\"),\n",
    "    lca.results_ia_spatial_scale().sum(axis=0),\n",
    "    lca.ia_spatial_dict,\n",
    "    'water cfs'\n",
    ")"
   ]
  }
 ],
 "metadata": {
  "kernelspec": {
   "display_name": "Python 3",
   "language": "python",
   "name": "python3"
  },
  "language_info": {
   "codemirror_mode": {
    "name": "ipython",
    "version": 3
   },
   "file_extension": ".py",
   "mimetype": "text/x-python",
   "name": "python",
   "nbconvert_exporter": "python",
   "pygments_lexer": "ipython3",
   "version": "3.6.4"
  },
  "toc": {
   "base_numbering": 1,
   "nav_menu": {},
   "number_sections": true,
   "sideBar": true,
   "skip_h1_title": false,
   "title_cell": "Table of Contents",
   "title_sidebar": "Contents",
   "toc_cell": false,
   "toc_position": {},
   "toc_section_display": true,
   "toc_window_display": false
  }
 },
 "nbformat": 4,
 "nbformat_minor": 1
}

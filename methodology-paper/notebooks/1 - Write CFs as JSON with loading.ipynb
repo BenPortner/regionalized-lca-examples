{
 "cells": [
  {
   "cell_type": "markdown",
   "metadata": {},
   "source": [
    "# Write CFs as JSON with loading\n",
    "\n",
    "This notebook is part of supporting information for \"Computational Methods for Regionalized Life Cycle Assessment\" by Chris Mutel and Stefanie Hellweg.\n",
    "\n",
    "It will not run without an up-to-date installation of the following:\n",
    "* [brightway2](https://docs.brightwaylca.org/installation.html)\n",
    "* [brightway2-regional](http://brightway2-regional.readthedocs.org/)"
   ]
  },
  {
   "cell_type": "markdown",
   "metadata": {},
   "source": [
    "# Setup"
   ]
  },
  {
   "cell_type": "code",
   "execution_count": 18,
   "metadata": {},
   "outputs": [],
   "source": [
    "import bz2\n",
    "import fiona\n",
    "import os\n",
    "import json\n",
    "import xlrd\n",
    "import pyprind\n",
    "import numpy as np\n",
    "import rasterio"
   ]
  },
  {
   "cell_type": "code",
   "execution_count": 2,
   "metadata": {},
   "outputs": [],
   "source": [
    "import brightway2 as bw\n",
    "import bw2regional as bwr"
   ]
  },
  {
   "cell_type": "code",
   "execution_count": 3,
   "metadata": {},
   "outputs": [],
   "source": [
    "bw.projects.set_current(\"computational methods paper\")"
   ]
  },
  {
   "cell_type": "markdown",
   "metadata": {},
   "source": [
    "# Loading data on intersecting spatial supports\n",
    "\n",
    "This is the output of a [pandarus](http://pandarus.readthedocs.org/) job. It relates county shapefile integer indices (not FIPS codes) to raster cells."
   ]
  },
  {
   "cell_type": "code",
   "execution_count": 4,
   "metadata": {},
   "outputs": [],
   "source": [
    "with bz2.BZ2File(os.path.join(\"data\", \"county-cfs.json.bz2\")) as f:\n",
    "    county_matches = json.load(f)"
   ]
  },
  {
   "cell_type": "code",
   "execution_count": 5,
   "metadata": {},
   "outputs": [
    {
     "name": "stdout",
     "output_type": "stream",
     "text": [
      "15316\n"
     ]
    },
    {
     "data": {
      "text/plain": [
       "[[3318, 'Cell(-109.75, 33.25)', 2578653127.8129683],\n",
       " [2, 'Cell(-122.25, 49.25)', 9850880.43477085],\n",
       " [229, 'Cell(-109.75, 46.25)', 190192847.98099387],\n",
       " [1165, 'Cell(-94.75, 41.75)', 165914939.1054086],\n",
       " [101, 'Cell(-88.75, 48.25)', 346677.09238775267],\n",
       " [1990, 'Cell(-85.75, 38.25)', 8641929.401829962],\n",
       " [2666, 'Cell(-82.25, 36.25)', 417109652.08117104],\n",
       " [1789, 'Cell(-100.75, 39.25)', 775938289.607816],\n",
       " [3596, 'Cell(-95.75, 31.75)', 392467981.4989172],\n",
       " [470, 'Cell(-90.75, 45.75)', 386487454.33441937]]"
      ]
     },
     "execution_count": 5,
     "metadata": {},
     "output_type": "execute_result"
    }
   ],
   "source": [
    "print(len(county_matches))\n",
    "county_matches[:10]"
   ]
  },
  {
   "cell_type": "markdown",
   "metadata": {},
   "source": [
    "## Map to county FIPS codes\n",
    "\n",
    "We don't have county FIPS ids, because the shapefile is geometry type polygon, not multipolygon, and some counties were split (so there would be duplicate FIPS codes). Therefore, we need to aggregate shapefile indices to FIPS codes ourselves."
   ]
  },
  {
   "cell_type": "code",
   "execution_count": 7,
   "metadata": {},
   "outputs": [
    {
     "name": "stdout",
     "output_type": "stream",
     "text": [
      "4693\n",
      "OrderedDict([('AREA', 0.562), ('PERIMETER', 4.169), ('CO2000P020', 1306), ('STATE', 'MN'), ('COUNTY', 'Lake of the Woods County'), ('FIPS', '27077'), ('STATE_FIPS', '27'), ('SQUARE_MIL', 1296.704)])\n"
     ]
    }
   ],
   "source": [
    "counties = fiona.open(os.path.join(\"data\", \"county_borders.gpkg\"))\n",
    "print(len(counties))\n",
    "\n",
    "for x in counties:\n",
    "    print(x['properties'])\n",
    "    break"
   ]
  },
  {
   "cell_type": "markdown",
   "metadata": {},
   "source": [
    "Technically, the county FIPS is 077, and the state FIPS is 27, but we will use 27077, the concatenated version."
   ]
  },
  {
   "cell_type": "code",
   "execution_count": 8,
   "metadata": {},
   "outputs": [],
   "source": [
    "county_indices_to_fips = {index: obj['properties']['FIPS'] for index, obj in enumerate(counties)}"
   ]
  },
  {
   "cell_type": "markdown",
   "metadata": {},
   "source": [
    "Consolidate the county indices to FIPS codes.\n",
    "\n",
    "Create dictionary with form:\n",
    "\n",
    "    {\n",
    "        (FIPS code, cell-label): intersected area\n",
    "    }"
   ]
  },
  {
   "cell_type": "code",
   "execution_count": 9,
   "metadata": {},
   "outputs": [],
   "source": [
    "county_fips_cell_dict = {}\n",
    "\n",
    "for county_id, cell_id, area in county_matches:\n",
    "    key = (county_indices_to_fips[county_id], cell_id)\n",
    "    county_fips_cell_dict[key] = county_fips_cell_dict.get(key, 0) + area"
   ]
  },
  {
   "cell_type": "code",
   "execution_count": 10,
   "metadata": {},
   "outputs": [
    {
     "name": "stdout",
     "output_type": "stream",
     "text": [
      "13632\n"
     ]
    },
    {
     "data": {
      "text/plain": [
       "(('04009', 'Cell(-109.75, 33.25)'), 2578653127.8129683)"
      ]
     },
     "execution_count": 10,
     "metadata": {},
     "output_type": "execute_result"
    }
   ],
   "source": [
    "print(len(county_fips_cell_dict))\n",
    "list(county_fips_cell_dict.items())[0]"
   ]
  },
  {
   "cell_type": "markdown",
   "metadata": {},
   "source": [
    "## County areas\n",
    "\n",
    "Get total intersected area for each county"
   ]
  },
  {
   "cell_type": "code",
   "execution_count": 11,
   "metadata": {},
   "outputs": [
    {
     "data": {
      "text/plain": [
       "('37185', 1152114945.786825)"
      ]
     },
     "execution_count": 11,
     "metadata": {},
     "output_type": "execute_result"
    }
   ],
   "source": [
    "total_intersected_area_per_county = {\n",
    "    fips: sum([value for key, value in county_fips_cell_dict.items() if key[0] == fips]) \n",
    "    for fips in {key[0] for key in county_fips_cell_dict}\n",
    "}\n",
    "\n",
    "list(total_intersected_area_per_county.items())[0]"
   ]
  },
  {
   "cell_type": "markdown",
   "metadata": {},
   "source": [
    "# Irrigation water consumption\n",
    "\n",
    "Get irrigation data from USGS spreadsheet"
   ]
  },
  {
   "cell_type": "code",
   "execution_count": 12,
   "metadata": {},
   "outputs": [
    {
     "name": "stdout",
     "output_type": "stream",
     "text": [
      "3223\n"
     ]
    }
   ],
   "source": [
    "water_use_book = xlrd.open_workbook(os.path.join(\"data\", \"usco2005.xls\"))\n",
    "water_use = water_use_book.sheet_by_name('County')\n",
    "print(water_use.nrows)"
   ]
  },
  {
   "cell_type": "code",
   "execution_count": 13,
   "metadata": {},
   "outputs": [
    {
     "name": "stdout",
     "output_type": "stream",
     "text": [
      "3 text:'FIPS'\n",
      "33 text:'IR-WSWFr'\n",
      "40 text:'IC-WSWFr'\n",
      "101 text:'TO-WSWFr'\n"
     ]
    }
   ],
   "source": [
    "row = water_use.row(0)\n",
    "\n",
    "for index, value in enumerate(row):\n",
    "    if index in (3, 33, 40, 101):\n",
    "        print(index, value)"
   ]
  },
  {
   "cell_type": "markdown",
   "metadata": {},
   "source": [
    "## Which column is the most realistic for actual water withdrawals?\n",
    "\n",
    "We are interested in the following columns:\n",
    "\n",
    "  * 3: Concatenated state-county FIPS code\n",
    "  * 33: IR-WSWFr\tIrrigation, surface-water withdrawals, fresh, in Mgal/d\n",
    "  * 40: IC-WSWFr\tIrrigation-Crop, surface-water withdrawals, fresh, in Mgal/d <- really poor spatial coverage\n",
    "  * 101: TO-WSWFr\tTotal surface-water withdrawals, fresh, in Mgal/d"
   ]
  },
  {
   "cell_type": "markdown",
   "metadata": {},
   "source": [
    " Column 40: *Irrigation-Crop, surface-water withdrawals, fresh, in Mgal/d* has really poor spatial coverage:\n",
    " \n",
    " <img src='images/col-40.png'>"
   ]
  },
  {
   "cell_type": "markdown",
   "metadata": {},
   "source": [
    "Column 101: *Total surface-water withdrawals, fresh, in Mgal/d* is dominated by power production (maybe once-through plants?)\n",
    "\n",
    "<img src='images/col-101.png'>"
   ]
  },
  {
   "cell_type": "markdown",
   "metadata": {},
   "source": [
    "However, column 33: *Irrigation, surface-water withdrawals, fresh* seems like what we would expect (in addition to crops, it includes golf irrigation!?).\n",
    "\n",
    "<img src='images/col-33.png'>"
   ]
  },
  {
   "cell_type": "markdown",
   "metadata": {},
   "source": [
    "Create a dictionary linking county FIPS codes to column 33 water withdrawals:"
   ]
  },
  {
   "cell_type": "code",
   "execution_count": 14,
   "metadata": {},
   "outputs": [],
   "source": [
    "irrigation_data = {}\n",
    "\n",
    "for row_index in range(1, water_use.nrows):\n",
    "    row = water_use.row(row_index)\n",
    "    irrigation_data[row[3].value] = row[33].value or 0"
   ]
  },
  {
   "cell_type": "markdown",
   "metadata": {},
   "source": [
    "# Create Loading\n",
    "\n",
    "[Loadings](http://brightway2-regional.readthedocs.org/formats.html#loadings) in ``bw2regional`` should have the form:\n",
    "\n",
    "    [\n",
    "        [amount, IA spatial unit id]\n",
    "    ]\n",
    "\n",
    "However, the ``amount`` should have units of mass per area, so we neeed to calculate:\n",
    "\n",
    "   $$\\frac{water \\; consumption * county \\; intersected \\; area}{county \\; total \\; area}$$\n",
    "  \n",
    "To do this, we use the data we already have:\n",
    "\n",
    "    total_intersected_area_per_county: {FIPS code: area}\n",
    "    county_fips_cell_dict: {(FIPS code, raster cell): area}\n",
    "    irrigation_data: {FIPS code: water consumption}\n",
    "\n",
    "## County FIPS code correspondence and integrity\n",
    "\n",
    "However, we first have to check data integrity - FIPS codes can change (see e.g. [this web page](https://www.census.gov/geo/reference/county-changes.html)). We only care about values in *county_fips_cell_dict* which aren't in *irrigation_data* or *total_intersected_area_per_county*."
   ]
  },
  {
   "cell_type": "code",
   "execution_count": 15,
   "metadata": {},
   "outputs": [
    {
     "name": "stdout",
     "output_type": "stream",
     "text": [
      "Codes missing in `irrigation_data`: {'23000', '51560'}\n",
      "Codes missing in `total_intersected_area_per_county`: set()\n"
     ]
    }
   ],
   "source": [
    "county_fips = {key[0] for key in county_fips_cell_dict}\n",
    "irrigation_cell_ids = set(irrigation_data.keys())\n",
    "area_cell_ids = set(total_intersected_area_per_county.keys())\n",
    "\n",
    "print(\"Codes missing in `irrigation_data`:\", county_fips.difference(irrigation_cell_ids))\n",
    "print(\"Codes missing in `total_intersected_area_per_county`:\", county_fips.difference(area_cell_ids))"
   ]
  },
  {
   "cell_type": "markdown",
   "metadata": {},
   "source": [
    "* 51560 is Clifton Forge City, VA, is not an independent city as of July, 2001 (see [FIPS changes](https://www.ddorn.net/data/FIPS_County_Code_Changes.pdf)). Previous code is 51005. We ignore this for now...\n",
    "* 23000 is the entire state of Maine, and can be ignored in this case study (Sorry Mainers!)"
   ]
  },
  {
   "cell_type": "code",
   "execution_count": 16,
   "metadata": {},
   "outputs": [
    {
     "name": "stderr",
     "output_type": "stream",
     "text": [
      "0%                          100%\n",
      "[##############################] | ETA: 00:00:00\n",
      "Total time elapsed: 00:00:05\n"
     ]
    },
    {
     "data": {
      "text/plain": [
       "[(96.96912132466527, 'Cell(-80.75, 27.75)'),\n",
       " (0.0021942331058926886, 'Cell(-94.75, 42.75)'),\n",
       " (0.07515092995552938, 'Cell(-118.75, 33.25)'),\n",
       " (3.5811588223260755, 'Cell(-115.75, 48.75)'),\n",
       " (1.238084743991787, 'Cell(-121.75, 47.75)')]"
      ]
     },
     "execution_count": 16,
     "metadata": {},
     "output_type": "execute_result"
    }
   ],
   "source": [
    "raster_cells = {key[1] for key in county_fips_cell_dict}\n",
    "\n",
    "output_data = []\n",
    "\n",
    "for index, raster_cell in enumerate(pyprind.prog_bar(raster_cells)):\n",
    "    total_water = 0\n",
    "    for key, value in county_fips_cell_dict.items():\n",
    "        if key[1] == raster_cell:\n",
    "            county = key[0]\n",
    "            if county in ('51560', '23000'):\n",
    "                continue\n",
    "            total_water += irrigation_data[county] * value / total_intersected_area_per_county[county]\n",
    "    output_data.append((total_water, raster_cell))\n",
    "\n",
    "output_data[:5]"
   ]
  },
  {
   "cell_type": "markdown",
   "metadata": {},
   "source": [
    "This isn't perfect - for example, West Virginia is completely missing. But it is good enough.\n",
    "\n",
    "Write results to a file that will be used in the next notebook."
   ]
  },
  {
   "cell_type": "code",
   "execution_count": 22,
   "metadata": {},
   "outputs": [],
   "source": [
    "import json\n",
    "\n",
    "with open(os.path.join(\"output\", \"loading.json\"), \"w\") as f:\n",
    "    json.dump(output_data, f, indent=2)"
   ]
  }
 ],
 "metadata": {
  "kernelspec": {
   "display_name": "Python 3",
   "language": "python",
   "name": "python3"
  },
  "language_info": {
   "codemirror_mode": {
    "name": "ipython",
    "version": 3
   },
   "file_extension": ".py",
   "mimetype": "text/x-python",
   "name": "python",
   "nbconvert_exporter": "python",
   "pygments_lexer": "ipython3",
   "version": "3.6.4"
  },
  "toc": {
   "base_numbering": 1,
   "nav_menu": {
    "height": "189px",
    "width": "252px"
   },
   "number_sections": true,
   "sideBar": true,
   "skip_h1_title": false,
   "title_cell": "Table of Contents",
   "title_sidebar": "Contents",
   "toc_cell": false,
   "toc_position": {},
   "toc_section_display": "block",
   "toc_window_display": false
  }
 },
 "nbformat": 4,
 "nbformat_minor": 1
}

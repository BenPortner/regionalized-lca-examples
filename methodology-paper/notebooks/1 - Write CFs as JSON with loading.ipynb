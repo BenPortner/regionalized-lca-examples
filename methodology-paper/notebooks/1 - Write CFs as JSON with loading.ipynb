{
 "cells": [
  {
   "cell_type": "markdown",
   "metadata": {},
   "source": [
    "# Write CFs as JSON with loading"
   ]
  },
  {
   "cell_type": "markdown",
   "metadata": {},
   "source": [
    "This notebook is part of supporting information for \"Matrix-based Methods for Regionalized Life Cycle Assessment\" by Chris Mutel and Stefanie Hellweg, submitted to ES&T.\n",
    "\n",
    "The most recent version of these notebooks can be found at https://github.com/cmutel/regionalized-lca-examples.\n",
    "\n",
    "It will not run without the following:\n",
    "\n",
    "* bw2data, version >= 3.4.2\n",
    "* bw2calc, version >= 1.7\n",
    "* bw2regional, version >= 0.5.1\n",
    "* rower, version >= 0.1\n",
    "* bw2_lcimpact, version >= 0.2"
   ]
  },
  {
   "cell_type": "code",
   "execution_count": null,
   "metadata": {},
   "outputs": [],
   "source": [
    "def test_installed_software():\n",
    "    import bw2data\n",
    "    import bw2calc\n",
    "    import bw2regional\n",
    "    import rower\n",
    "    import bw2_lcimpact\n",
    "\n",
    "    assert bw2data.__version__ >= (3, 4, 2)\n",
    "    assert bw2calc.__version__ >= (1, 7)\n",
    "    assert bw2regional.__version__ >= (0, 5, 1)\n",
    "    assert rower >= (0, 1)\n",
    "    assert bw2_lcimpact.__version__ >= (0, 2)\n",
    "    \n",
    "test_installed_software()"
   ]
  },
  {
   "cell_type": "markdown",
   "metadata": {},
   "source": [
    "# Setup"
   ]
  },
  {
   "cell_type": "code",
   "execution_count": null,
   "metadata": {},
   "outputs": [],
   "source": [
    "import bz2\n",
    "import fiona\n",
    "import os\n",
    "import json\n",
    "import xlrd\n",
    "import pandarus\n",
    "import pyprind\n",
    "import numpy as np\n",
    "import rasterio\n",
    "from collections import defaultdict"
   ]
  },
  {
   "cell_type": "code",
   "execution_count": null,
   "metadata": {},
   "outputs": [],
   "source": [
    "import brightway2 as bw\n",
    "import bw2regional as bwr"
   ]
  },
  {
   "cell_type": "code",
   "execution_count": null,
   "metadata": {},
   "outputs": [],
   "source": [
    "bw.projects.set_current(\"computational methods paper\")"
   ]
  },
  {
   "cell_type": "markdown",
   "metadata": {},
   "source": [
    "# Introduction\n",
    "\n",
    "Loadings, as conceptualized in our paper, are weights used to calculate weighted averages - in this case, the weights are the existing emissions burden, and the weighted average is the characterization factor. The spatial pattern of the loadings are an approximation of *where* emissions happen.\n",
    "\n",
    "Normally, loadings are provided by LCIA method developers, as they need to know the background level of emissions to calculate marginal CFs. In this case, we need to transform a dataset of irrigation withdrawals on the county-level to our LCIA spatial scale, which is raster cells. This notebook describes how such a transformation can take place.\n",
    "\n",
    "Given no additional information, we assume that irrigation has a uniform spatial pattern in each county. If this is true, then we need to calculate the weighted average irrigation per raster cell. The weights in this case would be the relative area of each county in each raster cell. The basic procedure here is identical to the way we transform spatial scales in the regionalized LCA methods developed in our paper."
   ]
  },
  {
   "cell_type": "markdown",
   "metadata": {},
   "source": [
    "# Irrigation water consumption\n",
    "\n",
    "Get irrigation data from USGS spreadsheet"
   ]
  },
  {
   "cell_type": "code",
   "execution_count": null,
   "metadata": {},
   "outputs": [],
   "source": [
    "water_use_book = xlrd.open_workbook(os.path.join(\"data\", \"usco2005.xls\"))\n",
    "water_use = water_use_book.sheet_by_name('County')\n",
    "water_use.nrows"
   ]
  },
  {
   "cell_type": "code",
   "execution_count": null,
   "metadata": {},
   "outputs": [],
   "source": [
    "row = water_use.row(0)\n",
    "\n",
    "for index, value in enumerate(row):\n",
    "    if index in (3, 33, 40, 101):\n",
    "        print(index, value)"
   ]
  },
  {
   "cell_type": "markdown",
   "metadata": {},
   "source": [
    "## Which column is the most realistic for actual water withdrawals?\n",
    "\n",
    "We are interested in the following columns:\n",
    "\n",
    "  * 3: Concatenated state-county FIPS code\n",
    "  * 33: IR-WSWFr\tIrrigation, surface-water withdrawals, fresh, in Mgal/d\n",
    "  * 40: IC-WSWFr\tIrrigation-Crop, surface-water withdrawals, fresh, in Mgal/d <- really poor spatial coverage\n",
    "  * 101: TO-WSWFr\tTotal surface-water withdrawals, fresh, in Mgal/d"
   ]
  },
  {
   "cell_type": "markdown",
   "metadata": {},
   "source": [
    " Column 40: *Irrigation-Crop, surface-water withdrawals, fresh, in Mgal/d* has really poor spatial coverage:\n",
    " \n",
    " <img src='images/col-40.png'>"
   ]
  },
  {
   "cell_type": "markdown",
   "metadata": {},
   "source": [
    "Column 101: *Total surface-water withdrawals, fresh, in Mgal/d* is dominated by power production (maybe once-through plants?)\n",
    "\n",
    "<img src='images/col-101.png'>"
   ]
  },
  {
   "cell_type": "markdown",
   "metadata": {},
   "source": [
    "However, column 33: *Irrigation, surface-water withdrawals, fresh* seems like what we would expect (in addition to crops, it includes golf irrigation!?).\n",
    "\n",
    "<img src='images/col-33.png'>"
   ]
  },
  {
   "cell_type": "markdown",
   "metadata": {},
   "source": [
    "# What does the actual data look like?\n",
    "\n",
    "The FIPS code is a string, the irrigation amount is a float."
   ]
  },
  {
   "cell_type": "code",
   "execution_count": null,
   "metadata": {},
   "outputs": [],
   "source": [
    "values_row = water_use.row(1)\n",
    "values_row[3].value, values_row[33].value"
   ]
  },
  {
   "cell_type": "code",
   "execution_count": null,
   "metadata": {},
   "outputs": [],
   "source": [
    "water_use_dict = defaultdict(float)\n",
    "\n",
    "for i in range(1, water_use.nrows):\n",
    "    water_use_dict[water_use.cell(i, 3).value] = water_use.cell(i, 33).value"
   ]
  },
  {
   "cell_type": "markdown",
   "metadata": {},
   "source": [
    "# Intersect US counties with our grid CFs\n",
    "\n",
    "Here is the map of our characterization factors:\n",
    "\n",
    "<img src='images/cfs.png'>\n",
    "\n",
    "To calculate the intersection of these two scales, we use our [pandarus](http://pandarus.readthedocs.org/) library."
   ]
  },
  {
   "cell_type": "code",
   "execution_count": null,
   "metadata": {},
   "outputs": [],
   "source": [
    "pandarus_result = pandarus.intersect(\n",
    "    os.path.join(\"output\", \"956da8c2f7dca5ad8687266eaae0694a08ba7fb7decd794b38a916a430c67f9a.1.geojson\"),\n",
    "    \"id\",\n",
    "    os.path.join(\"data\", \"county_borders.gpkg\"),\n",
    "    'CO2000P020',\n",
    ")[1]"
   ]
  },
  {
   "cell_type": "code",
   "execution_count": null,
   "metadata": {},
   "outputs": [],
   "source": [
    "with bz2.BZ2File(pandarus_result) as f:\n",
    "    county_matches = json.load(f)['data']"
   ]
  },
  {
   "cell_type": "markdown",
   "metadata": {},
   "source": [
    "Our intersection data is a list of:\n",
    "\n",
    "    (\n",
    "        grid CF ids - can be used directly, \n",
    "        CO2000P020 field - must be matched to our string FIPS codes,\n",
    "        intersected area in meters\n",
    "    )"
   ]
  },
  {
   "cell_type": "code",
   "execution_count": null,
   "metadata": {},
   "outputs": [],
   "source": [
    "print(len(county_matches))\n",
    "county_matches[:5]"
   ]
  },
  {
   "cell_type": "markdown",
   "metadata": {},
   "source": [
    "Get map from 'CO2000P020' value to county FIPS code:"
   ]
  },
  {
   "cell_type": "code",
   "execution_count": null,
   "metadata": {},
   "outputs": [],
   "source": [
    "fips_mapping = {}\n",
    "\n",
    "with fiona.open(os.path.join(\"data\", \"county_borders.gpkg\")) as f:\n",
    "    for feat in f:\n",
    "        fips_mapping[feat['properties']['CO2000P020']] = feat['properties']['FIPS']"
   ]
  },
  {
   "cell_type": "code",
   "execution_count": null,
   "metadata": {},
   "outputs": [],
   "source": [
    "fips_mapping[1308]"
   ]
  },
  {
   "cell_type": "markdown",
   "metadata": {},
   "source": [
    "# Merge datasets"
   ]
  },
  {
   "cell_type": "markdown",
   "metadata": {},
   "source": [
    "## Data consistency check\n",
    "\n",
    "Need to see whether the FIPS codes from the counties map match the FIPS codes from the irrigation spreadsheet. FIPS codes can change (see e.g. [this web page](https://www.census.gov/geo/reference/county-changes.html))."
   ]
  },
  {
   "cell_type": "code",
   "execution_count": null,
   "metadata": {},
   "outputs": [],
   "source": [
    "fips_in_gpkg = set(fips_mapping.values())\n",
    "fips_in_spreadsheet = {water_use.cell(i, 3).value for i in range(1, water_use.nrows)}"
   ]
  },
  {
   "cell_type": "code",
   "execution_count": null,
   "metadata": {},
   "outputs": [],
   "source": [
    "fips_in_gpkg.difference(fips_in_spreadsheet)"
   ]
  },
  {
   "cell_type": "markdown",
   "metadata": {},
   "source": [
    "* 51560 is Clifton Forge City, VA, is not an independent city as of July, 2001 (see [FIPS changes](https://www.ddorn.net/data/FIPS_County_Code_Changes.pdf)). Previous code is 51005. We ignore this for now...\n",
    "* 23000 is the entire state of Maine, and can be ignored in this case study (Sorry Mainers!)"
   ]
  },
  {
   "cell_type": "markdown",
   "metadata": {},
   "source": [
    "## Merge `CO2000P020` codes to FIPS codes\n",
    "\n",
    "The geopackage is a polygon, not a multipolygon, so some counties have more than one feature. These need to be aggregated."
   ]
  },
  {
   "cell_type": "code",
   "execution_count": null,
   "metadata": {},
   "outputs": [],
   "source": [
    "len(fips_mapping), len(set(fips_mapping.values()))"
   ]
  },
  {
   "cell_type": "code",
   "execution_count": null,
   "metadata": {},
   "outputs": [],
   "source": [
    "temp_dict = defaultdict(float)\n",
    "\n",
    "for x, y, z in county_matches:\n",
    "    temp_dict[(x, fips_mapping[y])] += z"
   ]
  },
  {
   "cell_type": "code",
   "execution_count": null,
   "metadata": {},
   "outputs": [],
   "source": [
    "county_matches = [(x[0], x[1], y) for x, y in temp_dict.items()]\n",
    "len(county_matches), county_matches[0]"
   ]
  },
  {
   "cell_type": "markdown",
   "metadata": {},
   "source": [
    "## County areas\n",
    "\n",
    "Get total intersected area for each county"
   ]
  },
  {
   "cell_type": "code",
   "execution_count": null,
   "metadata": {},
   "outputs": [],
   "source": [
    "total_intersected_area_per_county = defaultdict(float)\n",
    "\n",
    "for _, y, z in county_matches:\n",
    "    total_intersected_area_per_county[y] += z"
   ]
  },
  {
   "cell_type": "markdown",
   "metadata": {},
   "source": [
    "# Create Loading\n",
    "\n",
    "[Loadings](http://brightway2-regional.readthedocs.org/formats.html#loadings) in ``bw2regional`` should have the form:\n",
    "\n",
    "    [\n",
    "        [amount, IA spatial unit id]\n",
    "    ]\n",
    "\n",
    "However, the ``amount`` should have units of mass per area, so we neeed to calculate:\n",
    "\n",
    "   $$value_{grid} = \\frac{\\sum_{county \\in counties} area(county \\cap grid) \\cdot irrigation_{county} }{ [ \\sum_{county \\in counties} area(county \\cap grid) ]^{2} }$$\n",
    "   \n",
    "The denominator is squared because we need it twice: first, to normalize the weights in the numerator, and second, to convert from irrigation to irrigation per square meter. We know that our grid completely covers all counties, so the sum of the intersected area is the total area of the county."
   ]
  },
  {
   "cell_type": "code",
   "execution_count": null,
   "metadata": {},
   "outputs": [],
   "source": [
    "grid_values = {}\n",
    "\n",
    "for grid_id in set([x[0] for x in county_matches]):\n",
    "    grid_values[grid_id] = (\n",
    "        sum([area * water_use_dict[county] for g, county, area in county_matches if g == grid_id]) /\n",
    "        sum(total_intersected_area_per_county[county] for g, county, _ in county_matches if g == grid_id) ** 2\n",
    "    )"
   ]
  },
  {
   "cell_type": "code",
   "execution_count": null,
   "metadata": {},
   "outputs": [],
   "source": [
    "import json\n",
    "\n",
    "with open(os.path.join(\"output\", \"loading.json\"), \"w\") as f:\n",
    "    json.dump([(v, k) for k, v in grid_values.items()], f, indent=2)"
   ]
  },
  {
   "cell_type": "markdown",
   "metadata": {},
   "source": [
    "## Write results to check reasonableness"
   ]
  },
  {
   "cell_type": "code",
   "execution_count": null,
   "metadata": {},
   "outputs": [],
   "source": [
    "with fiona.open(\n",
    "        os.path.join(\"output\", \"956da8c2f7dca5ad8687266eaae0694a08ba7fb7decd794b38a916a430c67f9a.1.geojson\")\n",
    "    ) as source:\n",
    "\n",
    "    schema = {\n",
    "        'geometry': 'Polygon',\n",
    "        'properties': {'id': 'str', 'val': 'float'}\n",
    "    }\n",
    "    \n",
    "    with fiona.open(\n",
    "            os.path.join(\"output\", \"loading_check.geojson\"), \n",
    "            'w',\n",
    "            crs=source.crs,\n",
    "            driver=source.driver,\n",
    "            schema=schema,\n",
    "        ) as sink:\n",
    "\n",
    "        for f in source:\n",
    "            try:\n",
    "                f['properties'] = {\n",
    "                    'id': f['properties']['id'], \n",
    "                    'val': grid_values[f['properties']['id']] * 1e6\n",
    "                }\n",
    "                sink.write(f)\n",
    "            except KeyError:\n",
    "                pass"
   ]
  },
  {
   "cell_type": "markdown",
   "metadata": {},
   "source": [
    "Seems reasonable enough\n",
    "\n",
    "<img src='images/loadings.png'>"
   ]
  },
  {
   "cell_type": "code",
   "execution_count": null,
   "metadata": {},
   "outputs": [],
   "source": []
  }
 ],
 "metadata": {
  "kernelspec": {
   "display_name": "Python 3",
   "language": "python",
   "name": "python3"
  },
  "language_info": {
   "codemirror_mode": {
    "name": "ipython",
    "version": 3
   },
   "file_extension": ".py",
   "mimetype": "text/x-python",
   "name": "python",
   "nbconvert_exporter": "python",
   "pygments_lexer": "ipython3",
   "version": "3.6.4"
  },
  "toc": {
   "base_numbering": 1,
   "nav_menu": {
    "height": "189px",
    "width": "252px"
   },
   "number_sections": true,
   "sideBar": true,
   "skip_h1_title": false,
   "title_cell": "Table of Contents",
   "title_sidebar": "Contents",
   "toc_cell": false,
   "toc_position": {},
   "toc_section_display": "block",
   "toc_window_display": false
  }
 },
 "nbformat": 4,
 "nbformat_minor": 1
}

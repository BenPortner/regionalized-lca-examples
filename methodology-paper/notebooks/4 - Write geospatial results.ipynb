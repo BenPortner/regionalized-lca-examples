{
 "cells": [
  {
   "cell_type": "markdown",
   "metadata": {},
   "source": [
    "# 4 - Write geospatial results\n",
    "\n",
    "This notebook is part of supporting information for \"Computational Methods for Regionalized Life Cycle Assessment\" by Chris Mutel and Stefanie Hellweg (insert link).\n",
    "\n",
    "It will not run without an up-to-date installation of the following:\n",
    "* Python (see [Brightway2 python installation instructions](http://brightway2.readthedocs.org/en/latest/installation.html))\n",
    "* [brightway2](http://brightwaylca.org/)\n",
    "* [brightway2-regional](http://brightway2-regional.readthedocs.org/)\n",
    "\n",
    "In addition, you need the data directory provided as part of the electronic supporting information."
   ]
  },
  {
   "cell_type": "markdown",
   "metadata": {},
   "source": [
    "Write geospatial results - again, not very interesting"
   ]
  },
  {
   "cell_type": "code",
   "execution_count": 1,
   "metadata": {},
   "outputs": [],
   "source": [
    "from bw2regional import *\n",
    "from brightway2 import *"
   ]
  },
  {
   "cell_type": "markdown",
   "metadata": {},
   "source": [
    "As before, **change** the Brightway2 directory."
   ]
  },
  {
   "cell_type": "code",
   "execution_count": 2,
   "metadata": {},
   "outputs": [],
   "source": [
    "BRIGHTWAY2_DIR = \"/Users/cmutel/reg-test-data/brightway2/\"\n",
    "\n",
    "config.dir = BRIGHTWAY2_DIR\n",
    "config.create_basic_directories()\n",
    "reset_meta()\n",
    "reset_geo_meta()"
   ]
  },
  {
   "cell_type": "code",
   "execution_count": 3,
   "metadata": {},
   "outputs": [],
   "source": [
    "mix_db = Database(\"production mixes\")"
   ]
  },
  {
   "cell_type": "code",
   "execution_count": 4,
   "metadata": {},
   "outputs": [],
   "source": [
    "def get_lca(key, klass):\n",
    "    if klass == \"twossloading\":\n",
    "        lca = TwoSpatialScalesWithGenericLoadingLCA(\n",
    "                                                    {key: 1}, \n",
    "                                                    method=(u'irrigation water', u'surface', 'grid scale'), \n",
    "                                                    loading='irrigation water surface withdrawals'\n",
    "                                                    )\n",
    "    elif klass == \"twoss\":\n",
    "        lca = TwoSpatialScalesLCA(\n",
    "                                  {key: 1}, \n",
    "                                  method=(u'irrigation water', u'surface', 'grid scale'), \n",
    "                                  )\n",
    "    elif klass == \"oness\":\n",
    "        lca = OneSpatialScaleLCA(\n",
    "                                 {key: 1}, \n",
    "                                 method=(u'irrigation water', u'surface', 'state scale'), \n",
    "                                 )\n",
    "    lca.lci()\n",
    "    lca.lcia()\n",
    "    return lca"
   ]
  },
  {
   "cell_type": "code",
   "execution_count": 5,
   "metadata": {},
   "outputs": [
    {
     "name": "stdout",
     "output_type": "stream",
     "text": [
      "/Users/cmutel/reg-test-data/brightway2/output/soybeans.oness.geojson\n",
      "/Users/cmutel/reg-test-data/brightway2/output/cotton.oness.geojson\n",
      "/Users/cmutel/reg-test-data/brightway2/output/corn.oness.geojson\n",
      "/Users/cmutel/reg-test-data/brightway2/output/winter-wheat.oness.geojson\n",
      "/Users/cmutel/reg-test-data/brightway2/output/soybeans.twoss.tiff\n",
      "/Users/cmutel/reg-test-data/brightway2/output/soybeans.twoss.geojson\n",
      "/Users/cmutel/reg-test-data/brightway2/output/cotton.twoss.tiff\n",
      "/Users/cmutel/reg-test-data/brightway2/output/cotton.twoss.geojson\n",
      "/Users/cmutel/reg-test-data/brightway2/output/corn.twoss.tiff\n",
      "/Users/cmutel/reg-test-data/brightway2/output/corn.twoss.geojson\n",
      "/Users/cmutel/reg-test-data/brightway2/output/winter-wheat.twoss.tiff\n",
      "/Users/cmutel/reg-test-data/brightway2/output/winter-wheat.twoss.geojson\n",
      "/Users/cmutel/reg-test-data/brightway2/output/soybeans.twossloading.tiff\n",
      "/Users/cmutel/reg-test-data/brightway2/output/soybeans.twossloading.geojson\n",
      "/Users/cmutel/reg-test-data/brightway2/output/cotton.twossloading.tiff\n",
      "/Users/cmutel/reg-test-data/brightway2/output/cotton.twossloading.geojson\n",
      "/Users/cmutel/reg-test-data/brightway2/output/corn.twossloading.tiff\n",
      "/Users/cmutel/reg-test-data/brightway2/output/corn.twossloading.geojson\n",
      "/Users/cmutel/reg-test-data/brightway2/output/winter-wheat.twossloading.tiff\n",
      "/Users/cmutel/reg-test-data/brightway2/output/winter-wheat.twossloading.geojson\n"
     ]
    }
   ],
   "source": [
    "for kind in (\"oness\", \"twoss\", \"twossloading\"):\n",
    "    for key in mix_db.load():\n",
    "        lca = get_lca(key, kind)\n",
    "        filename = key[1].replace(\" \", \"-\").lower() + '.' + kind\n",
    "        if kind != \"oness\":\n",
    "            print lca.write_results_to_ia_map(filename, ('biosphere', 'water, irrigation, surface'), normalize=True)\n",
    "        print lca.write_results_to_inv_map(filename, 'states', normalize=True)"
   ]
  },
  {
   "cell_type": "code",
   "execution_count": 6,
   "metadata": {},
   "outputs": [
    {
     "name": "stdout",
     "output_type": "stream",
     "text": [
      "/Users/cmutel/reg-test-data/brightway2/output/cotton.xtable.inv.geojson\n",
      "/Users/cmutel/reg-test-data/brightway2/output/cotton.xtable.ia.geojson\n",
      "/Users/cmutel/reg-test-data/brightway2/output/cotton.xtable.tiff\n"
     ]
    }
   ],
   "source": [
    "lca = ExtensionTablesLCA(\n",
    "                        {('production mixes', 'Cotton'): 1}, \n",
    "                        method=('irrigation water', 'surface', 'watershed scale'),\n",
    "                        xtable=\"blue water consumption\"\n",
    "                        )\n",
    "lca.lci()\n",
    "lca.lcia()\n",
    "filename = \"cotton.xtable\"\n",
    "print lca.write_results_to_inv_map(filename + \".inv\", 'states', normalize=True)\n",
    "print lca.write_results_to_ia_map(filename + \".ia\", ('biosphere', 'water, irrigation, surface'), normalize=True)\n",
    "print lca.write_results_to_xtable_map(filename, ('biosphere', 'water, irrigation, surface'), normalize=True)"
   ]
  }
 ],
 "metadata": {
  "kernelspec": {
   "display_name": "Python 3",
   "language": "python",
   "name": "python3"
  },
  "language_info": {
   "codemirror_mode": {
    "name": "ipython",
    "version": 3
   },
   "file_extension": ".py",
   "mimetype": "text/x-python",
   "name": "python",
   "nbconvert_exporter": "python",
   "pygments_lexer": "ipython3",
   "version": "3.6.4"
  },
  "toc": {
   "base_numbering": 1,
   "nav_menu": {},
   "number_sections": true,
   "sideBar": true,
   "skip_h1_title": false,
   "title_cell": "Table of Contents",
   "title_sidebar": "Contents",
   "toc_cell": false,
   "toc_position": {},
   "toc_section_display": true,
   "toc_window_display": false
  }
 },
 "nbformat": 4,
 "nbformat_minor": 1
}

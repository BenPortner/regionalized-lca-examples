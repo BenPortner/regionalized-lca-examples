{
 "cells": [
  {
   "cell_type": "markdown",
   "metadata": {},
   "source": [
    "# Enter and process data"
   ]
  },
  {
   "cell_type": "markdown",
   "metadata": {},
   "source": [
    "This notebook is part of supporting information for \"Matrix-based Methods for Regionalized Life Cycle Assessment\" by Chris Mutel and Stefanie Hellweg, submitted to ES&T.\n",
    "\n",
    "The most recent version of these notebooks can be found at https://github.com/cmutel/regionalized-lca-examples.\n",
    "\n",
    "It will not run without the following:\n",
    "\n",
    "* bw2data, version >= 3.4.2\n",
    "* bw2calc, version >= 1.7\n",
    "* bw2regional, version >= 0.5.1\n",
    "* rower, version >= 0.1\n",
    "* bw2_lcimpact, version >= 0.2"
   ]
  },
  {
   "cell_type": "code",
   "execution_count": null,
   "metadata": {},
   "outputs": [],
   "source": [
    "def test_installed_software():\n",
    "    import bw2data\n",
    "    import bw2calc\n",
    "    import bw2regional\n",
    "    import rower\n",
    "    import bw2_lcimpact\n",
    "\n",
    "    assert bw2data.__version__ >= (3, 4, 2)\n",
    "    assert bw2calc.__version__ >= (1, 7)\n",
    "    assert bw2regional.__version__ >= (0, 5, 1)\n",
    "    assert rower >= (0, 1)\n",
    "    assert bw2_lcimpact.__version__ >= (0, 2)\n",
    "    \n",
    "test_installed_software()"
   ]
  },
  {
   "cell_type": "markdown",
   "metadata": {},
   "source": [
    "# Setup"
   ]
  },
  {
   "cell_type": "code",
   "execution_count": null,
   "metadata": {},
   "outputs": [],
   "source": [
    "import brightway2 as bw\n",
    "import bw2regional as bwr\n",
    "import numpy as np\n",
    "import pandarus\n",
    "import xlrd\n",
    "import os\n",
    "import json\n",
    "import csv"
   ]
  },
  {
   "cell_type": "code",
   "execution_count": null,
   "metadata": {},
   "outputs": [],
   "source": [
    "bw.projects.set_current(\"computational methods paper\")"
   ]
  },
  {
   "cell_type": "code",
   "execution_count": null,
   "metadata": {},
   "outputs": [],
   "source": [
    "bw.create_core_migrations()"
   ]
  },
  {
   "cell_type": "markdown",
   "metadata": {},
   "source": [
    "Get basic information about this Brightway2 installation"
   ]
  },
  {
   "cell_type": "code",
   "execution_count": null,
   "metadata": {},
   "outputs": [],
   "source": [
    "import bw2data, bw2calc, bw2regional, bw2io, pandarus\n",
    "print(\"bw2data:\", bw2data.__version__)\n",
    "print(\"bw2calc:\", bw2calc.__version__)\n",
    "print(\"bw2regional:\", bw2regional.__version__)\n",
    "print(\"bw2io:\", bw2io.__version__)\n",
    "print(\"pandarus:\", pandarus.__version__)"
   ]
  },
  {
   "cell_type": "markdown",
   "metadata": {},
   "source": [
    "# Geocollections: `water cfs`, `water-xt`, and `states`\n",
    "\n",
    "Create geocollections for two new maps:\n",
    "\n",
    "    * `water cfs`: Gridded spatial scale as defined in `Pfister et al 2009`\n",
    "    * `water-xt`: Finely detailed raster cells used in extension table for water use\n",
    "    * `states`: US state boundaries, from national atlas\n",
    "\n",
    "Here are the CFs given on the `water cfs` spatial scale:\n",
    "\n",
    "<img src='images/raster-cfs.png'>"
   ]
  },
  {
   "cell_type": "code",
   "execution_count": null,
   "metadata": {},
   "outputs": [],
   "source": [
    "water_cfs_vector = pandarus.convert_to_vector(\n",
    "    pandarus.round_raster(\n",
    "        pandarus.clean_raster(os.path.abspath(os.path.join(\"data\", 'clipped.tiff')))\n",
    "    ),\n",
    "    \"output\"\n",
    ")"
   ]
  },
  {
   "cell_type": "code",
   "execution_count": null,
   "metadata": {},
   "outputs": [],
   "source": [
    "water_cfs_vector"
   ]
  },
  {
   "cell_type": "code",
   "execution_count": null,
   "metadata": {},
   "outputs": [],
   "source": [
    "bwr.geocollections['water cfs'] = {\n",
    "    'filepath': os.path.abspath(water_cfs_vector),\n",
    "    'field': \"id\",\n",
    "}"
   ]
  },
  {
   "cell_type": "code",
   "execution_count": null,
   "metadata": {},
   "outputs": [],
   "source": [
    "bwr.geocollections['states'] = {\n",
    "    'filepath': os.path.abspath(os.path.join('data', 'state_boundaries.gpkg')),\n",
    "    'field': 'STATE'\n",
    "}"
   ]
  },
  {
   "cell_type": "markdown",
   "metadata": {},
   "source": [
    "## Convert extension table inputs from mass to mass per area\n",
    "\n",
    "The extension table data is not per area - divide each cell by its area to get correct units."
   ]
  },
  {
   "cell_type": "code",
   "execution_count": null,
   "metadata": {},
   "outputs": [],
   "source": [
    "source_fp = os.path.join(\"data\", \"blue-water.tiff\")\n",
    "destination_fp = os.path.join(\"output\", 'blue-water-per-area.tiff')\n",
    "\n",
    "bwr.divide_by_area(source_fp, destination_fp)"
   ]
  },
  {
   "cell_type": "markdown",
   "metadata": {},
   "source": [
    "We can now point to the correct extension table data."
   ]
  },
  {
   "cell_type": "code",
   "execution_count": null,
   "metadata": {},
   "outputs": [],
   "source": [
    "bwr.geocollections['water-xt'] = {'filepath': os.path.join(\"output\", 'blue-water-per-area.tiff')}"
   ]
  },
  {
   "cell_type": "markdown",
   "metadata": {},
   "source": [
    "Check to make sure that it worked"
   ]
  },
  {
   "cell_type": "code",
   "execution_count": null,
   "metadata": {},
   "outputs": [],
   "source": [
    "sorted(bwr.geocollections)"
   ]
  },
  {
   "cell_type": "markdown",
   "metadata": {},
   "source": [
    "# Biosphere database\n",
    "\n",
    "Download, if necessary, and add surface and groundwater irrigation flows (requires internet connection)."
   ]
  },
  {
   "cell_type": "code",
   "execution_count": null,
   "metadata": {},
   "outputs": [],
   "source": [
    "if \"biosphere3\" not in bw.databases:\n",
    "    bw.create_default_biosphere3()"
   ]
  },
  {
   "cell_type": "code",
   "execution_count": null,
   "metadata": {},
   "outputs": [],
   "source": [
    "biosphere = bw.Database(\"biosphere3\")"
   ]
  },
  {
   "cell_type": "code",
   "execution_count": null,
   "metadata": {},
   "outputs": [],
   "source": [
    "data = [\n",
    "    {\n",
    "        'code': 'water, irrigation, surface',\n",
    "        'name': 'Surfacewater irrigation',\n",
    "        'unit': 'kg',\n",
    "        'type': 'biosphere',\n",
    "    }, {\n",
    "        'code': 'water, irrigation, groundwater',                                               \n",
    "        'name': 'Groundwater irrigation',\n",
    "        'unit': 'kg',\n",
    "        'type': 'biosphere'\n",
    "    }\n",
    "]\n",
    "\n",
    "for ds in data:\n",
    "    biosphere.new_activity(**ds).save()"
   ]
  },
  {
   "cell_type": "markdown",
   "metadata": {},
   "source": [
    "# New Intersections: `(\"water cfs\", \"states\")` and `(\"states\", \"water cfs\")`\n",
    "\n",
    "Create new Intersection object that maps state boundaries to LCIA CF raster cells"
   ]
  },
  {
   "cell_type": "code",
   "execution_count": null,
   "metadata": {},
   "outputs": [],
   "source": [
    "pandarus_result = pandarus.intersect(\n",
    "    bwr.geocollections['water cfs']['filepath'],\n",
    "    bwr.geocollections['water cfs']['field'],    \n",
    "    bwr.geocollections['states']['filepath'],\n",
    "    bwr.geocollections['states']['field'],\n",
    ")"
   ]
  },
  {
   "cell_type": "code",
   "execution_count": null,
   "metadata": {},
   "outputs": [],
   "source": [
    "bwr.import_from_pandarus(pandarus_result[1])"
   ]
  },
  {
   "cell_type": "markdown",
   "metadata": {},
   "source": [
    "Check to make sure data is reasonable"
   ]
  },
  {
   "cell_type": "code",
   "execution_count": null,
   "metadata": {},
   "outputs": [],
   "source": [
    "print(len(bwr.Intersection(('water cfs', 'states')).load()))\n",
    "[x for x in bwr.Intersection(('water cfs', 'states')).load() if x[0][1] == '978']"
   ]
  },
  {
   "cell_type": "code",
   "execution_count": null,
   "metadata": {},
   "outputs": [],
   "source": [
    "0.799 / 1.14, 0.239 / 0.34, 1.12 / 1.61"
   ]
  },
  {
   "cell_type": "markdown",
   "metadata": {},
   "source": [
    "I checked these values independently using QGis. The areas are not the same, due to a difference in projections, but the actual values don't matter - we only use the relative values, and they are quite close.\n",
    "\n",
    "<img src=\"images/intersection-tests.png\" width=\"300\">\n",
    "\n",
    "Pandarus | Manual | Ratio\n",
    "--- | --- | ---\n",
    "0.799 | 1.14 | 0.701\n",
    "0.239 | 0.34 | 0.703\n",
    "1.12 | 1.61 | 0.696"
   ]
  },
  {
   "cell_type": "markdown",
   "metadata": {},
   "source": [
    "## Add intersection of `water cfs` and `states` as new geocollection\n",
    "\n",
    "We can save some work by breaking things down to the smallest possible spatial units - the actual polygons that are the intersections between the spatial units of `water cfs` and `states`."
   ]
  },
  {
   "cell_type": "code",
   "execution_count": null,
   "metadata": {},
   "outputs": [],
   "source": [
    "bwr.remote.calculate_intersection(\"water cfs\", \"states\")"
   ]
  },
  {
   "cell_type": "code",
   "execution_count": null,
   "metadata": {},
   "outputs": [],
   "source": [
    "bwr.remote.intersection_as_new_geocollection(\"water cfs\", \"states\", \"states to water cfs\")"
   ]
  },
  {
   "cell_type": "markdown",
   "metadata": {},
   "source": [
    "# New LCIA Method: `('irrigation water', 'surface', 'grid scale')`\n",
    "\n",
    "Create regionalized LCIA method. Start by creating and registering a new Method object."
   ]
  },
  {
   "cell_type": "code",
   "execution_count": null,
   "metadata": {},
   "outputs": [],
   "source": [
    "m_name = ('irrigation water', 'surface', 'grid scale')\n",
    "m = bw.Method(m_name)\n",
    "if m_name not in bw.methods:\n",
    "    m.register(description=\"Water consumption CFs from Pfister et al 2009\", unit=\"PDF m2 / yr\")"
   ]
  },
  {
   "cell_type": "markdown",
   "metadata": {},
   "source": [
    "This little piece of magic will look at the spatial data file given as metadata for the Method, and import the specified band or layer as CFs for the given flow."
   ]
  },
  {
   "cell_type": "code",
   "execution_count": null,
   "metadata": {},
   "outputs": [],
   "source": [
    "from bw2regional.utils import import_regionalized_cfs\n",
    "\n",
    "import_regionalized_cfs(\n",
    "    geocollection=\"water cfs\", \n",
    "    method=bw.Method(m_name), \n",
    "    # \"val\" is the default field label when converted to a vector\n",
    "    mapping={\"val\": [('biosphere3', 'water, irrigation, surface')]},\n",
    "    scaling_factor = 1/1000 # Convert from m3 to kg\n",
    ") "
   ]
  },
  {
   "cell_type": "markdown",
   "metadata": {},
   "source": [
    "Check to make sure results are reasonable"
   ]
  },
  {
   "cell_type": "code",
   "execution_count": null,
   "metadata": {},
   "outputs": [],
   "source": [
    "bw.Method(m_name).load()[:5]"
   ]
  },
  {
   "cell_type": "markdown",
   "metadata": {},
   "source": [
    "# New LCIA Method: `('irrigation water', 'surface', 'state scale')`\n",
    "\n",
    "Create another regionalized LCIA method, at the scale of the inventory."
   ]
  },
  {
   "cell_type": "code",
   "execution_count": null,
   "metadata": {},
   "outputs": [],
   "source": [
    "m_name = ('irrigation water', 'surface', 'state scale')\n",
    "m = bw.Method(m_name)\n",
    "if m_name not in bw.methods:\n",
    "    m.register(\n",
    "        description=\"Water consumption CFs from Pfister et al 2009\", \n",
    "        unit=\"PDF m2 / yr\", \n",
    "        geocollections=['states']\n",
    "    )"
   ]
  },
  {
   "cell_type": "code",
   "execution_count": null,
   "metadata": {},
   "outputs": [],
   "source": [
    "wb = xlrd.open_workbook(os.path.join(\"data\", \"State_level EI99 CF.xlsx\"))\n",
    "sheet = wb.sheet_by_name(\"US state level\")"
   ]
  },
  {
   "cell_type": "code",
   "execution_count": null,
   "metadata": {},
   "outputs": [],
   "source": [
    "state_cf_data = [(\n",
    "         ('biosphere3', 'water, irrigation, surface'),\n",
    "         sheet.row(x)[4].value / 1000.,  # Convert m3 to kg\n",
    "         ('states', sheet.row(x)[1].value)) for x in range(2, sheet.nrows)\n",
    "        ]\n",
    "\n",
    "m.write(state_cf_data)\n",
    "\n",
    "state_cf_data[:3]"
   ]
  },
  {
   "cell_type": "markdown",
   "metadata": {},
   "source": [
    "# New LCIA Method: `('irrigation water', 'surface', 'site-generic')`\n",
    "\n",
    "Create a final, site-generic LCIA method."
   ]
  },
  {
   "cell_type": "code",
   "execution_count": null,
   "metadata": {},
   "outputs": [],
   "source": [
    "m_name = ('irrigation water', 'surface', 'site-generic')\n",
    "m = bw.Method(m_name)\n",
    "if m_name not in bw.methods:\n",
    "    m.register(description=\"Water consumption CFs from Pfister et al 2009\", unit=\"PDF m2 / yr\")"
   ]
  },
  {
   "cell_type": "code",
   "execution_count": null,
   "metadata": {},
   "outputs": [],
   "source": [
    "m.write([(('biosphere3', 'water, irrigation, surface'), 0.310016 / 1000.)])\n",
    "m.load()"
   ]
  },
  {
   "cell_type": "markdown",
   "metadata": {},
   "source": [
    "# New extension table: `blue water consumption`"
   ]
  },
  {
   "cell_type": "code",
   "execution_count": null,
   "metadata": {},
   "outputs": [],
   "source": [
    "stats_output = pandarus.raster_statistics(\n",
    "    bwr.geocollections['states to water cfs']['filepath'],\n",
    "    bwr.geocollections['states to water cfs']['field'],    \n",
    "    bwr.geocollections['water-xt']['filepath']\n",
    ")"
   ]
  },
  {
   "cell_type": "code",
   "execution_count": null,
   "metadata": {},
   "outputs": [],
   "source": [
    "bwr.pandarus.import_xt_from_rasterstats(\n",
    "    stats_output, \n",
    "    \"blue water consumption\",\n",
    "    'states to water cfs'\n",
    ")"
   ]
  },
  {
   "cell_type": "markdown",
   "metadata": {},
   "source": [
    "Check that values are reasonable"
   ]
  },
  {
   "cell_type": "code",
   "execution_count": null,
   "metadata": {},
   "outputs": [],
   "source": [
    "bwr.ExtensionTable(\"blue water consumption\").load()[:4]"
   ]
  },
  {
   "cell_type": "markdown",
   "metadata": {},
   "source": [
    "# New Loading: `irrigation water surface withdrawals`"
   ]
  },
  {
   "cell_type": "code",
   "execution_count": null,
   "metadata": {},
   "outputs": [],
   "source": [
    "l_name = ('irrigation water surface withdrawals')\n",
    "loading = bwr.Loading(l_name)\n",
    "if l_name not in bwr.loadings:\n",
    "    loading.register(unit=\"MGal/day/km^2\")"
   ]
  },
  {
   "cell_type": "code",
   "execution_count": null,
   "metadata": {},
   "outputs": [],
   "source": [
    "loading_data = json.load(open(os.path.join(\"output\", \"loading.json\")))\n",
    "\n",
    "# Add geocollection id to loading data\n",
    "loading_data = [[x[0] * 1e6, ('water cfs', x[1])] for x in loading_data]\n",
    "loading.validate(loading_data)\n",
    "loading.write(loading_data)\n",
    "\n",
    "loading_data[0]"
   ]
  },
  {
   "cell_type": "markdown",
   "metadata": {},
   "source": [
    "# New LCI database: `crops`\n",
    "\n",
    "We use the LCI datasets for the US from the LCA Data Commons; specifically, version 1 prepared in Ecospold version 1 format, and available from https://data.nal.usda.gov/dataset/unit-process-data-field-crop-production-version-1/resource/31ee2655-a96b-4d16-82d7-48e53575a501. This data is public domain.\n",
    "\n",
    "We have filtered these datasets to the crops of interest in the case study, and use only data for the year 2000.\n",
    "\n",
    "In the code repository, these files are compressed to save space. You should unzip `data/crops.zip`."
   ]
  },
  {
   "cell_type": "code",
   "execution_count": null,
   "metadata": {},
   "outputs": [],
   "source": [
    "if \"crops\" in bw.databases:\n",
    "    del bw.databases['crops']\n",
    "\n",
    "importer = bw.SingleOutputEcospold1Importer(os.path.join(\"data\", \"crops\"), \"crops\")"
   ]
  },
  {
   "cell_type": "code",
   "execution_count": null,
   "metadata": {},
   "outputs": [],
   "source": [
    "importer.apply_strategies()"
   ]
  },
  {
   "cell_type": "code",
   "execution_count": null,
   "metadata": {},
   "outputs": [],
   "source": [
    "importer.match_database(fields=['name', 'location'])"
   ]
  },
  {
   "cell_type": "code",
   "execution_count": null,
   "metadata": {},
   "outputs": [],
   "source": [
    "importer.statistics()"
   ]
  },
  {
   "cell_type": "markdown",
   "metadata": {},
   "source": [
    "## Cleanup Step 1: Fix state names\n",
    "\n",
    "Need to go from `AL` to `('states', 'Alabama')` to match the locations in the `'states'` geocollection and the state-level CFs."
   ]
  },
  {
   "cell_type": "code",
   "execution_count": null,
   "metadata": {},
   "outputs": [],
   "source": [
    "state_mapping = {\n",
    "    'AL': 'ALABAMA',\n",
    "    'AR': 'ARKANSAS',\n",
    "    'AZ': 'ARIZONA',\n",
    "    'CA': 'CALIFORNIA',\n",
    "    'CO': 'COLORADO',\n",
    "    'GA': 'GEORGIA',\n",
    "    'IA': 'IOWA',\n",
    "    'ID': 'IDAHO',\n",
    "    'IL': 'ILLINOIS',\n",
    "    'IN': 'INDIANA',\n",
    "    'KS': 'KANSAS',\n",
    "    'KY': 'KENTUCKY',\n",
    "    'LA': 'LOUISIANA',\n",
    "    'MI': 'MICHIGAN',\n",
    "    'MN': 'MINNESOTA',\n",
    "    'MO': 'MISSOURI',\n",
    "    'MS': 'MISSISSIPPI',\n",
    "    'MT': 'MONTANA',\n",
    "    'NC': 'NORTH CAROLINA',\n",
    "    'ND': 'NORTH DAKOTA',\n",
    "    'NE': 'NEBRASKA',\n",
    "    'NY': 'NEW YORK',\n",
    "    'OH': 'OHIO',\n",
    "    'OK': 'OKLAHOMA',\n",
    "    'OR': 'OREGON',\n",
    "    'PA': 'PENNSYLVANIA',\n",
    "    'SD': 'SOUTH DAKOTA',\n",
    "    'TN': 'TENNESSEE',\n",
    "    'TX': 'TEXAS',\n",
    "    'WA': 'WASHINGTON',\n",
    "    'WI': 'WISCONSIN',\n",
    "}"
   ]
  },
  {
   "cell_type": "code",
   "execution_count": null,
   "metadata": {},
   "outputs": [],
   "source": [
    "for ds in importer.data:\n",
    "    ds['location'] = ('states', state_mapping[ds['location']].title())"
   ]
  },
  {
   "cell_type": "markdown",
   "metadata": {},
   "source": [
    "## Cleanup Step 2: Make dataset names simpler"
   ]
  },
  {
   "cell_type": "code",
   "execution_count": null,
   "metadata": {},
   "outputs": [],
   "source": [
    "name_mapping = {\n",
    "    r'corn grain; at harvest in 2000; at farm; 85%-91% moisture': 'corn',\n",
    "    r'cotton lint; at harvest in 2000; at farm; 90%-93% moisture': 'cotton',\n",
    "    r'soybeans; at harvest in 2000; at farm; 85%-92% moisture': 'soybeans',\n",
    "    r'winter wheat; at harvest in 2000; at farm; 86%-90% moisture': 'winter wheat'\n",
    "}"
   ]
  },
  {
   "cell_type": "code",
   "execution_count": null,
   "metadata": {},
   "outputs": [],
   "source": [
    "for ds in importer.data:\n",
    "    ds['name'] = name_mapping[ds['name']]\n",
    "    \n",
    "    for exc in ds['exchanges']:\n",
    "        if exc['name'] in name_mapping:\n",
    "            exc['name'] = name_mapping[exc['name']]"
   ]
  },
  {
   "cell_type": "markdown",
   "metadata": {},
   "source": [
    "## Cleanup Step 3: Change `from unspec. source` irrigation to surface water\n",
    "\n",
    "This is a conservative assumption, and we don't have any better guesses.\n",
    "\n",
    "We also clean up the names by removing the products."
   ]
  },
  {
   "cell_type": "code",
   "execution_count": null,
   "metadata": {},
   "outputs": [],
   "source": [
    "{exc['name'] for ds in importer.data for exc in ds['exchanges'] if 'water; withdrawal' in exc['name']}"
   ]
  },
  {
   "cell_type": "code",
   "execution_count": null,
   "metadata": {},
   "outputs": [],
   "source": [
    "for ds in importer.data:\n",
    "    for exc in ds['exchanges']:\n",
    "        if exc['name'].startswith('water; withdrawal from unspec. source'):\n",
    "            exc['name'] = 'water; withdrawal from surface water' \n",
    "        elif exc['name'].startswith('water; withdrawal from surface water'):\n",
    "            exc['name'] = 'water; withdrawal from surface water' \n",
    "        elif exc['name'].startswith('water; withdrawal from groundwater'):\n",
    "            exc['name'] = 'water; withdrawal from groundwater' "
   ]
  },
  {
   "cell_type": "markdown",
   "metadata": {},
   "source": [
    "## Cleanup Step 4: Link irrigation water to biosphere flows"
   ]
  },
  {
   "cell_type": "code",
   "execution_count": null,
   "metadata": {},
   "outputs": [],
   "source": [
    "for ds in importer.data:\n",
    "    for exc in ds['exchanges']:\n",
    "        if exc['name'] == 'water; withdrawal from surface water':\n",
    "            exc['input'] = (\"biosphere3\", 'water, irrigation, surface')\n",
    "        elif exc['name'] == 'water; withdrawal from groundwater':\n",
    "            exc['input'] = (\"biosphere3\", 'water, irrigation, groundwater')"
   ]
  },
  {
   "cell_type": "markdown",
   "metadata": {},
   "source": [
    "## Internal linking and write database"
   ]
  },
  {
   "cell_type": "code",
   "execution_count": null,
   "metadata": {},
   "outputs": [],
   "source": [
    "importer.drop_unlinked(True)"
   ]
  },
  {
   "cell_type": "code",
   "execution_count": null,
   "metadata": {},
   "outputs": [],
   "source": [
    "importer.write_database()"
   ]
  },
  {
   "cell_type": "code",
   "execution_count": null,
   "metadata": {},
   "outputs": [],
   "source": [
    "[ds for ds in bw.Database(\"crops\")]"
   ]
  },
  {
   "cell_type": "markdown",
   "metadata": {},
   "source": [
    "## Create weighted national production mixes database\n",
    "\n",
    "Still need to create the mixes for each crop production, with weights from state crop production (normalized to sum to one)."
   ]
  },
  {
   "cell_type": "code",
   "execution_count": null,
   "metadata": {},
   "outputs": [],
   "source": [
    "def to_dict(row):\n",
    "    return {\n",
    "            'crop': row[2],\n",
    "            'state': row[0],\n",
    "            'production': int(row[3].replace(\",\", \"\"))\n",
    "            }\n",
    "\n",
    "with open(os.path.join(\"data\", \"state-production.csv\"), \"r\") as f:\n",
    "    reader = csv.reader(f)\n",
    "    next(reader)\n",
    "    production_data = [to_dict(x) for x in reader if x[2] != 'Spring Wheat']\n",
    "    \n",
    "production_data[:3]"
   ]
  },
  {
   "cell_type": "code",
   "execution_count": null,
   "metadata": {},
   "outputs": [],
   "source": [
    "for crop in ('Corn', 'Cotton', 'Soybeans', 'Winter Wheat'):\n",
    "    inputs = {ds['location'][1]: ds for ds in importer.data if ds['name'] == crop.lower()}\n",
    "    productions = {line['state'].title(): line for line in production_data if line['crop'] == crop}\n",
    "    total = sum([o['production'] for o in productions.values()])\n",
    "    mapped_total = sum([o['production'] for k, o in productions.items() if k in inputs])\n",
    "    print(\"For crop\", crop, \"found this fraction of national production:\", mapped_total / total)"
   ]
  },
  {
   "cell_type": "markdown",
   "metadata": {},
   "source": [
    "It is not great, but not so bad - in any case, it will have to do, as we don't have any additional LCI data."
   ]
  },
  {
   "cell_type": "markdown",
   "metadata": {},
   "source": [
    "For whatever reason, the [USDA LCA commons](http://lcacommons.gov) website has data for winter wheat for Michigan, but only 2004 and 2009."
   ]
  },
  {
   "cell_type": "code",
   "execution_count": null,
   "metadata": {},
   "outputs": [],
   "source": [
    "Image(filename='images/lca-commons.png')"
   ]
  },
  {
   "cell_type": "code",
   "execution_count": null,
   "metadata": {},
   "outputs": [],
   "source": [
    "mix_db = bw.Database(\"production mixes\")\n",
    "if \"production mixes\" not in bw.databases:\n",
    "    mix_db.register(depends=[\"crops\"], geocollections=['states'])"
   ]
  },
  {
   "cell_type": "code",
   "execution_count": null,
   "metadata": {},
   "outputs": [],
   "source": [
    "data = {}\n",
    "\n",
    "for crop in ('Corn', 'Cotton', 'Soybeans', 'Winter Wheat'):\n",
    "    inputs = {ds['location'][1]: ds for ds in importer.data if ds['name'] == crop.lower()}\n",
    "    productions = {line['state'].title(): line for line in production_data if line['crop'] == crop}\n",
    "    total = sum([o['production'] for k, o in productions.items() if k in inputs])\n",
    "\n",
    "    exchanges = [{\n",
    "        'input': (\"production mixes\", crop),\n",
    "        'amount': 1,\n",
    "        'type': 'production',\n",
    "    }]\n",
    "    \n",
    "    for loc, ds in inputs.items():\n",
    "        if loc not in productions:\n",
    "            continue\n",
    "            \n",
    "        exchanges.append({\n",
    "            'input': (ds['database'], ds['code']),\n",
    "            'amount': productions[loc]['production'] / total,\n",
    "            'type': 'technosphere',\n",
    "            'location': ds['location']\n",
    "        })\n",
    "    \n",
    "    data[(\"production mixes\", crop)] = {\n",
    "        'type': 'process',\n",
    "        'name': crop,\n",
    "        'location': 'GLO',\n",
    "        'exchanges': exchanges\n",
    "    }"
   ]
  },
  {
   "cell_type": "code",
   "execution_count": null,
   "metadata": {},
   "outputs": [],
   "source": [
    "mix_db.write(data)"
   ]
  },
  {
   "cell_type": "markdown",
   "metadata": {},
   "source": [
    "# Set database geocollections"
   ]
  },
  {
   "cell_type": "code",
   "execution_count": null,
   "metadata": {},
   "outputs": [],
   "source": [
    "bw.databases[\"biosphere3\"]['geocollections'] = []\n",
    "bw.databases[\"crops\"]['geocollections'] = ['states']\n",
    "bw.databases['production mixes']['geocollections'] = ['states']\n",
    "bw.databases.flush()"
   ]
  }
 ],
 "metadata": {
  "kernelspec": {
   "display_name": "Python 3",
   "language": "python",
   "name": "python3"
  },
  "language_info": {
   "codemirror_mode": {
    "name": "ipython",
    "version": 3
   },
   "file_extension": ".py",
   "mimetype": "text/x-python",
   "name": "python",
   "nbconvert_exporter": "python",
   "pygments_lexer": "ipython3",
   "version": "3.6.4"
  },
  "toc": {
   "base_numbering": 1,
   "nav_menu": {
    "height": "512px",
    "width": "252px"
   },
   "number_sections": true,
   "sideBar": true,
   "skip_h1_title": false,
   "title_cell": "Table of Contents",
   "title_sidebar": "Contents",
   "toc_cell": false,
   "toc_position": {},
   "toc_section_display": "block",
   "toc_window_display": false
  }
 },
 "nbformat": 4,
 "nbformat_minor": 1
}

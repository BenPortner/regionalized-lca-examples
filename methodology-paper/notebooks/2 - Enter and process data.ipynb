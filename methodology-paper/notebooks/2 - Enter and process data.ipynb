{
 "cells": [
  {
   "cell_type": "markdown",
   "metadata": {},
   "source": [
    "# Enter and process data\n",
    "\n",
    "This notebook is part of supporting information for \"Computational Methods for Regionalized Life Cycle Assessment\" by Chris Mutel and Stefanie Hellweg (insert link).\n",
    "\n",
    "It will not run without an up-to-date installation of the following:\n",
    "* [brightway2](https://docs.brightwaylca.org/installation.html)\n",
    "* [brightway2-regional](http://brightway2-regional.readthedocs.org/)\n",
    "\n",
    "In addition, you need the data directory provided as part of the electronic supporting information."
   ]
  },
  {
   "cell_type": "markdown",
   "metadata": {},
   "source": [
    "# Setup"
   ]
  },
  {
   "cell_type": "code",
   "execution_count": 1,
   "metadata": {},
   "outputs": [],
   "source": [
    "import brightway2 as bw\n",
    "import bw2regional as bwr\n",
    "import numpy as np\n",
    "import pandarus\n",
    "import xlrd\n",
    "import os\n",
    "import json\n",
    "import csv"
   ]
  },
  {
   "cell_type": "code",
   "execution_count": 2,
   "metadata": {},
   "outputs": [],
   "source": [
    "bw.projects.set_current(\"computational methods paper\")"
   ]
  },
  {
   "cell_type": "code",
   "execution_count": 3,
   "metadata": {},
   "outputs": [],
   "source": [
    "bw.create_core_migrations()"
   ]
  },
  {
   "cell_type": "markdown",
   "metadata": {},
   "source": [
    "Get basic information about this Brightway2 installation"
   ]
  },
  {
   "cell_type": "code",
   "execution_count": 3,
   "metadata": {},
   "outputs": [
    {
     "name": "stdout",
     "output_type": "stream",
     "text": [
      "bw2data: (3, 4, 2)\n",
      "bw2calc: (1, 7)\n",
      "bw2regional: (0, 5)\n",
      "bw2io: (0, 6)\n",
      "pandarus: (1, 0, 4)\n"
     ]
    }
   ],
   "source": [
    "import bw2data, bw2calc, bw2regional, bw2io, pandarus\n",
    "print(\"bw2data:\", bw2data.__version__)\n",
    "print(\"bw2calc:\", bw2calc.__version__)\n",
    "print(\"bw2regional:\", bw2regional.__version__)\n",
    "print(\"bw2io:\", bw2io.__version__)\n",
    "print(\"pandarus:\", pandarus.__version__)"
   ]
  },
  {
   "cell_type": "markdown",
   "metadata": {},
   "source": [
    "# Geocollections: `water cfs`, `water-xt`, and `states`\n",
    "\n",
    "Create geocollections for two new maps:\n",
    "\n",
    "    * `water cfs`: Gridded spatial scale as defined in `Pfister et al 2009`\n",
    "    * `water-xt`: Finely detailed raster cells used in extension table for water use\n",
    "    * `states`: US state boundaries, from national atlas\n",
    "\n",
    "Here are the CFs given on the `water cfs` spatial scale:\n",
    "\n",
    "<img src='images/raster-cfs.png'>"
   ]
  },
  {
   "cell_type": "code",
   "execution_count": 4,
   "metadata": {},
   "outputs": [
    {
     "name": "stderr",
     "output_type": "stream",
     "text": [
      "/Users/cmutel/miniconda3/envs/regional/lib/python3.6/site-packages/rasterio/__init__.py:160: FutureWarning: GDAL-style transforms are deprecated and will not be supported in Rasterio 1.0.\n",
      "  transform = guard_transform(transform)\n"
     ]
    }
   ],
   "source": [
    "water_cfs_vector = pandarus.convert_to_vector(\n",
    "    pandarus.round_raster(\n",
    "        pandarus.clean_raster(os.path.abspath(os.path.join(\"data\", 'clipped.tiff')))\n",
    "    ),\n",
    "    \"output\"\n",
    ")"
   ]
  },
  {
   "cell_type": "code",
   "execution_count": 5,
   "metadata": {},
   "outputs": [
    {
     "data": {
      "text/plain": [
       "'output/956da8c2f7dca5ad8687266eaae0694a08ba7fb7decd794b38a916a430c67f9a.1.geojson'"
      ]
     },
     "execution_count": 5,
     "metadata": {},
     "output_type": "execute_result"
    }
   ],
   "source": [
    "water_cfs_vector"
   ]
  },
  {
   "cell_type": "code",
   "execution_count": 6,
   "metadata": {},
   "outputs": [],
   "source": [
    "bwr.geocollections['water cfs'] = {\n",
    "    'filepath': os.path.abspath(water_cfs_vector),\n",
    "    'field': \"id\",\n",
    "}"
   ]
  },
  {
   "cell_type": "code",
   "execution_count": 7,
   "metadata": {},
   "outputs": [],
   "source": [
    "bwr.geocollections['states'] = {\n",
    "    'filepath': os.path.abspath(os.path.join('data', 'state_boundaries.gpkg')),\n",
    "    'field': 'STATE'\n",
    "}"
   ]
  },
  {
   "cell_type": "markdown",
   "metadata": {
    "heading_collapsed": true
   },
   "source": [
    "## Filter watershed CFs to only include watersheds within the US\n",
    "\n",
    "This isn't required, but makes the calculations a bit faster, and makes results graphs nicer."
   ]
  },
  {
   "cell_type": "code",
   "execution_count": 8,
   "metadata": {
    "hidden": true
   },
   "outputs": [],
   "source": [
    "import fiona\n",
    "from shapely.ops import cascaded_union\n",
    "from shapely.geometry import shape\n",
    "\n",
    "states_ds = fiona.open(bwr.geocollections['states']['filepath'])\n",
    "watersheds_ds = fiona.open(os.path.join(\"data\", \"watershed-cfs-all.geojson\"))\n",
    "usa = cascaded_union([shape(obj['geometry']) for obj in states_ds])\n",
    "good_ws_data = [obj for obj in watersheds_ds if shape(obj['geometry']).intersects(usa)]"
   ]
  },
  {
   "cell_type": "code",
   "execution_count": 9,
   "metadata": {
    "hidden": true
   },
   "outputs": [],
   "source": [
    "schema = watersheds_ds.schema\n",
    "schema['properties']['name'] = 'str'\n",
    "\n",
    "with fiona.drivers():\n",
    "    with fiona.open(\n",
    "            os.path.join(\"output\", \"watershed-cfs.geojson\"), \n",
    "            'w', \n",
    "            driver='GeoJSON', \n",
    "            crs=watersheds_ds.crs, \n",
    "            schema=watersheds_ds.schema) as f:\n",
    "        for index, value in enumerate(good_ws_data):\n",
    "            value['properties']['name'] = \"Watershed %s\" % index\n",
    "            f.write(value)"
   ]
  },
  {
   "cell_type": "code",
   "execution_count": 10,
   "metadata": {
    "hidden": true
   },
   "outputs": [],
   "source": [
    "bwr.geocollections['watersheds'] = {\n",
    "    'filepath': os.path.abspath(os.path.join(\"output\", 'watershed-cfs.geojson')),\n",
    "    'field': 'name',\n",
    "}"
   ]
  },
  {
   "cell_type": "markdown",
   "metadata": {},
   "source": [
    "## Convert extension table inputs from mass to mass per area\n",
    "\n",
    "The extension table data is not per area - divide each cell by its area to get correct units."
   ]
  },
  {
   "cell_type": "code",
   "execution_count": 11,
   "metadata": {},
   "outputs": [
    {
     "name": "stderr",
     "output_type": "stream",
     "text": [
      "/Users/cmutel/miniconda3/envs/regional/lib/python3.6/site-packages/rasterio/__init__.py:160: FutureWarning: GDAL-style transforms are deprecated and will not be supported in Rasterio 1.0.\n",
      "  transform = guard_transform(transform)\n"
     ]
    }
   ],
   "source": [
    "source_fp = os.path.join(\"data\", \"blue-water.tiff\")\n",
    "destination_fp = os.path.join(\"output\", 'blue-water-per-area.tiff')\n",
    "\n",
    "bwr.divide_by_area(source_fp, destination_fp)"
   ]
  },
  {
   "cell_type": "markdown",
   "metadata": {},
   "source": [
    "We can now point to the correct extension table data."
   ]
  },
  {
   "cell_type": "code",
   "execution_count": 12,
   "metadata": {},
   "outputs": [],
   "source": [
    "bwr.geocollections['water-xt'] = {'filepath': os.path.join(\"output\", 'blue-water-per-area.tiff')}"
   ]
  },
  {
   "cell_type": "markdown",
   "metadata": {},
   "source": [
    "Check to make sure that it worked"
   ]
  },
  {
   "cell_type": "code",
   "execution_count": 13,
   "metadata": {},
   "outputs": [
    {
     "data": {
      "text/plain": [
       "['states', 'water cfs', 'water-xt', 'watersheds']"
      ]
     },
     "execution_count": 13,
     "metadata": {},
     "output_type": "execute_result"
    }
   ],
   "source": [
    "sorted(bwr.geocollections)"
   ]
  },
  {
   "cell_type": "markdown",
   "metadata": {},
   "source": [
    "# Biosphere database\n",
    "\n",
    "Download, if necessary, and add surface and groundwater irrigation flows (requires internet connection)."
   ]
  },
  {
   "cell_type": "code",
   "execution_count": 8,
   "metadata": {},
   "outputs": [
    {
     "name": "stdout",
     "output_type": "stream",
     "text": [
      "Applying strategy: normalize_units\n",
      "Applying strategy: drop_unspecified_subcategories\n",
      "Applied 2 strategies in 0.00 seconds\n"
     ]
    },
    {
     "name": "stderr",
     "output_type": "stream",
     "text": [
      "Writing activities to SQLite3 database:\n",
      "0%                          100%\n",
      "[##############################] | ETA: 00:00:00\n",
      "Total time elapsed: 00:00:00\n"
     ]
    },
    {
     "name": "stdout",
     "output_type": "stream",
     "text": [
      "Title: Writing activities to SQLite3 database:\n",
      "  Started: 06/15/2018 13:51:29\n",
      "  Finished: 06/15/2018 13:51:29\n",
      "  Total time elapsed: 00:00:00\n",
      "  CPU %: 100.40\n",
      "  Memory %: 0.51\n",
      "Created database: biosphere3\n"
     ]
    }
   ],
   "source": [
    "if \"biosphere3\" not in bw.databases:\n",
    "    bw.create_default_biosphere3()"
   ]
  },
  {
   "cell_type": "code",
   "execution_count": 9,
   "metadata": {},
   "outputs": [],
   "source": [
    "biosphere = bw.Database(\"biosphere3\")"
   ]
  },
  {
   "cell_type": "code",
   "execution_count": 10,
   "metadata": {},
   "outputs": [],
   "source": [
    "data = [\n",
    "    {\n",
    "        'code': 'water, irrigation, surface',\n",
    "        'name': 'Surfacewater irrigation',\n",
    "        'unit': 'kg',\n",
    "        'type': 'biosphere',\n",
    "    }, {\n",
    "        'code': 'water, irrigation, groundwater',                                               \n",
    "        'name': 'Groundwater irrigation',\n",
    "        'unit': 'kg',\n",
    "        'type': 'biosphere'\n",
    "    }\n",
    "]\n",
    "\n",
    "for ds in data:\n",
    "    biosphere.new_activity(**ds).save()"
   ]
  },
  {
   "cell_type": "markdown",
   "metadata": {},
   "source": [
    "# New Intersections: `(\"water cfs\", \"states\")` and `(\"states\", \"water cfs\")`\n",
    "\n",
    "Create new Intersection object that maps state boundaries to LCIA CF raster cells"
   ]
  },
  {
   "cell_type": "code",
   "execution_count": 22,
   "metadata": {},
   "outputs": [],
   "source": [
    "pandarus_result = pandarus.intersect(\n",
    "    bwr.geocollections['water cfs']['filepath'],\n",
    "    bwr.geocollections['water cfs']['field'],    \n",
    "    bwr.geocollections['states']['filepath'],\n",
    "    bwr.geocollections['states']['field'],\n",
    ")"
   ]
  },
  {
   "cell_type": "code",
   "execution_count": 24,
   "metadata": {},
   "outputs": [
    {
     "data": {
      "text/plain": [
       "('water cfs', 'states')"
      ]
     },
     "execution_count": 24,
     "metadata": {},
     "output_type": "execute_result"
    }
   ],
   "source": [
    "bwr.import_from_pandarus(pandarus_result[1])"
   ]
  },
  {
   "cell_type": "markdown",
   "metadata": {},
   "source": [
    "Check to make sure data is reasonable"
   ]
  },
  {
   "cell_type": "code",
   "execution_count": 19,
   "metadata": {},
   "outputs": [
    {
     "name": "stdout",
     "output_type": "stream",
     "text": [
      "4288\n"
     ]
    },
    {
     "data": {
      "text/plain": [
       "[(('water cfs', '978'), ('states', 'Minnesota'), 799929541.7946181),\n",
       " (('water cfs', '978'), ('states', 'North Dakota'), 238975614.18112427),\n",
       " (('water cfs', '978'), ('states', 'South Dakota'), 1123863471.753729)]"
      ]
     },
     "execution_count": 19,
     "metadata": {},
     "output_type": "execute_result"
    }
   ],
   "source": [
    "print(len(bwr.Intersection(('water cfs', 'states')).load()))\n",
    "[x for x in bwr.Intersection(('water cfs', 'states')).load() if x[0][1] == '978']"
   ]
  },
  {
   "cell_type": "code",
   "execution_count": 20,
   "metadata": {},
   "outputs": [
    {
     "data": {
      "text/plain": [
       "(0.7008771929824562, 0.7029411764705882, 0.6956521739130435)"
      ]
     },
     "execution_count": 20,
     "metadata": {},
     "output_type": "execute_result"
    }
   ],
   "source": [
    "0.799 / 1.14, 0.239 / 0.34, 1.12 / 1.61"
   ]
  },
  {
   "cell_type": "markdown",
   "metadata": {},
   "source": [
    "I checked these values independently using QGis. The areas are not the same, due to a difference in projections, but the actual values don't matter - we only use the relative values, and they are quite close.\n",
    "\n",
    "<img src=\"images/intersection-tests.png\" width=\"300\">\n",
    "\n",
    "Pandarus | Manual | Ratio\n",
    "--- | --- | ---\n",
    "0.799 | 1.14 | 0.701\n",
    "0.239 | 0.34 | 0.703\n",
    "1.12 | 1.61 | 0.696"
   ]
  },
  {
   "cell_type": "markdown",
   "metadata": {},
   "source": [
    "## Add intersection of `water cfs` and `states` as new geocollection\n",
    "\n",
    "We can save some work by breaking things down to the smallest possible spatial units - the actual polygons that are the intersections between the spatial units of `water cfs` and `states`."
   ]
  },
  {
   "cell_type": "code",
   "execution_count": 14,
   "metadata": {},
   "outputs": [
    {
     "name": "stdout",
     "output_type": "stream",
     "text": [
      "Calculation job submitted.\n"
     ]
    },
    {
     "data": {
      "text/plain": [
       "<bw2regional.pandarus_remote.PendingJob at 0x1187389b0>"
      ]
     },
     "execution_count": 14,
     "metadata": {},
     "output_type": "execute_result"
    }
   ],
   "source": [
    "bwr.remote.calculate_intersection(\"water cfs\", \"states\")"
   ]
  },
  {
   "cell_type": "code",
   "execution_count": 15,
   "metadata": {},
   "outputs": [],
   "source": [
    "bwr.remote.intersection_as_new_geocollection(\"water cfs\", \"states\", \"states to water cfs\")"
   ]
  },
  {
   "cell_type": "markdown",
   "metadata": {
    "heading_collapsed": true
   },
   "source": [
    "# New Intersections: `('water-xt', 'watersheds')` and `('watersheds', 'water-xt')`\n",
    "\n",
    "Create new Intersection object that maps extension table spatial units to IA watersheds. The easiest way to do this is to use the `Pandarus` web service."
   ]
  },
  {
   "cell_type": "code",
   "execution_count": null,
   "metadata": {
    "hidden": true
   },
   "outputs": [],
   "source": [
    "bwr.rem"
   ]
  },
  {
   "cell_type": "code",
   "execution_count": 21,
   "metadata": {
    "hidden": true
   },
   "outputs": [
    {
     "data": {
      "text/plain": [
       "Geocollections dictionary with 4 object(s):\n",
       "\tstates\n",
       "\twater cfs\n",
       "\twater-xt\n",
       "\twatersheds"
      ]
     },
     "execution_count": 21,
     "metadata": {},
     "output_type": "execute_result"
    }
   ],
   "source": [
    "bwr.geocollections"
   ]
  },
  {
   "cell_type": "code",
   "execution_count": 17,
   "metadata": {
    "hidden": true
   },
   "outputs": [
    {
     "name": "stderr",
     "output_type": "stream",
     "text": [
      "/Users/cmutel/local/bw2reg/lib/python2.7/site-packages/bw2data/data_store.py:45: UserWarning: \n",
      "\tBrightway2 Intersection: water-xt: watersheds is not registered\n",
      "  warnings.warn(u\"\\n\\t%s is not registered\" % self, UserWarning)\n"
     ]
    }
   ],
   "source": [
    "fp = os.path.join(DATA_DIR, \"input\", \"xtable-watershed.json.bz2\")\n",
    "pandarus_result = pandarus.intersect(\n",
    "    bwr.geocollections['water-xt']['filepath'],\n",
    "    bwr.geocollections['water-xt']['field'],    \n",
    "    bwr.geocollections['states']['filepath'],\n",
    "    bwr.geocollections['states']['field'],\n",
    ")\n",
    "intersection = Intersection(('water-xt', 'watersheds'))\n",
    "intersection.import_from_pandarus(fp)"
   ]
  },
  {
   "cell_type": "markdown",
   "metadata": {
    "hidden": true
   },
   "source": [
    "Check data reasonableness:"
   ]
  },
  {
   "cell_type": "code",
   "execution_count": 18,
   "metadata": {
    "hidden": true
   },
   "outputs": [
    {
     "data": {
      "text/plain": [
       "[(('water-xt', u'Cell(-97.2083335, 36.9583335)'),\n",
       "  ('watersheds', u'Watershed 165'),\n",
       "  68764260.49062793),\n",
       " (('water-xt', u'Cell(-121.2083335, 37.125)'),\n",
       "  ('watersheds', u'Watershed 229'),\n",
       "  68614289.9369457)]"
      ]
     },
     "execution_count": 18,
     "metadata": {},
     "output_type": "execute_result"
    }
   ],
   "source": [
    "intersection.load()[:2]"
   ]
  },
  {
   "cell_type": "markdown",
   "metadata": {
    "hidden": true
   },
   "source": [
    "Check also reversed intersection data:"
   ]
  },
  {
   "cell_type": "code",
   "execution_count": 19,
   "metadata": {
    "hidden": true
   },
   "outputs": [
    {
     "data": {
      "text/plain": [
       "[(('watersheds', u'Watershed 165'),\n",
       "  ('water-xt', u'Cell(-97.2083335, 36.9583335)'),\n",
       "  68764260.49062793),\n",
       " (('watersheds', u'Watershed 229'),\n",
       "  ('water-xt', u'Cell(-121.2083335, 37.125)'),\n",
       "  68614289.9369457)]"
      ]
     },
     "execution_count": 19,
     "metadata": {},
     "output_type": "execute_result"
    }
   ],
   "source": [
    "Intersection(('watersheds', 'water-xt')).load()[:2]"
   ]
  },
  {
   "cell_type": "markdown",
   "metadata": {
    "heading_collapsed": true
   },
   "source": [
    "# New Intersections: `('water-xt', 'states')` and `('states', 'water-xt')`\n",
    "\n",
    "Create new Intersection object that maps extension table spatial units to states."
   ]
  },
  {
   "cell_type": "code",
   "execution_count": 20,
   "metadata": {
    "hidden": true
   },
   "outputs": [
    {
     "name": "stderr",
     "output_type": "stream",
     "text": [
      "/Users/cmutel/local/bw2reg/lib/python2.7/site-packages/bw2data/data_store.py:45: UserWarning: \n",
      "\tBrightway2 Intersection: water-xt: states is not registered\n",
      "  warnings.warn(u\"\\n\\t%s is not registered\" % self, UserWarning)\n"
     ]
    }
   ],
   "source": [
    "fp = os.path.join(DATA_DIR, \"input\", \"xtable-states.json.bz2\")\n",
    "intersection = Intersection(('water-xt', 'states'))\n",
    "intersection.import_from_pandarus(fp)"
   ]
  },
  {
   "cell_type": "markdown",
   "metadata": {
    "hidden": true
   },
   "source": [
    "Check data reasonableness:"
   ]
  },
  {
   "cell_type": "code",
   "execution_count": 21,
   "metadata": {
    "hidden": true
   },
   "outputs": [
    {
     "data": {
      "text/plain": [
       "[(('water-xt', u'Cell(-91.5416665, 31.375)'),\n",
       "  ('states', u'Louisiana'),\n",
       "  38002929.79055291),\n",
       " (('water-xt', u'Cell(-102.0416665, 31.7083335)'),\n",
       "  ('states', u'Texas'),\n",
       "  73210013.70498723)]"
      ]
     },
     "execution_count": 21,
     "metadata": {},
     "output_type": "execute_result"
    }
   ],
   "source": [
    "intersection.load()[:2]"
   ]
  },
  {
   "cell_type": "markdown",
   "metadata": {
    "hidden": true
   },
   "source": [
    "Check also reversed intersection data:"
   ]
  },
  {
   "cell_type": "code",
   "execution_count": 22,
   "metadata": {
    "hidden": true
   },
   "outputs": [
    {
     "data": {
      "text/plain": [
       "[(('states', u'Louisiana'),\n",
       "  ('water-xt', u'Cell(-91.5416665, 31.375)'),\n",
       "  38002929.79055291),\n",
       " (('states', u'Texas'),\n",
       "  ('water-xt', u'Cell(-102.0416665, 31.7083335)'),\n",
       "  73210013.70498723)]"
      ]
     },
     "execution_count": 22,
     "metadata": {},
     "output_type": "execute_result"
    }
   ],
   "source": [
    "Intersection(('states', 'water-xt')).load()[:2]"
   ]
  },
  {
   "cell_type": "markdown",
   "metadata": {},
   "source": [
    "# New LCIA Method: `('irrigation water', 'surface', 'grid scale')`\n",
    "\n",
    "Create regionalized LCIA method. Start by creating and registering a new Method object."
   ]
  },
  {
   "cell_type": "code",
   "execution_count": 50,
   "metadata": {},
   "outputs": [],
   "source": [
    "m_name = ('irrigation water', 'surface', 'grid scale')\n",
    "m = bw.Method(m_name)\n",
    "if m_name not in bw.methods:\n",
    "    m.register(description=\"Water consumption CFs from Pfister et al 2009\", unit=\"PDF m2 / yr\")"
   ]
  },
  {
   "cell_type": "markdown",
   "metadata": {},
   "source": [
    "This little piece of magic will look at the spatial data file given as metadata for the Method, and import the specified band or layer as CFs for the given flow."
   ]
  },
  {
   "cell_type": "code",
   "execution_count": 51,
   "metadata": {},
   "outputs": [],
   "source": [
    "from bw2regional.utils import import_regionalized_cfs\n",
    "\n",
    "import_regionalized_cfs(\n",
    "    geocollection=\"water cfs\", \n",
    "    method=bw.Method(m_name), \n",
    "    # \"val\" is the default field label when converted to a vector\n",
    "    mapping={\"val\": [('biosphere3', 'water, irrigation, surface')]},\n",
    "    scaling_factor = 1/1000 # Convert from m3 to kg\n",
    ") "
   ]
  },
  {
   "cell_type": "markdown",
   "metadata": {},
   "source": [
    "Check to make sure results are reasonable"
   ]
  },
  {
   "cell_type": "code",
   "execution_count": 52,
   "metadata": {},
   "outputs": [
    {
     "data": {
      "text/plain": [
       "[(('biosphere3', 'water, irrigation, surface'),\n",
       "  3.310000151395798e-05,\n",
       "  ('water cfs', '0')),\n",
       " (('biosphere3', 'water, irrigation, surface'),\n",
       "  4.919999837875366e-05,\n",
       "  ('water cfs', '1')),\n",
       " (('biosphere3', 'water, irrigation, surface'),\n",
       "  6.049999967217446e-05,\n",
       "  ('water cfs', '2')),\n",
       " (('biosphere3', 'water, irrigation, surface'),\n",
       "  6.279999762773513e-05,\n",
       "  ('water cfs', '3')),\n",
       " (('biosphere3', 'water, irrigation, surface'),\n",
       "  6.830000132322311e-05,\n",
       "  ('water cfs', '4'))]"
      ]
     },
     "execution_count": 52,
     "metadata": {},
     "output_type": "execute_result"
    }
   ],
   "source": [
    "bw.Method(m_name).load()[:5]"
   ]
  },
  {
   "cell_type": "markdown",
   "metadata": {},
   "source": [
    "# New LCIA Method: `('irrigation water', 'surface', 'state scale')`\n",
    "\n",
    "Create another regionalized LCIA method, at the scale of the inventory."
   ]
  },
  {
   "cell_type": "code",
   "execution_count": 45,
   "metadata": {},
   "outputs": [],
   "source": [
    "m_name = ('irrigation water', 'surface', 'state scale')\n",
    "m = bw.Method(m_name)\n",
    "if m_name not in bw.methods:\n",
    "    m.register(\n",
    "        description=\"Water consumption CFs from Pfister et al 2009\", \n",
    "        unit=\"PDF m2 / yr\", \n",
    "        geocollections=['states']\n",
    "    )"
   ]
  },
  {
   "cell_type": "code",
   "execution_count": 46,
   "metadata": {},
   "outputs": [],
   "source": [
    "wb = xlrd.open_workbook(os.path.join(\"data\", \"State_level EI99 CF.xlsx\"))\n",
    "sheet = wb.sheet_by_name(\"US state level\")"
   ]
  },
  {
   "cell_type": "code",
   "execution_count": 47,
   "metadata": {},
   "outputs": [
    {
     "data": {
      "text/plain": [
       "[(('biosphere3', 'water, irrigation, surface'),\n",
       "  7.988954605613223e-05,\n",
       "  ('states', 'Alabama')),\n",
       " (('biosphere3', 'water, irrigation, surface'),\n",
       "  8.250855732985951e-05,\n",
       "  ('states', 'Aleutian Is.')),\n",
       " (('biosphere3', 'water, irrigation, surface'),\n",
       "  0.0014922540788756197,\n",
       "  ('states', 'Arizona'))]"
      ]
     },
     "execution_count": 47,
     "metadata": {},
     "output_type": "execute_result"
    }
   ],
   "source": [
    "state_cf_data = [(\n",
    "         ('biosphere3', 'water, irrigation, surface'),\n",
    "         sheet.row(x)[4].value / 1000.,  # Convert m3 to kg\n",
    "         ('states', sheet.row(x)[1].value)) for x in range(2, sheet.nrows)\n",
    "        ]\n",
    "\n",
    "m.write(state_cf_data)\n",
    "\n",
    "state_cf_data[:3]"
   ]
  },
  {
   "cell_type": "markdown",
   "metadata": {
    "heading_collapsed": true
   },
   "source": [
    "# New LCIA Method: `('irrigation water', 'surface', 'watershed scale')`\n",
    "\n",
    "CFs on a watershed scale."
   ]
  },
  {
   "cell_type": "code",
   "execution_count": 35,
   "metadata": {
    "hidden": true
   },
   "outputs": [
    {
     "name": "stderr",
     "output_type": "stream",
     "text": [
      "/Users/cmutel/local/bw2reg/lib/python2.7/site-packages/bw2data/data_store.py:45: UserWarning: \n",
      "\tBrightway2 Method: irrigation water: surface: watershed scale is not registered\n",
      "  warnings.warn(u\"\\n\\t%s is not registered\" % self, UserWarning)\n"
     ]
    }
   ],
   "source": [
    "m_name = ('irrigation water', 'surface', 'watershed scale')\n",
    "m = bw.Method(m_name)\n",
    "if m_name not in bw.methods:\n",
    "    m.register(\n",
    "               description=\"Water consumption CFs from Pfister et al 2009\", \n",
    "               unit=\"PDF m2 / yr\", \n",
    "               geocollections=['watersheds'], \n",
    "               cf_field='cf'\n",
    "               )"
   ]
  },
  {
   "cell_type": "code",
   "execution_count": 36,
   "metadata": {
    "hidden": true
   },
   "outputs": [],
   "source": [
    "from bw2regional.utils import import_regionalized_cfs\n",
    "\n",
    "import_regionalized_cfs(\"watersheds\", Method(m_name), ('biosphere', 'water, irrigation, surface'))"
   ]
  },
  {
   "cell_type": "markdown",
   "metadata": {
    "hidden": true
   },
   "source": [
    "Convert m3 to kg"
   ]
  },
  {
   "cell_type": "code",
   "execution_count": 37,
   "metadata": {
    "hidden": true
   },
   "outputs": [],
   "source": [
    "data = [(line[0], line[1] / 1000., line[2]) for line in m.load()]\n",
    "m.write(data)\n",
    "m.process()"
   ]
  },
  {
   "cell_type": "markdown",
   "metadata": {},
   "source": [
    "# New LCIA Method: `('irrigation water', 'surface', 'site-generic')`\n",
    "\n",
    "Create a final, site-generic LCIA method."
   ]
  },
  {
   "cell_type": "code",
   "execution_count": 43,
   "metadata": {},
   "outputs": [],
   "source": [
    "m_name = ('irrigation water', 'surface', 'site-generic')\n",
    "m = bw.Method(m_name)\n",
    "if m_name not in bw.methods:\n",
    "    m.register(description=\"Water consumption CFs from Pfister et al 2009\", unit=\"PDF m2 / yr\")"
   ]
  },
  {
   "cell_type": "code",
   "execution_count": 44,
   "metadata": {},
   "outputs": [
    {
     "data": {
      "text/plain": [
       "[(('biosphere3', 'water, irrigation, surface'), 0.00031001600000000004)]"
      ]
     },
     "execution_count": 44,
     "metadata": {},
     "output_type": "execute_result"
    }
   ],
   "source": [
    "m.write([(('biosphere3', 'water, irrigation, surface'), 0.310016 / 1000.)])\n",
    "m.load()"
   ]
  },
  {
   "cell_type": "markdown",
   "metadata": {},
   "source": [
    "# New extension table: `blue water consumption`"
   ]
  },
  {
   "cell_type": "code",
   "execution_count": 7,
   "metadata": {},
   "outputs": [
    {
     "name": "stderr",
     "output_type": "stream",
     "text": [
      "/Users/cmutel/miniconda3/envs/regional/lib/python3.6/site-packages/pandarus/rasters.py:177: FutureWarning: The value of this property will change in version 1.0. Please see https://github.com/mapbox/rasterio/issues/86 for details.\n",
      "  with Raster(raster, affine, nodata, band) as rast:\n",
      "/Users/cmutel/miniconda3/envs/regional/lib/python3.6/site-packages/rasterstats/io.py:242: FutureWarning: GDAL-style transforms are deprecated and will not be supported in Rasterio 1.0.\n",
      "  self.affine = guard_transform(self.src.transform)\n",
      "/Users/cmutel/miniconda3/envs/regional/lib/python3.6/site-packages/pandarus/rasters.py:204: FutureWarning: Conversion of the second argument of issubdtype from `float` to `np.floating` is deprecated. In future, it will be treated as `np.float64 == np.dtype(float).type`.\n",
      "  if np.issubdtype(fsrc.array.dtype, float) and \\\n"
     ]
    }
   ],
   "source": [
    "stats_output = pandarus.raster_statistics(\n",
    "    bwr.geocollections['states to water cfs']['filepath'],\n",
    "    bwr.geocollections['states to water cfs']['field'],    \n",
    "    bwr.geocollections['water-xt']['filepath']\n",
    ")"
   ]
  },
  {
   "cell_type": "code",
   "execution_count": 15,
   "metadata": {},
   "outputs": [
    {
     "data": {
      "text/plain": [
       "Brightway2 ExtensionTable: blue water consumption"
      ]
     },
     "execution_count": 15,
     "metadata": {},
     "output_type": "execute_result"
    }
   ],
   "source": [
    "bwr.pandarus.import_xt_from_rasterstats(\n",
    "    stats_output, \n",
    "    \"blue water consumption\",\n",
    "    'states to water cfs'\n",
    ")"
   ]
  },
  {
   "cell_type": "markdown",
   "metadata": {},
   "source": [
    "Check that values are reasonable"
   ]
  },
  {
   "cell_type": "code",
   "execution_count": 16,
   "metadata": {},
   "outputs": [
    {
     "data": {
      "text/plain": [
       "[(9.143180250248406e-06, ('states to water cfs', 2064)),\n",
       " (1.7596825273358263e-05, ('states to water cfs', 2065)),\n",
       " (1.960679583135061e-05, ('states to water cfs', 2066)),\n",
       " (7.830067261238582e-06, ('states to water cfs', 2185))]"
      ]
     },
     "execution_count": 16,
     "metadata": {},
     "output_type": "execute_result"
    }
   ],
   "source": [
    "bwr.ExtensionTable(\"blue water consumption\").load()[:4]"
   ]
  },
  {
   "cell_type": "markdown",
   "metadata": {},
   "source": [
    "# New Loading: `irrigation water surface withdrawals`"
   ]
  },
  {
   "cell_type": "code",
   "execution_count": 21,
   "metadata": {},
   "outputs": [],
   "source": [
    "l_name = ('irrigation water surface withdrawals')\n",
    "loading = bwr.Loading(l_name)\n",
    "if l_name not in bwr.loadings:\n",
    "    loading.register(unit=\"MGal/day/km^2\")"
   ]
  },
  {
   "cell_type": "code",
   "execution_count": 23,
   "metadata": {},
   "outputs": [
    {
     "data": {
      "text/plain": [
       "[96.96912132466527, ('water cfs', 'Cell(-80.75, 27.75)')]"
      ]
     },
     "execution_count": 23,
     "metadata": {},
     "output_type": "execute_result"
    }
   ],
   "source": [
    "loading_data = json.load(open(os.path.join(\"output\", \"loading.json\")))\n",
    "\n",
    "# Add geocollection id to loading data\n",
    "loading_data = [[x[0], ('water cfs', x[1])] for x in loading_data]\n",
    "loading.validate(loading_data)\n",
    "loading.write(loading_data)\n",
    "\n",
    "loading_data[0]"
   ]
  },
  {
   "cell_type": "markdown",
   "metadata": {},
   "source": [
    "# New LCI database: `crops`\n",
    "\n",
    "We use the LCI datasets for the US from the LCA Data Commons; specifically, version 1 prepared in Ecospold version 1 format, and available from https://data.nal.usda.gov/dataset/unit-process-data-field-crop-production-version-1/resource/31ee2655-a96b-4d16-82d7-48e53575a501. This data is public domain.\n",
    "\n",
    "We have filtered these datasets to the crops of interest in the case study, and use only data for the year 2000.\n",
    "\n",
    "In the code repository, these files are compressed to save space. You should unzip `data/crops.zip`."
   ]
  },
  {
   "cell_type": "code",
   "execution_count": 4,
   "metadata": {},
   "outputs": [
    {
     "name": "stdout",
     "output_type": "stream",
     "text": [
      "Extracting XML data from 63 datasets\n",
      "Extracted 63 datasets in 0.58 seconds\n"
     ]
    }
   ],
   "source": [
    "if \"crops\" in bw.databases:\n",
    "    del bw.databases['crops']\n",
    "\n",
    "importer = bw.SingleOutputEcospold1Importer(os.path.join(\"data\", \"crops\"), \"crops\")"
   ]
  },
  {
   "cell_type": "code",
   "execution_count": 5,
   "metadata": {},
   "outputs": [
    {
     "name": "stdout",
     "output_type": "stream",
     "text": [
      "Applying strategy: normalize_units\n",
      "Applying strategy: assign_only_product_as_production\n",
      "Applying strategy: clean_integer_codes\n",
      "Applying strategy: drop_unspecified_subcategories\n",
      "Applying strategy: normalize_biosphere_categories\n",
      "Applying strategy: normalize_biosphere_names\n",
      "Applying strategy: strip_biosphere_exc_locations\n",
      "Applying strategy: update_ecoinvent_locations\n",
      "Applying strategy: set_code_by_activity_hash\n",
      "Applying strategy: link_iterable_by_fields\n",
      "Applying strategy: link_technosphere_by_activity_hash\n",
      "Applied 11 strategies in 0.82 seconds\n"
     ]
    }
   ],
   "source": [
    "importer.apply_strategies()"
   ]
  },
  {
   "cell_type": "code",
   "execution_count": 6,
   "metadata": {},
   "outputs": [
    {
     "name": "stdout",
     "output_type": "stream",
     "text": [
      "Applying strategy: link_iterable_by_fields\n"
     ]
    }
   ],
   "source": [
    "importer.match_database(fields=['name', 'location'])"
   ]
  },
  {
   "cell_type": "code",
   "execution_count": 7,
   "metadata": {},
   "outputs": [
    {
     "name": "stdout",
     "output_type": "stream",
     "text": [
      "63 datasets\n",
      "40141 exchanges\n",
      "40078 unlinked exchanges\n",
      "  Type biosphere: 1743 unique unlinked exchanges\n",
      "  Type production: 92 unique unlinked exchanges\n",
      "  Type technosphere: 3802 unique unlinked exchanges\n"
     ]
    },
    {
     "data": {
      "text/plain": [
       "(63, 40141, 40078)"
      ]
     },
     "execution_count": 7,
     "metadata": {},
     "output_type": "execute_result"
    }
   ],
   "source": [
    "importer.statistics()"
   ]
  },
  {
   "cell_type": "markdown",
   "metadata": {},
   "source": [
    "## Cleanup Step 1: Fix state names\n",
    "\n",
    "Need to go from `AL` to `('states', 'Alabama')` to match the locations in the `'states'` geocollection and the state-level CFs."
   ]
  },
  {
   "cell_type": "code",
   "execution_count": 8,
   "metadata": {},
   "outputs": [],
   "source": [
    "state_mapping = {\n",
    "    'AL': 'ALABAMA',\n",
    "    'AR': 'ARKANSAS',\n",
    "    'AZ': 'ARIZONA',\n",
    "    'CA': 'CALIFORNIA',\n",
    "    'CO': 'COLORADO',\n",
    "    'GA': 'GEORGIA',\n",
    "    'IA': 'IOWA',\n",
    "    'ID': 'IDAHO',\n",
    "    'IL': 'ILLINOIS',\n",
    "    'IN': 'INDIANA',\n",
    "    'KS': 'KANSAS',\n",
    "    'KY': 'KENTUCKY',\n",
    "    'LA': 'LOUISIANA',\n",
    "    'MI': 'MICHIGAN',\n",
    "    'MN': 'MINNESOTA',\n",
    "    'MO': 'MISSOURI',\n",
    "    'MS': 'MISSISSIPPI',\n",
    "    'MT': 'MONTANA',\n",
    "    'NC': 'NORTH CAROLINA',\n",
    "    'ND': 'NORTH DAKOTA',\n",
    "    'NE': 'NEBRASKA',\n",
    "    'NY': 'NEW YORK',\n",
    "    'OH': 'OHIO',\n",
    "    'OK': 'OKLAHOMA',\n",
    "    'OR': 'OREGON',\n",
    "    'PA': 'PENNSYLVANIA',\n",
    "    'SD': 'SOUTH DAKOTA',\n",
    "    'TN': 'TENNESSEE',\n",
    "    'TX': 'TEXAS',\n",
    "    'WA': 'WASHINGTON',\n",
    "    'WI': 'WISCONSIN',\n",
    "}"
   ]
  },
  {
   "cell_type": "code",
   "execution_count": 9,
   "metadata": {},
   "outputs": [],
   "source": [
    "for ds in importer.data:\n",
    "    ds['location'] = ('states', state_mapping[ds['location']].title())"
   ]
  },
  {
   "cell_type": "markdown",
   "metadata": {},
   "source": [
    "## Cleanup Step 2: Make dataset names simpler"
   ]
  },
  {
   "cell_type": "code",
   "execution_count": 10,
   "metadata": {},
   "outputs": [],
   "source": [
    "name_mapping = {\n",
    "    r'corn grain; at harvest in 2000; at farm; 85%-91% moisture': 'corn',\n",
    "    r'cotton lint; at harvest in 2000; at farm; 90%-93% moisture': 'cotton',\n",
    "    r'soybeans; at harvest in 2000; at farm; 85%-92% moisture': 'soybeans',\n",
    "    r'winter wheat; at harvest in 2000; at farm; 86%-90% moisture': 'winter wheat'\n",
    "}"
   ]
  },
  {
   "cell_type": "code",
   "execution_count": 11,
   "metadata": {},
   "outputs": [],
   "source": [
    "for ds in importer.data:\n",
    "    ds['name'] = name_mapping[ds['name']]\n",
    "    \n",
    "    for exc in ds['exchanges']:\n",
    "        if exc['name'] in name_mapping:\n",
    "            exc['name'] = name_mapping[exc['name']]"
   ]
  },
  {
   "cell_type": "markdown",
   "metadata": {},
   "source": [
    "## Cleanup Step 3: Change `from unspec. source` irrigation to surface water\n",
    "\n",
    "This is a conservative assumption, and we don't have any better guesses.\n",
    "\n",
    "We also clean up the names by removing the products."
   ]
  },
  {
   "cell_type": "code",
   "execution_count": 12,
   "metadata": {},
   "outputs": [
    {
     "data": {
      "text/plain": [
       "{'water; withdrawal from groundwater, for corn, in 2000',\n",
       " 'water; withdrawal from groundwater, for cotton, in 2000',\n",
       " 'water; withdrawal from groundwater, for soybeans, in 2000',\n",
       " 'water; withdrawal from groundwater, for winter wheat, in 2000',\n",
       " 'water; withdrawal from surface water, for corn, in 2000',\n",
       " 'water; withdrawal from surface water, for cotton, in 2000',\n",
       " 'water; withdrawal from surface water, for soybeans, in 2000',\n",
       " 'water; withdrawal from surface water, for winter wheat, in 2000',\n",
       " 'water; withdrawal from unspec. source, for corn, in 2000',\n",
       " 'water; withdrawal from unspec. source, for cotton, in 2000',\n",
       " 'water; withdrawal from unspec. source, for soybeans, in 2000',\n",
       " 'water; withdrawal from unspec. source, for winter wheat, in 2000'}"
      ]
     },
     "execution_count": 12,
     "metadata": {},
     "output_type": "execute_result"
    }
   ],
   "source": [
    "{exc['name'] for ds in importer.data for exc in ds['exchanges'] if 'water; withdrawal' in exc['name']}"
   ]
  },
  {
   "cell_type": "code",
   "execution_count": 13,
   "metadata": {},
   "outputs": [],
   "source": [
    "for ds in importer.data:\n",
    "    for exc in ds['exchanges']:\n",
    "        if exc['name'].startswith('water; withdrawal from unspec. source'):\n",
    "            exc['name'] = 'water; withdrawal from surface water' \n",
    "        elif exc['name'].startswith('water; withdrawal from surface water'):\n",
    "            exc['name'] = 'water; withdrawal from surface water' \n",
    "        elif exc['name'].startswith('water; withdrawal from groundwater'):\n",
    "            exc['name'] = 'water; withdrawal from groundwater' "
   ]
  },
  {
   "cell_type": "markdown",
   "metadata": {},
   "source": [
    "## Cleanup Step 4: Link irrigation water to biosphere flows"
   ]
  },
  {
   "cell_type": "code",
   "execution_count": 14,
   "metadata": {},
   "outputs": [],
   "source": [
    "for ds in importer.data:\n",
    "    for exc in ds['exchanges']:\n",
    "        if exc['name'] == 'water; withdrawal from surface water':\n",
    "            exc['input'] = (\"biosphere3\", 'water, irrigation, surface')\n",
    "        elif exc['name'] == 'water; withdrawal from groundwater':\n",
    "            exc['input'] = (\"biosphere3\", 'water, irrigation, groundwater')"
   ]
  },
  {
   "cell_type": "markdown",
   "metadata": {},
   "source": [
    "## Internal linking and write database"
   ]
  },
  {
   "cell_type": "code",
   "execution_count": 15,
   "metadata": {},
   "outputs": [
    {
     "name": "stdout",
     "output_type": "stream",
     "text": [
      "Applying strategy: drop_unlinked\n",
      "Applied 1 strategies in 0.01 seconds\n"
     ]
    }
   ],
   "source": [
    "importer.drop_unlinked(True)"
   ]
  },
  {
   "cell_type": "code",
   "execution_count": 16,
   "metadata": {},
   "outputs": [
    {
     "name": "stderr",
     "output_type": "stream",
     "text": [
      "Writing activities to SQLite3 database:\n",
      "0%                          100%\n",
      "[##############################] | ETA: 00:00:00\n",
      "Total time elapsed: 00:00:00\n"
     ]
    },
    {
     "name": "stdout",
     "output_type": "stream",
     "text": [
      "Title: Writing activities to SQLite3 database:\n",
      "  Started: 08/16/2018 14:17:42\n",
      "  Finished: 08/16/2018 14:17:42\n",
      "  Total time elapsed: 00:00:00\n",
      "  CPU %: 112.40\n",
      "  Memory %: 0.60\n",
      "Created database: crops\n"
     ]
    },
    {
     "data": {
      "text/plain": [
       "Brightway2 SQLiteBackend: crops"
      ]
     },
     "execution_count": 16,
     "metadata": {},
     "output_type": "execute_result"
    }
   ],
   "source": [
    "importer.write_database()"
   ]
  },
  {
   "cell_type": "code",
   "execution_count": 17,
   "metadata": {},
   "outputs": [
    {
     "data": {
      "text/plain": [
       "['corn' (kilogram, ('states', 'Kentucky'), ['agricultural production', 'plant production']),\n",
       " 'soybeans' (kilogram, ('states', 'Minnesota'), ['agricultural production', 'plant production']),\n",
       " 'cotton' (kilogram, ('states', 'North Carolina'), ['agricultural production', 'plant production']),\n",
       " 'corn' (kilogram, ('states', 'Michigan'), ['agricultural production', 'plant production']),\n",
       " 'winter wheat' (kilogram, ('states', 'Idaho'), ['agricultural production', 'plant production']),\n",
       " 'corn' (kilogram, ('states', 'Minnesota'), ['agricultural production', 'plant production']),\n",
       " 'winter wheat' (kilogram, ('states', 'Kansas'), ['agricultural production', 'plant production']),\n",
       " 'winter wheat' (kilogram, ('states', 'Ohio'), ['agricultural production', 'plant production']),\n",
       " 'winter wheat' (kilogram, ('states', 'South Dakota'), ['agricultural production', 'plant production']),\n",
       " 'winter wheat' (kilogram, ('states', 'Kentucky'), ['agricultural production', 'plant production']),\n",
       " 'soybeans' (kilogram, ('states', 'Nebraska'), ['agricultural production', 'plant production']),\n",
       " 'soybeans' (kilogram, ('states', 'South Dakota'), ['agricultural production', 'plant production']),\n",
       " 'corn' (kilogram, ('states', 'Indiana'), ['agricultural production', 'plant production']),\n",
       " 'corn' (kilogram, ('states', 'North Dakota'), ['agricultural production', 'plant production']),\n",
       " 'cotton' (kilogram, ('states', 'Arkansas'), ['agricultural production', 'plant production']),\n",
       " 'corn' (kilogram, ('states', 'South Dakota'), ['agricultural production', 'plant production']),\n",
       " 'corn' (kilogram, ('states', 'Colorado'), ['agricultural production', 'plant production']),\n",
       " 'cotton' (kilogram, ('states', 'Georgia'), ['agricultural production', 'plant production']),\n",
       " 'cotton' (kilogram, ('states', 'California'), ['agricultural production', 'plant production']),\n",
       " 'soybeans' (kilogram, ('states', 'Illinois'), ['agricultural production', 'plant production']),\n",
       " 'corn' (kilogram, ('states', 'Wisconsin'), ['agricultural production', 'plant production']),\n",
       " 'corn' (kilogram, ('states', 'Texas'), ['agricultural production', 'plant production']),\n",
       " 'winter wheat' (kilogram, ('states', 'Colorado'), ['agricultural production', 'plant production']),\n",
       " 'corn' (kilogram, ('states', 'Iowa'), ['agricultural production', 'plant production']),\n",
       " 'soybeans' (kilogram, ('states', 'Wisconsin'), ['agricultural production', 'plant production']),\n",
       " 'cotton' (kilogram, ('states', 'Tennessee'), ['agricultural production', 'plant production']),\n",
       " 'soybeans' (kilogram, ('states', 'North Carolina'), ['agricultural production', 'plant production']),\n",
       " 'soybeans' (kilogram, ('states', 'Kentucky'), ['agricultural production', 'plant production']),\n",
       " 'winter wheat' (kilogram, ('states', 'Nebraska'), ['agricultural production', 'plant production']),\n",
       " 'corn' (kilogram, ('states', 'Pennsylvania'), ['agricultural production', 'plant production']),\n",
       " 'corn' (kilogram, ('states', 'Kansas'), ['agricultural production', 'plant production']),\n",
       " 'soybeans' (kilogram, ('states', 'Indiana'), ['agricultural production', 'plant production']),\n",
       " 'soybeans' (kilogram, ('states', 'Arkansas'), ['agricultural production', 'plant production']),\n",
       " 'winter wheat' (kilogram, ('states', 'Washington'), ['agricultural production', 'plant production']),\n",
       " 'soybeans' (kilogram, ('states', 'Ohio'), ['agricultural production', 'plant production']),\n",
       " 'soybeans' (kilogram, ('states', 'Missouri'), ['agricultural production', 'plant production']),\n",
       " 'winter wheat' (kilogram, ('states', 'North Carolina'), ['agricultural production', 'plant production']),\n",
       " 'soybeans' (kilogram, ('states', 'Mississippi'), ['agricultural production', 'plant production']),\n",
       " 'soybeans' (kilogram, ('states', 'Kansas'), ['agricultural production', 'plant production']),\n",
       " 'corn' (kilogram, ('states', 'Illinois'), ['agricultural production', 'plant production']),\n",
       " 'cotton' (kilogram, ('states', 'Missouri'), ['agricultural production', 'plant production']),\n",
       " 'cotton' (kilogram, ('states', 'Alabama'), ['agricultural production', 'plant production']),\n",
       " 'winter wheat' (kilogram, ('states', 'Oklahoma'), ['agricultural production', 'plant production']),\n",
       " 'cotton' (kilogram, ('states', 'Mississippi'), ['agricultural production', 'plant production']),\n",
       " 'soybeans' (kilogram, ('states', 'Tennessee'), ['agricultural production', 'plant production']),\n",
       " 'cotton' (kilogram, ('states', 'Arizona'), ['agricultural production', 'plant production']),\n",
       " 'cotton' (kilogram, ('states', 'Texas'), ['agricultural production', 'plant production']),\n",
       " 'cotton' (kilogram, ('states', 'Louisiana'), ['agricultural production', 'plant production']),\n",
       " 'winter wheat' (kilogram, ('states', 'Missouri'), ['agricultural production', 'plant production']),\n",
       " 'corn' (kilogram, ('states', 'Nebraska'), ['agricultural production', 'plant production']),\n",
       " 'soybeans' (kilogram, ('states', 'Michigan'), ['agricultural production', 'plant production']),\n",
       " 'soybeans' (kilogram, ('states', 'North Dakota'), ['agricultural production', 'plant production']),\n",
       " 'winter wheat' (kilogram, ('states', 'Illinois'), ['agricultural production', 'plant production']),\n",
       " 'winter wheat' (kilogram, ('states', 'Texas'), ['agricultural production', 'plant production']),\n",
       " 'soybeans' (kilogram, ('states', 'Louisiana'), ['agricultural production', 'plant production']),\n",
       " 'winter wheat' (kilogram, ('states', 'Oregon'), ['agricultural production', 'plant production']),\n",
       " 'corn' (kilogram, ('states', 'New York'), ['agricultural production', 'plant production']),\n",
       " 'winter wheat' (kilogram, ('states', 'Arkansas'), ['agricultural production', 'plant production']),\n",
       " 'winter wheat' (kilogram, ('states', 'Montana'), ['agricultural production', 'plant production']),\n",
       " 'soybeans' (kilogram, ('states', 'Iowa'), ['agricultural production', 'plant production']),\n",
       " 'corn' (kilogram, ('states', 'Missouri'), ['agricultural production', 'plant production']),\n",
       " 'corn' (kilogram, ('states', 'Ohio'), ['agricultural production', 'plant production']),\n",
       " 'corn' (kilogram, ('states', 'North Carolina'), ['agricultural production', 'plant production'])]"
      ]
     },
     "execution_count": 17,
     "metadata": {},
     "output_type": "execute_result"
    }
   ],
   "source": [
    "[ds for ds in bw.Database(\"crops\")]"
   ]
  },
  {
   "cell_type": "markdown",
   "metadata": {},
   "source": [
    "## Create weighted national production mixes database\n",
    "\n",
    "Still need to create the mixes for each crop production, with weights from state crop production (normalized to sum to one)."
   ]
  },
  {
   "cell_type": "code",
   "execution_count": 22,
   "metadata": {},
   "outputs": [
    {
     "data": {
      "text/plain": [
       "[{'crop': 'Soybeans', 'production': 2880000, 'state': 'ALABAMA'},\n",
       " {'crop': 'Soybeans', 'production': 80325000, 'state': 'ARKANSAS'},\n",
       " {'crop': 'Soybeans', 'production': 9159000, 'state': 'DELAWARE'}]"
      ]
     },
     "execution_count": 22,
     "metadata": {},
     "output_type": "execute_result"
    }
   ],
   "source": [
    "def to_dict(row):\n",
    "    return {\n",
    "            'crop': row[2],\n",
    "            'state': row[0],\n",
    "            'production': int(row[3].replace(\",\", \"\"))\n",
    "            }\n",
    "\n",
    "with open(os.path.join(\"data\", \"state-production.csv\"), \"r\") as f:\n",
    "    reader = csv.reader(f)\n",
    "    next(reader)\n",
    "    production_data = [to_dict(x) for x in reader if x[2] != 'Spring Wheat']\n",
    "    \n",
    "production_data[:3]"
   ]
  },
  {
   "cell_type": "code",
   "execution_count": 27,
   "metadata": {},
   "outputs": [
    {
     "name": "stdout",
     "output_type": "stream",
     "text": [
      "For crop Corn found this fraction of national production: 0.9489784772665315\n",
      "For crop Cotton found this fraction of national production: 0.9458468842177528\n",
      "For crop Soybeans found this fraction of national production: 0.9623016088853111\n",
      "For crop Winter Wheat found this fraction of national production: 0.8408149204436383\n"
     ]
    }
   ],
   "source": [
    "for crop in ('Corn', 'Cotton', 'Soybeans', 'Winter Wheat'):\n",
    "    inputs = {ds['location'][1]: ds for ds in importer.data if ds['name'] == crop.lower()}\n",
    "    productions = {line['state'].title(): line for line in production_data if line['crop'] == crop}\n",
    "    total = sum([o['production'] for o in productions.values()])\n",
    "    mapped_total = sum([o['production'] for k, o in productions.items() if k in inputs])\n",
    "    print(\"For crop\", crop, \"found this fraction of national production:\", mapped_total / total)"
   ]
  },
  {
   "cell_type": "markdown",
   "metadata": {},
   "source": [
    "It is not great, but not so bad - in any case, it will have to do, as we don't have any additional LCI data."
   ]
  },
  {
   "cell_type": "markdown",
   "metadata": {},
   "source": [
    "For whatever reason, the [USDA LCA commons](http://lcacommons.gov) website has data for winter wheat for Michigan, but only 2004 and 2009."
   ]
  },
  {
   "cell_type": "code",
   "execution_count": 65,
   "metadata": {},
   "outputs": [
    {
     "data": {
      "image/png": "[encoded data removed]",
      "text/plain": [
       "<IPython.core.display.Image at 0x109abd290>"
      ]
     },
     "execution_count": 65,
     "metadata": {},
     "output_type": "execute_result"
    }
   ],
   "source": [
    "Image(filename='images/lca-commons.png')"
   ]
  },
  {
   "cell_type": "code",
   "execution_count": 29,
   "metadata": {},
   "outputs": [],
   "source": [
    "mix_db = bw.Database(\"production mixes\")\n",
    "if \"production mixes\" not in bw.databases:\n",
    "    mix_db.register(depends=[\"crops\"], geocollections=['states'])"
   ]
  },
  {
   "cell_type": "code",
   "execution_count": 34,
   "metadata": {},
   "outputs": [],
   "source": [
    "data = {}\n",
    "\n",
    "for crop in ('Corn', 'Cotton', 'Soybeans', 'Winter Wheat'):\n",
    "    inputs = {ds['location'][1]: ds for ds in importer.data if ds['name'] == crop.lower()}\n",
    "    productions = {line['state'].title(): line for line in production_data if line['crop'] == crop}\n",
    "    total = sum([o['production'] for k, o in productions.items() if k in inputs])\n",
    "\n",
    "    exchanges = [{\n",
    "        'input': (\"production mixes\", crop),\n",
    "        'amount': 1,\n",
    "        'type': 'production',\n",
    "    }]\n",
    "    \n",
    "    for loc, ds in inputs.items():\n",
    "        if loc not in productions:\n",
    "            continue\n",
    "            \n",
    "        exchanges.append({\n",
    "            'input': (ds['database'], ds['code']),\n",
    "            'amount': productions[loc]['production'] / total,\n",
    "            'type': 'technosphere',\n",
    "            'location': ds['location']\n",
    "        })\n",
    "    \n",
    "    data[(\"production mixes\", crop)] = {\n",
    "        'type': 'process',\n",
    "        'name': crop,\n",
    "        'location': 'GLO',\n",
    "        'exchanges': exchanges\n",
    "    }"
   ]
  },
  {
   "cell_type": "code",
   "execution_count": 39,
   "metadata": {},
   "outputs": [
    {
     "name": "stderr",
     "output_type": "stream",
     "text": [
      "Writing activities to SQLite3 database:\n",
      "0%  100%\n",
      "[####] | ETA: 00:00:00\n",
      "Total time elapsed: 00:00:00\n"
     ]
    },
    {
     "name": "stdout",
     "output_type": "stream",
     "text": [
      "Title: Writing activities to SQLite3 database:\n",
      "  Started: 08/16/2018 14:41:02\n",
      "  Finished: 08/16/2018 14:41:02\n",
      "  Total time elapsed: 00:00:00\n",
      "  CPU %: 117.60\n",
      "  Memory %: 0.60\n"
     ]
    }
   ],
   "source": [
    "mix_db.write(data)"
   ]
  },
  {
   "cell_type": "markdown",
   "metadata": {},
   "source": [
    "# Set database geocollections"
   ]
  },
  {
   "cell_type": "code",
   "execution_count": 42,
   "metadata": {},
   "outputs": [],
   "source": [
    "bw.databases[\"biosphere3\"]['geocollections'] = []\n",
    "bw.databases[\"crops\"]['geocollections'] = ['states']\n",
    "bw.databases['production mixes']['geocollections'] = ['states']\n",
    "bw.databases.flush()"
   ]
  }
 ],
 "metadata": {
  "kernelspec": {
   "display_name": "Python 3",
   "language": "python",
   "name": "python3"
  },
  "language_info": {
   "codemirror_mode": {
    "name": "ipython",
    "version": 3
   },
   "file_extension": ".py",
   "mimetype": "text/x-python",
   "name": "python",
   "nbconvert_exporter": "python",
   "pygments_lexer": "ipython3",
   "version": "3.6.4"
  },
  "toc": {
   "base_numbering": 1,
   "nav_menu": {
    "height": "512px",
    "width": "252px"
   },
   "number_sections": true,
   "sideBar": true,
   "skip_h1_title": false,
   "title_cell": "Table of Contents",
   "title_sidebar": "Contents",
   "toc_cell": false,
   "toc_position": {},
   "toc_section_display": "block",
   "toc_window_display": false
  }
 },
 "nbformat": 4,
 "nbformat_minor": 1
}

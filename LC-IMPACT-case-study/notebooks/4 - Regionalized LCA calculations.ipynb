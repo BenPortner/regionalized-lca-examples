{
 "cells": [
  {
   "cell_type": "code",
   "execution_count": null,
   "metadata": {},
   "outputs": [],
   "source": [
    "from brightway2 import *\n",
    "from bw2analyzer import *\n",
    "from bw2regional import *\n",
    "import csv\n",
    "import geopandas as gpd\n",
    "import pandas as pd\n",
    "import numpy as np"
   ]
  },
  {
   "cell_type": "code",
   "execution_count": null,
   "metadata": {},
   "outputs": [],
   "source": [
    "projects.set_current(\"LC IMPACT case study\")"
   ]
  },
  {
   "cell_type": "code",
   "execution_count": null,
   "metadata": {},
   "outputs": [],
   "source": [
    "sorted(geocollections)"
   ]
  },
  {
   "cell_type": "code",
   "execution_count": null,
   "metadata": {},
   "outputs": [],
   "source": [
    "for act in Database(\"Fuel comparison\"):\n",
    "    print(act.key, act)"
   ]
  },
  {
   "cell_type": "code",
   "execution_count": null,
   "metadata": {},
   "outputs": [],
   "source": [
    "[x for x in methods if x[0] == 'LC-IMPACT']"
   ]
  },
  {
   "cell_type": "code",
   "execution_count": null,
   "metadata": {},
   "outputs": [],
   "source": [
    "irrigation = [x for x in Database(\"ecoinvent\") if 'irrigation' in x['name']]\n",
    "crops = [x for x in Database(\"ecoinvent\") \n",
    "         if x['name'] in ('sugarcane production', 'maize grain production')]"
   ]
  },
  {
   "cell_type": "code",
   "execution_count": null,
   "metadata": {},
   "outputs": [],
   "source": [
    "activities = [\n",
    "    ('Fuel comparison', 'sugarcane transport'),\n",
    "    ('Fuel comparison', 'maize transport'),\n",
    "    ('Fuel comparison', 'petrol transport'),\n",
    "]\n",
    "\n",
    "lcimpact = {\n",
    " (\"LC-IMPACT\", \"Climate Change\", \"Human Health\", \"Marginal\", \"Certain\", \"100 Years\"): None,\n",
    " (\"LC-IMPACT\", \"Climate Change\", \"Human Health\", \"Marginal\", \"All\", \"100 Years\"): None,\n",
    " (\"LC-IMPACT\", \"Climate Change\", \"Human Health\", \"Marginal\", \"Certain\", \"Infinite\"): None,\n",
    " (\"LC-IMPACT\", \"Climate Change\", \"Human Health\", \"Marginal\", \"All\", \"Infinite\"): None,\n",
    " (\"LC-IMPACT\", \"Climate Change\", \"Terrestrial Ecosystems\", \"Marginal\", \"Certain\", \"100 Years\"): None,\n",
    " (\"LC-IMPACT\", \"Climate Change\", \"Terrestrial Ecosystems\",  \"Marginal\", \"All\", \"100 Years\"): None,\n",
    " (\"LC-IMPACT\", \"Climate Change\", \"Terrestrial Ecosystems\",  \"Marginal\", \"Certain\", \"Infinite\"): None,\n",
    " (\"LC-IMPACT\", \"Climate Change\", \"Terrestrial Ecosystems\",  \"Marginal\", \"All\", \"Infinite\"): None,\n",
    " (\"LC-IMPACT\", \"Climate Change\", \"Aquatic Ecosystems\", \"Marginal\", \"All\", \"100 Years\"): None,\n",
    " (\"LC-IMPACT\", \"Climate Change\", \"Aquatic Ecosystems\",  \"Marginal\", \"All\", \"Infinite\"): None, \n",
    " ('LC-IMPACT', 'Land Use', 'Occupation', 'Marginal', 'Certain'): {\n",
    "     'xt others': 'world-topo-ecoregions-weighted-pop-density',\n",
    "     'activities': crops,\n",
    "     'sugarcane': 'world-topo-ecoregions-sugarcane_landuse_intensity',\n",
    "     'maize': 'world-topo-ecoregions-maize_landuse_intensity',\n",
    " },\n",
    " ('LC-IMPACT', 'Particulate Matter Formation', 'Marginal', 'All'): {\n",
    "     'xt others': 'world-topo-particulate-matter-weighted-pop-density',\n",
    "     'activities': [],\n",
    "     'sugarcane': 'world-topo-particulate-matter-sugarcane_landuse_intensity',\n",
    "     'maize': 'world-topo-particulate-matter-maize_landuse_intensity',\n",
    " },\n",
    " ('LC-IMPACT', 'Particulate Matter Formation', 'Marginal', 'Certain'): {\n",
    "     'xt others': 'world-topo-particulate-matter-weighted-pop-density',\n",
    "     'activities': [],\n",
    "     'sugarcane': 'world-topo-particulate-matter-sugarcane_landuse_intensity',\n",
    "     'maize': 'world-topo-particulate-matter-maize_landuse_intensity',\n",
    " },\n",
    " ('LC-IMPACT', 'Water Use', 'Ecosystem Quality', 'Surface Water', 'Marginal', 'All'): {\n",
    "     'xt others': 'world-topo-watersheds-eq-sw-all-weighted-pop-density',\n",
    "     'activities': irrigation + crops,\n",
    "     'sugarcane': 'world-topo-watersheds-eq-sw-all-sugarcane_water_intensity',\n",
    "     'maize': 'world-topo-watersheds-eq-sw-all-maize_water_intensity',\n",
    " },\n",
    " ('LC-IMPACT', 'Water Use', 'Human Health', 'Marginal'): {\n",
    "     'xt others': 'world-topo-watersheds-hh-weighted-pop-density',\n",
    "     'activities': irrigation + crops,\n",
    "     'sugarcane': 'world-topo-watersheds-hh-sugarcane_water_intensity',\n",
    "     'maize': 'world-topo-watersheds-hh-maize_water_intensity',\n",
    " },\n",
    "}"
   ]
  },
  {
   "cell_type": "code",
   "execution_count": null,
   "metadata": {},
   "outputs": [],
   "source": [
    "results = []"
   ]
  },
  {
   "cell_type": "code",
   "execution_count": null,
   "metadata": {},
   "outputs": [],
   "source": [
    "HEADERS = [\"Name\", \"Unit\", \"Ref. product\", \"Location\", \"Score (absolute)\", \"Score (fraction of total)\"]"
   ]
  },
  {
   "cell_type": "code",
   "execution_count": null,
   "metadata": {},
   "outputs": [],
   "source": [
    "for method, meta in lcimpact.items():\n",
    "    print(method)\n",
    "    results.append(list(method))\n",
    "    \n",
    "    fu = ('Fuel comparison', 'petrol transport')\n",
    "    lca = LCA({fu: 1}, method)\n",
    "    lca.lci()\n",
    "    lca.lcia()\n",
    "    \n",
    "    results.append([])\n",
    "    results.append(list(fu))\n",
    "    results.append([\"Site-generic score\", lca.score])\n",
    "    results.append([\"Top 10 contributing activities\"])\n",
    "    results.append(HEADERS)\n",
    "    for score, _, act in ContributionAnalysis().annotated_top_processes(lca)[:10]:\n",
    "        results.append([act['name'], act['unit'], act['reference product'], act['location'], score, score / lca.score])\n",
    "\n",
    "    if method[1] != 'Climate Change':        \n",
    "        xt = ExtensionTablesLCA(\n",
    "            {fu: 1},\n",
    "            method,\n",
    "            xtable=meta['xt others']\n",
    "        )\n",
    "        xt.lci()\n",
    "        xt.lcia()\n",
    "\n",
    "        results.append([])\n",
    "        results.append([\"Site-dependent score\", xt.score])\n",
    "        results.append([\"Top 10 contributing activities\"])\n",
    "        results.append(HEADERS)\n",
    "        for score, _, act in ContributionAnalysis().annotated_top_processes(xt)[:10]:\n",
    "            results.append([act['name'], act['unit'], act['reference product'], act['location'], score, score / xt.score])\n",
    "\n",
    "    for fu, crop in (\n",
    "            (('Fuel comparison', 'sugarcane transport'), 'sugarcane'),\n",
    "            (('Fuel comparison', 'maize transport'), 'maize'),\n",
    "            ):\n",
    "        \n",
    "        lca = LCA({fu: 1}, method)\n",
    "        lca.lci()\n",
    "        lca.lcia()\n",
    "\n",
    "        results.append([])\n",
    "        results.append(list(fu))\n",
    "        results.append([\"Site-generic score\", lca.score])\n",
    "        results.append([\"Top 10 contributing activities\"])\n",
    "        results.append(HEADERS)\n",
    "        for score, _, act in ContributionAnalysis().annotated_top_processes(lca)[:10]:\n",
    "            results.append([act['name'], act['unit'], act['reference product'], act['location'], score, score / lca.score])\n",
    "\n",
    "        if method[1] != 'Climate Change':        \n",
    "            if meta['activities']:\n",
    "                xt_ag = ExtensionTablesLCA(\n",
    "                    {fu: 1},\n",
    "                    method,\n",
    "                    xtable=meta['sugarcane'],\n",
    "                    limitations={\n",
    "                        'activities': meta['activities'],\n",
    "                    }\n",
    "                )\n",
    "                xt_ag.lci()\n",
    "                xt_ag.lcia()\n",
    "\n",
    "                xt_others = ExtensionTablesLCA(\n",
    "                    {fu: 1},\n",
    "                    method,\n",
    "                    xtable=meta['xt others'],\n",
    "                    limitations={\n",
    "                        'activities': meta['activities'],\n",
    "                        'activities mode': 'exclude'\n",
    "                    }\n",
    "                )\n",
    "                xt_others.lci()\n",
    "                xt_others.lcia()\n",
    "\n",
    "                total = xt_ag.score + xt_others.score\n",
    "\n",
    "                results.append([])\n",
    "                results.append([\"Site-dependent score\", total])\n",
    "                results.append([\"Top 10 contributing activities\"])\n",
    "                results.append(HEADERS)\n",
    "\n",
    "                contributors = sorted((\n",
    "                    ContributionAnalysis().annotated_top_processes(xt_ag)[:10] +         \n",
    "                    ContributionAnalysis().annotated_top_processes(xt_others)[:10]        \n",
    "                ), reverse=True)[:10]\n",
    "\n",
    "                for score, _, act in contributors:\n",
    "                    results.append([act['name'], act['unit'], act['reference product'], act['location'], score, score / total])\n",
    "\n",
    "            else:\n",
    "                xt = ExtensionTablesLCA(\n",
    "                    {fu: 1},\n",
    "                    method,\n",
    "                    xtable=meta['xt others']\n",
    "                )\n",
    "                xt.lci()\n",
    "                xt.lcia()\n",
    "\n",
    "                results.append([])\n",
    "                results.append([\"Site-dependent score\", xt.score])\n",
    "                results.append([\"Top 10 contributing activities\"])\n",
    "                results.append(HEADERS)\n",
    "                for score, _, act in ContributionAnalysis().annotated_top_processes(xt)[:10]:\n",
    "                    results.append([act['name'], act['unit'], act['reference product'], act['location'], score, score / xt.score])\n",
    "\n",
    "    results.append([])\n",
    "    results.append([])"
   ]
  },
  {
   "cell_type": "code",
   "execution_count": null,
   "metadata": {},
   "outputs": [],
   "source": [
    "with open(\"lcimpact-case-study.csv\", \"w\") as f:\n",
    "    writer = csv.writer(f)\n",
    "    for row in results:\n",
    "        writer.writerow(row)"
   ]
  },
  {
   "cell_type": "code",
   "execution_count": null,
   "metadata": {},
   "outputs": [],
   "source": []
  },
  {
   "cell_type": "code",
   "execution_count": null,
   "metadata": {},
   "outputs": [],
   "source": []
  },
  {
   "cell_type": "code",
   "execution_count": null,
   "metadata": {},
   "outputs": [],
   "source": []
  },
  {
   "cell_type": "markdown",
   "metadata": {},
   "source": [
    "# Obsolete\n",
    "\n",
    "## Visualize sugarcane land use"
   ]
  },
  {
   "cell_type": "code",
   "execution_count": null,
   "metadata": {},
   "outputs": [],
   "source": [
    "# Do irrigation with the sugar land intensity map, all others with the weighted pop density map\n",
    "xt_ag = ExtensionTablesLCA(\n",
    "    {('Fuel comparison', 'sugarcane transport'): 1},\n",
    "    ('LC-IMPACT', 'Land Use', 'Occupation', 'Marginal', 'Core'),\n",
    "    xtable='world-topo-ecoregions-sugarcane_landuse_intensity',\n",
    "    limitations={\n",
    "        'activities': irrigation + crops,\n",
    "    }\n",
    ")\n",
    "xt_ag.lci()\n",
    "xt_ag.lcia()\n",
    "\n",
    "xt_others = ExtensionTablesLCA(\n",
    "    {('Fuel comparison', 'sugarcane transport'): 1},\n",
    "    ('LC-IMPACT', 'Land Use', 'Occupation', 'Marginal', 'Core'),\n",
    "    xtable='world-topo-ecoregions-weighted-pop-density',\n",
    "    limitations={\n",
    "        'activities': irrigation + crops,\n",
    "        'activities mode': 'exclude'\n",
    "    }\n",
    ")\n",
    "xt_others.lci()\n",
    "xt_others.lcia()\n",
    "\n",
    "xt_ag.score + xt_others.score"
   ]
  },
  {
   "cell_type": "code",
   "execution_count": null,
   "metadata": {},
   "outputs": [],
   "source": [
    "xt_ag.fix_spatial_dictionaries()"
   ]
  },
  {
   "cell_type": "code",
   "execution_count": null,
   "metadata": {},
   "outputs": [],
   "source": [
    "def iterate_results_spatial_labels(matrix, axis, spatial_dict, cutoff=1e-2, as_string=False):\n",
    "    def _(x):\n",
    "        if isinstance(x, tuple):\n",
    "            x = x[1]\n",
    "        if as_string:\n",
    "            x = str(x)\n",
    "        return x\n",
    "        \n",
    "    rsd = {y: _(x) for x, y in spatial_dict.items()}\n",
    "\n",
    "    total = matrix.sum()\n",
    "    summed = np.array(matrix.sum(axis=axis)).ravel()\n",
    "    sorting = np.argsort(np.abs(summed))[::-1]\n",
    "\n",
    "    summed = summed[sorting]\n",
    "    mask = summed > (cutoff * summed.max())\n",
    "\n",
    "    for x, y in zip(summed[mask], sorting):\n",
    "        yield x, x * 100 / total, rsd[y]"
   ]
  },
  {
   "cell_type": "code",
   "execution_count": null,
   "metadata": {},
   "outputs": [],
   "source": [
    "def to_geopandas(result_iter, geocollection):\n",
    "    source = gpd.read_file(geocollections[geocollection]['filepath'])\n",
    "    merged = source.merge(pd.DataFrame(\n",
    "        list(result_iter), \n",
    "        columns=['lcia_weight', 'lcia_weight_normalized', geocollections[geocollection]['field']]\n",
    "    ))\n",
    "    return merged"
   ]
  },
  {
   "cell_type": "code",
   "execution_count": null,
   "metadata": {},
   "outputs": [],
   "source": [
    "df = to_geopandas(\n",
    "    iterate_results_spatial_labels(\n",
    "        (xt_ag.results_ia_spatial_scale() + xt_others.results_ia_spatial_scale()),\n",
    "        0,\n",
    "        xt_ag.ia_spatial_dict,\n",
    "    ),\n",
    "    'ecoregions'\n",
    ")"
   ]
  },
  {
   "cell_type": "code",
   "execution_count": null,
   "metadata": {},
   "outputs": [],
   "source": [
    "%matplotlib inline"
   ]
  },
  {
   "cell_type": "code",
   "execution_count": null,
   "metadata": {
    "scrolled": false
   },
   "outputs": [],
   "source": [
    "df.plot(column='lcia_weight_normalized', cmap='OrRd', figsize=(20, 15))"
   ]
  },
  {
   "cell_type": "markdown",
   "metadata": {},
   "source": [
    "Interactive map using [folium](https://pypi.python.org/pypi/folium).\n",
    "\n",
    "More foilum docs:\n",
    "\n",
    "* http://python-visualization.github.io/folium/module/folium.html\n",
    "* http://nbviewer.jupyter.org/github/ocefpaf/folium_notebooks/blob/master/test_image_overlay_gulf_stream.ipynb\n",
    "* http://nbviewer.jupyter.org/github/python-visualization/folium/blob/master/examples/ImageOverlay.ipynb\n",
    "* https://folium.readthedocs.io/en/latest/quickstart.html\n",
    "* https://automating-gis-processes.github.io/2016/Lesson5-interactive-map-folium.html"
   ]
  },
  {
   "cell_type": "code",
   "execution_count": null,
   "metadata": {},
   "outputs": [],
   "source": [
    "m = folium.Map(location=[0, 0], zoom_start=2, \n",
    "               tiles=\"cartodbpositron\")\n",
    "\n",
    "df['geoid'] = df.index.astype(str)\n",
    "geo_str = df.to_json()\n",
    "\n",
    "m.choropleth(geo_str=geo_str,\n",
    "             data=df, columns=['geoid', 'lcia_weight_normalized'],\n",
    "             key_on='feature.id',\n",
    "             fill_color='YlGn', fill_opacity=0.4, line_opacity=0.2)\n",
    "m"
   ]
  },
  {
   "cell_type": "code",
   "execution_count": null,
   "metadata": {},
   "outputs": [],
   "source": [
    "df.to_file(\"sugarcane_land_impact.geojson\", driver='GeoJSON')"
   ]
  },
  {
   "cell_type": "markdown",
   "metadata": {},
   "source": [
    "# Visualize maize water use"
   ]
  },
  {
   "cell_type": "code",
   "execution_count": null,
   "metadata": {},
   "outputs": [],
   "source": [
    "# Do irrigation with the maize water intensity map, all others with the weighted pop density map\n",
    "xt_ag = ExtensionTablesLCA(\n",
    "    {('Fuel comparison', 'maize transport'): 1},\n",
    "     ('LC-IMPACT', 'Water Use', 'Ecosystem Quality', 'Surface Water', 'Marginal', 'Core uncertainty'),\n",
    "    xtable='world-topo-watersheds-eq-sw-core-maize_water_intensity',\n",
    "    limitations={\n",
    "        'activities': irrigation + crops,\n",
    "    }\n",
    ")\n",
    "xt_ag.lci()\n",
    "xt_ag.lcia()\n",
    "\n",
    "xt_others = ExtensionTablesLCA(\n",
    "    {('Fuel comparison', 'maize transport'): 1},\n",
    "    ('LC-IMPACT', 'Water Use', 'Ecosystem Quality', 'Surface Water', 'Marginal', 'Core uncertainty'),\n",
    "    xtable='world-topo-watersheds-eq-sw-core-weighted-pop-density',\n",
    "    limitations={\n",
    "        'activities': irrigation + crops,\n",
    "        'activities mode': 'exclude'\n",
    "    }\n",
    ")\n",
    "xt_others.lci()\n",
    "xt_others.lcia()\n",
    "\n",
    "xt_ag.score + xt_others.score"
   ]
  },
  {
   "cell_type": "code",
   "execution_count": null,
   "metadata": {},
   "outputs": [],
   "source": [
    "xt_ag.fix_spatial_dictionaries()"
   ]
  },
  {
   "cell_type": "code",
   "execution_count": null,
   "metadata": {},
   "outputs": [],
   "source": [
    "df = to_geopandas(\n",
    "    iterate_results_spatial_labels(\n",
    "        (xt_ag.results_ia_spatial_scale() + xt_others.results_ia_spatial_scale()),\n",
    "        0,\n",
    "        xt_ag.ia_spatial_dict,\n",
    "    ),\n",
    "    'watersheds-eq-sw-core',\n",
    ")"
   ]
  },
  {
   "cell_type": "code",
   "execution_count": null,
   "metadata": {},
   "outputs": [],
   "source": [
    "m = folium.Map(location=[0, 0], zoom_start=2, \n",
    "               tiles=\"cartodbpositron\")\n",
    "\n",
    "df['geoid'] = df.index.astype(str)\n",
    "geo_str = df.to_json()\n",
    "\n",
    "m.choropleth(geo_str=geo_str,\n",
    "             data=df, columns=['geoid', 'lcia_weight_normalized'],\n",
    "             key_on='feature.id',\n",
    "             fill_color='YlGn', fill_opacity=0.4, line_opacity=0.2)\n",
    "m"
   ]
  },
  {
   "cell_type": "code",
   "execution_count": null,
   "metadata": {},
   "outputs": [],
   "source": [
    "df.to_file(\"maize_water_eq_impact.geojson\", driver='GeoJSON')"
   ]
  },
  {
   "cell_type": "code",
   "execution_count": null,
   "metadata": {},
   "outputs": [],
   "source": []
  }
 ],
 "metadata": {
  "kernelspec": {
   "display_name": "Python 3",
   "language": "python",
   "name": "python3"
  },
  "language_info": {
   "codemirror_mode": {
    "name": "ipython",
    "version": 3
   },
   "file_extension": ".py",
   "mimetype": "text/x-python",
   "name": "python",
   "nbconvert_exporter": "python",
   "pygments_lexer": "ipython3",
   "version": "3.6.4"
  },
  "toc": {
   "base_numbering": 1,
   "nav_menu": {
    "height": "48px",
    "width": "252px"
   },
   "number_sections": true,
   "sideBar": true,
   "skip_h1_title": false,
   "title_cell": "Table of Contents",
   "title_sidebar": "Contents",
   "toc_cell": false,
   "toc_position": {},
   "toc_section_display": "block",
   "toc_window_display": false
  }
 },
 "nbformat": 4,
 "nbformat_minor": 2
}

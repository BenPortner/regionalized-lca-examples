{
 "cells": [
  {
   "cell_type": "code",
   "execution_count": null,
   "metadata": {},
   "outputs": [],
   "source": [
    "from brightway2 import *\n",
    "from bw2analyzer import *\n",
    "from bw2regional import *\n",
    "import csv\n",
    "import geopandas as gpd\n",
    "import pandas as pd\n",
    "import numpy as np"
   ]
  },
  {
   "cell_type": "code",
   "execution_count": null,
   "metadata": {},
   "outputs": [],
   "source": [
    "projects.set_current(\"LC IMPACT case study\")"
   ]
  },
  {
   "cell_type": "code",
   "execution_count": null,
   "metadata": {},
   "outputs": [],
   "source": [
    "sorted(geocollections)"
   ]
  },
  {
   "cell_type": "code",
   "execution_count": null,
   "metadata": {},
   "outputs": [],
   "source": [
    "for act in Database(\"Fuel comparison\"):\n",
    "    print(act.key, act)"
   ]
  },
  {
   "cell_type": "code",
   "execution_count": null,
   "metadata": {},
   "outputs": [],
   "source": [
    "[x for x in methods if x[0] == 'LC-IMPACT']"
   ]
  },
  {
   "cell_type": "code",
   "execution_count": null,
   "metadata": {},
   "outputs": [],
   "source": [
    "irrigation = [x for x in Database(\"ecoinvent\") if 'irrigation' in x['name']]\n",
    "crops = [x for x in Database(\"ecoinvent\") \n",
    "         if x['name'] in ('sugarcane production', 'maize grain production')]"
   ]
  },
  {
   "cell_type": "code",
   "execution_count": null,
   "metadata": {},
   "outputs": [],
   "source": [
    "activities = [\n",
    "    ('Fuel comparison', 'sugarcane transport'),\n",
    "    ('Fuel comparison', 'maize transport'),\n",
    "    ('Fuel comparison', 'petrol transport'),\n",
    "]\n",
    "\n",
    "lcimpact = {\n",
    " (\"LC-IMPACT\", \"Climate Change\", \"Human Health\", \"Marginal\", \"Certain\", \"100 Years\"): None,\n",
    " (\"LC-IMPACT\", \"Climate Change\", \"Human Health\", \"Marginal\", \"All\", \"100 Years\"): None,\n",
    " (\"LC-IMPACT\", \"Climate Change\", \"Human Health\", \"Marginal\", \"Certain\", \"Infinite\"): None,\n",
    " (\"LC-IMPACT\", \"Climate Change\", \"Human Health\", \"Marginal\", \"All\", \"Infinite\"): None,\n",
    " (\"LC-IMPACT\", \"Climate Change\", \"Terrestrial Ecosystems\", \"Marginal\", \"Certain\", \"100 Years\"): None,\n",
    " (\"LC-IMPACT\", \"Climate Change\", \"Terrestrial Ecosystems\",  \"Marginal\", \"All\", \"100 Years\"): None,\n",
    " (\"LC-IMPACT\", \"Climate Change\", \"Terrestrial Ecosystems\",  \"Marginal\", \"Certain\", \"Infinite\"): None,\n",
    " (\"LC-IMPACT\", \"Climate Change\", \"Terrestrial Ecosystems\",  \"Marginal\", \"All\", \"Infinite\"): None,\n",
    " (\"LC-IMPACT\", \"Climate Change\", \"Aquatic Ecosystems\", \"Marginal\", \"All\", \"100 Years\"): None,\n",
    " (\"LC-IMPACT\", \"Climate Change\", \"Aquatic Ecosystems\",  \"Marginal\", \"All\", \"Infinite\"): None, \n",
    " ('LC-IMPACT', 'Land Use', 'Occupation', 'Marginal', 'Certain'): {\n",
    "     'xt others': 'world-topo-ecoregions-weighted-pop-density',\n",
    "     'activities': crops,\n",
    "     'sugarcane': 'world-topo-ecoregions-sugarcane_landuse_intensity',\n",
    "     'maize': 'world-topo-ecoregions-maize_landuse_intensity',\n",
    " },\n",
    " ('LC-IMPACT', 'Particulate Matter Formation', 'Marginal', 'All'): {\n",
    "     'xt others': 'world-topo-particulate-matter-weighted-pop-density',\n",
    "     'activities': [],\n",
    "     'sugarcane': 'world-topo-particulate-matter-sugarcane_landuse_intensity',\n",
    "     'maize': 'world-topo-particulate-matter-maize_landuse_intensity',\n",
    " },\n",
    " ('LC-IMPACT', 'Particulate Matter Formation', 'Marginal', 'Certain'): {\n",
    "     'xt others': 'world-topo-particulate-matter-weighted-pop-density',\n",
    "     'activities': [],\n",
    "     'sugarcane': 'world-topo-particulate-matter-sugarcane_landuse_intensity',\n",
    "     'maize': 'world-topo-particulate-matter-maize_landuse_intensity',\n",
    " },\n",
    " ('LC-IMPACT', 'Water Use', 'Ecosystem Quality', 'Surface Water', 'Marginal', 'All'): {\n",
    "     'xt others': 'world-topo-watersheds-eq-sw-all-weighted-pop-density',\n",
    "     'activities': irrigation + crops,\n",
    "     'sugarcane': 'world-topo-watersheds-eq-sw-all-sugarcane_water_intensity',\n",
    "     'maize': 'world-topo-watersheds-eq-sw-all-maize_water_intensity',\n",
    " },\n",
    " ('LC-IMPACT', 'Water Use', 'Human Health', 'Marginal'): {\n",
    "     'xt others': 'world-topo-watersheds-hh-weighted-pop-density',\n",
    "     'activities': irrigation + crops,\n",
    "     'sugarcane': 'world-topo-watersheds-hh-sugarcane_water_intensity',\n",
    "     'maize': 'world-topo-watersheds-hh-maize_water_intensity',\n",
    " },\n",
    "}"
   ]
  },
  {
   "cell_type": "code",
   "execution_count": null,
   "metadata": {},
   "outputs": [],
   "source": [
    "results = []"
   ]
  },
  {
   "cell_type": "code",
   "execution_count": null,
   "metadata": {},
   "outputs": [],
   "source": [
    "HEADERS = [\"Name\", \"Unit\", \"Ref. product\", \"Location\", \"Score (absolute)\", \"Score (fraction of total)\"]"
   ]
  },
  {
   "cell_type": "code",
   "execution_count": null,
   "metadata": {},
   "outputs": [],
   "source": [
    "for method, meta in lcimpact.items():\n",
    "    print(method)\n",
    "    results.append(list(method))\n",
    "    \n",
    "    fu = ('Fuel comparison', 'petrol transport')\n",
    "    lca = LCA({fu: 1}, method)\n",
    "    lca.lci()\n",
    "    lca.lcia()\n",
    "    \n",
    "    results.append([])\n",
    "    results.append(list(fu))\n",
    "    results.append([\"Site-generic score\", lca.score])\n",
    "    results.append([\"Top 10 contributing activities\"])\n",
    "    results.append(HEADERS)\n",
    "    for score, _, act in ContributionAnalysis().annotated_top_processes(lca)[:10]:\n",
    "        results.append([act['name'], act['unit'], act['reference product'], act['location'], score, score / lca.score])\n",
    "\n",
    "    if method[1] != 'Climate Change':        \n",
    "        xt = ExtensionTablesLCA(\n",
    "            {fu: 1},\n",
    "            method,\n",
    "            xtable=meta['xt others']\n",
    "        )\n",
    "        xt.lci()\n",
    "        xt.lcia()\n",
    "\n",
    "        results.append([])\n",
    "        results.append([\"Site-dependent score\", xt.score])\n",
    "        results.append([\"Top 10 contributing activities\"])\n",
    "        results.append(HEADERS)\n",
    "        for score, _, act in ContributionAnalysis().annotated_top_processes(xt)[:10]:\n",
    "            results.append([act['name'], act['unit'], act['reference product'], act['location'], score, score / xt.score])\n",
    "\n",
    "    for fu, crop in (\n",
    "            (('Fuel comparison', 'sugarcane transport'), 'sugarcane'),\n",
    "            (('Fuel comparison', 'maize transport'), 'maize'),\n",
    "            ):\n",
    "        \n",
    "        lca = LCA({fu: 1}, method)\n",
    "        lca.lci()\n",
    "        lca.lcia()\n",
    "\n",
    "        results.append([])\n",
    "        results.append(list(fu))\n",
    "        results.append([\"Site-generic score\", lca.score])\n",
    "        results.append([\"Top 10 contributing activities\"])\n",
    "        results.append(HEADERS)\n",
    "        for score, _, act in ContributionAnalysis().annotated_top_processes(lca)[:10]:\n",
    "            results.append([act['name'], act['unit'], act['reference product'], act['location'], score, score / lca.score])\n",
    "\n",
    "        if method[1] != 'Climate Change':        \n",
    "            if meta['activities']:\n",
    "                xt_ag = ExtensionTablesLCA(\n",
    "                    {fu: 1},\n",
    "                    method,\n",
    "                    xtable=meta['sugarcane'],\n",
    "                    limitations={\n",
    "                        'activities': meta['activities'],\n",
    "                    }\n",
    "                )\n",
    "                xt_ag.lci()\n",
    "                xt_ag.lcia()\n",
    "\n",
    "                xt_others = ExtensionTablesLCA(\n",
    "                    {fu: 1},\n",
    "                    method,\n",
    "                    xtable=meta['xt others'],\n",
    "                    limitations={\n",
    "                        'activities': meta['activities'],\n",
    "                        'activities mode': 'exclude'\n",
    "                    }\n",
    "                )\n",
    "                xt_others.lci()\n",
    "                xt_others.lcia()\n",
    "\n",
    "                total = xt_ag.score + xt_others.score\n",
    "\n",
    "                results.append([])\n",
    "                results.append([\"Site-dependent score\", total])\n",
    "                results.append([\"Top 10 contributing activities\"])\n",
    "                results.append(HEADERS)\n",
    "\n",
    "                contributors = sorted((\n",
    "                    ContributionAnalysis().annotated_top_processes(xt_ag)[:10] +         \n",
    "                    ContributionAnalysis().annotated_top_processes(xt_others)[:10]        \n",
    "                ), reverse=True)[:10]\n",
    "\n",
    "                for score, _, act in contributors:\n",
    "                    results.append([act['name'], act['unit'], act['reference product'], act['location'], score, score / total])\n",
    "\n",
    "            else:\n",
    "                xt = ExtensionTablesLCA(\n",
    "                    {fu: 1},\n",
    "                    method,\n",
    "                    xtable=meta['xt others']\n",
    "                )\n",
    "                xt.lci()\n",
    "                xt.lcia()\n",
    "\n",
    "                results.append([])\n",
    "                results.append([\"Site-dependent score\", xt.score])\n",
    "                results.append([\"Top 10 contributing activities\"])\n",
    "                results.append(HEADERS)\n",
    "                for score, _, act in ContributionAnalysis().annotated_top_processes(xt)[:10]:\n",
    "                    results.append([act['name'], act['unit'], act['reference product'], act['location'], score, score / xt.score])\n",
    "\n",
    "    results.append([])\n",
    "    results.append([])"
   ]
  },
  {
   "cell_type": "code",
   "execution_count": null,
   "metadata": {},
   "outputs": [],
   "source": [
    "with open(\"lcimpact-case-study.csv\", \"w\") as f:\n",
    "    writer = csv.writer(f)\n",
    "    for row in results:\n",
    "        writer.writerow(row)"
   ]
  }
 ],
 "metadata": {
  "kernelspec": {
   "display_name": "Python 3",
   "language": "python",
   "name": "python3"
  },
  "language_info": {
   "codemirror_mode": {
    "name": "ipython",
    "version": 3
   },
   "file_extension": ".py",
   "mimetype": "text/x-python",
   "name": "python",
   "nbconvert_exporter": "python",
   "pygments_lexer": "ipython3",
   "version": "3.6.5"
  },
  "toc": {
   "base_numbering": 1,
   "nav_menu": {
    "height": "48px",
    "width": "252px"
   },
   "number_sections": true,
   "sideBar": true,
   "skip_h1_title": false,
   "title_cell": "Table of Contents",
   "title_sidebar": "Contents",
   "toc_cell": false,
   "toc_position": {},
   "toc_section_display": "block",
   "toc_window_display": false
  }
 },
 "nbformat": 4,
 "nbformat_minor": 2
}

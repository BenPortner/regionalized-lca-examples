{
 "cells": [
  {
   "cell_type": "code",
   "execution_count": 1,
   "metadata": {},
   "outputs": [],
   "source": [
    "import bw2calc as bc\n",
    "import bw2data as bd\n",
    "import bw2regional as bwr\n",
    "import bw2analyzer as ba\n",
    "import csv\n",
    "import geopandas as gpd\n",
    "import pandas as pd\n",
    "import numpy as np"
   ]
  },
  {
   "cell_type": "code",
   "execution_count": 2,
   "metadata": {},
   "outputs": [],
   "source": [
    "bd.projects.set_current(\"LC IMPACT case study\")"
   ]
  },
  {
   "cell_type": "code",
   "execution_count": 3,
   "metadata": {},
   "outputs": [
    {
     "name": "stdout",
     "output_type": "stream",
     "text": [
      "('Fuel comparison', 'maize transport') 'Driving with maize' (kilometer, ('ecoinvent', 'RER'), None)\n",
      "('Fuel comparison', 'petrol transport') 'Driving with petrol' (kilometer, ('ecoinvent', 'RER'), None)\n",
      "('Fuel comparison', 'sugarcane transport') 'Driving with sugarcane' (kilometer, ('ecoinvent', 'RER'), None)\n",
      "('Fuel comparison', 'sugarcane') 'Sugarcane ethanol in europe' (kilogram, ('ecoinvent', 'RER'), None)\n",
      "('Fuel comparison', 'ethanol driving without fuel') 'ethanol driving without fuel' (kilometer, ('ecoinvent', 'RER'), None)\n",
      "('Fuel comparison', 'maize') 'Maize ethanol in europe' (kilogram, ('ecoinvent', 'RER'), None)\n"
     ]
    }
   ],
   "source": [
    "for act in bd.Database(\"Fuel comparison\"):\n",
    "    print(act.key, act)"
   ]
  },
  {
   "cell_type": "code",
   "execution_count": 4,
   "metadata": {},
   "outputs": [
    {
     "data": {
      "text/plain": [
       "[('LC-IMPACT', 'Land Use', 'Occupation', 'Marginal', 'Certain'),\n",
       " ('LC-IMPACT', 'Land Use', 'Occupation', 'Average', 'Certain'),\n",
       " ('LC-IMPACT', 'Land Use', 'Transformation', 'Marginal', 'Certain'),\n",
       " ('LC-IMPACT', 'Land Use', 'Transformation', 'Marginal', 'All'),\n",
       " ('LC-IMPACT', 'Land Use', 'Transformation', 'Average', 'Certain'),\n",
       " ('LC-IMPACT', 'Land Use', 'Transformation', 'Average', 'All'),\n",
       " ('LC-IMPACT', 'Particulate Matter Formation', 'Marginal', 'All'),\n",
       " ('LC-IMPACT', 'Particulate Matter Formation', 'Marginal', 'Certain'),\n",
       " ('LC-IMPACT', 'Water Use', 'Human Health', 'Average'),\n",
       " ('LC-IMPACT', 'Water Use', 'Human Health', 'Marginal'),\n",
       " ('LC-IMPACT',\n",
       "  'Water Use',\n",
       "  'Ecosystem Quality',\n",
       "  'Surface Water',\n",
       "  'Marginal',\n",
       "  'Certain'),\n",
       " ('LC-IMPACT',\n",
       "  'Water Use',\n",
       "  'Ecosystem Quality',\n",
       "  'Surface Water',\n",
       "  'Marginal',\n",
       "  'All')]"
      ]
     },
     "execution_count": 4,
     "metadata": {},
     "output_type": "execute_result"
    }
   ],
   "source": [
    "[x for x in bd.methods if x[0] == 'LC-IMPACT']"
   ]
  },
  {
   "cell_type": "code",
   "execution_count": 5,
   "metadata": {},
   "outputs": [],
   "source": [
    "irrigation = [x.id for x in bd.Database(\"ecoinvent\") if 'irrigation' in x['name']]\n",
    "crops = [x.id for x in bd.Database(\"ecoinvent\") \n",
    "         if x['name'] in ('sugarcane production', 'maize grain production')]"
   ]
  },
  {
   "cell_type": "code",
   "execution_count": 6,
   "metadata": {},
   "outputs": [],
   "source": [
    "activities = [\n",
    "    ('Fuel comparison', 'sugarcane transport'),\n",
    "    ('Fuel comparison', 'maize transport'),\n",
    "    ('Fuel comparison', 'petrol transport'),\n",
    "]\n",
    "\n",
    "lcimpact = {\n",
    " # (\"LC-IMPACT\", \"Climate Change\", \"Human Health\", \"Marginal\", \"Certain\", \"100 Years\"): None,\n",
    " # (\"LC-IMPACT\", \"Climate Change\", \"Human Health\", \"Marginal\", \"All\", \"100 Years\"): None,\n",
    " # (\"LC-IMPACT\", \"Climate Change\", \"Human Health\", \"Marginal\", \"Certain\", \"Infinite\"): None,\n",
    " # (\"LC-IMPACT\", \"Climate Change\", \"Human Health\", \"Marginal\", \"All\", \"Infinite\"): None,\n",
    " # (\"LC-IMPACT\", \"Climate Change\", \"Terrestrial Ecosystems\", \"Marginal\", \"Certain\", \"100 Years\"): None,\n",
    " # (\"LC-IMPACT\", \"Climate Change\", \"Terrestrial Ecosystems\",  \"Marginal\", \"All\", \"100 Years\"): None,\n",
    " # (\"LC-IMPACT\", \"Climate Change\", \"Terrestrial Ecosystems\",  \"Marginal\", \"Certain\", \"Infinite\"): None,\n",
    " # (\"LC-IMPACT\", \"Climate Change\", \"Terrestrial Ecosystems\",  \"Marginal\", \"All\", \"Infinite\"): None,\n",
    " # (\"LC-IMPACT\", \"Climate Change\", \"Aquatic Ecosystems\", \"Marginal\", \"All\", \"100 Years\"): None,\n",
    " # (\"LC-IMPACT\", \"Climate Change\", \"Aquatic Ecosystems\",  \"Marginal\", \"All\", \"Infinite\"): None, \n",
    " ('LC-IMPACT', 'Land Use', 'Occupation', 'Marginal', 'Certain'): {\n",
    "     'xt others': 'world-topo-ecoregions-weighted-pop-density',\n",
    "     'activities': crops,\n",
    "     'sugarcane': 'world-topo-ecoregions-sugarcane_landuse_intensity',\n",
    "     'maize': 'world-topo-ecoregions-maize_landuse_intensity',\n",
    " },\n",
    " ('LC-IMPACT', 'Particulate Matter Formation', 'Marginal', 'All'): {\n",
    "     'xt others': 'world-topo-particulate-matter-weighted-pop-density',\n",
    "     'activities': [],\n",
    "     'sugarcane': 'world-topo-particulate-matter-sugarcane_landuse_intensity',\n",
    "     'maize': 'world-topo-particulate-matter-maize_landuse_intensity',\n",
    " },\n",
    " ('LC-IMPACT', 'Particulate Matter Formation', 'Marginal', 'Certain'): {\n",
    "     'xt others': 'world-topo-particulate-matter-weighted-pop-density',\n",
    "     'activities': [],\n",
    "     'sugarcane': 'world-topo-particulate-matter-sugarcane_landuse_intensity',\n",
    "     'maize': 'world-topo-particulate-matter-maize_landuse_intensity',\n",
    " },\n",
    " ('LC-IMPACT', 'Water Use', 'Ecosystem Quality', 'Surface Water', 'Marginal', 'All'): {\n",
    "     'xt others': 'world-topo-watersheds-eq-sw-all-weighted-pop-density',\n",
    "     'activities': irrigation + crops,\n",
    "     'sugarcane': 'world-topo-watersheds-eq-sw-all-sugarcane_water_intensity',\n",
    "     'maize': 'world-topo-watersheds-eq-sw-all-maize_water_intensity',\n",
    " },\n",
    " ('LC-IMPACT', 'Water Use', 'Ecosystem Quality', 'Surface Water', 'Marginal', 'Certain'): {\n",
    "     'xt others': 'world-topo-watersheds-eq-sw-certain-weighted-pop-density',\n",
    "     'activities': irrigation + crops,\n",
    "     'sugarcane': 'world-topo-watersheds-eq-sw-certain-sugarcane_water_intensity',\n",
    "     'maize': 'world-topo-watersheds-eq-sw-certain-maize_water_intensity',\n",
    " },\n",
    " ('LC-IMPACT', 'Water Use', 'Human Health', 'Marginal'): {\n",
    "     'xt others': 'world-topo-watersheds-hh-weighted-pop-density',\n",
    "     'activities': irrigation + crops,\n",
    "     'sugarcane': 'world-topo-watersheds-hh-sugarcane_water_intensity',\n",
    "     'maize': 'world-topo-watersheds-hh-maize_water_intensity',\n",
    " },\n",
    "}"
   ]
  },
  {
   "cell_type": "code",
   "execution_count": 9,
   "metadata": {},
   "outputs": [
    {
     "data": {
      "text/plain": [
       "2.7066301232545834e-14"
      ]
     },
     "execution_count": 9,
     "metadata": {},
     "output_type": "execute_result"
    }
   ],
   "source": [
    "method = ('LC-IMPACT', 'Land Use', 'Occupation', 'Marginal', 'Certain')\n",
    "\n",
    "xt_ag = bwr.ExtensionTablesLCA(\n",
    "    {('Fuel comparison', 'sugarcane transport'): 1},\n",
    "    method,\n",
    "    xtable=lcimpact[method]['sugarcane'],\n",
    "    limitations={\n",
    "        'activities': lcimpact[method]['activities'],\n",
    "    }\n",
    ")\n",
    "xt_ag.lci()\n",
    "xt_ag.lcia()\n",
    "xt_ag.score"
   ]
  },
  {
   "cell_type": "code",
   "execution_count": 8,
   "metadata": {},
   "outputs": [
    {
     "data": {
      "text/plain": [
       "(1308, 8)"
      ]
     },
     "execution_count": 8,
     "metadata": {},
     "output_type": "execute_result"
    }
   ],
   "source": [
    "xt_ag.geodataframe_xtable_spatial_scale().shape"
   ]
  },
  {
   "cell_type": "code",
   "execution_count": 8,
   "metadata": {},
   "outputs": [
    {
     "data": {
      "text/plain": [
       "(20, 8)"
      ]
     },
     "execution_count": 8,
     "metadata": {},
     "output_type": "execute_result"
    }
   ],
   "source": [
    "xt_ag.geodataframe_xtable_spatial_scale(cutoff=0.001).shape"
   ]
  },
  {
   "cell_type": "code",
   "execution_count": 11,
   "metadata": {
    "tags": []
   },
   "outputs": [],
   "source": [
    "# xt_ag.geodataframe_xtable_spatial_scale().explore(column='score_rel')"
   ]
  },
  {
   "cell_type": "code",
   "execution_count": 12,
   "metadata": {},
   "outputs": [
    {
     "data": {
      "text/plain": [
       "Databases dictionary with 3 object(s):\n",
       "\tFuel comparison\n",
       "\tbiosphere3\n",
       "\tecoinvent"
      ]
     },
     "execution_count": 12,
     "metadata": {},
     "output_type": "execute_result"
    }
   ],
   "source": [
    "bd.databases"
   ]
  },
  {
   "cell_type": "code",
   "execution_count": 13,
   "metadata": {},
   "outputs": [
    {
     "data": {
      "text/plain": [
       "['electricity production, nuclear, pressure water reactor' (kilowatt hour, RU, None),\n",
       " 'market for hard coal' (kilogram, RU, None),\n",
       " 'treatment of blast furnace gas, in power plant' (kilowatt hour, RU, None),\n",
       " 'sunflower production' (kilogram, RU, None),\n",
       " 'electricity, high voltage, import from GE' (kilowatt hour, RU, None),\n",
       " 'uranium production, centrifuge, enriched 4.0%' (unit, RU, None),\n",
       " 'platinum group metal mine operation, ore with high palladium content' (kilogram, RU, None),\n",
       " 'market for nitric acid, without water, in 50% solution state' (kilogram, RU, None),\n",
       " 'natural gas production' (cubic meter, RU, None),\n",
       " 'heat and power co-generation, wood chips, 6667 kW, state-of-the-art 2014' (megajoule, RU, None),\n",
       " 'natural gas, burned in gas turbine, for compressor station' (kilowatt hour, RU, None),\n",
       " 'electricity production, photovoltaic, 3kWp slanted-roof installation, single-Si, panel, mounted' (kilowatt hour, RU, None),\n",
       " 'market for inorganic phosphorus fertiliser, as P2O5' (kilogram, RU, None),\n",
       " 'market for heat, for reuse in municipal waste incineration only' (megajoule, RU, None),\n",
       " 'electricity production, peat' (kilowatt hour, RU, None),\n",
       " 'platinum group metal mine operation, ore with high palladium content' (kilogram, RU, None),\n",
       " 'electricity, high voltage, import from LV' (kilowatt hour, RU, None),\n",
       " 'linseed production' (kilogram, RU, None),\n",
       " 'nitric acid production, product in 50% solution state' (kilogram, RU, None),\n",
       " 'heat and power co-generation, hard coal' (kilowatt hour, RU, None),\n",
       " 'electricity production, wind, >3MW turbine, onshore' (kilowatt hour, RU, None),\n",
       " 'deep well drilling, for deep geothermal power' (meter, RU, None),\n",
       " 'electricity, high voltage, import from AZ' (kilowatt hour, RU, None),\n",
       " 'market for water, decarbonised' (kilogram, RU, None),\n",
       " 'electricity, high voltage, import from LT' (kilowatt hour, RU, None),\n",
       " 'natural gas production' (kilogram, RU, None),\n",
       " 'smelting of copper concentrate, sulfide ore' (kilogram, RU, None),\n",
       " 'market for electricity, high voltage' (kilowatt hour, RU, None),\n",
       " 'petroleum production, onshore' (kilogram, RU, None),\n",
       " 'electricity production, photovoltaic, 3kWp slanted-roof installation, multi-Si, panel, mounted' (kilowatt hour, RU, None),\n",
       " 'electricity, high voltage, import from FI' (kilowatt hour, RU, None),\n",
       " 'electricity, high voltage, import from MN' (kilowatt hour, RU, None),\n",
       " 'treatment of coal gas, in power plant' (megajoule, RU, None),\n",
       " 'electricity production, hydro, run-of-river' (kilowatt hour, RU, None),\n",
       " 'land already in use, perennial cropland to annual crop' (kilogram, RU, None),\n",
       " 'transport, pipeline, long distance, natural gas' (ton kilometer, RU, None),\n",
       " 'copper mine operation and beneficiation, sulfide ore' (kilogram, RU, None),\n",
       " 'electricity voltage transformation from medium to low voltage' (kilowatt hour, RU, None),\n",
       " 'heat and power co-generation, wood chips, 6667 kW' (kilowatt hour, RU, None),\n",
       " 'treatment of blast furnace gas, in power plant' (megajoule, RU, None),\n",
       " 'platinum group metal mine operation, ore with high palladium content' (kilogram, RU, None),\n",
       " 'smelting of copper concentrate, sulfide ore' (kilogram, RU, None),\n",
       " 'uranium production, centrifuge, enriched 4.2%' (unit, RU, None),\n",
       " 'treatment of coal gas, in power plant' (kilowatt hour, RU, None),\n",
       " 'heat and power co-generation, natural gas, conventional power plant, 100MW electrical' (kilowatt hour, RU, None),\n",
       " 'heat and power co-generation, lignite' (megajoule, RU, None),\n",
       " 'market for natural gas, high pressure' (cubic meter, RU, None),\n",
       " 'uranium enrichment centrifuge facility construction' (unit, RU, None),\n",
       " 'electricity production, wind, 1-3MW turbine, onshore' (kilowatt hour, RU, None),\n",
       " 'natural gas, burned in gas motor, for storage' (megajoule, RU, None),\n",
       " 'electricity production, natural gas, conventional power plant' (kilowatt hour, RU, None),\n",
       " 'market for land use change, annual crop' (hectare, RU, None),\n",
       " 'sugar beet production' (kilogram, RU, None),\n",
       " 'uranium production, centrifuge, enriched 3.0%' (unit, RU, None),\n",
       " 'electricity production, natural gas, combined cycle power plant' (kilowatt hour, RU, None),\n",
       " 'market for electricity, medium voltage' (kilowatt hour, RU, None),\n",
       " 'heat and power co-generation, oil' (kilowatt hour, RU, None),\n",
       " 'electricity production, nuclear, pressure water reactor, heavy water moderated' (kilowatt hour, RU, None),\n",
       " 'market for land tenure, arable land, measured as carbon net primary productivity, annual crop' (kilogram, RU, None),\n",
       " 'electricity production, hard coal' (kilowatt hour, RU, None),\n",
       " 'electricity production, wind, <1MW turbine, onshore' (kilowatt hour, RU, None),\n",
       " 'heat and power co-generation, hard coal' (megajoule, RU, None),\n",
       " 'heat and power co-generation, lignite' (kilowatt hour, RU, None),\n",
       " 'electricity production, nuclear, boiling water reactor' (kilowatt hour, RU, None),\n",
       " 'market for sulfidic tailings, from gold mine operation' (kilogram, RU, None),\n",
       " 'heat and power co-generation, natural gas, combined cycle power plant, 400MW electrical' (megajoule, RU, None),\n",
       " 'heat and power co-generation, wood chips, 6667 kW' (megajoule, RU, None),\n",
       " 'ammonia production, steam reforming, liquid' (kilogram, RU, None),\n",
       " 'electricity production, deep geothermal' (kilowatt hour, RU, None),\n",
       " 'nitric acid production, product in 50% solution state' (kilogram, RU, None),\n",
       " 'heat and power co-generation, natural gas, conventional power plant, 100MW electrical' (megajoule, RU, None),\n",
       " 'electricity, high voltage, import from NO' (kilowatt hour, RU, None),\n",
       " 'potato production' (kilogram, RU, None),\n",
       " 'heat, from municipal waste incineration to generic market for heat district or industrial, other than natural gas' (megajoule, RU, None),\n",
       " 'electricity, from municipal waste incineration to generic market for electricity, medium voltage' (kilowatt hour, RU, None),\n",
       " 'platinum group metal mine operation, ore with high palladium content' (kilogram, RU, None),\n",
       " 'treatment of sulfidic tailings, from nickel mine operation, tailings impoundment' (kilogram, RU, None),\n",
       " 'electricity voltage transformation from high to medium voltage' (kilowatt hour, RU, None),\n",
       " 'copper mine operation and beneficiation, sulfide ore' (kilogram, RU, None),\n",
       " 'market for inorganic potassium fertiliser, as K2O' (kilogram, RU, None),\n",
       " 'treatment of municipal solid waste, incineration' (megajoule, RU, None),\n",
       " 'platinum group metal mine operation, ore with high palladium content' (kilogram, RU, None),\n",
       " 'treatment of municipal solid waste, incineration' (kilowatt hour, RU, None),\n",
       " 'electricity, high voltage, import from UZ' (kilowatt hour, RU, None),\n",
       " 'electricity, high voltage, production mix' (kilowatt hour, RU, None),\n",
       " 'hard coal mine operation and hard coal preparation' (kilogram, RU, None),\n",
       " 'treatment of municipal solid waste, incineration' (kilogram, RU, None),\n",
       " 'electricity production, oil' (kilowatt hour, RU, None),\n",
       " 'market for sulfidic tailings, from copper mine operation' (kilogram, RU, None),\n",
       " 'market for electricity, for reuse in municipal waste incineration only' (kilowatt hour, RU, None),\n",
       " 'land use change, annual crop' (hectare, RU, None),\n",
       " 'market for inorganic nitrogen fertiliser, as N' (kilogram, RU, None),\n",
       " 'treatment of sulfidic tailings, from copper mine operation, tailings impoundment' (kilogram, RU, None),\n",
       " 'treatment of sulfidic tailings, from gold mine operation, tailings impoundment' (kilogram, RU, None),\n",
       " 'electricity production, lignite' (kilowatt hour, RU, None),\n",
       " 'heat and power co-generation, wood chips, 6667 kW, state-of-the-art 2014' (kilowatt hour, RU, None),\n",
       " 'land already in use, annual cropland to annual crop' (kilogram, RU, None),\n",
       " 'nutrient supply from ammonia, anhydrous, liquid' (kilogram, RU, None),\n",
       " 'market for sulfidic tailings, from nickel mine operation' (kilogram, RU, None),\n",
       " 'market for electricity, low voltage' (kilowatt hour, RU, None),\n",
       " 'heat and power co-generation, oil' (megajoule, RU, None),\n",
       " 'electricity production, hydro, pumped storage' (kilowatt hour, RU, None),\n",
       " 'electricity, high voltage, import from KZ' (kilowatt hour, RU, None),\n",
       " 'electricity production, hydro, reservoir, non-alpine region' (kilowatt hour, RU, None),\n",
       " 'uranium production, centrifuge, enriched 3.8%' (unit, RU, None),\n",
       " 'water production, decarbonised' (kilogram, RU, None),\n",
       " 'heat and power co-generation, natural gas, combined cycle power plant, 400MW electrical' (kilowatt hour, RU, None),\n",
       " 'uranium production, centrifuge, enriched 3.9%' (unit, RU, None)]"
      ]
     },
     "execution_count": 13,
     "metadata": {},
     "output_type": "execute_result"
    }
   ],
   "source": [
    "[x for x in bd.Database(\"ecoinvent\") if x['location'] == \"RU\"]"
   ]
  },
  {
   "cell_type": "code",
   "execution_count": 8,
   "metadata": {},
   "outputs": [],
   "source": [
    "xt_ag.geodataframe_xtable_spatial_scale().to_file('xt_scale.gpkg')"
   ]
  },
  {
   "cell_type": "code",
   "execution_count": 9,
   "metadata": {},
   "outputs": [],
   "source": [
    "xt_ag.geodataframe_xtable_spatial_scale(sum_flows=False).to_file('xt_scale_unsummed.gpkg')"
   ]
  },
  {
   "cell_type": "code",
   "execution_count": 10,
   "metadata": {},
   "outputs": [],
   "source": [
    "xt_ag.geodataframe_xtable_spatial_scale(annotate_flows=True).to_file('xt_scale_annotated.gpkg')"
   ]
  },
  {
   "cell_type": "code",
   "execution_count": null,
   "metadata": {},
   "outputs": [],
   "source": [
    "xt_ag.geodataframe_ia_spatial_scale().to_file('ia_scale.gpkg')"
   ]
  },
  {
   "cell_type": "code",
   "execution_count": 8,
   "metadata": {},
   "outputs": [],
   "source": [
    "xt_ag.geodataframe_inv_spatial_scale().to_file('inv_scale.gpkg')"
   ]
  },
  {
   "cell_type": "code",
   "execution_count": null,
   "metadata": {},
   "outputs": [],
   "source": [
    "results = []"
   ]
  },
  {
   "cell_type": "code",
   "execution_count": null,
   "metadata": {},
   "outputs": [],
   "source": [
    "HEADERS = [\"Name\", \"Unit\", \"Ref. product\", \"Location\", \"Score (absolute)\", \"Score (fraction of total)\"]"
   ]
  },
  {
   "cell_type": "code",
   "execution_count": null,
   "metadata": {},
   "outputs": [],
   "source": [
    "for method, meta in lcimpact.items():\n",
    "    print(method)\n",
    "    results.append(list(method))\n",
    "    \n",
    "    fu = ('Fuel comparison', 'petrol transport')\n",
    "    lca = bc.LCA({fu: 1}, method)\n",
    "    lca.lci()\n",
    "    lca.lcia()\n",
    "    \n",
    "    results.append([])\n",
    "    results.append(list(fu))\n",
    "    results.append([\"Site-generic score\", lca.score])\n",
    "    results.append([\"Top 10 contributing activities\"])\n",
    "    results.append(HEADERS)\n",
    "    for score, _, act in bwa.ContributionAnalysis().annotated_top_processes(lca)[:10]:\n",
    "        results.append([act['name'], act['unit'], act['reference product'], act['location'], score, score / lca.score])\n",
    "\n",
    "    if method[1] != 'Climate Change':        \n",
    "        xt = bwr.ExtensionTablesLCA(\n",
    "            {fu: 1},\n",
    "            method,\n",
    "            xtable=meta['xt others']\n",
    "        )\n",
    "        xt.lci()\n",
    "        xt.lcia()\n",
    "\n",
    "        results.append([])\n",
    "        results.append([\"Site-dependent score\", xt.score])\n",
    "        results.append([\"Top 10 contributing activities\"])\n",
    "        results.append(HEADERS)\n",
    "        for score, _, act in ContributionAnalysis().annotated_top_processes(xt)[:10]:\n",
    "            results.append([act['name'], act['unit'], act['reference product'], act['location'], score, score / xt.score])\n",
    "\n",
    "    for fu, crop in (\n",
    "            (('Fuel comparison', 'sugarcane transport'), 'sugarcane'),\n",
    "            (('Fuel comparison', 'maize transport'), 'maize'),\n",
    "            ):\n",
    "        \n",
    "        lca = LCA({fu: 1}, method)\n",
    "        lca.lci()\n",
    "        lca.lcia()\n",
    "\n",
    "        results.append([])\n",
    "        results.append(list(fu))\n",
    "        results.append([\"Site-generic score\", lca.score])\n",
    "        results.append([\"Top 10 contributing activities\"])\n",
    "        results.append(HEADERS)\n",
    "        for score, _, act in ContributionAnalysis().annotated_top_processes(lca)[:10]:\n",
    "            results.append([act['name'], act['unit'], act['reference product'], act['location'], score, score / lca.score])\n",
    "\n",
    "        if method[1] != 'Climate Change':        \n",
    "            if meta['activities']:\n",
    "                xt_ag = ExtensionTablesLCA(\n",
    "                    {fu: 1},\n",
    "                    method,\n",
    "                    xtable=meta[crop],\n",
    "                    limitations={\n",
    "                        'activities': meta['activities'],\n",
    "                    }\n",
    "                )\n",
    "                xt_ag.lci()\n",
    "                xt_ag.lcia()\n",
    "\n",
    "                if method == ('LC-IMPACT', 'Water Use', 'Ecosystem Quality', 'Surface Water', 'Marginal', 'All'):\n",
    "                    as_ia_spatial_scale(xt_ag, \"watersheds-eq-sw-all\", crop + \"_water_ag.geojson\")\n",
    "                elif method == ('LC-IMPACT', 'Land Use', 'Occupation', 'Marginal', 'Certain'):\n",
    "                    as_ia_spatial_scale(xt_ag, \"ecoregions\", crop + \"_land_ag.geojson\")\n",
    "                    \n",
    "                xt_others = ExtensionTablesLCA(\n",
    "                    {fu: 1},\n",
    "                    method,\n",
    "                    xtable=meta['xt others'],\n",
    "                    limitations={\n",
    "                        'activities': meta['activities'],\n",
    "                        'activities mode': 'exclude'\n",
    "                    }\n",
    "                )\n",
    "                xt_others.lci()\n",
    "                xt_others.lcia()\n",
    "\n",
    "                if method == ('LC-IMPACT', 'Water Use', 'Ecosystem Quality', 'Surface Water', 'Marginal', 'All'):\n",
    "                    as_ia_spatial_scale(xt_others, \"watersheds-eq-sw-all\", crop + \"_water_others.geojson\")\n",
    "                elif method == ('LC-IMPACT', 'Land Use', 'Occupation', 'Marginal', 'Certain'):\n",
    "                    as_ia_spatial_scale(xt_others, \"ecoregions\", crop + \"_land_others.geojson\")\n",
    "\n",
    "                xt_ag.characterized_inventory += xt_others.characterized_inventory\n",
    "\n",
    "                results.append([])\n",
    "                results.append([\"Site-dependent score\", xt_ag.score])\n",
    "                results.append([\"Top 10 contributing activities\"])\n",
    "                results.append(HEADERS)\n",
    "\n",
    "                for score, _, act in ContributionAnalysis().annotated_top_processes(xt_ag)[:10]:\n",
    "                    results.append([act['name'], act['unit'], act['reference product'], act['location'], score, score / lca.score])\n",
    "\n",
    "                if method == ('LC-IMPACT', 'Water Use', 'Ecosystem Quality', 'Surface Water', 'Marginal', 'All'):\n",
    "                    add_two_geojson_results(\n",
    "                        crop + \"_water_ag.geojson\", \n",
    "                        crop + \"_water_others.geojson\", \n",
    "                        crop + \"_water_total.geojson\",\n",
    "                    )\n",
    "                elif method == ('LC-IMPACT', 'Land Use', 'Occupation', 'Marginal', 'Certain'):\n",
    "                    add_two_geojson_results(\n",
    "                        crop + \"_land_ag.geojson\", \n",
    "                        crop + \"_land_others.geojson\", \n",
    "                        crop + \"_land_total.geojson\",\n",
    "                    )\n",
    "                    \n",
    "            else:\n",
    "                xt = ExtensionTablesLCA(\n",
    "                    {fu: 1},\n",
    "                    method,\n",
    "                    xtable=meta['xt others']\n",
    "                )\n",
    "                xt.lci()\n",
    "                xt.lcia()\n",
    "\n",
    "                results.append([])\n",
    "                results.append([\"Site-dependent score\", xt.score])\n",
    "                results.append([\"Top 10 contributing activities\"])\n",
    "                results.append(HEADERS)\n",
    "                for score, _, act in ContributionAnalysis().annotated_top_processes(xt)[:10]:\n",
    "                    results.append([act['name'], act['unit'], act['reference product'], act['location'], score, score / xt.score])\n",
    "\n",
    "    results.append([])\n",
    "    results.append([])"
   ]
  },
  {
   "cell_type": "code",
   "execution_count": null,
   "metadata": {},
   "outputs": [],
   "source": [
    "with open(\"lcimpact-case-study.csv\", \"w\") as f:\n",
    "    writer = csv.writer(f)\n",
    "    for row in results:\n",
    "        writer.writerow(row)"
   ]
  },
  {
   "cell_type": "code",
   "execution_count": null,
   "metadata": {},
   "outputs": [],
   "source": []
  }
 ],
 "metadata": {
  "kernelspec": {
   "display_name": "Python 3 (ipykernel)",
   "language": "python",
   "name": "python3"
  },
  "language_info": {
   "codemirror_mode": {
    "name": "ipython",
    "version": 3
   },
   "file_extension": ".py",
   "mimetype": "text/x-python",
   "name": "python",
   "nbconvert_exporter": "python",
   "pygments_lexer": "ipython3",
   "version": "3.9.12"
  },
  "toc": {
   "base_numbering": 1,
   "colors": {
    "hover_highlight": "#DAA520",
    "running_highlight": "#FF0000",
    "selected_highlight": "#FFD700"
   },
   "moveMenuLeft": true,
   "nav_menu": {
    "height": "48px",
    "width": "252px"
   },
   "navigate_menu": true,
   "number_sections": true,
   "sideBar": true,
   "skip_h1_title": false,
   "threshold": 4,
   "title_cell": "Table of Contents",
   "title_sidebar": "Contents",
   "toc_cell": false,
   "toc_position": {},
   "toc_section_display": "block",
   "toc_window_display": false
  }
 },
 "nbformat": 4,
 "nbformat_minor": 4
}

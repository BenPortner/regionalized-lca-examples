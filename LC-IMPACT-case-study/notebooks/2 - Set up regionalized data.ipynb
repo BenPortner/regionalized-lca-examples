{
 "cells": [
  {
   "cell_type": "code",
   "execution_count": 1,
   "metadata": {},
   "outputs": [],
   "source": [
    "from brightway2 import *\n",
    "from bw2regional import *\n",
    "from bw2_lcimpact import *\n",
    "import rower\n",
    "import os"
   ]
  },
  {
   "cell_type": "code",
   "execution_count": 2,
   "metadata": {},
   "outputs": [],
   "source": [
    "projects.set_current(\"LC IMPACT case study\")"
   ]
  },
  {
   "cell_type": "markdown",
   "metadata": {},
   "source": [
    "# Add basic metadata\n",
    "\n",
    "Such as country definitions"
   ]
  },
  {
   "cell_type": "code",
   "execution_count": 3,
   "metadata": {},
   "outputs": [
    {
     "name": "stdout",
     "output_type": "stream",
     "text": [
      "Downloading and creating 'ecoinvent' geocollection with ecoinvent-specific locations\n",
      "Downloading and creating 'world' geocollection with countries\n",
      "Creating `rower` 'RoW' geo/topocollections\n"
     ]
    }
   ],
   "source": [
    "bw2regionalsetup()"
   ]
  },
  {
   "cell_type": "markdown",
   "metadata": {},
   "source": [
    "# Fix ecoinvent Rest-of-World definitions"
   ]
  },
  {
   "cell_type": "code",
   "execution_count": 6,
   "metadata": {},
   "outputs": [],
   "source": [
    "rower_obj = rower.Rower('ecoinvent')"
   ]
  },
  {
   "cell_type": "code",
   "execution_count": 11,
   "metadata": {},
   "outputs": [
    {
     "name": "stderr",
     "output_type": "stream",
     "text": [
      "0%                          100%\n",
      "[##############################] | ETA: 00:00:00\n",
      "Total time elapsed: 00:00:25\n"
     ]
    },
    {
     "data": {
      "text/plain": [
       "3069"
      ]
     },
     "execution_count": 11,
     "metadata": {},
     "output_type": "execute_result"
    }
   ],
   "source": [
    "rower_obj.load_existing(rower_obj.EI_3_4_CUTOFF)\n",
    "rower_obj.label_RoWs()"
   ]
  },
  {
   "cell_type": "markdown",
   "metadata": {},
   "source": [
    "# Fix location labels to include geocollections"
   ]
  },
  {
   "cell_type": "code",
   "execution_count": 3,
   "metadata": {},
   "outputs": [
    {
     "name": "stderr",
     "output_type": "stream",
     "text": [
      "0%  100%\n",
      "[######] | ETA: 00:00:00\n",
      "Total time elapsed: 00:00:00\n"
     ]
    }
   ],
   "source": [
    "label_activity_geocollections(\"Fuel comparison\")"
   ]
  },
  {
   "cell_type": "code",
   "execution_count": 4,
   "metadata": {},
   "outputs": [
    {
     "name": "stderr",
     "output_type": "stream",
     "text": [
      "0%                          100%\n",
      "[##############################] | ETA: 00:00:00\n",
      "Total time elapsed: 00:00:58\n"
     ]
    }
   ],
   "source": [
    "label_activity_geocollections(\"ecoinvent\")"
   ]
  },
  {
   "cell_type": "code",
   "execution_count": null,
   "metadata": {},
   "outputs": [],
   "source": [
    "databases['ecoinvent']['geocollections'] = ['world', 'ecoinvent', 'RoW']\n",
    "databases['Fuel comparison']['geocollections'] = ['world', 'ecoinvent', 'RoW']\n",
    "databases['biosphere3']['geocollections'] = []\n",
    "databases.flush()"
   ]
  },
  {
   "cell_type": "markdown",
   "metadata": {},
   "source": [
    "# Add regionalized LC IMPACT impact categories"
   ]
  },
  {
   "cell_type": "code",
   "execution_count": 5,
   "metadata": {},
   "outputs": [],
   "source": [
    "from bw2_lcimpact.water import *\n",
    "\n",
    "WaterHumanHealthMarginal().import_regional_method()\n",
    "WaterEcosystemQualityCore().import_regional_method()\n",
    "WaterEcosystemQualityExtended().import_regional_method()"
   ]
  },
  {
   "cell_type": "code",
   "execution_count": 9,
   "metadata": {},
   "outputs": [],
   "source": [
    "from bw2_lcimpact.pm import *\n",
    "\n",
    "ParticulateMatterFormationAll().import_regional_method()\n",
    "ParticulateMatterFormationCertain().import_regional_method()"
   ]
  },
  {
   "cell_type": "code",
   "execution_count": 6,
   "metadata": {},
   "outputs": [],
   "source": [
    "from bw2_lcimpact.land_use import *\n",
    "\n",
    "LandUseOccupationMarginal().import_regional_method()\n",
    "LandUseOccupationAverage().import_regional_method()\n",
    "LandUseTransformationMarginalCore().import_regional_method()\n",
    "LandUseTransformationMarginalExtended().import_regional_method()\n",
    "LandUseTransformationAverageCore().import_regional_method()\n",
    "LandUseTransformationAverageExtended().import_regional_method()"
   ]
  },
  {
   "cell_type": "code",
   "execution_count": 5,
   "metadata": {},
   "outputs": [],
   "source": [
    "from bw2_lcimpact.climate import *\n",
    "\n",
    "ClimateChangeHumanHealthCertain100Years(\"biosphere3\").import_global_method()\n",
    "ClimateChangeHumanHealthAll100Years(\"biosphere3\").import_global_method()\n",
    "ClimateChangeHumanHealthCertainInfinite(\"biosphere3\").import_global_method()\n",
    "ClimateChangeHumanHealthAllInfinite(\"biosphere3\").import_global_method()\n",
    "ClimateChangeTerrestrialEcosystemsCertain100Years(\"biosphere3\").import_global_method()\n",
    "ClimateChangeTerrestrialEcosystemsAll100Years(\"biosphere3\").import_global_method()\n",
    "ClimateChangeTerrestrialEcosystemsCertainInfinite(\"biosphere3\").import_global_method()\n",
    "ClimateChangeTerrestrialEcosystemsAllInfinite(\"biosphere3\").import_global_method()\n",
    "ClimateChangeAquaticEcosystemsAll100Years(\"biosphere3\").import_global_method()\n",
    "ClimateChangeAquaticEcosystemsAllInfinite(\"biosphere3\").import_global_method()"
   ]
  },
  {
   "cell_type": "markdown",
   "metadata": {},
   "source": [
    "# Calculate intersections between inventory and IA spatial scales"
   ]
  },
  {
   "cell_type": "code",
   "execution_count": null,
   "metadata": {},
   "outputs": [],
   "source": [
    "remote.calculate_intersection(\"world\", \"watersheds-hh\")\n",
    "remote.calculate_intersection(\"world\", \"watersheds-eq-sw-core\")\n",
    "remote.calculate_intersection(\"world\", \"watersheds-eq-sw-extended\")\n",
    "remote.calculate_intersection(\"world\", \"particulate-matter\")\n",
    "remote.calculate_intersection(\"world\", \"ecoregions\")"
   ]
  },
  {
   "cell_type": "code",
   "execution_count": 8,
   "metadata": {
    "scrolled": false
   },
   "outputs": [
    {
     "name": "stderr",
     "output_type": "stream",
     "text": [
      "0%                          100%\n",
      "[#                             ] | ETA: 00:00:05"
     ]
    },
    {
     "name": "stdout",
     "output_type": "stream",
     "text": [
      "Merging topographical faces for geocollection world\n"
     ]
    },
    {
     "name": "stderr",
     "output_type": "stream",
     "text": [
      "[##############################] | ETA: 00:00:00\n",
      "Total time elapsed: 00:00:05\n",
      "0%                          100%\n"
     ]
    },
    {
     "name": "stdout",
     "output_type": "stream",
     "text": [
      "Creating intersection (world, watersheds-hh)\n",
      "Merging topographical faces for geocollection RoW\n"
     ]
    },
    {
     "name": "stderr",
     "output_type": "stream",
     "text": [
      "[##############################] | ETA: 00:00:00\n",
      "Total time elapsed: 00:08:34\n"
     ]
    },
    {
     "name": "stdout",
     "output_type": "stream",
     "text": [
      "Creating intersection (RoW, watersheds-hh)\n"
     ]
    },
    {
     "name": "stderr",
     "output_type": "stream",
     "text": [
      "0%                          100%\n",
      "[#                             ] | ETA: 00:00:03"
     ]
    },
    {
     "name": "stdout",
     "output_type": "stream",
     "text": [
      "Merging topographical faces for geocollection ecoinvent\n"
     ]
    },
    {
     "name": "stderr",
     "output_type": "stream",
     "text": [
      "[##############################] | ETA: 00:00:00\n",
      "Total time elapsed: 00:00:23\n"
     ]
    },
    {
     "name": "stdout",
     "output_type": "stream",
     "text": [
      "Creating intersection (ecoinvent, watersheds-hh)\n"
     ]
    },
    {
     "name": "stderr",
     "output_type": "stream",
     "text": [
      "0%                          100%\n"
     ]
    },
    {
     "name": "stdout",
     "output_type": "stream",
     "text": [
      "Merging topographical faces for geocollection world\n"
     ]
    },
    {
     "name": "stderr",
     "output_type": "stream",
     "text": [
      "[##############################] | ETA: 00:00:00\n",
      "Total time elapsed: 00:00:06\n",
      "0%                          100%\n"
     ]
    },
    {
     "name": "stdout",
     "output_type": "stream",
     "text": [
      "Creating intersection (world, watersheds-eq-sw-core)\n",
      "Merging topographical faces for geocollection RoW\n"
     ]
    },
    {
     "name": "stderr",
     "output_type": "stream",
     "text": [
      "[##############################] | ETA: 00:00:00\n",
      "Total time elapsed: 00:10:33\n"
     ]
    },
    {
     "name": "stdout",
     "output_type": "stream",
     "text": [
      "Creating intersection (RoW, watersheds-eq-sw-core)\n"
     ]
    },
    {
     "name": "stderr",
     "output_type": "stream",
     "text": [
      "0%                          100%\n",
      "[#                             ] | ETA: 00:00:03"
     ]
    },
    {
     "name": "stdout",
     "output_type": "stream",
     "text": [
      "Merging topographical faces for geocollection ecoinvent\n"
     ]
    },
    {
     "name": "stderr",
     "output_type": "stream",
     "text": [
      "[##############################] | ETA: 00:00:00\n",
      "Total time elapsed: 00:00:16\n"
     ]
    },
    {
     "name": "stdout",
     "output_type": "stream",
     "text": [
      "Creating intersection (ecoinvent, watersheds-eq-sw-core)\n"
     ]
    },
    {
     "name": "stderr",
     "output_type": "stream",
     "text": [
      "0%                          100%\n",
      "[#                             ] | ETA: 00:00:05"
     ]
    },
    {
     "name": "stdout",
     "output_type": "stream",
     "text": [
      "Merging topographical faces for geocollection world\n"
     ]
    },
    {
     "name": "stderr",
     "output_type": "stream",
     "text": [
      "[##############################] | ETA: 00:00:00\n",
      "Total time elapsed: 00:00:02\n",
      "0%                          100%\n"
     ]
    },
    {
     "name": "stdout",
     "output_type": "stream",
     "text": [
      "Creating intersection (world, watersheds-eq-sw-extended)\n",
      "Merging topographical faces for geocollection RoW\n"
     ]
    },
    {
     "name": "stderr",
     "output_type": "stream",
     "text": [
      "[##############################] | ETA: 00:00:00\n",
      "Total time elapsed: 00:13:06\n"
     ]
    },
    {
     "name": "stdout",
     "output_type": "stream",
     "text": [
      "Creating intersection (RoW, watersheds-eq-sw-extended)\n"
     ]
    },
    {
     "name": "stderr",
     "output_type": "stream",
     "text": [
      "0%                          100%\n"
     ]
    },
    {
     "name": "stdout",
     "output_type": "stream",
     "text": [
      "Merging topographical faces for geocollection ecoinvent\n"
     ]
    },
    {
     "name": "stderr",
     "output_type": "stream",
     "text": [
      "[##############################] | ETA: 00:00:00\n",
      "Total time elapsed: 00:00:31\n"
     ]
    },
    {
     "name": "stdout",
     "output_type": "stream",
     "text": [
      "Creating intersection (ecoinvent, watersheds-eq-sw-extended)\n"
     ]
    },
    {
     "name": "stderr",
     "output_type": "stream",
     "text": [
      "0%                          100%\n",
      "[#                             ] | ETA: 00:00:02"
     ]
    },
    {
     "name": "stdout",
     "output_type": "stream",
     "text": [
      "Merging topographical faces for geocollection world\n"
     ]
    },
    {
     "name": "stderr",
     "output_type": "stream",
     "text": [
      "[##############################] | ETA: 00:00:00\n",
      "Total time elapsed: 00:00:07\n",
      "0%                          100%\n"
     ]
    },
    {
     "name": "stdout",
     "output_type": "stream",
     "text": [
      "Creating intersection (world, ecoregions)\n",
      "Merging topographical faces for geocollection RoW\n"
     ]
    },
    {
     "name": "stderr",
     "output_type": "stream",
     "text": [
      "[##############################] | ETA: 00:00:00\n",
      "Total time elapsed: 00:08:24\n",
      "0%                          100%\n"
     ]
    },
    {
     "name": "stdout",
     "output_type": "stream",
     "text": [
      "Creating intersection (RoW, ecoregions)\n",
      "Merging topographical faces for geocollection ecoinvent\n"
     ]
    },
    {
     "name": "stderr",
     "output_type": "stream",
     "text": [
      "[##############################] | ETA: 00:00:00"
     ]
    },
    {
     "name": "stdout",
     "output_type": "stream",
     "text": [
      "Creating intersection (ecoinvent, ecoregions)\n"
     ]
    },
    {
     "name": "stderr",
     "output_type": "stream",
     "text": [
      "\n",
      "Total time elapsed: 00:00:21\n"
     ]
    },
    {
     "data": {
      "text/plain": [
       "[('world', 'ecoregions'), ('RoW', 'ecoregions'), ('ecoinvent', 'ecoregions')]"
      ]
     },
     "execution_count": 8,
     "metadata": {},
     "output_type": "execute_result"
    }
   ],
   "source": [
    "remote.intersection(\"world\", \"watersheds-hh\")\n",
    "remote.intersection(\"world\", \"watersheds-eq-sw-core\")\n",
    "remote.intersection(\"world\", \"watersheds-eq-sw-extended\")\n",
    "remote.intersection(\"world\", \"particulate-matter\")\n",
    "remote.intersection(\"world\", \"ecoregions\")"
   ]
  },
  {
   "cell_type": "markdown",
   "metadata": {},
   "source": [
    "## Get third spatial scale\n",
    "\n",
    "This is the intersection of inventory and IA spatial scales"
   ]
  },
  {
   "cell_type": "code",
   "execution_count": 9,
   "metadata": {},
   "outputs": [
    {
     "name": "stderr",
     "output_type": "stream",
     "text": [
      "0%                          100%\n",
      "[##                            ] | ETA: 00:00:02"
     ]
    },
    {
     "name": "stdout",
     "output_type": "stream",
     "text": [
      "Merging topographical faces for geocollection world\n"
     ]
    },
    {
     "name": "stderr",
     "output_type": "stream",
     "text": [
      "[##############################] | ETA: 00:00:00\n",
      "Total time elapsed: 00:00:02\n",
      "0%                          100%\n"
     ]
    },
    {
     "name": "stdout",
     "output_type": "stream",
     "text": [
      "Creating intersection (world, world-topo-watersheds-hh)\n",
      "Merging topographical faces for geocollection RoW\n"
     ]
    },
    {
     "name": "stderr",
     "output_type": "stream",
     "text": [
      "[##############################] | ETA: 00:00:00\n",
      "Total time elapsed: 00:03:17\n"
     ]
    },
    {
     "name": "stdout",
     "output_type": "stream",
     "text": [
      "Creating intersection (RoW, world-topo-watersheds-hh)\n"
     ]
    },
    {
     "name": "stderr",
     "output_type": "stream",
     "text": [
      "0%                          100%\n",
      "[#                             ] | ETA: 00:00:01"
     ]
    },
    {
     "name": "stdout",
     "output_type": "stream",
     "text": [
      "Merging topographical faces for geocollection ecoinvent\n"
     ]
    },
    {
     "name": "stderr",
     "output_type": "stream",
     "text": [
      "[##############################] | ETA: 00:00:00\n",
      "Total time elapsed: 00:00:07\n"
     ]
    },
    {
     "name": "stdout",
     "output_type": "stream",
     "text": [
      "Creating intersection (ecoinvent, world-topo-watersheds-hh)\n"
     ]
    },
    {
     "name": "stderr",
     "output_type": "stream",
     "text": [
      "0%                          100%\n",
      "[#                             ] | ETA: 00:00:05"
     ]
    },
    {
     "name": "stdout",
     "output_type": "stream",
     "text": [
      "Merging topographical faces for geocollection world\n"
     ]
    },
    {
     "name": "stderr",
     "output_type": "stream",
     "text": [
      "[##############################] | ETA: 00:00:00\n",
      "Total time elapsed: 00:00:02\n",
      "0%                          100%\n"
     ]
    },
    {
     "name": "stdout",
     "output_type": "stream",
     "text": [
      "Creating intersection (world, world-topo-watersheds-eq-sw-core)\n",
      "Merging topographical faces for geocollection RoW\n"
     ]
    },
    {
     "name": "stderr",
     "output_type": "stream",
     "text": [
      "[##############################] | ETA: 00:00:00\n",
      "Total time elapsed: 00:09:09\n"
     ]
    },
    {
     "name": "stdout",
     "output_type": "stream",
     "text": [
      "Creating intersection (RoW, world-topo-watersheds-eq-sw-core)\n"
     ]
    },
    {
     "name": "stderr",
     "output_type": "stream",
     "text": [
      "0%                          100%\n"
     ]
    },
    {
     "name": "stdout",
     "output_type": "stream",
     "text": [
      "Merging topographical faces for geocollection ecoinvent\n"
     ]
    },
    {
     "name": "stderr",
     "output_type": "stream",
     "text": [
      "[##############################] | ETA: 00:00:00\n",
      "Total time elapsed: 00:00:49\n"
     ]
    },
    {
     "name": "stdout",
     "output_type": "stream",
     "text": [
      "Creating intersection (ecoinvent, world-topo-watersheds-eq-sw-core)\n"
     ]
    },
    {
     "name": "stderr",
     "output_type": "stream",
     "text": [
      "0%                          100%\n"
     ]
    },
    {
     "name": "stdout",
     "output_type": "stream",
     "text": [
      "Merging topographical faces for geocollection world\n"
     ]
    },
    {
     "name": "stderr",
     "output_type": "stream",
     "text": [
      "[##############################] | ETA: 00:00:00\n",
      "Total time elapsed: 00:00:08\n",
      "0%                          100%\n"
     ]
    },
    {
     "name": "stdout",
     "output_type": "stream",
     "text": [
      "Creating intersection (world, world-topo-watersheds-eq-sw-extended)\n",
      "Merging topographical faces for geocollection RoW\n"
     ]
    },
    {
     "name": "stderr",
     "output_type": "stream",
     "text": [
      "[##############################] | ETA: 00:00:00\n",
      "Total time elapsed: 00:11:38\n"
     ]
    },
    {
     "name": "stdout",
     "output_type": "stream",
     "text": [
      "Creating intersection (RoW, world-topo-watersheds-eq-sw-extended)\n"
     ]
    },
    {
     "name": "stderr",
     "output_type": "stream",
     "text": [
      "0%                          100%\n"
     ]
    },
    {
     "name": "stdout",
     "output_type": "stream",
     "text": [
      "Merging topographical faces for geocollection ecoinvent\n"
     ]
    },
    {
     "name": "stderr",
     "output_type": "stream",
     "text": [
      "[##############################] | ETA: 00:00:00\n",
      "Total time elapsed: 00:00:28\n"
     ]
    },
    {
     "name": "stdout",
     "output_type": "stream",
     "text": [
      "Creating intersection (ecoinvent, world-topo-watersheds-eq-sw-extended)\n"
     ]
    },
    {
     "name": "stderr",
     "output_type": "stream",
     "text": [
      "0%                          100%\n",
      "[#                             ] | ETA: 00:00:03"
     ]
    },
    {
     "name": "stdout",
     "output_type": "stream",
     "text": [
      "Merging topographical faces for geocollection world\n"
     ]
    },
    {
     "name": "stderr",
     "output_type": "stream",
     "text": [
      "[##############################] | ETA: 00:00:00\n",
      "Total time elapsed: 00:00:05\n",
      "0%                          100%\n"
     ]
    },
    {
     "name": "stdout",
     "output_type": "stream",
     "text": [
      "Creating intersection (world, world-topo-ecoregions)\n",
      "Merging topographical faces for geocollection RoW\n"
     ]
    },
    {
     "name": "stderr",
     "output_type": "stream",
     "text": [
      "[##############################] | ETA: 00:00:00\n",
      "Total time elapsed: 00:08:38\n",
      "0%                          100%\n"
     ]
    },
    {
     "name": "stdout",
     "output_type": "stream",
     "text": [
      "Creating intersection (RoW, world-topo-ecoregions)\n",
      "Merging topographical faces for geocollection ecoinvent\n"
     ]
    },
    {
     "name": "stderr",
     "output_type": "stream",
     "text": [
      "[##############################] | ETA: 00:00:00\n",
      "Total time elapsed: 00:00:16\n"
     ]
    },
    {
     "name": "stdout",
     "output_type": "stream",
     "text": [
      "Creating intersection (ecoinvent, world-topo-ecoregions)\n"
     ]
    }
   ],
   "source": [
    "remote.intersection_as_new_geocollection('world', 'watersheds-hh', 'world-topo-watersheds-hh')\n",
    "remote.intersection_as_new_geocollection('world', 'watersheds-eq-sw-core', 'world-topo-watersheds-eq-sw-core')\n",
    "remote.intersection_as_new_geocollection('world', 'watersheds-eq-sw-extended', 'world-topo-watersheds-eq-sw-extended')\n",
    "remote.intersection_as_new_geocollection('world', 'particulate-matter', 'world-topo-particulate-matter')\n",
    "remote.intersection_as_new_geocollection('world', 'ecoregions', 'world-topo-ecoregions')"
   ]
  },
  {
   "cell_type": "markdown",
   "metadata": {},
   "source": [
    "# Add extension table data\n",
    "\n",
    "## Add raster `geocollections`"
   ]
  },
  {
   "cell_type": "code",
   "execution_count": 10,
   "metadata": {},
   "outputs": [],
   "source": [
    "rasters = [\n",
    "    'maize_landuse_intensity',\n",
    "    'maize_water_intensity',\n",
    "    'sugarcane_landuse_intensity',\n",
    "    'sugarcane_water_intensity',\n",
    "    'gdpweighted',\n",
    "]\n",
    "\n",
    "for label in rasters:\n",
    "    fp = os.path.abspath(os.path.join(\"..\", \"data\", label + \".tif\"))\n",
    "    assert os.path.isfile(fp)\n",
    "\n",
    "    if label == \"gdpweighted\":\n",
    "        label = 'weighted-pop-density'\n",
    "    \n",
    "    geocollections[label] = {\n",
    "        'filepath': fp,\n",
    "        'band': 1\n",
    "    }"
   ]
  },
  {
   "cell_type": "markdown",
   "metadata": {},
   "source": [
    "## Define raster statistics\n",
    "\n",
    "Need statistics for the spatial scale which is the intersection of inventory and IA"
   ]
  },
  {
   "cell_type": "code",
   "execution_count": 11,
   "metadata": {},
   "outputs": [
    {
     "name": "stdout",
     "output_type": "stream",
     "text": [
      "Calculation job submitted.\n",
      "Calculation job submitted.\n",
      "Calculation job submitted.\n",
      "Calculation job submitted.\n",
      "Calculation job submitted.\n",
      "Calculation job submitted.\n",
      "Calculation job submitted.\n",
      "Calculation job submitted.\n",
      "Calculation job submitted.\n",
      "Calculation job submitted.\n",
      "Calculation job submitted.\n",
      "Calculation job submitted.\n",
      "Calculation job submitted.\n",
      "Calculation job submitted.\n",
      "Calculation job submitted.\n",
      "Calculation job submitted.\n",
      "Calculation job submitted.\n",
      "Calculation job submitted.\n",
      "Calculation job submitted.\n",
      "Calculation job submitted.\n"
     ]
    }
   ],
   "source": [
    "inters = [\n",
    "    'world-topo-watersheds-hh',\n",
    "    'world-topo-watersheds-eq-sw-core',\n",
    "    'world-topo-watersheds-eq-sw-extended',\n",
    "    'world-topo-particulate-matter',\n",
    "    'world-topo-ecoregions',\n",
    "]\n",
    "\n",
    "crop_rasters = [\n",
    "    'maize_landuse_intensity',\n",
    "    'maize_water_intensity',\n",
    "    'sugarcane_landuse_intensity',\n",
    "    'sugarcane_water_intensity',\n",
    "    'weighted-pop-density',\n",
    "]\n",
    "\n",
    "for x in inters:\n",
    "    for y in crop_rasters:\n",
    "        remote.calculate_rasterstats(x, y)"
   ]
  },
  {
   "cell_type": "markdown",
   "metadata": {},
   "source": [
    "## Import raster statistics as extension tables"
   ]
  },
  {
   "cell_type": "code",
   "execution_count": 12,
   "metadata": {},
   "outputs": [],
   "source": [
    "inters = [\n",
    "    'world-topo-watersheds-hh',\n",
    "    'world-topo-watersheds-eq-sw-core',\n",
    "    'world-topo-watersheds-eq-sw-extended',\n",
    "    'world-topo-particulate-matter',\n",
    "    'world-topo-ecoregions',\n",
    "]\n",
    "\n",
    "crop_rasters = [\n",
    "    'maize_landuse_intensity',\n",
    "    'maize_water_intensity',\n",
    "    'sugarcane_landuse_intensity',\n",
    "    'sugarcane_water_intensity',\n",
    "    'weighted-pop-density',\n",
    "]\n",
    "\n",
    "for x in inters:\n",
    "    for y in crop_rasters:\n",
    "        remote.rasterstats_as_xt(x, y, x + \"-\" + y)"
   ]
  },
  {
   "cell_type": "code",
   "execution_count": 17,
   "metadata": {},
   "outputs": [
    {
     "data": {
      "text/plain": [
       "ExtensionTables dictionary with 25 objects, including:\n",
       "\tworld-topo-ecoregions-maize_landuse_intensity\n",
       "\tworld-topo-ecoregions-maize_water_intensity\n",
       "\tworld-topo-ecoregions-sugarcane_landuse_intensity\n",
       "\tworld-topo-ecoregions-sugarcane_water_intensity\n",
       "\tworld-topo-ecoregions-weighted-pop-density\n",
       "\tworld-topo-particulate-matter-maize_landuse_intensity\n",
       "\tworld-topo-particulate-matter-maize_water_intensity\n",
       "\tworld-topo-particulate-matter-sugarcane_landuse_intensity\n",
       "\tworld-topo-particulate-matter-sugarcane_water_intensity\n",
       "\tworld-topo-particulate-matter-weighted-pop-density\n",
       "Use `list(this object)` to get the complete list."
      ]
     },
     "execution_count": 17,
     "metadata": {},
     "output_type": "execute_result"
    }
   ],
   "source": [
    "extension_tables"
   ]
  },
  {
   "cell_type": "code",
   "execution_count": null,
   "metadata": {},
   "outputs": [],
   "source": []
  }
 ],
 "metadata": {
  "kernelspec": {
   "display_name": "Python 3",
   "language": "python",
   "name": "python3"
  },
  "language_info": {
   "codemirror_mode": {
    "name": "ipython",
    "version": 3
   },
   "file_extension": ".py",
   "mimetype": "text/x-python",
   "name": "python",
   "nbconvert_exporter": "python",
   "pygments_lexer": "ipython3",
   "version": "3.6.5"
  },
  "toc": {
   "colors": {
    "hover_highlight": "#DAA520",
    "running_highlight": "#FF0000",
    "selected_highlight": "#FFD700"
   },
   "moveMenuLeft": true,
   "nav_menu": {
    "height": "171px",
    "width": "252px"
   },
   "navigate_menu": true,
   "number_sections": true,
   "sideBar": true,
   "threshold": 4,
   "toc_cell": false,
   "toc_section_display": "block",
   "toc_window_display": false
  }
 },
 "nbformat": 4,
 "nbformat_minor": 2
}

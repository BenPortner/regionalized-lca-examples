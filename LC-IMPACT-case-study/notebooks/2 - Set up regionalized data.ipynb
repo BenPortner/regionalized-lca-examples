{
 "cells": [
  {
   "cell_type": "code",
   "execution_count": null,
   "metadata": {},
   "outputs": [],
   "source": [
    "from brightway2 import *\n",
    "from bw2regional import *\n",
    "from bw2_lcimpact import *\n",
    "import rower\n",
    "import os"
   ]
  },
  {
   "cell_type": "code",
   "execution_count": null,
   "metadata": {},
   "outputs": [],
   "source": [
    "projects.set_current(\"LC IMPACT case study\")"
   ]
  },
  {
   "cell_type": "markdown",
   "metadata": {},
   "source": [
    "# Add basic metadata\n",
    "\n",
    "Such as country definitions"
   ]
  },
  {
   "cell_type": "code",
   "execution_count": null,
   "metadata": {},
   "outputs": [],
   "source": [
    "bw2regionalsetup()"
   ]
  },
  {
   "cell_type": "markdown",
   "metadata": {},
   "source": [
    "# Fix ecoinvent Rest-of-World definitions"
   ]
  },
  {
   "cell_type": "code",
   "execution_count": null,
   "metadata": {},
   "outputs": [],
   "source": [
    "rower_obj = rower.Rower('ecoinvent')"
   ]
  },
  {
   "cell_type": "code",
   "execution_count": null,
   "metadata": {},
   "outputs": [],
   "source": [
    "rower_obj.load_existing(rower_obj.EI_3_4_CUTOFF)\n",
    "rower_obj.label_RoWs()"
   ]
  },
  {
   "cell_type": "markdown",
   "metadata": {},
   "source": [
    "# Fix location labels to include geocollections"
   ]
  },
  {
   "cell_type": "code",
   "execution_count": null,
   "metadata": {},
   "outputs": [],
   "source": [
    "label_activity_geocollections(\"Fuel comparison\")"
   ]
  },
  {
   "cell_type": "code",
   "execution_count": null,
   "metadata": {},
   "outputs": [],
   "source": [
    "label_activity_geocollections(\"ecoinvent\")"
   ]
  },
  {
   "cell_type": "code",
   "execution_count": null,
   "metadata": {},
   "outputs": [],
   "source": [
    "databases['ecoinvent']['geocollections'] = ['world', 'ecoinvent', 'RoW']\n",
    "databases['Fuel comparison']['geocollections'] = ['world', 'ecoinvent', 'RoW']\n",
    "databases['biosphere3']['geocollections'] = []\n",
    "databases.flush()"
   ]
  },
  {
   "cell_type": "markdown",
   "metadata": {},
   "source": [
    "# Add regionalized LC IMPACT impact categories"
   ]
  },
  {
   "cell_type": "code",
   "execution_count": null,
   "metadata": {},
   "outputs": [],
   "source": [
    "from bw2_lcimpact.water import *\n",
    "\n",
    "WaterHumanHealthMarginal().import_regional_method()\n",
    "WaterEcosystemQualityCertain().import_regional_method()\n",
    "WaterEcosystemQualityAll().import_regional_method()"
   ]
  },
  {
   "cell_type": "code",
   "execution_count": null,
   "metadata": {},
   "outputs": [],
   "source": [
    "from bw2_lcimpact.pm import *\n",
    "\n",
    "ParticulateMatterFormationAll().import_regional_method()\n",
    "ParticulateMatterFormationCertain().import_regional_method()"
   ]
  },
  {
   "cell_type": "code",
   "execution_count": null,
   "metadata": {},
   "outputs": [],
   "source": [
    "from bw2_lcimpact.land_use import *\n",
    "\n",
    "LandUseOccupationMarginal().import_regional_method()\n",
    "LandUseOccupationAverage().import_regional_method()\n",
    "LandUseTransformationMarginalCertain().import_regional_method()\n",
    "LandUseTransformationMarginalAll().import_regional_method()\n",
    "LandUseTransformationAverageCertain().import_regional_method()\n",
    "LandUseTransformationAverageAll().import_regional_method()"
   ]
  },
  {
   "cell_type": "code",
   "execution_count": null,
   "metadata": {},
   "outputs": [],
   "source": [
    "from bw2_lcimpact.climate import *\n",
    "\n",
    "ClimateChangeHumanHealthCertain100Years(\"biosphere3\").import_global_method()\n",
    "ClimateChangeHumanHealthAll100Years(\"biosphere3\").import_global_method()\n",
    "ClimateChangeHumanHealthCertainInfinite(\"biosphere3\").import_global_method()\n",
    "ClimateChangeHumanHealthAllInfinite(\"biosphere3\").import_global_method()\n",
    "ClimateChangeTerrestrialEcosystemsCertain100Years(\"biosphere3\").import_global_method()\n",
    "ClimateChangeTerrestrialEcosystemsAll100Years(\"biosphere3\").import_global_method()\n",
    "ClimateChangeTerrestrialEcosystemsCertainInfinite(\"biosphere3\").import_global_method()\n",
    "ClimateChangeTerrestrialEcosystemsAllInfinite(\"biosphere3\").import_global_method()\n",
    "ClimateChangeAquaticEcosystemsAll100Years(\"biosphere3\").import_global_method()\n",
    "ClimateChangeAquaticEcosystemsAllInfinite(\"biosphere3\").import_global_method()"
   ]
  },
  {
   "cell_type": "markdown",
   "metadata": {},
   "source": [
    "# Calculate intersections between inventory and IA spatial scales"
   ]
  },
  {
   "cell_type": "code",
   "execution_count": null,
   "metadata": {},
   "outputs": [],
   "source": [
    "remote.calculate_intersection(\"RoW\", 'world-topo-watersheds-eq-sw-all')"
   ]
  },
  {
   "cell_type": "code",
   "execution_count": null,
   "metadata": {},
   "outputs": [],
   "source": [
    "remote.calculate_intersection(\"RoW\", 'world-topo-watersheds-hh')"
   ]
  },
  {
   "cell_type": "code",
   "execution_count": null,
   "metadata": {},
   "outputs": [],
   "source": [
    "remote.calculate_intersection(\"world\", \"watersheds-hh\")\n",
    "remote.calculate_intersection(\"world\", \"watersheds-eq-sw-certain\")\n",
    "remote.calculate_intersection(\"world\", \"watersheds-eq-sw-all\")\n",
    "remote.calculate_intersection(\"world\", \"particulate-matter\")\n",
    "remote.calculate_intersection(\"world\", \"ecoregions\")"
   ]
  },
  {
   "cell_type": "code",
   "execution_count": null,
   "metadata": {
    "scrolled": false
   },
   "outputs": [],
   "source": [
    "remote.intersection(\"world\", \"watersheds-hh\")\n",
    "remote.intersection(\"world\", \"watersheds-eq-sw-certain\")\n",
    "remote.intersection(\"world\", \"watersheds-eq-sw-all\")\n",
    "remote.intersection(\"world\", \"particulate-matter\")\n",
    "remote.intersection(\"world\", \"ecoregions\")"
   ]
  },
  {
   "cell_type": "markdown",
   "metadata": {},
   "source": [
    "## Get third spatial scale\n",
    "\n",
    "This is the intersection of inventory and IA spatial scales"
   ]
  },
  {
   "cell_type": "code",
   "execution_count": null,
   "metadata": {},
   "outputs": [],
   "source": [
    "del geocollections['world-topo-watersheds-hh']"
   ]
  },
  {
   "cell_type": "code",
   "execution_count": null,
   "metadata": {},
   "outputs": [],
   "source": [
    "remote.intersection_as_new_geocollection('world', 'watersheds-hh', 'world-topo-watersheds-hh')"
   ]
  },
  {
   "cell_type": "code",
   "execution_count": null,
   "metadata": {},
   "outputs": [],
   "source": [
    "geocollections"
   ]
  },
  {
   "cell_type": "code",
   "execution_count": null,
   "metadata": {},
   "outputs": [],
   "source": [
    "# remote.intersection_as_new_geocollection('world', 'watersheds-hh', 'world-topo-watersheds-hh')\n",
    "# remote.intersection_as_new_geocollection('world', 'watersheds-eq-sw-certain', 'world-topo-watersheds-eq-sw-certain')\n",
    "remote.intersection_as_new_geocollection('world', 'watersheds-eq-sw-all', 'world-topo-watersheds-eq-sw-all')\n",
    "# remote.intersection_as_new_geocollection('world', 'particulate-matter', 'world-topo-particulate-matter')\n",
    "# remote.intersection_as_new_geocollection('world', 'ecoregions', 'world-topo-ecoregions')"
   ]
  },
  {
   "cell_type": "markdown",
   "metadata": {},
   "source": [
    "# Add extension table data\n",
    "\n",
    "## Add raster `geocollections`"
   ]
  },
  {
   "cell_type": "code",
   "execution_count": null,
   "metadata": {},
   "outputs": [],
   "source": [
    "rasters = [\n",
    "    'maize_landuse_intensity',\n",
    "    'maize_water_intensity',\n",
    "    'sugarcane_landuse_intensity',\n",
    "    'sugarcane_water_intensity',\n",
    "    'gdpweighted',\n",
    "]\n",
    "\n",
    "for label in rasters:\n",
    "    fp = os.path.abspath(os.path.join(\"..\", \"data\", label + \".tif\"))\n",
    "    assert os.path.isfile(fp)\n",
    "\n",
    "    if label == \"gdpweighted\":\n",
    "        label = 'weighted-pop-density'\n",
    "    \n",
    "    geocollections[label] = {\n",
    "        'filepath': fp,\n",
    "        'band': 1\n",
    "    }"
   ]
  },
  {
   "cell_type": "markdown",
   "metadata": {},
   "source": [
    "## Define raster statistics\n",
    "\n",
    "Need statistics for the spatial scale which is the intersection of inventory and IA"
   ]
  },
  {
   "cell_type": "code",
   "execution_count": null,
   "metadata": {},
   "outputs": [],
   "source": [
    "inters = [\n",
    "    'world-topo-watersheds-hh',\n",
    "    'world-topo-watersheds-eq-sw-certain',\n",
    "    'world-topo-watersheds-eq-sw-all',\n",
    "    'world-topo-particulate-matter',\n",
    "    'world-topo-ecoregions',\n",
    "]\n",
    "\n",
    "crop_rasters = [\n",
    "    'maize_landuse_intensity',\n",
    "    'maize_water_intensity',\n",
    "    'sugarcane_landuse_intensity',\n",
    "    'sugarcane_water_intensity',\n",
    "    'weighted-pop-density',\n",
    "]\n",
    "\n",
    "for x in inters:\n",
    "    for y in crop_rasters:\n",
    "        remote.calculate_rasterstats(x, y)"
   ]
  },
  {
   "cell_type": "markdown",
   "metadata": {},
   "source": [
    "## Import raster statistics as extension tables"
   ]
  },
  {
   "cell_type": "code",
   "execution_count": null,
   "metadata": {},
   "outputs": [],
   "source": [
    "inters = [\n",
    "    'world-topo-watersheds-hh',\n",
    "    'world-topo-watersheds-eq-sw-core',\n",
    "    'world-topo-watersheds-eq-sw-extended',\n",
    "    'world-topo-particulate-matter',\n",
    "    'world-topo-ecoregions',\n",
    "]\n",
    "\n",
    "crop_rasters = [\n",
    "    'maize_landuse_intensity',\n",
    "    'maize_water_intensity',\n",
    "    'sugarcane_landuse_intensity',\n",
    "    'sugarcane_water_intensity',\n",
    "    'weighted-pop-density',\n",
    "]\n",
    "\n",
    "for x in inters:\n",
    "    for y in crop_rasters:\n",
    "        remote.rasterstats_as_xt(x, y, x + \"-\" + y)"
   ]
  },
  {
   "cell_type": "code",
   "execution_count": null,
   "metadata": {},
   "outputs": [],
   "source": [
    "extension_tables"
   ]
  },
  {
   "cell_type": "code",
   "execution_count": null,
   "metadata": {},
   "outputs": [],
   "source": []
  }
 ],
 "metadata": {
  "kernelspec": {
   "display_name": "Python 3",
   "language": "python",
   "name": "python3"
  },
  "language_info": {
   "codemirror_mode": {
    "name": "ipython",
    "version": 3
   },
   "file_extension": ".py",
   "mimetype": "text/x-python",
   "name": "python",
   "nbconvert_exporter": "python",
   "pygments_lexer": "ipython3",
   "version": "3.6.5"
  },
  "toc": {
   "colors": {
    "hover_highlight": "#DAA520",
    "running_highlight": "#FF0000",
    "selected_highlight": "#FFD700"
   },
   "moveMenuLeft": true,
   "nav_menu": {
    "height": "171px",
    "width": "252px"
   },
   "navigate_menu": true,
   "number_sections": true,
   "sideBar": true,
   "threshold": 4,
   "toc_cell": false,
   "toc_section_display": "block",
   "toc_window_display": false
  }
 },
 "nbformat": 4,
 "nbformat_minor": 2
}

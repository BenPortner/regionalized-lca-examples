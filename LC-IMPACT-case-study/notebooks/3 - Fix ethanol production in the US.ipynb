{
 "cells": [
  {
   "cell_type": "markdown",
   "metadata": {},
   "source": [
    "This notebook fixes the production of ethanol in the US.\n",
    "\n",
    "In default ecoinvent 3.4 cutoff, the supply goes like this:\n",
    "    - 'dewatering of ethanol from biomass, from 95% to 99.7% solution state' (kilogram, US, None)\n",
    "    - 'ethanol production from maize' (kilogram, US, None)\n",
    "    - 'market for maize grain' (kilogram, GLO, None)\n",
    "        - 0.396783400122377 kilogram 'maize grain production' (kilogram, US, None)\n",
    "        - 0.572106021842784 kilogram 'maize grain production' (kilogram, GLO, None)\n",
    "\n",
    "However, in our case study this doesn't make sense - we want the maize to be processed into ethanol in the US to be grown in the US. So, we link `'ethanol production from maize' (kilogram, US, None)` directly to US maize grain production."
   ]
  },
  {
   "cell_type": "code",
   "execution_count": null,
   "metadata": {},
   "outputs": [],
   "source": [
    "from brightway2 import *"
   ]
  },
  {
   "cell_type": "code",
   "execution_count": null,
   "metadata": {},
   "outputs": [],
   "source": [
    "projects.set_current(\"LC IMPACT case study\")"
   ]
  },
  {
   "cell_type": "markdown",
   "metadata": {},
   "source": [
    "The broken market"
   ]
  },
  {
   "cell_type": "code",
   "execution_count": null,
   "metadata": {},
   "outputs": [],
   "source": [
    "ethanol_from_maize = get_activity(('ecoinvent', 'ce4291110cdbe9be2fc99445b84ddc7e'))\n",
    "ethanol_from_maize"
   ]
  },
  {
   "cell_type": "markdown",
   "metadata": {},
   "source": [
    "The input of corn from the global market"
   ]
  },
  {
   "cell_type": "code",
   "execution_count": null,
   "metadata": {},
   "outputs": [],
   "source": [
    "ethanol_from_maize = get_activity(('ecoinvent', 'ce4291110cdbe9be2fc99445b84ddc7e'))\n",
    "for fixme in ethanol_from_maize.technosphere():\n",
    "    if fixme.input['name'] == 'market for maize grain':\n",
    "        print(fixme)\n",
    "        break"
   ]
  },
  {
   "cell_type": "code",
   "execution_count": null,
   "metadata": {},
   "outputs": [],
   "source": [
    "fixme"
   ]
  },
  {
   "cell_type": "markdown",
   "metadata": {},
   "source": [
    "We can find the correct input (US production of corn):"
   ]
  },
  {
   "cell_type": "code",
   "execution_count": null,
   "metadata": {},
   "outputs": [],
   "source": [
    "for usa in fixme.input.technosphere():\n",
    "    if usa.input['location'] == 'US':\n",
    "        print(usa)\n",
    "        break"
   ]
  },
  {
   "cell_type": "code",
   "execution_count": null,
   "metadata": {},
   "outputs": [],
   "source": [
    "fixme.input = usa.input\n",
    "fixme.save()"
   ]
  },
  {
   "cell_type": "markdown",
   "metadata": {},
   "source": [
    "Check to make sure it worked"
   ]
  },
  {
   "cell_type": "code",
   "execution_count": null,
   "metadata": {},
   "outputs": [],
   "source": [
    "ethanol_from_maize = get_activity(('ecoinvent', 'ce4291110cdbe9be2fc99445b84ddc7e'))\n",
    "for exc in ethanol_from_maize.technosphere():\n",
    "    print(exc)"
   ]
  }
 ],
 "metadata": {
  "kernelspec": {
   "display_name": "Python 3",
   "language": "python",
   "name": "python3"
  },
  "language_info": {
   "codemirror_mode": {
    "name": "ipython",
    "version": 3
   },
   "file_extension": ".py",
   "mimetype": "text/x-python",
   "name": "python",
   "nbconvert_exporter": "python",
   "pygments_lexer": "ipython3",
   "version": "3.6.5"
  }
 },
 "nbformat": 4,
 "nbformat_minor": 2
}

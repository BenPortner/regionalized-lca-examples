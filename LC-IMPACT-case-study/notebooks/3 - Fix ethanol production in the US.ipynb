{
 "cells": [
  {
   "cell_type": "markdown",
   "metadata": {},
   "source": [
    "This notebook fixes the production of ethanol in the US.\n",
    "\n",
    "In default ecoinvent 3.4 cutoff, the supply goes like this:\n",
    "    - 'dewatering of ethanol from biomass, from 95% to 99.7% solution state' (kilogram, US, None)\n",
    "    - 'ethanol production from maize' (kilogram, US, None)\n",
    "    - 'market for maize grain' (kilogram, GLO, None)\n",
    "        - 0.396783400122377 kilogram 'maize grain production' (kilogram, US, None)\n",
    "        - 0.572106021842784 kilogram 'maize grain production' (kilogram, GLO, None)\n",
    "\n",
    "However, in our case study this doesn't make sense - we want the maize to be processed into ethanol in the US to be grown in the US. So, we link `'ethanol production from maize' (kilogram, US, None)` directly to US maize grain production."
   ]
  },
  {
   "cell_type": "code",
   "execution_count": 1,
   "metadata": {},
   "outputs": [],
   "source": [
    "from brightway2 import *"
   ]
  },
  {
   "cell_type": "code",
   "execution_count": 2,
   "metadata": {},
   "outputs": [],
   "source": [
    "projects.set_current(\"LC IMPACT case study\")"
   ]
  },
  {
   "cell_type": "markdown",
   "metadata": {},
   "source": [
    "The broken market"
   ]
  },
  {
   "cell_type": "code",
   "execution_count": 8,
   "metadata": {},
   "outputs": [
    {
     "data": {
      "text/plain": [
       "'ethanol production from maize' (kilogram, US, None)"
      ]
     },
     "execution_count": 8,
     "metadata": {},
     "output_type": "execute_result"
    }
   ],
   "source": [
    "ethanol_from_maize = get_activity(('ecoinvent', 'ce4291110cdbe9be2fc99445b84ddc7e'))\n",
    "ethanol_from_maize"
   ]
  },
  {
   "cell_type": "markdown",
   "metadata": {},
   "source": [
    "The input of corn from the global market"
   ]
  },
  {
   "cell_type": "code",
   "execution_count": 14,
   "metadata": {},
   "outputs": [
    {
     "name": "stdout",
     "output_type": "stream",
     "text": [
      "Exchange: 3.22588464173796 kilogram 'market for maize grain' (kilogram, GLO, None) to 'ethanol production from maize' (kilogram, US, None)>\n"
     ]
    }
   ],
   "source": [
    "ethanol_from_maize = get_activity(('ecoinvent', 'ce4291110cdbe9be2fc99445b84ddc7e'))\n",
    "for fixme in ethanol_from_maize.technosphere():\n",
    "    if fixme.input['name'] == 'market for maize grain':\n",
    "        print(fixme)\n",
    "        break"
   ]
  },
  {
   "cell_type": "code",
   "execution_count": 20,
   "metadata": {},
   "outputs": [
    {
     "data": {
      "text/plain": [
       "Exchange: 3.22588464173796 kilogram 'maize grain production' (kilogram, RoW_10, None) to 'ethanol production from maize' (kilogram, US, None)>"
      ]
     },
     "execution_count": 20,
     "metadata": {},
     "output_type": "execute_result"
    }
   ],
   "source": [
    "fixme"
   ]
  },
  {
   "cell_type": "markdown",
   "metadata": {},
   "source": [
    "We can find the correct input (US production of corn):"
   ]
  },
  {
   "cell_type": "code",
   "execution_count": 18,
   "metadata": {},
   "outputs": [],
   "source": [
    "for usa in fixme.input.technosphere():\n",
    "    if usa.input['location'] == 'US':\n",
    "        print(usa)\n",
    "        break"
   ]
  },
  {
   "cell_type": "code",
   "execution_count": 23,
   "metadata": {},
   "outputs": [],
   "source": [
    "fixme.input = usa.input\n",
    "fixme.save()"
   ]
  },
  {
   "cell_type": "markdown",
   "metadata": {},
   "source": [
    "Check to make sure it worked"
   ]
  },
  {
   "cell_type": "code",
   "execution_count": 24,
   "metadata": {},
   "outputs": [
    {
     "name": "stdout",
     "output_type": "stream",
     "text": [
      "Exchange: 0.0360653902946303 kilogram 'market for soda ash, light, crystalline, heptahydrate' (kilogram, GLO, None) to 'ethanol production from maize' (kilogram, US, None)>\n",
      "Exchange: 13.8834494151494 megajoule 'market for heat, district or industrial, natural gas' (megajoule, RoW_111, None) to 'ethanol production from maize' (kilogram, US, None)>\n",
      "Exchange: 0.00965475014425753 kilogram 'market for nitrogen fertiliser, as N' (kilogram, GLO, None) to 'ethanol production from maize' (kilogram, US, None)>\n",
      "Exchange: 3.22588464173796 kilogram 'maize grain production' (kilogram, US, None) to 'ethanol production from maize' (kilogram, US, None)>\n",
      "Exchange: 0.0322588464173796 ton kilometer 'market for transport, tractor and trailer, agricultural' (ton kilometer, GLO, None) to 'ethanol production from maize' (kilogram, US, None)>\n",
      "Exchange: -0.00295149089411173 cubic meter 'market for wastewater, from residence' (cubic meter, RoW_164, None) to 'ethanol production from maize' (kilogram, US, None)>\n",
      "Exchange: 0.0240438085887297 kilogram 'market for sulfuric acid' (kilogram, GLO, None) to 'ethanol production from maize' (kilogram, US, None)>\n",
      "Exchange: 4.98366918302097e-10 unit 'market for ethanol fermentation plant' (unit, GLO, None) to 'ethanol production from maize' (kilogram, US, None)>\n",
      "Exchange: 0.00965475014425753 kilogram 'market for ammonium sulfate, as N' (kilogram, GLO, None) to 'ethanol production from maize' (kilogram, US, None)>\n",
      "Exchange: 4.22397334989167 kilogram 'market for tap water' (kilogram, RoW_111, None) to 'ethanol production from maize' (kilogram, US, None)>\n",
      "Exchange: 0.397203175937195 kilowatt hour 'market group for electricity, medium voltage' (kilowatt hour, US, None) to 'ethanol production from maize' (kilogram, US, None)>\n"
     ]
    }
   ],
   "source": [
    "ethanol_from_maize = get_activity(('ecoinvent', 'ce4291110cdbe9be2fc99445b84ddc7e'))\n",
    "for exc in ethanol_from_maize.technosphere():\n",
    "    print(exc)"
   ]
  }
 ],
 "metadata": {
  "kernelspec": {
   "display_name": "Python 3",
   "language": "python",
   "name": "python3"
  },
  "language_info": {
   "codemirror_mode": {
    "name": "ipython",
    "version": 3
   },
   "file_extension": ".py",
   "mimetype": "text/x-python",
   "name": "python",
   "nbconvert_exporter": "python",
   "pygments_lexer": "ipython3",
   "version": "3.6.5"
  }
 },
 "nbformat": 4,
 "nbformat_minor": 2
}

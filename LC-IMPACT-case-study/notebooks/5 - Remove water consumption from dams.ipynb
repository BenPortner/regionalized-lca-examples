{
 "cells": [
  {
   "cell_type": "markdown",
   "metadata": {},
   "source": [
    "# Remove water consumption from dams\n",
    "\n",
    "We have large water use impacts from hydropower. As these are judged less reliable than water consumption from irrigation, we will make a copy of the project and remove them. "
   ]
  },
  {
   "cell_type": "code",
   "execution_count": null,
   "metadata": {},
   "outputs": [],
   "source": [
    "import brightway2 as bw\n",
    "import pyprind"
   ]
  },
  {
   "cell_type": "code",
   "execution_count": null,
   "metadata": {},
   "outputs": [],
   "source": [
    "assert \"LC IMPACT case study no hydro\" not in bw.projects"
   ]
  },
  {
   "cell_type": "code",
   "execution_count": null,
   "metadata": {},
   "outputs": [],
   "source": [
    "bw.projects.set_current(\"LC IMPACT case study\")"
   ]
  },
  {
   "cell_type": "code",
   "execution_count": null,
   "metadata": {},
   "outputs": [],
   "source": [
    "bw.projects.copy_project(\"LC IMPACT case study no hydro\")"
   ]
  },
  {
   "cell_type": "code",
   "execution_count": null,
   "metadata": {},
   "outputs": [],
   "source": [
    "bw.projects.current"
   ]
  },
  {
   "cell_type": "code",
   "execution_count": null,
   "metadata": {},
   "outputs": [],
   "source": [
    "bw.databases"
   ]
  },
  {
   "cell_type": "code",
   "execution_count": null,
   "metadata": {},
   "outputs": [],
   "source": [
    "db = bw.Database(\"ecoinvent\")"
   ]
  },
  {
   "cell_type": "code",
   "execution_count": null,
   "metadata": {},
   "outputs": [],
   "source": [
    "hydro = [\n",
    "    x for x in db\n",
    "    if 'hydro' in x['name']\n",
    "    and 'electricity' in x['name']\n",
    "]\n",
    "{x['name'] for x in hydro}, len(hydro)"
   ]
  },
  {
   "cell_type": "code",
   "execution_count": null,
   "metadata": {},
   "outputs": [],
   "source": [
    "WATER_NAMES = [\n",
    "    ('Fresh water (obsolete)', ('water', 'surface water')),\n",
    "    ('Water', ('water',)),\n",
    "    ('Water', ('water', 'surface water')),\n",
    "    ('Water, cooling, unspecified natural origin', ('natural resource', 'in water')),\n",
    "    ('Water, lake', ('natural resource', 'in water')),\n",
    "    ('Water, river', ('natural resource', 'in water')),\n",
    "    ('Water, turbine use, unspecified natural origin', ('natural resource', 'in water')),\n",
    "    ('Water, unspecified natural origin', ('natural resource', 'in water')),\n",
    "    ('Water', ('water', 'ground-')),\n",
    "    ('Water', ('water', 'ground-, long-term')),\n",
    "    ('Water, unspecified natural origin', ('natural resource', 'in ground')),\n",
    "    ('Water, well, in ground', ('natural resource', 'in water')),\n",
    "]\n",
    "\n",
    "water = [x for x in bw.Database(\"biosphere3\") if (x['name'], x['categories']) in WATER_NAMES]\n",
    "water"
   ]
  },
  {
   "cell_type": "code",
   "execution_count": null,
   "metadata": {},
   "outputs": [],
   "source": [
    "count = 0\n",
    "\n",
    "for act in pyprind.prog_bar(hydro):\n",
    "    for exc in act.biosphere():\n",
    "        if exc.input in water:\n",
    "            exc['amount'] = 0\n",
    "            exc.save()\n",
    "            count += 1\n",
    "            \n",
    "count"
   ]
  }
 ],
 "metadata": {
  "kernelspec": {
   "display_name": "Python 3",
   "language": "python",
   "name": "python3"
  },
  "language_info": {
   "codemirror_mode": {
    "name": "ipython",
    "version": 3
   },
   "file_extension": ".py",
   "mimetype": "text/x-python",
   "name": "python",
   "nbconvert_exporter": "python",
   "pygments_lexer": "ipython3",
   "version": "3.6.4"
  },
  "toc": {
   "base_numbering": 1,
   "nav_menu": {},
   "number_sections": true,
   "sideBar": true,
   "skip_h1_title": false,
   "title_cell": "Table of Contents",
   "title_sidebar": "Contents",
   "toc_cell": false,
   "toc_position": {},
   "toc_section_display": true,
   "toc_window_display": false
  }
 },
 "nbformat": 4,
 "nbformat_minor": 2
}

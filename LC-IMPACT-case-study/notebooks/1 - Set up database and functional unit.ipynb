{
 "cells": [
  {
   "cell_type": "code",
   "execution_count": 2,
   "metadata": {},
   "outputs": [],
   "source": [
    "import bw2data as bd\n",
    "import bw2io as bi"
   ]
  },
  {
   "cell_type": "code",
   "execution_count": 5,
   "metadata": {},
   "outputs": [],
   "source": [
    "assert bd.__version__ > (4, 0), \"This notebook is only for Brightway 2.5\""
   ]
  },
  {
   "cell_type": "code",
   "execution_count": 7,
   "metadata": {},
   "outputs": [],
   "source": [
    "bd.projects.set_current(\"LC IMPACT case study\")"
   ]
  },
  {
   "cell_type": "markdown",
   "metadata": {},
   "source": [
    "# Create default `biosphere` database and LCIA methods"
   ]
  },
  {
   "cell_type": "code",
   "execution_count": 8,
   "metadata": {},
   "outputs": [
    {
     "name": "stdout",
     "output_type": "stream",
     "text": [
      "Creating default biosphere\n",
      "\n"
     ]
    },
    {
     "name": "stderr",
     "output_type": "stream",
     "text": [
      "Writing activities to SQLite3 database:\n"
     ]
    },
    {
     "name": "stdout",
     "output_type": "stream",
     "text": [
      "Applying strategy: normalize_units\n",
      "Applying strategy: drop_unspecified_subcategories\n",
      "Applying strategy: ensure_categories_are_tuples\n",
      "Applied 3 strategies in 0.01 seconds\n"
     ]
    },
    {
     "name": "stderr",
     "output_type": "stream",
     "text": [
      "0% [##############################] 100% | ETA: 00:00:00\n",
      "Total time elapsed: 00:00:00\n"
     ]
    },
    {
     "name": "stdout",
     "output_type": "stream",
     "text": [
      "Title: Writing activities to SQLite3 database:\n",
      "  Started: 04/22/2022 21:59:11\n",
      "  Finished: 04/22/2022 21:59:11\n",
      "  Total time elapsed: 00:00:00\n",
      "  CPU %: 86.30\n",
      "  Memory %: 1.27\n",
      "Created database: biosphere3\n",
      "Creating default LCIA methods\n",
      "\n",
      "Applying strategy: normalize_units\n",
      "Applying strategy: set_biosphere_type\n",
      "Applying strategy: fix_ecoinvent_38_lcia_implementation\n",
      "Applying strategy: drop_unspecified_subcategories\n",
      "Applying strategy: link_iterable_by_fields\n",
      "Applied 5 strategies in 2.01 seconds\n",
      "Wrote 975 LCIA methods with 254388 characterization factors\n",
      "Creating core data migrations\n",
      "\n"
     ]
    }
   ],
   "source": [
    "bi.create_default_biosphere3()\n",
    "bi.create_core_migrations()"
   ]
  },
  {
   "cell_type": "markdown",
   "metadata": {},
   "source": [
    "# Import `ecoinvent 3.8` with the `cutoff` system model"
   ]
  },
  {
   "cell_type": "code",
   "execution_count": 11,
   "metadata": {},
   "outputs": [
    {
     "name": "stdout",
     "output_type": "stream",
     "text": [
      "Extracting XML data from 19565 datasets\n",
      "Extracted 19565 datasets in 142.00 seconds\n",
      "Applying strategy: normalize_units\n",
      "Applying strategy: update_ecoinvent_locations\n",
      "Applying strategy: remove_zero_amount_coproducts\n",
      "Applying strategy: remove_zero_amount_inputs_with_no_activity\n",
      "Applying strategy: remove_unnamed_parameters\n",
      "Applying strategy: es2_assign_only_product_with_amount_as_reference_product\n",
      "Applying strategy: assign_single_product_as_activity\n",
      "Applying strategy: create_composite_code\n",
      "Applying strategy: drop_unspecified_subcategories\n",
      "Applying strategy: fix_ecoinvent_flows_pre35\n",
      "Applying strategy: drop_temporary_outdated_biosphere_flows\n",
      "Applying strategy: link_biosphere_by_flow_uuid\n",
      "Applying strategy: link_internal_technosphere_by_composite_code\n",
      "Applying strategy: delete_exchanges_missing_activity\n",
      "Applying strategy: delete_ghost_exchanges\n",
      "Applying strategy: remove_uncertainty_from_negative_loss_exchanges\n",
      "Applying strategy: fix_unreasonably_high_lognormal_uncertainties\n",
      "Applying strategy: set_lognormal_loc_value\n",
      "Applying strategy: convert_activity_parameters_to_list\n",
      "Applying strategy: add_cpc_classification_from_single_reference_product\n",
      "Applying strategy: delete_none_synonyms\n",
      "Applying strategy: update_social_flows_in_older_consequential\n",
      "Applied 22 strategies in 10.55 seconds\n",
      "19565 datasets\n",
      "629959 exchanges\n",
      "0 unlinked exchanges\n",
      "  \n",
      "19565 datasets\n",
      "629959 exchanges\n",
      "0 unlinked exchanges\n",
      "  \n"
     ]
    }
   ],
   "source": [
    "ei = bi.SingleOutputEcospold2Importer(\"/Users/cmutel/Documents/LCA/Ecoinvent/3.8/cutoff/datasets\", \"ecoinvent\")\n",
    "ei.apply_strategies()\n",
    "ei.statistics()\n",
    "assert ei.all_linked"
   ]
  },
  {
   "cell_type": "code",
   "execution_count": 12,
   "metadata": {},
   "outputs": [
    {
     "name": "stderr",
     "output_type": "stream",
     "text": [
      "Writing activities to SQLite3 database:\n"
     ]
    },
    {
     "name": "stdout",
     "output_type": "stream",
     "text": [
      "Not able to determine geocollections for all datasets. This database is not ready for regionalization.\n"
     ]
    },
    {
     "name": "stderr",
     "output_type": "stream",
     "text": [
      "0% [##############################] 100% | ETA: 00:00:00\n",
      "Total time elapsed: 00:01:07\n"
     ]
    },
    {
     "name": "stdout",
     "output_type": "stream",
     "text": [
      "Title: Writing activities to SQLite3 database:\n",
      "  Started: 04/22/2022 22:10:14\n",
      "  Finished: 04/22/2022 22:11:22\n",
      "  Total time elapsed: 00:01:07\n",
      "  CPU %: 85.30\n",
      "  Memory %: 21.61\n",
      "Created database: ecoinvent\n"
     ]
    },
    {
     "data": {
      "text/plain": [
       "Brightway2 SQLiteBackend: ecoinvent"
      ]
     },
     "execution_count": 12,
     "metadata": {},
     "output_type": "execute_result"
    }
   ],
   "source": [
    "ei.write_database()"
   ]
  },
  {
   "cell_type": "markdown",
   "metadata": {},
   "source": [
    "# Create database for our functional unit\n",
    "\n",
    "We now define our functional unit. We will look at one passenger kilometer of transport in a modern auto (EURO 5 standard), with three fuel possibilities:\n",
    "\n",
    "* Low-sulfur petrol\n",
    "* E85 from Brazilian sugarcane\n",
    "* E85 from American maize\n",
    "\n",
    "Metastudies ([1](http://doi.org/10.1021/es305209a),[2](http://doi.org/10.1021/es502495u)) on the effective substitution ratio of ethanol compared to petrol are inconclusive. We therefore assume that ethanol substitutes 1:1 for petrol on an energetic basis in modern, fuel-injected cars.\n",
    "\n",
    "Ethanol has a lower energy density than petrol, therefor *1* kg of petrol is equivalent to *1.46* kg of ethanol\n",
    "\n",
    "Emissions from the combustion of ethanol differ from low-sulfur petrol. However, this difference is difficult to summarize, as it is dependent on, among other things, engine type, driving patterns, and\n",
    "climate ([3](http://doi.org/10.1016/j.rser.2013.03.046), [4](http://doi.org/10.1016/j.rser.2013.09.022), [5](http://doi.org/10.1177/0954407011407254)). Given this uncertainty, we make the following rough estimates:\n",
    "\n",
    "* Ethanol has effectively no sulfur, so no SO2 is emitted.\n",
    "* Emissions of CO decrease 10 percent\n",
    "* Hydrocarbon emissions decrease 10 percent\n",
    "\n",
    "The easiest way to define the functional unit was in the separate spreadsheet `\"ethanol-inventory.xlsx\"`, which is included in the supporting information."
   ]
  },
  {
   "cell_type": "code",
   "execution_count": 15,
   "metadata": {},
   "outputs": [
    {
     "name": "stderr",
     "output_type": "stream",
     "text": [
      "/Users/cmutel/miniconda3/envs/bw25reg/lib/python3.9/site-packages/openpyxl/worksheet/_reader.py:312: UserWarning: Unknown extension is not supported and will be removed\n",
      "  warn(msg)\n"
     ]
    },
    {
     "name": "stdout",
     "output_type": "stream",
     "text": [
      "Extracted 1 worksheets in 0.08 seconds\n",
      "Applying strategy: csv_restore_tuples\n",
      "Applying strategy: csv_restore_booleans\n",
      "Applying strategy: csv_numerize\n",
      "Applying strategy: csv_drop_unknown\n",
      "Applying strategy: csv_add_missing_exchanges_section\n",
      "Applying strategy: normalize_units\n",
      "Applying strategy: normalize_biosphere_categories\n",
      "Applying strategy: normalize_biosphere_names\n",
      "Applying strategy: strip_biosphere_exc_locations\n",
      "Applying strategy: set_code_by_activity_hash\n",
      "Applying strategy: link_iterable_by_fields\n",
      "Applying strategy: assign_only_product_as_production\n",
      "Applying strategy: link_technosphere_by_activity_hash\n",
      "Applying strategy: drop_falsey_uncertainty_fields_but_keep_zeros\n",
      "Applying strategy: convert_uncertainty_types_to_integers\n",
      "Applying strategy: convert_activity_parameters_to_list\n",
      "Applied 16 strategies in 0.28 seconds\n",
      "Applying strategy: link_iterable_by_fields\n",
      "Applying strategy: link_iterable_by_fields\n",
      "6 datasets\n",
      "70 exchanges\n",
      "0 unlinked exchanges\n",
      "  \n"
     ]
    }
   ],
   "source": [
    "imp = bi.ExcelImporter(\"ethanol-inventory.xlsx\")\n",
    "imp.apply_strategies()\n",
    "imp.match_database(\"ecoinvent\", fields=('name', 'unit', 'location'))\n",
    "imp.match_database(fields=['name'])\n",
    "assert imp.all_linked"
   ]
  },
  {
   "cell_type": "code",
   "execution_count": 16,
   "metadata": {},
   "outputs": [
    {
     "name": "stderr",
     "output_type": "stream",
     "text": [
      "Writing activities to SQLite3 database:\n"
     ]
    },
    {
     "name": "stdout",
     "output_type": "stream",
     "text": [
      "Not able to determine geocollections for all datasets. This database is not ready for regionalization.\n"
     ]
    },
    {
     "name": "stderr",
     "output_type": "stream",
     "text": [
      "0% [######] 100% | ETA: 00:00:00\n",
      "Total time elapsed: 00:00:00\n"
     ]
    },
    {
     "name": "stdout",
     "output_type": "stream",
     "text": [
      "Title: Writing activities to SQLite3 database:\n",
      "  Started: 04/22/2022 22:14:48\n",
      "  Finished: 04/22/2022 22:14:48\n",
      "  Total time elapsed: 00:00:00\n",
      "  CPU %: 36.50\n",
      "  Memory %: 21.99\n",
      "Created database: Fuel comparison\n"
     ]
    }
   ],
   "source": [
    "imp.write_database()"
   ]
  }
 ],
 "metadata": {
  "kernelspec": {
   "display_name": "Python 3 (ipykernel)",
   "language": "python",
   "name": "python3"
  },
  "language_info": {
   "codemirror_mode": {
    "name": "ipython",
    "version": 3
   },
   "file_extension": ".py",
   "mimetype": "text/x-python",
   "name": "python",
   "nbconvert_exporter": "python",
   "pygments_lexer": "ipython3",
   "version": "3.9.12"
  },
  "toc": {
   "base_numbering": 1,
   "nav_menu": {},
   "number_sections": true,
   "sideBar": true,
   "skip_h1_title": false,
   "title_cell": "Table of Contents",
   "title_sidebar": "Contents",
   "toc_cell": false,
   "toc_position": {},
   "toc_section_display": true,
   "toc_window_display": false
  }
 },
 "nbformat": 4,
 "nbformat_minor": 4
}

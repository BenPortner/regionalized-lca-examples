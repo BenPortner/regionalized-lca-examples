{
 "cells": [
  {
   "cell_type": "code",
   "execution_count": 17,
   "metadata": {},
   "outputs": [],
   "source": [
    "%matplotlib inline"
   ]
  },
  {
   "cell_type": "code",
   "execution_count": 63,
   "metadata": {},
   "outputs": [],
   "source": [
    "from brightway2 import *\n",
    "from bw2analyzer import *\n",
    "from bw2regional import *\n",
    "import csv\n",
    "import geopandas as gpd\n",
    "import pandas as pd\n",
    "import numpy as np\n",
    "import pyprind\n",
    "import seaborn as sb\n",
    "import matplotlib.pyplot as plt"
   ]
  },
  {
   "cell_type": "code",
   "execution_count": 19,
   "metadata": {},
   "outputs": [],
   "source": [
    "projects.set_current(\"LC IMPACT case study\")"
   ]
  },
  {
   "cell_type": "code",
   "execution_count": 6,
   "metadata": {},
   "outputs": [],
   "source": [
    "irrigation = [x for x in Database(\"ecoinvent\") if 'irrigation' in x['name']]\n",
    "crops = [x for x in Database(\"ecoinvent\") \n",
    "         if x['name'] in ('sugarcane production', 'maize grain production')]"
   ]
  },
  {
   "cell_type": "markdown",
   "metadata": {},
   "source": [
    "# Land Use"
   ]
  },
  {
   "cell_type": "code",
   "execution_count": 3,
   "metadata": {},
   "outputs": [],
   "source": [
    "fu = {('Fuel comparison', 'sugarcane transport'): 1}\n",
    "method = ('LC-IMPACT', 'Land Use', 'Occupation', 'Marginal', 'Certain')\n",
    "# From previous notebook\n",
    "presamples_path = '/Users/cmutel/Library/Application Support/Brightway3/LC-IMPACT-case-study.96518dd8fd4bda5eeaaa02b70dec68e3/presamples/e7c85547df894f42bc97520868aed105'"
   ]
  },
  {
   "cell_type": "code",
   "execution_count": 4,
   "metadata": {},
   "outputs": [],
   "source": [
    "mc = MonteCarloLCA(fu, method, presamples=[presamples_path])\n",
    "sugarcane_lu_sg = np.array([next(mc) for _ in range(500)])"
   ]
  },
  {
   "cell_type": "code",
   "execution_count": 105,
   "metadata": {},
   "outputs": [],
   "source": [
    "from stats_arrays.random import MCRandomNumberGenerator\n",
    "\n",
    "class MCXT(ExtensionTablesLCA):\n",
    "    def solve_linear_system(self):\n",
    "        return LCA.solve_linear_system(self)\n",
    "\n",
    "    def load_data(self):\n",
    "        self.load_lci_data()\n",
    "        self.tech_rng = MCRandomNumberGenerator(self.tech_params, seed=self.seed)\n",
    "        self.bio_rng = MCRandomNumberGenerator(self.bio_params, seed=self.seed)\n",
    "        if self.presamples:\n",
    "            self.presamples.reset_sequential_indices()\n",
    "\n",
    "    def get_c_substitute(self):\n",
    "        return (\n",
    "            self.inv_mapping_matrix                 *\n",
    "            self.distribution_normalization_matrix  *\n",
    "            self.distribution_matrix                *\n",
    "            self.xtable_matrix                      *\n",
    "            self.geo_transform_normalization_matrix *\n",
    "            self.geo_transform_matrix               *\n",
    "            self.reg_cf_matrix\n",
    "        ).T        \n",
    "\n",
    "    def lcia_calculation(self):\n",
    "        if not hasattr(self, \"c_sub\"):\n",
    "            self.c_sub = self.get_c_substitute()\n",
    "        self.characterized_inventory = self.c_sub.multiply(self.inventory)\n",
    "    \n",
    "    def __next__(self):\n",
    "        if not hasattr(self, \"tech_rng\"):\n",
    "            self.load_data()\n",
    "            self.load_lcia_data()            \n",
    "        self.rebuild_technosphere_matrix(self.tech_rng.next())\n",
    "        self.rebuild_biosphere_matrix(self.bio_rng.next())\n",
    "\n",
    "        if self.presamples:\n",
    "            self.presamples.update_matrices()\n",
    "\n",
    "        if not hasattr(self, \"demand_array\"):\n",
    "            self.build_demand_array()\n",
    "\n",
    "        self.lci_calculation()\n",
    "        if self.lcia:\n",
    "            self.lcia_calculation()\n",
    "            return self.score\n",
    "        else:\n",
    "            return self.supply_array"
   ]
  },
  {
   "cell_type": "code",
   "execution_count": 13,
   "metadata": {},
   "outputs": [],
   "source": [
    "mc = MCXT(fu, \n",
    "          method, \n",
    "          xtable='world-topo-ecoregions-sugarcane_landuse_intensity', \n",
    "          limitations={'activities': crops}\n",
    ")\n",
    "part_one = np.array([next(mc) for _ in pyprind.prog_bar(range(500))])"
   ]
  },
  {
   "cell_type": "code",
   "execution_count": 14,
   "metadata": {},
   "outputs": [],
   "source": [
    "mc = MCXT(fu, \n",
    "          method, \n",
    "          xtable='world-topo-ecoregions-weighted-pop-density', \n",
    "          limitations={'activities': crops, 'activities mode': 'exclude'}\n",
    ")\n",
    "part_two = np.array([next(mc) for _ in pyprind.prog_bar(range(500))])"
   ]
  },
  {
   "cell_type": "code",
   "execution_count": 15,
   "metadata": {},
   "outputs": [],
   "source": [
    "sugarcane_lu_sd = part_one + part_two"
   ]
  },
  {
   "cell_type": "code",
   "execution_count": 21,
   "metadata": {},
   "outputs": [],
   "source": [
    "fu = {('Fuel comparison', 'maize transport'): 1}"
   ]
  },
  {
   "cell_type": "code",
   "execution_count": 22,
   "metadata": {},
   "outputs": [],
   "source": [
    "mc = MonteCarloLCA(fu, method, presamples=[presamples_path])\n",
    "maize_lu_sg = np.array([next(mc) for _ in range(500)])"
   ]
  },
  {
   "cell_type": "code",
   "execution_count": 23,
   "metadata": {},
   "outputs": [
    {
     "name": "stderr",
     "output_type": "stream",
     "text": [
      "0%                          100%\n",
      "[##############################] | ETA: 00:00:00\n",
      "Total time elapsed: 00:03:17\n"
     ]
    }
   ],
   "source": [
    "mc = MCXT(fu, \n",
    "          method, \n",
    "          xtable='world-topo-ecoregions-maize_landuse_intensity', \n",
    "          limitations={'activities': crops}\n",
    ")\n",
    "part_one = np.array([next(mc) for _ in pyprind.prog_bar(range(500))])"
   ]
  },
  {
   "cell_type": "code",
   "execution_count": 24,
   "metadata": {},
   "outputs": [
    {
     "name": "stderr",
     "output_type": "stream",
     "text": [
      "0%                          100%\n",
      "[##############################] | ETA: 00:00:00\n",
      "Total time elapsed: 01:12:20\n"
     ]
    }
   ],
   "source": [
    "mc = MCXT(fu, \n",
    "          method, \n",
    "          xtable='world-topo-ecoregions-weighted-pop-density', \n",
    "          limitations={'activities': crops, 'activities mode': 'exclude'}\n",
    ")\n",
    "part_two = np.array([next(mc) for _ in pyprind.prog_bar(range(500))])"
   ]
  },
  {
   "cell_type": "code",
   "execution_count": 25,
   "metadata": {},
   "outputs": [],
   "source": [
    "maize_lu_sd = part_one + part_two"
   ]
  },
  {
   "cell_type": "code",
   "execution_count": 71,
   "metadata": {},
   "outputs": [],
   "source": [
    "sugarcane_lu_sg.sort()\n",
    "maize_lu_sg.sort()\n",
    "\n",
    "s = sugarcane_lu_sg[25:-25]\n",
    "m = maize_lu_sg[25:-25]"
   ]
  },
  {
   "cell_type": "code",
   "execution_count": 92,
   "metadata": {},
   "outputs": [],
   "source": [
    "results = pd.DataFrame({'Sugarcane': s, 'Maize': m})"
   ]
  },
  {
   "cell_type": "code",
   "execution_count": 93,
   "metadata": {},
   "outputs": [
    {
     "data": {
      "image/png": "[encoded data removed]",
      "text/plain": [
       "<Figure size 288x432 with 1 Axes>"
      ]
     },
     "metadata": {},
     "output_type": "display_data"
    }
   ],
   "source": [
    "plt.figure(figsize=(4, 6))\n",
    "\n",
    "sb.violinplot(data=results)\n",
    "\n",
    "yticks = plt.yticks()[0]\n",
    "\n",
    "plt.ylabel(r\"Land Use impact $( \\frac{PDF}{m^{2}} )$\")\n",
    "plt.tight_layout()\n",
    "plt.savefig(\"land-use-sg.png\", dpi=300)"
   ]
  },
  {
   "cell_type": "code",
   "execution_count": 94,
   "metadata": {},
   "outputs": [],
   "source": [
    "results = pd.DataFrame({'Sugarcane': sugarcane_lu_sd, 'Maize': maize_lu_sd})"
   ]
  },
  {
   "cell_type": "code",
   "execution_count": 95,
   "metadata": {},
   "outputs": [
    {
     "data": {
      "image/png": "[encoded data removed]",
      "text/plain": [
       "<Figure size 288x432 with 1 Axes>"
      ]
     },
     "metadata": {},
     "output_type": "display_data"
    }
   ],
   "source": [
    "plt.figure(figsize=(4, 6))\n",
    "\n",
    "plt.yticks(yticks)\n",
    "\n",
    "sb.violinplot(data=results)\n",
    "plt.tight_layout()\n",
    "plt.savefig(\"land-use-sd.png\", dpi=300)"
   ]
  },
  {
   "cell_type": "markdown",
   "metadata": {},
   "source": [
    "# Water Use"
   ]
  },
  {
   "cell_type": "code",
   "execution_count": 131,
   "metadata": {},
   "outputs": [],
   "source": [
    "method = ('LC-IMPACT', 'Water Use', 'Ecosystem Quality', 'Surface Water', 'Marginal', 'All')\n",
    "fu = {('Fuel comparison', 'sugarcane transport'): 1}"
   ]
  },
  {
   "cell_type": "code",
   "execution_count": 132,
   "metadata": {},
   "outputs": [
    {
     "name": "stderr",
     "output_type": "stream",
     "text": [
      "0%                          100%\n",
      "[##############################] | ETA: 00:00:00\n",
      "Total time elapsed: 00:00:50\n"
     ]
    }
   ],
   "source": [
    "mc = MonteCarloLCA(fu, method)\n",
    "sugarcane_wu_sg = np.array([next(mc) for _ in pyprind.prog_bar(range(500))])"
   ]
  },
  {
   "cell_type": "code",
   "execution_count": 133,
   "metadata": {},
   "outputs": [
    {
     "name": "stderr",
     "output_type": "stream",
     "text": [
      "0%                          100%\n",
      "[##############################] | ETA: 00:00:00\n",
      "Total time elapsed: 00:03:09\n"
     ]
    }
   ],
   "source": [
    "mc = MCXT(fu, \n",
    "          method, \n",
    "          xtable='world-topo-watersheds-eq-sw-all-sugarcane_water_intensity', \n",
    "          limitations={'activities': crops + irrigation}\n",
    ")\n",
    "part_one = np.array([next(mc) for _ in pyprind.prog_bar(range(500))])"
   ]
  },
  {
   "cell_type": "code",
   "execution_count": 134,
   "metadata": {},
   "outputs": [
    {
     "name": "stderr",
     "output_type": "stream",
     "text": [
      "0%                          100%\n",
      "[##############################] | ETA: 00:00:00\n",
      "Total time elapsed: 00:03:26\n"
     ]
    }
   ],
   "source": [
    "mc = MCXT(fu, \n",
    "          method, \n",
    "          xtable='world-topo-watersheds-eq-sw-all-weighted-pop-density', \n",
    "          limitations={'activities': crops + irrigation, 'activities mode': 'exclude'}\n",
    ")\n",
    "part_two = np.array([next(mc) for _ in pyprind.prog_bar(range(500))])"
   ]
  },
  {
   "cell_type": "code",
   "execution_count": 135,
   "metadata": {},
   "outputs": [],
   "source": [
    "sugarcane_wu_sd = part_one + part_two"
   ]
  },
  {
   "cell_type": "code",
   "execution_count": 136,
   "metadata": {},
   "outputs": [],
   "source": [
    "fu = {('Fuel comparison', 'maize transport'): 1}"
   ]
  },
  {
   "cell_type": "code",
   "execution_count": 137,
   "metadata": {},
   "outputs": [
    {
     "name": "stderr",
     "output_type": "stream",
     "text": [
      "0%                          100%\n",
      "[##############################] | ETA: 00:00:00\n",
      "Total time elapsed: 00:00:50\n"
     ]
    }
   ],
   "source": [
    "mc = MonteCarloLCA(fu, method)\n",
    "maize_wu_sg = np.array([next(mc) for _ in pyprind.prog_bar(range(500))])"
   ]
  },
  {
   "cell_type": "code",
   "execution_count": 138,
   "metadata": {},
   "outputs": [
    {
     "name": "stderr",
     "output_type": "stream",
     "text": [
      "0%                          100%\n",
      "[##############################] | ETA: 00:00:00\n",
      "Total time elapsed: 00:03:13\n"
     ]
    }
   ],
   "source": [
    "mc = MCXT(fu, \n",
    "          method, \n",
    "          xtable='world-topo-watersheds-eq-sw-all-maize_water_intensity', \n",
    "          limitations={'activities': crops + irrigation}\n",
    ")\n",
    "part_one = np.array([next(mc) for _ in pyprind.prog_bar(range(500))])"
   ]
  },
  {
   "cell_type": "code",
   "execution_count": 139,
   "metadata": {},
   "outputs": [
    {
     "name": "stderr",
     "output_type": "stream",
     "text": [
      "0%                          100%\n",
      "[##############################] | ETA: 00:00:00\n",
      "Total time elapsed: 00:03:31\n"
     ]
    }
   ],
   "source": [
    "mc = MCXT(fu, \n",
    "          method, \n",
    "          xtable='world-topo-watersheds-eq-sw-all-weighted-pop-density', \n",
    "          limitations={'activities': crops + irrigation, 'activities mode': 'exclude'}\n",
    ")\n",
    "part_two = np.array([next(mc) for _ in pyprind.prog_bar(range(500))])"
   ]
  },
  {
   "cell_type": "code",
   "execution_count": 140,
   "metadata": {},
   "outputs": [],
   "source": [
    "maize_wu_sd = part_one + part_two"
   ]
  },
  {
   "cell_type": "code",
   "execution_count": 141,
   "metadata": {},
   "outputs": [],
   "source": [
    "sugarcane_wu_sg.sort()\n",
    "maize_wu_sg.sort()\n",
    "\n",
    "s = sugarcane_wu_sg[25:-25]\n",
    "m = maize_wu_sg[25:-25]"
   ]
  },
  {
   "cell_type": "code",
   "execution_count": 150,
   "metadata": {},
   "outputs": [],
   "source": [
    "results = pd.DataFrame({'Sugarcane': s, 'Maize': m})"
   ]
  },
  {
   "cell_type": "code",
   "execution_count": 152,
   "metadata": {},
   "outputs": [
    {
     "data": {
      "image/png": "[encoded data removed]",
      "text/plain": [
       "<Figure size 288x432 with 1 Axes>"
      ]
     },
     "metadata": {},
     "output_type": "display_data"
    }
   ],
   "source": [
    "plt.figure(figsize=(4, 6))\n",
    "\n",
    "sb.violinplot(data=results)\n",
    "\n",
    "# plt.yticks(yticks)\n",
    "\n",
    "plt.ylabel(r\"Water Use impact $( \\frac{PDF \\cdot yr}{m^{3}} )$\")\n",
    "plt.tight_layout()\n",
    "plt.savefig(\"water-use-sg.png\", dpi=300)"
   ]
  },
  {
   "cell_type": "code",
   "execution_count": 144,
   "metadata": {},
   "outputs": [],
   "source": [
    "results = pd.DataFrame({'Sugarcane': sugarcane_wu_sd, 'Maize': maize_wu_sd})"
   ]
  },
  {
   "cell_type": "code",
   "execution_count": 149,
   "metadata": {},
   "outputs": [
    {
     "data": {
      "image/png": "[encoded data removed]",
      "text/plain": [
       "<Figure size 288x432 with 1 Axes>"
      ]
     },
     "metadata": {},
     "output_type": "display_data"
    }
   ],
   "source": [
    "plt.figure(figsize=(4, 6))\n",
    "\n",
    "yticks = plt.yticks()[0]\n",
    "\n",
    "sb.violinplot(data=results)\n",
    "plt.tight_layout()\n",
    "plt.savefig(\"water-use-sd.png\", dpi=300)"
   ]
  }
 ],
 "metadata": {
  "kernelspec": {
   "display_name": "Python 3",
   "language": "python",
   "name": "python3"
  },
  "language_info": {
   "codemirror_mode": {
    "name": "ipython",
    "version": 3
   },
   "file_extension": ".py",
   "mimetype": "text/x-python",
   "name": "python",
   "nbconvert_exporter": "python",
   "pygments_lexer": "ipython3",
   "version": "3.6.4"
  },
  "toc": {
   "base_numbering": 1,
   "nav_menu": {
    "height": "48px",
    "width": "252px"
   },
   "number_sections": true,
   "sideBar": true,
   "skip_h1_title": false,
   "title_cell": "Table of Contents",
   "title_sidebar": "Contents",
   "toc_cell": false,
   "toc_position": {},
   "toc_section_display": "block",
   "toc_window_display": false
  }
 },
 "nbformat": 4,
 "nbformat_minor": 2
}

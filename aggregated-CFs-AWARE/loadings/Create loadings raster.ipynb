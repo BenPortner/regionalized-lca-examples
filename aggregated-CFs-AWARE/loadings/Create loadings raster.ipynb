{
 "cells": [
  {
   "cell_type": "markdown",
   "metadata": {},
   "source": [
    "# Create loadings raster\n",
    "\n",
    "We need to convert a shapefile joined to a CSV (`loadings.gpkg`, done in QGis) file of loading data to a) a raster with b) values per area.\n",
    "\n",
    "Converting to a raster is relatively simple, though a pain to get right the first time.\n",
    "\n",
    "Getting the area is a bit trickier; we will follow the approach in [this Stack Exchange GIS post](https://gis.stackexchange.com/questions/269518/auto-select-suitable-utm-zone-based-on-grid-intersection) and get the [UTM zone](https://en.wikipedia.org/wiki/Universal_Transverse_Mercator_coordinate_system) for each raster cell, and then use the projected coordinates to calculate the area of each cell.\n",
    "\n",
    "If you are curious, the [real fun math is here](https://gis.stackexchange.com/questions/127165/more-accurate-way-to-calculate-area-of-rasters)."
   ]
  },
  {
   "cell_type": "code",
   "execution_count": null,
   "metadata": {},
   "outputs": [],
   "source": [
    "from functools import partial\n",
    "from rasterio.transform import from_origin\n",
    "from shapely.geometry import mapping, shape\n",
    "from shapely.ops import transform\n",
    "import fiona\n",
    "import math\n",
    "import numpy as np\n",
    "import pyproj\n",
    "import rasterio"
   ]
  },
  {
   "cell_type": "code",
   "execution_count": null,
   "metadata": {},
   "outputs": [],
   "source": [
    "def get_epsg_utm_code(obj):\n",
    "    lon, lat = obj.centroid.x, obj.centroid.y\n",
    "    utm_band = str((math.floor((lon + 180) / 6 ) % 60) + 1)\n",
    "    if len(utm_band) == 1:\n",
    "        utm_band = '0'+utm_band\n",
    "    if lat >= 0:\n",
    "        epsg_code = '326' + utm_band\n",
    "    else:\n",
    "        epsg_code = '327' + utm_band\n",
    "    return epsg_code"
   ]
  },
  {
   "cell_type": "code",
   "execution_count": null,
   "metadata": {},
   "outputs": [],
   "source": [
    "def project_obj(obj):\n",
    "    # From https://gis.stackexchange.com/questions/127427/transforming-shapely-polygon-and-multipolygon-objects\n",
    "    project = partial(\n",
    "        pyproj.transform,\n",
    "        pyproj.Proj(init='epsg:4326'), \n",
    "        pyproj.Proj(init='epsg:{0}'.format(get_epsg_utm_code(obj)))\n",
    "    )\n",
    "    return transform(project, obj)"
   ]
  },
  {
   "cell_type": "code",
   "execution_count": null,
   "metadata": {},
   "outputs": [],
   "source": [
    "def to_array_indices(obj):\n",
    "    lon, lat = obj.centroid.x - 0.25, obj.centroid.y + 0.25\n",
    "    row = (90 - lat) / 0.5 \n",
    "    col = (180 + lon) / 0.5\n",
    "    return int(row), int(col)"
   ]
  },
  {
   "cell_type": "markdown",
   "metadata": {},
   "source": [
    "First, write raster with the areas to make sure we didn't make any obvious mistakes"
   ]
  },
  {
   "cell_type": "code",
   "execution_count": null,
   "metadata": {},
   "outputs": [],
   "source": [
    "arr = np.zeros((180 * 2,360 * 2)).astype(np.float) - 1\n",
    "\n",
    "with fiona.open(\"loadings.gpkg\") as f:\n",
    "    for feat in f:\n",
    "        obj = shape(feat['geometry'])\n",
    "        arr[to_array_indices(obj)] = project_obj(obj).area\n",
    "\n",
    "new_dataset = rasterio.open('areas.tif', 'w', \n",
    "                            driver='GTiff',\n",
    "                            height = arr.shape[0], \n",
    "                            width = arr.shape[1],\n",
    "                            count=1, \n",
    "                            dtype=str(arr.dtype),\n",
    "                            nodata=-1,\n",
    "                            crs='+proj=longlat +ellps=WGS84 +datum=WGS84 +no_defs ',\n",
    "                            transform=from_origin(-180, 90, 0.5, 0.5))\n",
    "\n",
    "new_dataset.write(arr, 1)\n",
    "new_dataset.close()"
   ]
  },
  {
   "cell_type": "markdown",
   "metadata": {},
   "source": [
    "Next, write the loadings divided by area"
   ]
  },
  {
   "cell_type": "code",
   "execution_count": null,
   "metadata": {
    "scrolled": false
   },
   "outputs": [],
   "source": [
    "arr = np.zeros((180 * 2,360 * 2)).astype(np.float) - 1\n",
    "\n",
    "with fiona.open(\"loadings.gpkg\") as f:\n",
    "    for feat in f:\n",
    "        obj = shape(feat['geometry'])\n",
    "        arr[to_array_indices(obj)] = (\n",
    "            float(feat['properties']['Loading_per_square_Loading']) /\n",
    "            project_obj(obj).area\n",
    "        )\n",
    "\n",
    "new_dataset = rasterio.open('loadings.tif', 'w', \n",
    "                            driver='GTiff',\n",
    "                            height = arr.shape[0], \n",
    "                            width = arr.shape[1],\n",
    "                            count=1, \n",
    "                            dtype=str(arr.dtype),\n",
    "                            nodata=-1,\n",
    "                            crs='+proj=longlat +ellps=WGS84 +datum=WGS84 +no_defs ',\n",
    "                            transform=from_origin(-180, 90, 0.5, 0.5))\n",
    "\n",
    "new_dataset.write(arr, 1)\n",
    "new_dataset.close()"
   ]
  }
 ],
 "metadata": {
  "kernelspec": {
   "display_name": "Python 3",
   "language": "python",
   "name": "python3"
  },
  "language_info": {
   "codemirror_mode": {
    "name": "ipython",
    "version": 3
   },
   "file_extension": ".py",
   "mimetype": "text/x-python",
   "name": "python",
   "nbconvert_exporter": "python",
   "pygments_lexer": "ipython3",
   "version": "3.6.4"
  },
  "toc": {
   "base_numbering": 1,
   "nav_menu": {},
   "number_sections": true,
   "sideBar": true,
   "skip_h1_title": false,
   "title_cell": "Table of Contents",
   "title_sidebar": "Contents",
   "toc_cell": false,
   "toc_position": {},
   "toc_section_display": true,
   "toc_window_display": false
  }
 },
 "nbformat": 4,
 "nbformat_minor": 2
}
